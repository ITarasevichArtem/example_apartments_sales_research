{
 "cells": [
  {
   "cell_type": "markdown",
   "metadata": {},
   "source": [
    "# Исследование объявлений о продаже квартир\n",
    "\n",
    "В вашем распоряжении данные сервиса Яндекс.Недвижимость — архив объявлений о продаже квартир в Санкт-Петербурге и соседних населённых пунктов за несколько лет. Нужно научиться определять рыночную стоимость объектов недвижимости. Ваша задача — установить параметры. Это позволит построить автоматизированную систему: она отследит аномалии и мошенническую деятельность. \n",
    "\n",
    "По каждой квартире на продажу доступны два вида данных. Первые вписаны пользователем, вторые — получены автоматически на основе картографических данных. Например, расстояние до центра, аэропорта, ближайшего парка и водоёма. "
   ]
  },
  {
   "cell_type": "markdown",
   "metadata": {},
   "source": [
    "### Откройте файл с данными и изучите общую информацию. "
   ]
  },
  {
   "cell_type": "code",
   "execution_count": 1,
   "metadata": {},
   "outputs": [],
   "source": [
    "import pandas as pd\n",
    "import matplotlib.pyplot as plt"
   ]
  },
  {
   "cell_type": "code",
   "execution_count": 2,
   "metadata": {},
   "outputs": [],
   "source": [
    "pd.set_option('chained_assignment', None)"
   ]
  },
  {
   "cell_type": "code",
   "execution_count": 3,
   "metadata": {},
   "outputs": [],
   "source": [
    "data = pd.read_csv('/datasets/real_estate_data.csv', sep='\\t')"
   ]
  },
  {
   "cell_type": "code",
   "execution_count": 4,
   "metadata": {},
   "outputs": [
    {
     "data": {
      "text/html": [
       "<div>\n",
       "<style scoped>\n",
       "    .dataframe tbody tr th:only-of-type {\n",
       "        vertical-align: middle;\n",
       "    }\n",
       "\n",
       "    .dataframe tbody tr th {\n",
       "        vertical-align: top;\n",
       "    }\n",
       "\n",
       "    .dataframe thead th {\n",
       "        text-align: right;\n",
       "    }\n",
       "</style>\n",
       "<table border=\"1\" class=\"dataframe\">\n",
       "  <thead>\n",
       "    <tr style=\"text-align: right;\">\n",
       "      <th></th>\n",
       "      <th>total_images</th>\n",
       "      <th>last_price</th>\n",
       "      <th>total_area</th>\n",
       "      <th>first_day_exposition</th>\n",
       "      <th>rooms</th>\n",
       "      <th>ceiling_height</th>\n",
       "      <th>floors_total</th>\n",
       "      <th>living_area</th>\n",
       "      <th>floor</th>\n",
       "      <th>is_apartment</th>\n",
       "      <th>...</th>\n",
       "      <th>kitchen_area</th>\n",
       "      <th>balcony</th>\n",
       "      <th>locality_name</th>\n",
       "      <th>airports_nearest</th>\n",
       "      <th>cityCenters_nearest</th>\n",
       "      <th>parks_around3000</th>\n",
       "      <th>parks_nearest</th>\n",
       "      <th>ponds_around3000</th>\n",
       "      <th>ponds_nearest</th>\n",
       "      <th>days_exposition</th>\n",
       "    </tr>\n",
       "  </thead>\n",
       "  <tbody>\n",
       "    <tr>\n",
       "      <th>0</th>\n",
       "      <td>20</td>\n",
       "      <td>13000000.0</td>\n",
       "      <td>108.00</td>\n",
       "      <td>2019-03-07T00:00:00</td>\n",
       "      <td>3</td>\n",
       "      <td>2.70</td>\n",
       "      <td>16.0</td>\n",
       "      <td>51.0</td>\n",
       "      <td>8</td>\n",
       "      <td>NaN</td>\n",
       "      <td>...</td>\n",
       "      <td>25.00</td>\n",
       "      <td>NaN</td>\n",
       "      <td>Санкт-Петербург</td>\n",
       "      <td>18863.0</td>\n",
       "      <td>16028.0</td>\n",
       "      <td>1.0</td>\n",
       "      <td>482.0</td>\n",
       "      <td>2.0</td>\n",
       "      <td>755.0</td>\n",
       "      <td>NaN</td>\n",
       "    </tr>\n",
       "    <tr>\n",
       "      <th>1</th>\n",
       "      <td>7</td>\n",
       "      <td>3350000.0</td>\n",
       "      <td>40.40</td>\n",
       "      <td>2018-12-04T00:00:00</td>\n",
       "      <td>1</td>\n",
       "      <td>NaN</td>\n",
       "      <td>11.0</td>\n",
       "      <td>18.6</td>\n",
       "      <td>1</td>\n",
       "      <td>NaN</td>\n",
       "      <td>...</td>\n",
       "      <td>11.00</td>\n",
       "      <td>2.0</td>\n",
       "      <td>посёлок Шушары</td>\n",
       "      <td>12817.0</td>\n",
       "      <td>18603.0</td>\n",
       "      <td>0.0</td>\n",
       "      <td>NaN</td>\n",
       "      <td>0.0</td>\n",
       "      <td>NaN</td>\n",
       "      <td>81.0</td>\n",
       "    </tr>\n",
       "    <tr>\n",
       "      <th>2</th>\n",
       "      <td>10</td>\n",
       "      <td>5196000.0</td>\n",
       "      <td>56.00</td>\n",
       "      <td>2015-08-20T00:00:00</td>\n",
       "      <td>2</td>\n",
       "      <td>NaN</td>\n",
       "      <td>5.0</td>\n",
       "      <td>34.3</td>\n",
       "      <td>4</td>\n",
       "      <td>NaN</td>\n",
       "      <td>...</td>\n",
       "      <td>8.30</td>\n",
       "      <td>0.0</td>\n",
       "      <td>Санкт-Петербург</td>\n",
       "      <td>21741.0</td>\n",
       "      <td>13933.0</td>\n",
       "      <td>1.0</td>\n",
       "      <td>90.0</td>\n",
       "      <td>2.0</td>\n",
       "      <td>574.0</td>\n",
       "      <td>558.0</td>\n",
       "    </tr>\n",
       "    <tr>\n",
       "      <th>3</th>\n",
       "      <td>0</td>\n",
       "      <td>64900000.0</td>\n",
       "      <td>159.00</td>\n",
       "      <td>2015-07-24T00:00:00</td>\n",
       "      <td>3</td>\n",
       "      <td>NaN</td>\n",
       "      <td>14.0</td>\n",
       "      <td>NaN</td>\n",
       "      <td>9</td>\n",
       "      <td>NaN</td>\n",
       "      <td>...</td>\n",
       "      <td>NaN</td>\n",
       "      <td>0.0</td>\n",
       "      <td>Санкт-Петербург</td>\n",
       "      <td>28098.0</td>\n",
       "      <td>6800.0</td>\n",
       "      <td>2.0</td>\n",
       "      <td>84.0</td>\n",
       "      <td>3.0</td>\n",
       "      <td>234.0</td>\n",
       "      <td>424.0</td>\n",
       "    </tr>\n",
       "    <tr>\n",
       "      <th>4</th>\n",
       "      <td>2</td>\n",
       "      <td>10000000.0</td>\n",
       "      <td>100.00</td>\n",
       "      <td>2018-06-19T00:00:00</td>\n",
       "      <td>2</td>\n",
       "      <td>3.03</td>\n",
       "      <td>14.0</td>\n",
       "      <td>32.0</td>\n",
       "      <td>13</td>\n",
       "      <td>NaN</td>\n",
       "      <td>...</td>\n",
       "      <td>41.00</td>\n",
       "      <td>NaN</td>\n",
       "      <td>Санкт-Петербург</td>\n",
       "      <td>31856.0</td>\n",
       "      <td>8098.0</td>\n",
       "      <td>2.0</td>\n",
       "      <td>112.0</td>\n",
       "      <td>1.0</td>\n",
       "      <td>48.0</td>\n",
       "      <td>121.0</td>\n",
       "    </tr>\n",
       "    <tr>\n",
       "      <th>...</th>\n",
       "      <td>...</td>\n",
       "      <td>...</td>\n",
       "      <td>...</td>\n",
       "      <td>...</td>\n",
       "      <td>...</td>\n",
       "      <td>...</td>\n",
       "      <td>...</td>\n",
       "      <td>...</td>\n",
       "      <td>...</td>\n",
       "      <td>...</td>\n",
       "      <td>...</td>\n",
       "      <td>...</td>\n",
       "      <td>...</td>\n",
       "      <td>...</td>\n",
       "      <td>...</td>\n",
       "      <td>...</td>\n",
       "      <td>...</td>\n",
       "      <td>...</td>\n",
       "      <td>...</td>\n",
       "      <td>...</td>\n",
       "      <td>...</td>\n",
       "    </tr>\n",
       "    <tr>\n",
       "      <th>23694</th>\n",
       "      <td>9</td>\n",
       "      <td>9700000.0</td>\n",
       "      <td>133.81</td>\n",
       "      <td>2017-03-21T00:00:00</td>\n",
       "      <td>3</td>\n",
       "      <td>3.70</td>\n",
       "      <td>5.0</td>\n",
       "      <td>73.3</td>\n",
       "      <td>3</td>\n",
       "      <td>NaN</td>\n",
       "      <td>...</td>\n",
       "      <td>13.83</td>\n",
       "      <td>NaN</td>\n",
       "      <td>Санкт-Петербург</td>\n",
       "      <td>24665.0</td>\n",
       "      <td>4232.0</td>\n",
       "      <td>1.0</td>\n",
       "      <td>796.0</td>\n",
       "      <td>3.0</td>\n",
       "      <td>381.0</td>\n",
       "      <td>NaN</td>\n",
       "    </tr>\n",
       "    <tr>\n",
       "      <th>23695</th>\n",
       "      <td>14</td>\n",
       "      <td>3100000.0</td>\n",
       "      <td>59.00</td>\n",
       "      <td>2018-01-15T00:00:00</td>\n",
       "      <td>3</td>\n",
       "      <td>NaN</td>\n",
       "      <td>5.0</td>\n",
       "      <td>38.0</td>\n",
       "      <td>4</td>\n",
       "      <td>NaN</td>\n",
       "      <td>...</td>\n",
       "      <td>8.50</td>\n",
       "      <td>NaN</td>\n",
       "      <td>Тосно</td>\n",
       "      <td>NaN</td>\n",
       "      <td>NaN</td>\n",
       "      <td>NaN</td>\n",
       "      <td>NaN</td>\n",
       "      <td>NaN</td>\n",
       "      <td>NaN</td>\n",
       "      <td>45.0</td>\n",
       "    </tr>\n",
       "    <tr>\n",
       "      <th>23696</th>\n",
       "      <td>18</td>\n",
       "      <td>2500000.0</td>\n",
       "      <td>56.70</td>\n",
       "      <td>2018-02-11T00:00:00</td>\n",
       "      <td>2</td>\n",
       "      <td>NaN</td>\n",
       "      <td>3.0</td>\n",
       "      <td>29.7</td>\n",
       "      <td>1</td>\n",
       "      <td>NaN</td>\n",
       "      <td>...</td>\n",
       "      <td>NaN</td>\n",
       "      <td>NaN</td>\n",
       "      <td>село Рождествено</td>\n",
       "      <td>NaN</td>\n",
       "      <td>NaN</td>\n",
       "      <td>NaN</td>\n",
       "      <td>NaN</td>\n",
       "      <td>NaN</td>\n",
       "      <td>NaN</td>\n",
       "      <td>NaN</td>\n",
       "    </tr>\n",
       "    <tr>\n",
       "      <th>23697</th>\n",
       "      <td>13</td>\n",
       "      <td>11475000.0</td>\n",
       "      <td>76.75</td>\n",
       "      <td>2017-03-28T00:00:00</td>\n",
       "      <td>2</td>\n",
       "      <td>3.00</td>\n",
       "      <td>17.0</td>\n",
       "      <td>NaN</td>\n",
       "      <td>12</td>\n",
       "      <td>NaN</td>\n",
       "      <td>...</td>\n",
       "      <td>23.30</td>\n",
       "      <td>2.0</td>\n",
       "      <td>Санкт-Петербург</td>\n",
       "      <td>39140.0</td>\n",
       "      <td>10364.0</td>\n",
       "      <td>2.0</td>\n",
       "      <td>173.0</td>\n",
       "      <td>3.0</td>\n",
       "      <td>196.0</td>\n",
       "      <td>602.0</td>\n",
       "    </tr>\n",
       "    <tr>\n",
       "      <th>23698</th>\n",
       "      <td>4</td>\n",
       "      <td>1350000.0</td>\n",
       "      <td>32.30</td>\n",
       "      <td>2017-07-21T00:00:00</td>\n",
       "      <td>1</td>\n",
       "      <td>2.50</td>\n",
       "      <td>5.0</td>\n",
       "      <td>12.3</td>\n",
       "      <td>1</td>\n",
       "      <td>NaN</td>\n",
       "      <td>...</td>\n",
       "      <td>9.00</td>\n",
       "      <td>NaN</td>\n",
       "      <td>поселок Новый Учхоз</td>\n",
       "      <td>NaN</td>\n",
       "      <td>NaN</td>\n",
       "      <td>NaN</td>\n",
       "      <td>NaN</td>\n",
       "      <td>NaN</td>\n",
       "      <td>NaN</td>\n",
       "      <td>NaN</td>\n",
       "    </tr>\n",
       "  </tbody>\n",
       "</table>\n",
       "<p>23699 rows × 22 columns</p>\n",
       "</div>"
      ],
      "text/plain": [
       "       total_images  last_price  total_area first_day_exposition  rooms  \\\n",
       "0                20  13000000.0      108.00  2019-03-07T00:00:00      3   \n",
       "1                 7   3350000.0       40.40  2018-12-04T00:00:00      1   \n",
       "2                10   5196000.0       56.00  2015-08-20T00:00:00      2   \n",
       "3                 0  64900000.0      159.00  2015-07-24T00:00:00      3   \n",
       "4                 2  10000000.0      100.00  2018-06-19T00:00:00      2   \n",
       "...             ...         ...         ...                  ...    ...   \n",
       "23694             9   9700000.0      133.81  2017-03-21T00:00:00      3   \n",
       "23695            14   3100000.0       59.00  2018-01-15T00:00:00      3   \n",
       "23696            18   2500000.0       56.70  2018-02-11T00:00:00      2   \n",
       "23697            13  11475000.0       76.75  2017-03-28T00:00:00      2   \n",
       "23698             4   1350000.0       32.30  2017-07-21T00:00:00      1   \n",
       "\n",
       "       ceiling_height  floors_total  living_area  floor is_apartment  ...  \\\n",
       "0                2.70          16.0         51.0      8          NaN  ...   \n",
       "1                 NaN          11.0         18.6      1          NaN  ...   \n",
       "2                 NaN           5.0         34.3      4          NaN  ...   \n",
       "3                 NaN          14.0          NaN      9          NaN  ...   \n",
       "4                3.03          14.0         32.0     13          NaN  ...   \n",
       "...               ...           ...          ...    ...          ...  ...   \n",
       "23694            3.70           5.0         73.3      3          NaN  ...   \n",
       "23695             NaN           5.0         38.0      4          NaN  ...   \n",
       "23696             NaN           3.0         29.7      1          NaN  ...   \n",
       "23697            3.00          17.0          NaN     12          NaN  ...   \n",
       "23698            2.50           5.0         12.3      1          NaN  ...   \n",
       "\n",
       "       kitchen_area  balcony        locality_name  airports_nearest  \\\n",
       "0             25.00      NaN      Санкт-Петербург           18863.0   \n",
       "1             11.00      2.0       посёлок Шушары           12817.0   \n",
       "2              8.30      0.0      Санкт-Петербург           21741.0   \n",
       "3               NaN      0.0      Санкт-Петербург           28098.0   \n",
       "4             41.00      NaN      Санкт-Петербург           31856.0   \n",
       "...             ...      ...                  ...               ...   \n",
       "23694         13.83      NaN      Санкт-Петербург           24665.0   \n",
       "23695          8.50      NaN                Тосно               NaN   \n",
       "23696           NaN      NaN     село Рождествено               NaN   \n",
       "23697         23.30      2.0      Санкт-Петербург           39140.0   \n",
       "23698          9.00      NaN  поселок Новый Учхоз               NaN   \n",
       "\n",
       "      cityCenters_nearest  parks_around3000  parks_nearest  ponds_around3000  \\\n",
       "0                 16028.0               1.0          482.0               2.0   \n",
       "1                 18603.0               0.0            NaN               0.0   \n",
       "2                 13933.0               1.0           90.0               2.0   \n",
       "3                  6800.0               2.0           84.0               3.0   \n",
       "4                  8098.0               2.0          112.0               1.0   \n",
       "...                   ...               ...            ...               ...   \n",
       "23694              4232.0               1.0          796.0               3.0   \n",
       "23695                 NaN               NaN            NaN               NaN   \n",
       "23696                 NaN               NaN            NaN               NaN   \n",
       "23697             10364.0               2.0          173.0               3.0   \n",
       "23698                 NaN               NaN            NaN               NaN   \n",
       "\n",
       "       ponds_nearest  days_exposition  \n",
       "0              755.0              NaN  \n",
       "1                NaN             81.0  \n",
       "2              574.0            558.0  \n",
       "3              234.0            424.0  \n",
       "4               48.0            121.0  \n",
       "...              ...              ...  \n",
       "23694          381.0              NaN  \n",
       "23695            NaN             45.0  \n",
       "23696            NaN              NaN  \n",
       "23697          196.0            602.0  \n",
       "23698            NaN              NaN  \n",
       "\n",
       "[23699 rows x 22 columns]"
      ]
     },
     "execution_count": 4,
     "metadata": {},
     "output_type": "execute_result"
    }
   ],
   "source": [
    "data"
   ]
  },
  {
   "cell_type": "code",
   "execution_count": 5,
   "metadata": {},
   "outputs": [
    {
     "name": "stdout",
     "output_type": "stream",
     "text": [
      "<class 'pandas.core.frame.DataFrame'>\n",
      "RangeIndex: 23699 entries, 0 to 23698\n",
      "Data columns (total 22 columns):\n",
      " #   Column                Non-Null Count  Dtype  \n",
      "---  ------                --------------  -----  \n",
      " 0   total_images          23699 non-null  int64  \n",
      " 1   last_price            23699 non-null  float64\n",
      " 2   total_area            23699 non-null  float64\n",
      " 3   first_day_exposition  23699 non-null  object \n",
      " 4   rooms                 23699 non-null  int64  \n",
      " 5   ceiling_height        14504 non-null  float64\n",
      " 6   floors_total          23613 non-null  float64\n",
      " 7   living_area           21796 non-null  float64\n",
      " 8   floor                 23699 non-null  int64  \n",
      " 9   is_apartment          2775 non-null   object \n",
      " 10  studio                23699 non-null  bool   \n",
      " 11  open_plan             23699 non-null  bool   \n",
      " 12  kitchen_area          21421 non-null  float64\n",
      " 13  balcony               12180 non-null  float64\n",
      " 14  locality_name         23650 non-null  object \n",
      " 15  airports_nearest      18157 non-null  float64\n",
      " 16  cityCenters_nearest   18180 non-null  float64\n",
      " 17  parks_around3000      18181 non-null  float64\n",
      " 18  parks_nearest         8079 non-null   float64\n",
      " 19  ponds_around3000      18181 non-null  float64\n",
      " 20  ponds_nearest         9110 non-null   float64\n",
      " 21  days_exposition       20518 non-null  float64\n",
      "dtypes: bool(2), float64(14), int64(3), object(3)\n",
      "memory usage: 3.7+ MB\n"
     ]
    }
   ],
   "source": [
    "data.info()"
   ]
  },
  {
   "cell_type": "code",
   "execution_count": 6,
   "metadata": {},
   "outputs": [
    {
     "data": {
      "text/plain": [
       "array([[<AxesSubplot:title={'center':'total_images'}>,\n",
       "        <AxesSubplot:title={'center':'last_price'}>,\n",
       "        <AxesSubplot:title={'center':'total_area'}>,\n",
       "        <AxesSubplot:title={'center':'rooms'}>],\n",
       "       [<AxesSubplot:title={'center':'ceiling_height'}>,\n",
       "        <AxesSubplot:title={'center':'floors_total'}>,\n",
       "        <AxesSubplot:title={'center':'living_area'}>,\n",
       "        <AxesSubplot:title={'center':'floor'}>],\n",
       "       [<AxesSubplot:title={'center':'kitchen_area'}>,\n",
       "        <AxesSubplot:title={'center':'balcony'}>,\n",
       "        <AxesSubplot:title={'center':'airports_nearest'}>,\n",
       "        <AxesSubplot:title={'center':'cityCenters_nearest'}>],\n",
       "       [<AxesSubplot:title={'center':'parks_around3000'}>,\n",
       "        <AxesSubplot:title={'center':'parks_nearest'}>,\n",
       "        <AxesSubplot:title={'center':'ponds_around3000'}>,\n",
       "        <AxesSubplot:title={'center':'ponds_nearest'}>],\n",
       "       [<AxesSubplot:title={'center':'days_exposition'}>, <AxesSubplot:>,\n",
       "        <AxesSubplot:>, <AxesSubplot:>]], dtype=object)"
      ]
     },
     "execution_count": 6,
     "metadata": {},
     "output_type": "execute_result"
    },
    {
     "data": {
      "image/png": "[encoded data removed]",
      "text/plain": [
       "<Figure size 1080x1440 with 20 Axes>"
      ]
     },
     "metadata": {
      "needs_background": "light"
     },
     "output_type": "display_data"
    }
   ],
   "source": [
    "data.hist(figsize=(15, 20))"
   ]
  },
  {
   "cell_type": "markdown",
   "metadata": {},
   "source": [
    "### Предобработка данных"
   ]
  },
  {
   "cell_type": "markdown",
   "metadata": {},
   "source": [
    "**Определим наличие дубликатов:**"
   ]
  },
  {
   "cell_type": "code",
   "execution_count": 7,
   "metadata": {},
   "outputs": [
    {
     "data": {
      "text/plain": [
       "0"
      ]
     },
     "execution_count": 7,
     "metadata": {},
     "output_type": "execute_result"
    }
   ],
   "source": [
    "data.duplicated().sum()"
   ]
  },
  {
   "cell_type": "markdown",
   "metadata": {},
   "source": [
    "**Определим в каких столбцах есть пропуски:**"
   ]
  },
  {
   "cell_type": "code",
   "execution_count": 8,
   "metadata": {},
   "outputs": [
    {
     "data": {
      "text/plain": [
       "total_images                0\n",
       "last_price                  0\n",
       "total_area                  0\n",
       "first_day_exposition        0\n",
       "rooms                       0\n",
       "ceiling_height           9195\n",
       "floors_total               86\n",
       "living_area              1903\n",
       "floor                       0\n",
       "is_apartment            20924\n",
       "studio                      0\n",
       "open_plan                   0\n",
       "kitchen_area             2278\n",
       "balcony                 11519\n",
       "locality_name              49\n",
       "airports_nearest         5542\n",
       "cityCenters_nearest      5519\n",
       "parks_around3000         5518\n",
       "parks_nearest           15620\n",
       "ponds_around3000         5518\n",
       "ponds_nearest           14589\n",
       "days_exposition          3181\n",
       "dtype: int64"
      ]
     },
     "execution_count": 8,
     "metadata": {},
     "output_type": "execute_result"
    }
   ],
   "source": [
    "data.isna().sum()"
   ]
  },
  {
   "cell_type": "markdown",
   "metadata": {},
   "source": [
    "**Предположим, что балконы в квартирах, где не указано их количество, отсутствуют. Заменим пропуски в столбце \"balcony\" на \"0\".**"
   ]
  },
  {
   "cell_type": "code",
   "execution_count": 9,
   "metadata": {},
   "outputs": [
    {
     "data": {
      "text/plain": [
       "total_images                0\n",
       "last_price                  0\n",
       "total_area                  0\n",
       "first_day_exposition        0\n",
       "rooms                       0\n",
       "ceiling_height           9195\n",
       "floors_total               86\n",
       "living_area              1903\n",
       "floor                       0\n",
       "is_apartment            20924\n",
       "studio                      0\n",
       "open_plan                   0\n",
       "kitchen_area             2278\n",
       "balcony                     0\n",
       "locality_name              49\n",
       "airports_nearest         5542\n",
       "cityCenters_nearest      5519\n",
       "parks_around3000         5518\n",
       "parks_nearest           15620\n",
       "ponds_around3000         5518\n",
       "ponds_nearest           14589\n",
       "days_exposition          3181\n",
       "dtype: int64"
      ]
     },
     "execution_count": 9,
     "metadata": {},
     "output_type": "execute_result"
    }
   ],
   "source": [
    "data['balcony'] = data['balcony'].fillna(0)\n",
    "data.isna().sum()"
   ]
  },
  {
   "cell_type": "markdown",
   "metadata": {},
   "source": [
    "**Предположим, что в все пропуски в столбце is_apartment означают, что квартира не является аппартаментами. Заполним все пропуски в данном столбце значением False:**"
   ]
  },
  {
   "cell_type": "code",
   "execution_count": 10,
   "metadata": {
    "scrolled": false
   },
   "outputs": [
    {
     "data": {
      "text/plain": [
       "total_images                0\n",
       "last_price                  0\n",
       "total_area                  0\n",
       "first_day_exposition        0\n",
       "rooms                       0\n",
       "ceiling_height           9195\n",
       "floors_total               86\n",
       "living_area              1903\n",
       "floor                       0\n",
       "is_apartment                0\n",
       "studio                      0\n",
       "open_plan                   0\n",
       "kitchen_area             2278\n",
       "balcony                     0\n",
       "locality_name              49\n",
       "airports_nearest         5542\n",
       "cityCenters_nearest      5519\n",
       "parks_around3000         5518\n",
       "parks_nearest           15620\n",
       "ponds_around3000         5518\n",
       "ponds_nearest           14589\n",
       "days_exposition          3181\n",
       "dtype: int64"
      ]
     },
     "execution_count": 10,
     "metadata": {},
     "output_type": "execute_result"
    }
   ],
   "source": [
    "data['is_apartment'] = data['is_apartment'].fillna(False)\n",
    "data.isna().sum()"
   ]
  },
  {
   "cell_type": "markdown",
   "metadata": {},
   "source": [
    "**Проверим максимальные значения в столбцах airports_nearest и cityCenters_nearest:**"
   ]
  },
  {
   "cell_type": "code",
   "execution_count": 11,
   "metadata": {},
   "outputs": [
    {
     "data": {
      "text/plain": [
       "84869.0"
      ]
     },
     "execution_count": 11,
     "metadata": {},
     "output_type": "execute_result"
    }
   ],
   "source": [
    "data['airports_nearest'].max()"
   ]
  },
  {
   "cell_type": "code",
   "execution_count": 12,
   "metadata": {},
   "outputs": [
    {
     "data": {
      "text/plain": [
       "65968.0"
      ]
     },
     "execution_count": 12,
     "metadata": {},
     "output_type": "execute_result"
    }
   ],
   "source": [
    "data['cityCenters_nearest'].max()"
   ]
  },
  {
   "cell_type": "markdown",
   "metadata": {},
   "source": [
    "**Подтвердим, что отсуствие данных по столбцам ponds_around3000 и parks_around3000 связано только с отсутствием прудов и парков поблизости:**"
   ]
  },
  {
   "cell_type": "code",
   "execution_count": 13,
   "metadata": {},
   "outputs": [
    {
     "data": {
      "text/html": [
       "<div>\n",
       "<style scoped>\n",
       "    .dataframe tbody tr th:only-of-type {\n",
       "        vertical-align: middle;\n",
       "    }\n",
       "\n",
       "    .dataframe tbody tr th {\n",
       "        vertical-align: top;\n",
       "    }\n",
       "\n",
       "    .dataframe thead th {\n",
       "        text-align: right;\n",
       "    }\n",
       "</style>\n",
       "<table border=\"1\" class=\"dataframe\">\n",
       "  <thead>\n",
       "    <tr style=\"text-align: right;\">\n",
       "      <th></th>\n",
       "      <th>total_images</th>\n",
       "      <th>last_price</th>\n",
       "      <th>total_area</th>\n",
       "      <th>first_day_exposition</th>\n",
       "      <th>rooms</th>\n",
       "      <th>ceiling_height</th>\n",
       "      <th>floors_total</th>\n",
       "      <th>living_area</th>\n",
       "      <th>floor</th>\n",
       "      <th>is_apartment</th>\n",
       "      <th>...</th>\n",
       "      <th>kitchen_area</th>\n",
       "      <th>balcony</th>\n",
       "      <th>locality_name</th>\n",
       "      <th>airports_nearest</th>\n",
       "      <th>cityCenters_nearest</th>\n",
       "      <th>parks_around3000</th>\n",
       "      <th>parks_nearest</th>\n",
       "      <th>ponds_around3000</th>\n",
       "      <th>ponds_nearest</th>\n",
       "      <th>days_exposition</th>\n",
       "    </tr>\n",
       "  </thead>\n",
       "  <tbody>\n",
       "  </tbody>\n",
       "</table>\n",
       "<p>0 rows × 22 columns</p>\n",
       "</div>"
      ],
      "text/plain": [
       "Empty DataFrame\n",
       "Columns: [total_images, last_price, total_area, first_day_exposition, rooms, ceiling_height, floors_total, living_area, floor, is_apartment, studio, open_plan, kitchen_area, balcony, locality_name, airports_nearest, cityCenters_nearest, parks_around3000, parks_nearest, ponds_around3000, ponds_nearest, days_exposition]\n",
       "Index: []\n",
       "\n",
       "[0 rows x 22 columns]"
      ]
     },
     "execution_count": 13,
     "metadata": {},
     "output_type": "execute_result"
    }
   ],
   "source": [
    "data.query(\"ponds_nearest.isna() and ponds_around3000>0\")"
   ]
  },
  {
   "cell_type": "code",
   "execution_count": 14,
   "metadata": {},
   "outputs": [
    {
     "data": {
      "text/html": [
       "<div>\n",
       "<style scoped>\n",
       "    .dataframe tbody tr th:only-of-type {\n",
       "        vertical-align: middle;\n",
       "    }\n",
       "\n",
       "    .dataframe tbody tr th {\n",
       "        vertical-align: top;\n",
       "    }\n",
       "\n",
       "    .dataframe thead th {\n",
       "        text-align: right;\n",
       "    }\n",
       "</style>\n",
       "<table border=\"1\" class=\"dataframe\">\n",
       "  <thead>\n",
       "    <tr style=\"text-align: right;\">\n",
       "      <th></th>\n",
       "      <th>total_images</th>\n",
       "      <th>last_price</th>\n",
       "      <th>total_area</th>\n",
       "      <th>first_day_exposition</th>\n",
       "      <th>rooms</th>\n",
       "      <th>ceiling_height</th>\n",
       "      <th>floors_total</th>\n",
       "      <th>living_area</th>\n",
       "      <th>floor</th>\n",
       "      <th>is_apartment</th>\n",
       "      <th>...</th>\n",
       "      <th>kitchen_area</th>\n",
       "      <th>balcony</th>\n",
       "      <th>locality_name</th>\n",
       "      <th>airports_nearest</th>\n",
       "      <th>cityCenters_nearest</th>\n",
       "      <th>parks_around3000</th>\n",
       "      <th>parks_nearest</th>\n",
       "      <th>ponds_around3000</th>\n",
       "      <th>ponds_nearest</th>\n",
       "      <th>days_exposition</th>\n",
       "    </tr>\n",
       "  </thead>\n",
       "  <tbody>\n",
       "  </tbody>\n",
       "</table>\n",
       "<p>0 rows × 22 columns</p>\n",
       "</div>"
      ],
      "text/plain": [
       "Empty DataFrame\n",
       "Columns: [total_images, last_price, total_area, first_day_exposition, rooms, ceiling_height, floors_total, living_area, floor, is_apartment, studio, open_plan, kitchen_area, balcony, locality_name, airports_nearest, cityCenters_nearest, parks_around3000, parks_nearest, ponds_around3000, ponds_nearest, days_exposition]\n",
       "Index: []\n",
       "\n",
       "[0 rows x 22 columns]"
      ]
     },
     "execution_count": 14,
     "metadata": {},
     "output_type": "execute_result"
    }
   ],
   "source": [
    "data.query(\"parks_nearest.isna() and parks_around3000>0\")"
   ]
  },
  {
   "cell_type": "markdown",
   "metadata": {},
   "source": [
    "\n",
    "    \n",
    "**Кроме того, имеем 86 пропусков в колонке floors_total и 49 пропусков в колонке locality_name. Так как пропусков немного относительно количесва всех строк в таблице удалим строки, где есть пропуски в этих колонках:**"
   ]
  },
  {
   "cell_type": "code",
   "execution_count": 15,
   "metadata": {},
   "outputs": [],
   "source": [
    "data = data.dropna(subset=['floors_total','locality_name'])"
   ]
  },
  {
   "cell_type": "code",
   "execution_count": 16,
   "metadata": {},
   "outputs": [
    {
     "name": "stdout",
     "output_type": "stream",
     "text": [
      "<class 'pandas.core.frame.DataFrame'>\n",
      "Int64Index: 23565 entries, 0 to 23698\n",
      "Data columns (total 22 columns):\n",
      " #   Column                Non-Null Count  Dtype  \n",
      "---  ------                --------------  -----  \n",
      " 0   total_images          23565 non-null  int64  \n",
      " 1   last_price            23565 non-null  float64\n",
      " 2   total_area            23565 non-null  float64\n",
      " 3   first_day_exposition  23565 non-null  object \n",
      " 4   rooms                 23565 non-null  int64  \n",
      " 5   ceiling_height        14481 non-null  float64\n",
      " 6   floors_total          23565 non-null  float64\n",
      " 7   living_area           21700 non-null  float64\n",
      " 8   floor                 23565 non-null  int64  \n",
      " 9   is_apartment          23565 non-null  bool   \n",
      " 10  studio                23565 non-null  bool   \n",
      " 11  open_plan             23565 non-null  bool   \n",
      " 12  kitchen_area          21343 non-null  float64\n",
      " 13  balcony               23565 non-null  float64\n",
      " 14  locality_name         23565 non-null  object \n",
      " 15  airports_nearest      18041 non-null  float64\n",
      " 16  cityCenters_nearest   18064 non-null  float64\n",
      " 17  parks_around3000      18065 non-null  float64\n",
      " 18  parks_nearest         8030 non-null   float64\n",
      " 19  ponds_around3000      18065 non-null  float64\n",
      " 20  ponds_nearest         9036 non-null   float64\n",
      " 21  days_exposition       20394 non-null  float64\n",
      "dtypes: bool(3), float64(14), int64(3), object(2)\n",
      "memory usage: 3.7+ MB\n"
     ]
    }
   ],
   "source": [
    "data.info()"
   ]
  },
  {
   "cell_type": "markdown",
   "metadata": {},
   "source": [
    "\n",
    "После удаления строк с пропусками в данных столбцах осталось 23565 строк, что составляет 99.5% от первоначального количества строк."
   ]
  },
  {
   "cell_type": "markdown",
   "metadata": {},
   "source": [
    "**Причины пропусков в данных:**\n",
    "\n",
    "Пропуски в колонках, добавленных пользователем (ceiling_height, floors_total, living_area, is_apartment, kitchen_area, locality_name, floors_total, locality_name), могут быть связаны с тем, что в пользователи не указали эти данные в объявлении (по незнанию этих параметров или по нежеланию эти параметры заполнять).\n",
    "\n",
    "Пропуски в колонках, с картографическим типом данных (airports_nearest, cityCenters_nearest, parks_around3000, parks_nearest, ponds_around3000, ponds_nearest) связяны с отсутсвием соответствующей инфраструктуры поблизости.\n",
    "\n",
    "Пропуски в колонке days_exposition скорее всего связаны с тем, что данные объявления остались на сайте как актуальные. Это могло произойти по следующим причинам: объявление недавно размещено, владелец объявления забыл убрать объявление с сайта."
   ]
  },
  {
   "cell_type": "markdown",
   "metadata": {},
   "source": [
    "**Изменим тип данных в столбце first_day_exposition для возможности производить вычисления с данным столбцом:**"
   ]
  },
  {
   "cell_type": "code",
   "execution_count": 17,
   "metadata": {
    "scrolled": false
   },
   "outputs": [
    {
     "name": "stdout",
     "output_type": "stream",
     "text": [
      "<class 'pandas.core.frame.DataFrame'>\n",
      "Int64Index: 23565 entries, 0 to 23698\n",
      "Data columns (total 22 columns):\n",
      " #   Column                Non-Null Count  Dtype         \n",
      "---  ------                --------------  -----         \n",
      " 0   total_images          23565 non-null  int64         \n",
      " 1   last_price            23565 non-null  float64       \n",
      " 2   total_area            23565 non-null  float64       \n",
      " 3   first_day_exposition  23565 non-null  datetime64[ns]\n",
      " 4   rooms                 23565 non-null  int64         \n",
      " 5   ceiling_height        14481 non-null  float64       \n",
      " 6   floors_total          23565 non-null  float64       \n",
      " 7   living_area           21700 non-null  float64       \n",
      " 8   floor                 23565 non-null  int64         \n",
      " 9   is_apartment          23565 non-null  bool          \n",
      " 10  studio                23565 non-null  bool          \n",
      " 11  open_plan             23565 non-null  bool          \n",
      " 12  kitchen_area          21343 non-null  float64       \n",
      " 13  balcony               23565 non-null  float64       \n",
      " 14  locality_name         23565 non-null  object        \n",
      " 15  airports_nearest      18041 non-null  float64       \n",
      " 16  cityCenters_nearest   18064 non-null  float64       \n",
      " 17  parks_around3000      18065 non-null  float64       \n",
      " 18  parks_nearest         8030 non-null   float64       \n",
      " 19  ponds_around3000      18065 non-null  float64       \n",
      " 20  ponds_nearest         9036 non-null   float64       \n",
      " 21  days_exposition       20394 non-null  float64       \n",
      "dtypes: bool(3), datetime64[ns](1), float64(14), int64(3), object(1)\n",
      "memory usage: 3.7+ MB\n"
     ]
    }
   ],
   "source": [
    "data['first_day_exposition'] = pd.to_datetime(data['first_day_exposition'], format='%Y-%m-%dT%H:%M:%S')\n",
    "data.info()"
   ]
  },
  {
   "cell_type": "markdown",
   "metadata": {},
   "source": [
    "**Найдем и устраним неявные дубликаты:**"
   ]
  },
  {
   "cell_type": "code",
   "execution_count": 18,
   "metadata": {},
   "outputs": [
    {
     "data": {
      "text/plain": [
       "array(['Санкт-Петербург', 'посёлок Шушары', 'городской посёлок Янино-1',\n",
       "       'посёлок Парголово', 'посёлок Мурино', 'Ломоносов', 'Сертолово',\n",
       "       'Петергоф', 'Пушкин', 'деревня Кудрово', 'Коммунар', 'Колпино',\n",
       "       'поселок городского типа Красный Бор', 'Гатчина', 'поселок Мурино',\n",
       "       'деревня Фёдоровское', 'Выборг', 'Кронштадт', 'Кировск',\n",
       "       'деревня Новое Девяткино', 'посёлок Металлострой',\n",
       "       'посёлок городского типа Лебяжье',\n",
       "       'посёлок городского типа Сиверский', 'поселок Молодцово',\n",
       "       'поселок городского типа Кузьмоловский',\n",
       "       'садовое товарищество Новая Ропша', 'Павловск',\n",
       "       'деревня Пикколово', 'Всеволожск', 'Волхов', 'Кингисепп',\n",
       "       'Приозерск', 'Сестрорецк', 'деревня Куттузи', 'посёлок Аннино',\n",
       "       'поселок городского типа Ефимовский', 'посёлок Плодовое',\n",
       "       'деревня Заклинье', 'поселок Торковичи', 'поселок Первомайское',\n",
       "       'Красное Село', 'посёлок Понтонный', 'Сясьстрой', 'деревня Старая',\n",
       "       'деревня Лесколово', 'посёлок Новый Свет', 'Сланцы',\n",
       "       'село Путилово', 'Ивангород', 'Мурино', 'Шлиссельбург',\n",
       "       'Никольское', 'Зеленогорск', 'Сосновый Бор', 'поселок Новый Свет',\n",
       "       'деревня Оржицы', 'деревня Кальтино', 'Кудрово',\n",
       "       'поселок Романовка', 'посёлок Бугры', 'поселок Бугры',\n",
       "       'поселок городского типа Рощино', 'Кириши', 'Луга', 'Волосово',\n",
       "       'Отрадное', 'село Павлово', 'поселок Оредеж', 'село Копорье',\n",
       "       'посёлок городского типа Красный Бор', 'посёлок Молодёжное',\n",
       "       'Тихвин', 'посёлок Победа', 'деревня Нурма',\n",
       "       'поселок городского типа Синявино', 'Тосно',\n",
       "       'посёлок городского типа Кузьмоловский', 'посёлок Стрельна',\n",
       "       'Бокситогорск', 'посёлок Александровская', 'деревня Лопухинка',\n",
       "       'Пикалёво', 'поселок Терволово',\n",
       "       'поселок городского типа Советский', 'Подпорожье',\n",
       "       'посёлок Петровское', 'посёлок городского типа Токсово',\n",
       "       'поселок Сельцо', 'посёлок городского типа Вырица',\n",
       "       'деревня Кипень', 'деревня Келози', 'деревня Вартемяги',\n",
       "       'посёлок Тельмана', 'поселок Севастьяново',\n",
       "       'городской поселок Большая Ижора', 'городской посёлок Павлово',\n",
       "       'деревня Агалатово', 'посёлок Новогорелово',\n",
       "       'городской посёлок Лесогорский', 'деревня Лаголово',\n",
       "       'поселок Цвелодубово', 'поселок городского типа Рахья',\n",
       "       'поселок городского типа Вырица', 'деревня Белогорка',\n",
       "       'поселок Заводской', 'городской посёлок Новоселье',\n",
       "       'деревня Большие Колпаны', 'деревня Горбунки', 'деревня Батово',\n",
       "       'деревня Заневка', 'деревня Иссад', 'Приморск',\n",
       "       'городской посёлок Фёдоровское', 'деревня Мистолово',\n",
       "       'Новая Ладога', 'поселок Зимитицы', 'поселок Барышево',\n",
       "       'деревня Разметелево', 'поселок городского типа имени Свердлова',\n",
       "       'деревня Пеники', 'поселок Рябово', 'деревня Пудомяги',\n",
       "       'поселок станции Корнево', 'деревня Низино', 'деревня Бегуницы',\n",
       "       'посёлок Поляны', 'городской посёлок Мга', 'поселок Елизаветино',\n",
       "       'посёлок городского типа Кузнечное', 'деревня Колтуши',\n",
       "       'поселок Запорожское', 'посёлок городского типа Рощино',\n",
       "       'деревня Гостилицы', 'деревня Малое Карлино',\n",
       "       'посёлок Мичуринское', 'посёлок городского типа имени Морозова',\n",
       "       'посёлок Песочный', 'посёлок Сосново', 'деревня Аро',\n",
       "       'поселок Ильичёво', 'посёлок городского типа Тайцы',\n",
       "       'деревня Малое Верево', 'деревня Извара', 'поселок станции Вещево',\n",
       "       'село Паша', 'деревня Калитино',\n",
       "       'посёлок городского типа Ульяновка', 'деревня Чудской Бор',\n",
       "       'поселок городского типа Дубровка', 'деревня Мины',\n",
       "       'поселок Войсковицы', 'посёлок городского типа имени Свердлова',\n",
       "       'деревня Коркино', 'посёлок Ропша',\n",
       "       'поселок городского типа Приладожский', 'посёлок Щеглово',\n",
       "       'посёлок Гаврилово', 'Лодейное Поле', 'деревня Рабитицы',\n",
       "       'поселок городского типа Никольский', 'деревня Кузьмолово',\n",
       "       'деревня Малые Колпаны', 'поселок Тельмана',\n",
       "       'посёлок Петро-Славянка', 'городской посёлок Назия',\n",
       "       'посёлок Репино', 'посёлок Ильичёво', 'поселок Углово',\n",
       "       'поселок Старая Малукса', 'садовое товарищество Рахья',\n",
       "       'поселок Аннино', 'поселок Победа', 'деревня Меньково',\n",
       "       'деревня Старые Бегуницы', 'посёлок Сапёрный', 'поселок Семрино',\n",
       "       'поселок Гаврилово', 'поселок Глажево', 'поселок Кобринское',\n",
       "       'деревня Гарболово', 'деревня Юкки',\n",
       "       'поселок станции Приветнинское', 'деревня Мануйлово',\n",
       "       'деревня Пчева', 'поселок Поляны', 'поселок Цвылёво',\n",
       "       'поселок Мельниково', 'посёлок Пудость', 'посёлок Усть-Луга',\n",
       "       'Светогорск', 'Любань', 'поселок Селезнёво',\n",
       "       'поселок городского типа Рябово', 'Каменногорск', 'деревня Кривко',\n",
       "       'поселок Глебычево', 'деревня Парицы', 'поселок Жилпосёлок',\n",
       "       'посёлок городского типа Мга', 'городской поселок Янино-1',\n",
       "       'посёлок Войскорово', 'село Никольское', 'посёлок Терволово',\n",
       "       'поселок Стеклянный', 'посёлок городского типа Важины',\n",
       "       'посёлок Мыза-Ивановка', 'село Русско-Высоцкое',\n",
       "       'поселок городского типа Лебяжье',\n",
       "       'поселок городского типа Форносово', 'село Старая Ладога',\n",
       "       'поселок Житково', 'городской посёлок Виллози', 'деревня Лампово',\n",
       "       'деревня Шпаньково', 'деревня Лаврики', 'посёлок Сумино',\n",
       "       'посёлок Возрождение', 'деревня Старосиверская',\n",
       "       'посёлок Кикерино', 'поселок Возрождение',\n",
       "       'деревня Старое Хинколово', 'посёлок Пригородный',\n",
       "       'посёлок Торфяное', 'городской посёлок Будогощь',\n",
       "       'поселок Суходолье', 'поселок Красная Долина', 'деревня Хапо-Ое',\n",
       "       'поселок городского типа Дружная Горка', 'поселок Лисий Нос',\n",
       "       'деревня Яльгелево', 'посёлок Стеклянный', 'село Рождествено',\n",
       "       'деревня Старополье', 'посёлок Левашово', 'деревня Сяськелево',\n",
       "       'деревня Камышовка',\n",
       "       'садоводческое некоммерческое товарищество Лесная Поляна',\n",
       "       'деревня Хязельки', 'поселок Жилгородок',\n",
       "       'посёлок городского типа Павлово', 'деревня Ялгино',\n",
       "       'поселок Новый Учхоз', 'городской посёлок Рощино',\n",
       "       'поселок Гончарово', 'поселок Почап', 'посёлок Сапёрное',\n",
       "       'посёлок Платформа 69-й километр', 'поселок Каложицы',\n",
       "       'деревня Фалилеево', 'деревня Пельгора',\n",
       "       'поселок городского типа Лесогорский', 'деревня Торошковичи',\n",
       "       'посёлок Белоостров', 'посёлок Алексеевка', 'поселок Серебрянский',\n",
       "       'поселок Лукаши', 'поселок Петровское', 'деревня Щеглово',\n",
       "       'поселок Мичуринское', 'деревня Тарасово', 'поселок Кингисеппский',\n",
       "       'посёлок при железнодорожной станции Вещево', 'поселок Ушаки',\n",
       "       'деревня Котлы', 'деревня Сижно', 'деревня Торосово',\n",
       "       'посёлок Форт Красная Горка', 'деревня Новолисино',\n",
       "       'посёлок станции Громово', 'деревня Глинка', 'посёлок Мельниково',\n",
       "       'поселок городского типа Назия', 'деревня Старая Пустошь',\n",
       "       'поселок Коммунары', 'поселок Починок',\n",
       "       'посёлок городского типа Вознесенье', 'деревня Разбегаево',\n",
       "       'посёлок городского типа Рябово', 'поселок Гладкое',\n",
       "       'посёлок при железнодорожной станции Приветнинское',\n",
       "       'поселок Тёсово-4', 'посёлок Жилгородок', 'деревня Бор',\n",
       "       'посёлок Коробицыно', 'деревня Большая Вруда', 'деревня Курковицы',\n",
       "       'посёлок Лисий Нос', 'городской посёлок Советский',\n",
       "       'посёлок Кобралово', 'деревня Суоранда', 'поселок Кобралово',\n",
       "       'поселок городского типа Кондратьево',\n",
       "       'коттеджный поселок Счастье', 'поселок Любань', 'деревня Реброво',\n",
       "       'деревня Зимитицы', 'деревня Тойворово', 'поселок Семиозерье',\n",
       "       'поселок Лесное', 'поселок Совхозный', 'поселок Усть-Луга',\n",
       "       'посёлок Ленинское', 'посёлок Суйда',\n",
       "       'посёлок городского типа Форносово', 'деревня Нижние Осельки',\n",
       "       'посёлок станции Свирь', 'поселок Перово', 'Высоцк',\n",
       "       'поселок Гарболово', 'село Шум', 'поселок Котельский',\n",
       "       'поселок станции Лужайка', 'деревня Большая Пустомержа',\n",
       "       'поселок Красносельское', 'деревня Вахнова Кара', 'деревня Пижма',\n",
       "       'коттеджный поселок Кивеннапа Север', 'поселок Коробицыно',\n",
       "       'поселок Ромашки', 'посёлок Перово', 'деревня Каськово',\n",
       "       'деревня Куровицы', 'посёлок Плоское', 'поселок Сумино',\n",
       "       'поселок городского типа Большая Ижора', 'поселок Кирпичное',\n",
       "       'деревня Ям-Тесово', 'деревня Раздолье', 'деревня Терпилицы',\n",
       "       'поселок городского типа Токсово', 'посёлок Шугозеро',\n",
       "       'деревня Ваганово', 'поселок Пушное', 'садовое товарищество Садко',\n",
       "       'посёлок Усть-Ижора', 'деревня Выскатка',\n",
       "       'городской посёлок Свирьстрой', 'поселок Громово',\n",
       "       'деревня Кисельня', 'посёлок Старая Малукса',\n",
       "       'деревня Трубников Бор', 'поселок Калитино',\n",
       "       'посёлок Высокоключевой', 'садовое товарищество Приладожский',\n",
       "       'посёлок Пансионат Зелёный Бор', 'деревня Ненимяки',\n",
       "       'поселок Пансионат Зелёный Бор', 'деревня Снегирёвка',\n",
       "       'деревня Рапполово', 'деревня Пустынка', 'поселок Рабитицы',\n",
       "       'деревня Большой Сабск', 'деревня Русско', 'деревня Лупполово',\n",
       "       'деревня Большое Рейзино', 'деревня Малая Романовка',\n",
       "       'поселок Дружноселье', 'поселок Пчевжа', 'поселок Володарское',\n",
       "       'деревня Нижняя', 'коттеджный посёлок Лесное', 'деревня Тихковицы',\n",
       "       'деревня Борисова Грива', 'посёлок Дзержинского'], dtype=object)"
      ]
     },
     "execution_count": 18,
     "metadata": {},
     "output_type": "execute_result"
    }
   ],
   "source": [
    "data['locality_name'].unique()"
   ]
  },
  {
   "cell_type": "code",
   "execution_count": 19,
   "metadata": {},
   "outputs": [
    {
     "data": {
      "text/plain": [
       "364"
      ]
     },
     "execution_count": 19,
     "metadata": {},
     "output_type": "execute_result"
    }
   ],
   "source": [
    "data['locality_name'].nunique()"
   ]
  },
  {
   "cell_type": "code",
   "execution_count": 20,
   "metadata": {},
   "outputs": [],
   "source": [
    "data['locality_name'] = data['locality_name'].str.replace('ё', 'е')\n",
    "to_replace = [\n",
    "    'поселок городского типа ', 'поселок ', 'деревня ', 'городской ', 'садовое товарищество ', \n",
    "    'садоводческое некоммерческое товарищество ', 'коттеджный ', 'при железнодорожной станции '\n",
    "]\n",
    "for substr in to_replace:\n",
    "  data['locality_name'] = data['locality_name'].str.replace(substr, '')"
   ]
  },
  {
   "cell_type": "code",
   "execution_count": 21,
   "metadata": {},
   "outputs": [
    {
     "data": {
      "text/plain": [
       "310"
      ]
     },
     "execution_count": 21,
     "metadata": {},
     "output_type": "execute_result"
    }
   ],
   "source": [
    "data['locality_name'].nunique()"
   ]
  },
  {
   "cell_type": "markdown",
   "metadata": {},
   "source": [
    "**Из 364 названий населенных пунктов осталось 310.**"
   ]
  },
  {
   "cell_type": "markdown",
   "metadata": {},
   "source": [
    "**Обработаем редкие и выбивающиеся значения:** "
   ]
  },
  {
   "cell_type": "code",
   "execution_count": 22,
   "metadata": {},
   "outputs": [
    {
     "data": {
      "text/html": [
       "<div>\n",
       "<style scoped>\n",
       "    .dataframe tbody tr th:only-of-type {\n",
       "        vertical-align: middle;\n",
       "    }\n",
       "\n",
       "    .dataframe tbody tr th {\n",
       "        vertical-align: top;\n",
       "    }\n",
       "\n",
       "    .dataframe thead th {\n",
       "        text-align: right;\n",
       "    }\n",
       "</style>\n",
       "<table border=\"1\" class=\"dataframe\">\n",
       "  <thead>\n",
       "    <tr style=\"text-align: right;\">\n",
       "      <th></th>\n",
       "      <th>total_images</th>\n",
       "      <th>last_price</th>\n",
       "      <th>total_area</th>\n",
       "      <th>rooms</th>\n",
       "      <th>ceiling_height</th>\n",
       "      <th>floors_total</th>\n",
       "      <th>living_area</th>\n",
       "      <th>floor</th>\n",
       "      <th>kitchen_area</th>\n",
       "      <th>balcony</th>\n",
       "      <th>airports_nearest</th>\n",
       "      <th>cityCenters_nearest</th>\n",
       "      <th>parks_around3000</th>\n",
       "      <th>parks_nearest</th>\n",
       "      <th>ponds_around3000</th>\n",
       "      <th>ponds_nearest</th>\n",
       "      <th>days_exposition</th>\n",
       "    </tr>\n",
       "  </thead>\n",
       "  <tbody>\n",
       "    <tr>\n",
       "      <th>count</th>\n",
       "      <td>23565.000000</td>\n",
       "      <td>2.356500e+04</td>\n",
       "      <td>23565.000000</td>\n",
       "      <td>23565.000000</td>\n",
       "      <td>14481.000000</td>\n",
       "      <td>23565.000000</td>\n",
       "      <td>21700.000000</td>\n",
       "      <td>23565.000000</td>\n",
       "      <td>21343.000000</td>\n",
       "      <td>23565.000000</td>\n",
       "      <td>18041.000000</td>\n",
       "      <td>18064.000000</td>\n",
       "      <td>18065.000000</td>\n",
       "      <td>8030.000000</td>\n",
       "      <td>18065.000000</td>\n",
       "      <td>9036.000000</td>\n",
       "      <td>20394.000000</td>\n",
       "    </tr>\n",
       "    <tr>\n",
       "      <th>mean</th>\n",
       "      <td>9.878421</td>\n",
       "      <td>6.540058e+06</td>\n",
       "      <td>60.322824</td>\n",
       "      <td>2.070656</td>\n",
       "      <td>2.771283</td>\n",
       "      <td>10.675875</td>\n",
       "      <td>34.454822</td>\n",
       "      <td>5.878124</td>\n",
       "      <td>10.560994</td>\n",
       "      <td>0.593677</td>\n",
       "      <td>28797.082701</td>\n",
       "      <td>14192.656056</td>\n",
       "      <td>0.611569</td>\n",
       "      <td>490.580448</td>\n",
       "      <td>0.769499</td>\n",
       "      <td>518.289509</td>\n",
       "      <td>180.741395</td>\n",
       "    </tr>\n",
       "    <tr>\n",
       "      <th>std</th>\n",
       "      <td>5.681156</td>\n",
       "      <td>1.091093e+07</td>\n",
       "      <td>35.657060</td>\n",
       "      <td>1.078591</td>\n",
       "      <td>1.261983</td>\n",
       "      <td>6.594823</td>\n",
       "      <td>22.045359</td>\n",
       "      <td>4.871485</td>\n",
       "      <td>5.900630</td>\n",
       "      <td>0.960660</td>\n",
       "      <td>12632.499735</td>\n",
       "      <td>8613.348153</td>\n",
       "      <td>0.802088</td>\n",
       "      <td>341.572956</td>\n",
       "      <td>0.938669</td>\n",
       "      <td>278.009558</td>\n",
       "      <td>219.732782</td>\n",
       "    </tr>\n",
       "    <tr>\n",
       "      <th>min</th>\n",
       "      <td>0.000000</td>\n",
       "      <td>1.219000e+04</td>\n",
       "      <td>12.000000</td>\n",
       "      <td>0.000000</td>\n",
       "      <td>1.000000</td>\n",
       "      <td>1.000000</td>\n",
       "      <td>2.000000</td>\n",
       "      <td>1.000000</td>\n",
       "      <td>1.300000</td>\n",
       "      <td>0.000000</td>\n",
       "      <td>0.000000</td>\n",
       "      <td>181.000000</td>\n",
       "      <td>0.000000</td>\n",
       "      <td>1.000000</td>\n",
       "      <td>0.000000</td>\n",
       "      <td>13.000000</td>\n",
       "      <td>1.000000</td>\n",
       "    </tr>\n",
       "    <tr>\n",
       "      <th>25%</th>\n",
       "      <td>6.000000</td>\n",
       "      <td>3.400000e+06</td>\n",
       "      <td>40.000000</td>\n",
       "      <td>1.000000</td>\n",
       "      <td>2.510000</td>\n",
       "      <td>5.000000</td>\n",
       "      <td>18.600000</td>\n",
       "      <td>2.000000</td>\n",
       "      <td>7.000000</td>\n",
       "      <td>0.000000</td>\n",
       "      <td>18565.000000</td>\n",
       "      <td>9238.000000</td>\n",
       "      <td>0.000000</td>\n",
       "      <td>288.000000</td>\n",
       "      <td>0.000000</td>\n",
       "      <td>293.000000</td>\n",
       "      <td>45.000000</td>\n",
       "    </tr>\n",
       "    <tr>\n",
       "      <th>50%</th>\n",
       "      <td>9.000000</td>\n",
       "      <td>4.646000e+06</td>\n",
       "      <td>52.000000</td>\n",
       "      <td>2.000000</td>\n",
       "      <td>2.650000</td>\n",
       "      <td>9.000000</td>\n",
       "      <td>30.000000</td>\n",
       "      <td>4.000000</td>\n",
       "      <td>9.100000</td>\n",
       "      <td>0.000000</td>\n",
       "      <td>26757.000000</td>\n",
       "      <td>13096.500000</td>\n",
       "      <td>0.000000</td>\n",
       "      <td>455.000000</td>\n",
       "      <td>1.000000</td>\n",
       "      <td>503.000000</td>\n",
       "      <td>95.000000</td>\n",
       "    </tr>\n",
       "    <tr>\n",
       "      <th>75%</th>\n",
       "      <td>14.000000</td>\n",
       "      <td>6.790000e+06</td>\n",
       "      <td>69.700000</td>\n",
       "      <td>3.000000</td>\n",
       "      <td>2.800000</td>\n",
       "      <td>16.000000</td>\n",
       "      <td>42.300000</td>\n",
       "      <td>8.000000</td>\n",
       "      <td>12.000000</td>\n",
       "      <td>1.000000</td>\n",
       "      <td>37273.000000</td>\n",
       "      <td>16285.000000</td>\n",
       "      <td>1.000000</td>\n",
       "      <td>612.000000</td>\n",
       "      <td>1.000000</td>\n",
       "      <td>730.000000</td>\n",
       "      <td>231.000000</td>\n",
       "    </tr>\n",
       "    <tr>\n",
       "      <th>max</th>\n",
       "      <td>50.000000</td>\n",
       "      <td>7.630000e+08</td>\n",
       "      <td>900.000000</td>\n",
       "      <td>19.000000</td>\n",
       "      <td>100.000000</td>\n",
       "      <td>60.000000</td>\n",
       "      <td>409.700000</td>\n",
       "      <td>33.000000</td>\n",
       "      <td>112.000000</td>\n",
       "      <td>5.000000</td>\n",
       "      <td>84869.000000</td>\n",
       "      <td>65968.000000</td>\n",
       "      <td>3.000000</td>\n",
       "      <td>3190.000000</td>\n",
       "      <td>3.000000</td>\n",
       "      <td>1344.000000</td>\n",
       "      <td>1580.000000</td>\n",
       "    </tr>\n",
       "  </tbody>\n",
       "</table>\n",
       "</div>"
      ],
      "text/plain": [
       "       total_images    last_price    total_area         rooms  ceiling_height  \\\n",
       "count  23565.000000  2.356500e+04  23565.000000  23565.000000    14481.000000   \n",
       "mean       9.878421  6.540058e+06     60.322824      2.070656        2.771283   \n",
       "std        5.681156  1.091093e+07     35.657060      1.078591        1.261983   \n",
       "min        0.000000  1.219000e+04     12.000000      0.000000        1.000000   \n",
       "25%        6.000000  3.400000e+06     40.000000      1.000000        2.510000   \n",
       "50%        9.000000  4.646000e+06     52.000000      2.000000        2.650000   \n",
       "75%       14.000000  6.790000e+06     69.700000      3.000000        2.800000   \n",
       "max       50.000000  7.630000e+08    900.000000     19.000000      100.000000   \n",
       "\n",
       "       floors_total   living_area         floor  kitchen_area       balcony  \\\n",
       "count  23565.000000  21700.000000  23565.000000  21343.000000  23565.000000   \n",
       "mean      10.675875     34.454822      5.878124     10.560994      0.593677   \n",
       "std        6.594823     22.045359      4.871485      5.900630      0.960660   \n",
       "min        1.000000      2.000000      1.000000      1.300000      0.000000   \n",
       "25%        5.000000     18.600000      2.000000      7.000000      0.000000   \n",
       "50%        9.000000     30.000000      4.000000      9.100000      0.000000   \n",
       "75%       16.000000     42.300000      8.000000     12.000000      1.000000   \n",
       "max       60.000000    409.700000     33.000000    112.000000      5.000000   \n",
       "\n",
       "       airports_nearest  cityCenters_nearest  parks_around3000  parks_nearest  \\\n",
       "count      18041.000000         18064.000000      18065.000000    8030.000000   \n",
       "mean       28797.082701         14192.656056          0.611569     490.580448   \n",
       "std        12632.499735          8613.348153          0.802088     341.572956   \n",
       "min            0.000000           181.000000          0.000000       1.000000   \n",
       "25%        18565.000000          9238.000000          0.000000     288.000000   \n",
       "50%        26757.000000         13096.500000          0.000000     455.000000   \n",
       "75%        37273.000000         16285.000000          1.000000     612.000000   \n",
       "max        84869.000000         65968.000000          3.000000    3190.000000   \n",
       "\n",
       "       ponds_around3000  ponds_nearest  days_exposition  \n",
       "count      18065.000000    9036.000000     20394.000000  \n",
       "mean           0.769499     518.289509       180.741395  \n",
       "std            0.938669     278.009558       219.732782  \n",
       "min            0.000000      13.000000         1.000000  \n",
       "25%            0.000000     293.000000        45.000000  \n",
       "50%            1.000000     503.000000        95.000000  \n",
       "75%            1.000000     730.000000       231.000000  \n",
       "max            3.000000    1344.000000      1580.000000  "
      ]
     },
     "execution_count": 22,
     "metadata": {},
     "output_type": "execute_result"
    }
   ],
   "source": [
    "data.describe()"
   ]
  },
  {
   "cell_type": "markdown",
   "metadata": {},
   "source": [
    "**Изучим уникальные значения в столбце ceiling_height:**"
   ]
  },
  {
   "cell_type": "code",
   "execution_count": 23,
   "metadata": {},
   "outputs": [
    {
     "data": {
      "text/plain": [
       "array([  2.7 ,    nan,   3.03,   2.5 ,   2.67,   2.56,   3.05,   2.75,\n",
       "         2.6 ,   2.9 ,   2.8 ,   2.55,   3.  ,   2.65,   3.2 ,   2.61,\n",
       "         3.25,   3.45,   2.77,   2.85,   2.64,   2.57,   4.15,   3.5 ,\n",
       "         3.3 ,   2.71,   4.  ,   2.47,   2.73,   2.84,   3.1 ,   2.34,\n",
       "         3.4 ,   3.06,   2.72,   2.54,   2.51,   2.78,   2.76,  25.  ,\n",
       "         2.58,   3.7 ,   2.52,   5.2 ,   2.87,   2.66,   2.59,   2.  ,\n",
       "         2.45,   3.6 ,   2.92,   3.11,   3.13,   3.8 ,   3.15,   3.55,\n",
       "         3.16,   3.62,   3.12,   2.53,   2.74,   2.96,   2.46,   5.3 ,\n",
       "         5.  ,   2.79,   2.95,   4.06,   2.94,   3.82,   3.54,   3.53,\n",
       "         2.83,   4.7 ,   2.4 ,   3.38,   3.01,   5.6 ,   3.65,   3.9 ,\n",
       "         3.18,   3.35,   2.3 ,   3.57,   2.48,   2.62,   2.82,   3.98,\n",
       "         2.63,   3.83,   3.52,   3.95,   3.75,   2.88,   3.67,   3.87,\n",
       "         3.66,   3.85,   3.86,   4.19,   3.24,   4.8 ,   4.5 ,   4.2 ,\n",
       "         3.36,  32.  ,   3.08,   3.68,   3.07,   3.37,   3.09,   8.  ,\n",
       "         3.26,   3.34,   2.81,   3.44,   2.97,   3.14,   4.37,   2.68,\n",
       "         3.22,   3.27,  27.  ,   4.1 ,   2.93,   3.46,  24.  ,   3.47,\n",
       "         3.33,   3.63,   3.32,  26.  ,   1.2 ,   8.3 ,   2.98,   2.86,\n",
       "         3.17,   4.4 ,   3.28,   3.04,   4.45,   5.5 ,   3.84,   3.23,\n",
       "         3.02,   3.21,   3.43,   3.78,   4.3 ,   3.39,   2.69,   3.31,\n",
       "         4.65,   3.56,   2.2 ,   3.51,   3.93,   3.42,   2.99,   3.49,\n",
       "        14.  ,   4.14,   2.91,   3.88,   1.75,   4.25,   3.29,  20.  ,\n",
       "         2.25,   3.76,   3.69,   6.  ,  22.6 ,   2.89,   3.58,   5.8 ,\n",
       "        27.5 ,   2.49,   4.9 ,   3.48,  10.3 ,   1.  , 100.  ,   3.59])"
      ]
     },
     "execution_count": 23,
     "metadata": {},
     "output_type": "execute_result"
    }
   ],
   "source": [
    "data['ceiling_height'].unique()"
   ]
  },
  {
   "cell_type": "markdown",
   "metadata": {},
   "source": [
    "**В столбце ceiling_height есть выбивающиеся значения. Предположим, что высота потолков больше 20 - это ошибка при вводе данных. Разделим значения больше 20 на 10. Кроме того, уберем значения меньше 2. Так как высота потолков менее 2 явные ошибки.**"
   ]
  },
  {
   "cell_type": "code",
   "execution_count": 24,
   "metadata": {},
   "outputs": [
    {
     "data": {
      "text/plain": [
       "array([ 2.7 ,   nan,  3.03,  2.5 ,  2.67,  2.56,  3.05,  2.75,  2.6 ,\n",
       "        2.9 ,  2.8 ,  2.55,  3.  ,  2.65,  3.2 ,  2.61,  3.25,  3.45,\n",
       "        2.77,  2.85,  2.64,  2.57,  4.15,  3.5 ,  3.3 ,  2.71,  4.  ,\n",
       "        2.47,  2.73,  2.84,  3.1 ,  2.34,  3.4 ,  3.06,  2.72,  2.54,\n",
       "        2.51,  2.78,  2.76,  2.58,  3.7 ,  2.52,  5.2 ,  2.87,  2.66,\n",
       "        2.59,  2.  ,  2.45,  3.6 ,  2.92,  3.11,  3.13,  3.8 ,  3.15,\n",
       "        3.55,  3.16,  3.62,  3.12,  2.53,  2.74,  2.96,  2.46,  5.3 ,\n",
       "        5.  ,  2.79,  2.95,  4.06,  2.94,  3.82,  3.54,  3.53,  2.83,\n",
       "        4.7 ,  2.4 ,  3.38,  3.01,  5.6 ,  3.65,  3.9 ,  3.18,  3.35,\n",
       "        2.3 ,  3.57,  2.48,  2.62,  2.82,  3.98,  2.63,  3.83,  3.52,\n",
       "        3.95,  3.75,  2.88,  3.67,  3.87,  3.66,  3.85,  3.86,  4.19,\n",
       "        3.24,  4.8 ,  4.5 ,  4.2 ,  3.36,  3.08,  3.68,  3.07,  3.37,\n",
       "        3.09,  8.  ,  3.26,  3.34,  2.81,  3.44,  2.97,  3.14,  4.37,\n",
       "        2.68,  3.22,  3.27,  4.1 ,  2.93,  3.46,  3.47,  3.33,  3.63,\n",
       "        3.32,  1.2 ,  8.3 ,  2.98,  2.86,  3.17,  4.4 ,  3.28,  3.04,\n",
       "        4.45,  5.5 ,  3.84,  3.23,  3.02,  3.21,  3.43,  3.78,  4.3 ,\n",
       "        3.39,  2.69,  3.31,  4.65,  3.56,  2.2 ,  3.51,  3.93,  3.42,\n",
       "        2.99,  3.49, 14.  ,  4.14,  2.91,  3.88,  1.75,  4.25,  3.29,\n",
       "       20.  ,  2.25,  3.76,  3.69,  6.  ,  2.26,  2.89,  3.58,  5.8 ,\n",
       "        2.49,  4.9 ,  3.48, 10.3 ,  1.  , 10.  ,  3.59])"
      ]
     },
     "execution_count": 24,
     "metadata": {},
     "output_type": "execute_result"
    }
   ],
   "source": [
    "data.loc[data['ceiling_height']>20, 'ceiling_height'] = data.loc[data['ceiling_height']>20, 'ceiling_height']/10\n",
    "data['ceiling_height'].unique()"
   ]
  },
  {
   "cell_type": "code",
   "execution_count": 25,
   "metadata": {},
   "outputs": [
    {
     "data": {
      "text/plain": [
       "array([ 2.7 ,  3.03,  2.5 ,  2.67,  2.56,  3.05,  2.75,  2.6 ,  2.9 ,\n",
       "        2.8 ,  2.55,  3.  ,  2.65,  3.2 ,  2.61,  3.25,  3.45,  2.77,\n",
       "        2.85,  2.64,  2.57,  4.15,  3.5 ,  3.3 ,  2.71,  4.  ,  2.47,\n",
       "        2.73,  2.84,  3.1 ,  2.34,  3.4 ,  3.06,  2.72,  2.54,  2.51,\n",
       "        2.78,  2.76,  2.58,  3.7 ,  2.52,  5.2 ,  2.87,  2.66,  2.59,\n",
       "        2.45,  3.6 ,  2.92,  3.11,  3.13,  3.8 ,  3.15,  3.55,  3.16,\n",
       "        3.62,  3.12,  2.53,  2.74,  2.96,  2.46,  5.3 ,  5.  ,  2.79,\n",
       "        2.95,  4.06,  2.94,  3.82,  3.54,  3.53,  2.83,  4.7 ,  2.4 ,\n",
       "        3.38,  3.01,  5.6 ,  3.65,  3.9 ,  3.18,  3.35,  2.3 ,  3.57,\n",
       "        2.48,  2.62,  2.82,  3.98,  2.63,  3.83,  3.52,  3.95,  3.75,\n",
       "        2.88,  3.67,  3.87,  3.66,  3.85,  3.86,  4.19,  3.24,  4.8 ,\n",
       "        4.5 ,  4.2 ,  3.36,  3.08,  3.68,  3.07,  3.37,  3.09,  8.  ,\n",
       "        3.26,  3.34,  2.81,  3.44,  2.97,  3.14,  4.37,  2.68,  3.22,\n",
       "        3.27,  4.1 ,  2.93,  3.46,  3.47,  3.33,  3.63,  3.32,  8.3 ,\n",
       "        2.98,  2.86,  3.17,  4.4 ,  3.28,  3.04,  4.45,  5.5 ,  3.84,\n",
       "        3.23,  3.02,  3.21,  3.43,  3.78,  4.3 ,  3.39,  2.69,  3.31,\n",
       "        4.65,  3.56,  2.2 ,  3.51,  3.93,  3.42,  2.99,  3.49, 14.  ,\n",
       "        4.14,  2.91,  3.88,  4.25,  3.29, 20.  ,  2.25,  3.76,  3.69,\n",
       "        6.  ,  2.26,  2.89,  3.58,  5.8 ,  2.49,  4.9 ,  3.48, 10.3 ,\n",
       "       10.  ,  3.59])"
      ]
     },
     "execution_count": 25,
     "metadata": {},
     "output_type": "execute_result"
    }
   ],
   "source": [
    "data = data.loc[data['ceiling_height']>2]\n",
    "data['ceiling_height'].unique()"
   ]
  },
  {
   "cell_type": "markdown",
   "metadata": {},
   "source": [
    "### Посчитайте и добавьте в таблицу новые столбцы"
   ]
  },
  {
   "cell_type": "markdown",
   "metadata": {},
   "source": [
    "**Добавим в таблицу новый столбец - price_area. В котором найдем цену за квадратный метр (разделим значения в last_price на значения total_area):**"
   ]
  },
  {
   "cell_type": "code",
   "execution_count": 26,
   "metadata": {
    "scrolled": true
   },
   "outputs": [],
   "source": [
    "data['price_area'] = round(data['last_price']/data['total_area'])"
   ]
  },
  {
   "cell_type": "markdown",
   "metadata": {},
   "source": [
    "**Добавим новый столбец - день недели публикации объявления (0 — понедельник, 1 — вторник и так далее):**"
   ]
  },
  {
   "cell_type": "code",
   "execution_count": 27,
   "metadata": {},
   "outputs": [
    {
     "data": {
      "text/html": [
       "<div>\n",
       "<style scoped>\n",
       "    .dataframe tbody tr th:only-of-type {\n",
       "        vertical-align: middle;\n",
       "    }\n",
       "\n",
       "    .dataframe tbody tr th {\n",
       "        vertical-align: top;\n",
       "    }\n",
       "\n",
       "    .dataframe thead th {\n",
       "        text-align: right;\n",
       "    }\n",
       "</style>\n",
       "<table border=\"1\" class=\"dataframe\">\n",
       "  <thead>\n",
       "    <tr style=\"text-align: right;\">\n",
       "      <th></th>\n",
       "      <th>total_images</th>\n",
       "      <th>last_price</th>\n",
       "      <th>total_area</th>\n",
       "      <th>first_day_exposition</th>\n",
       "      <th>rooms</th>\n",
       "      <th>ceiling_height</th>\n",
       "      <th>floors_total</th>\n",
       "      <th>living_area</th>\n",
       "      <th>floor</th>\n",
       "      <th>is_apartment</th>\n",
       "      <th>...</th>\n",
       "      <th>locality_name</th>\n",
       "      <th>airports_nearest</th>\n",
       "      <th>cityCenters_nearest</th>\n",
       "      <th>parks_around3000</th>\n",
       "      <th>parks_nearest</th>\n",
       "      <th>ponds_around3000</th>\n",
       "      <th>ponds_nearest</th>\n",
       "      <th>days_exposition</th>\n",
       "      <th>price_area</th>\n",
       "      <th>dayofweek_exposition</th>\n",
       "    </tr>\n",
       "  </thead>\n",
       "  <tbody>\n",
       "    <tr>\n",
       "      <th>0</th>\n",
       "      <td>20</td>\n",
       "      <td>13000000.0</td>\n",
       "      <td>108.00</td>\n",
       "      <td>2019-03-07</td>\n",
       "      <td>3</td>\n",
       "      <td>2.70</td>\n",
       "      <td>16.0</td>\n",
       "      <td>51.0</td>\n",
       "      <td>8</td>\n",
       "      <td>False</td>\n",
       "      <td>...</td>\n",
       "      <td>Санкт-Петербург</td>\n",
       "      <td>18863.0</td>\n",
       "      <td>16028.0</td>\n",
       "      <td>1.0</td>\n",
       "      <td>482.0</td>\n",
       "      <td>2.0</td>\n",
       "      <td>755.0</td>\n",
       "      <td>NaN</td>\n",
       "      <td>120370.0</td>\n",
       "      <td>3</td>\n",
       "    </tr>\n",
       "    <tr>\n",
       "      <th>4</th>\n",
       "      <td>2</td>\n",
       "      <td>10000000.0</td>\n",
       "      <td>100.00</td>\n",
       "      <td>2018-06-19</td>\n",
       "      <td>2</td>\n",
       "      <td>3.03</td>\n",
       "      <td>14.0</td>\n",
       "      <td>32.0</td>\n",
       "      <td>13</td>\n",
       "      <td>False</td>\n",
       "      <td>...</td>\n",
       "      <td>Санкт-Петербург</td>\n",
       "      <td>31856.0</td>\n",
       "      <td>8098.0</td>\n",
       "      <td>2.0</td>\n",
       "      <td>112.0</td>\n",
       "      <td>1.0</td>\n",
       "      <td>48.0</td>\n",
       "      <td>121.0</td>\n",
       "      <td>100000.0</td>\n",
       "      <td>1</td>\n",
       "    </tr>\n",
       "    <tr>\n",
       "      <th>9</th>\n",
       "      <td>18</td>\n",
       "      <td>5400000.0</td>\n",
       "      <td>61.00</td>\n",
       "      <td>2017-02-26</td>\n",
       "      <td>3</td>\n",
       "      <td>2.50</td>\n",
       "      <td>9.0</td>\n",
       "      <td>43.6</td>\n",
       "      <td>7</td>\n",
       "      <td>False</td>\n",
       "      <td>...</td>\n",
       "      <td>Санкт-Петербург</td>\n",
       "      <td>50898.0</td>\n",
       "      <td>15008.0</td>\n",
       "      <td>0.0</td>\n",
       "      <td>NaN</td>\n",
       "      <td>0.0</td>\n",
       "      <td>NaN</td>\n",
       "      <td>289.0</td>\n",
       "      <td>88525.0</td>\n",
       "      <td>6</td>\n",
       "    </tr>\n",
       "    <tr>\n",
       "      <th>10</th>\n",
       "      <td>5</td>\n",
       "      <td>5050000.0</td>\n",
       "      <td>39.60</td>\n",
       "      <td>2017-11-16</td>\n",
       "      <td>1</td>\n",
       "      <td>2.67</td>\n",
       "      <td>12.0</td>\n",
       "      <td>20.3</td>\n",
       "      <td>3</td>\n",
       "      <td>False</td>\n",
       "      <td>...</td>\n",
       "      <td>Санкт-Петербург</td>\n",
       "      <td>38357.0</td>\n",
       "      <td>13878.0</td>\n",
       "      <td>1.0</td>\n",
       "      <td>310.0</td>\n",
       "      <td>2.0</td>\n",
       "      <td>553.0</td>\n",
       "      <td>137.0</td>\n",
       "      <td>127525.0</td>\n",
       "      <td>3</td>\n",
       "    </tr>\n",
       "    <tr>\n",
       "      <th>13</th>\n",
       "      <td>20</td>\n",
       "      <td>3550000.0</td>\n",
       "      <td>42.80</td>\n",
       "      <td>2017-07-01</td>\n",
       "      <td>2</td>\n",
       "      <td>2.56</td>\n",
       "      <td>5.0</td>\n",
       "      <td>27.0</td>\n",
       "      <td>5</td>\n",
       "      <td>False</td>\n",
       "      <td>...</td>\n",
       "      <td>Петергоф</td>\n",
       "      <td>37868.0</td>\n",
       "      <td>33058.0</td>\n",
       "      <td>1.0</td>\n",
       "      <td>294.0</td>\n",
       "      <td>3.0</td>\n",
       "      <td>298.0</td>\n",
       "      <td>366.0</td>\n",
       "      <td>82944.0</td>\n",
       "      <td>5</td>\n",
       "    </tr>\n",
       "    <tr>\n",
       "      <th>...</th>\n",
       "      <td>...</td>\n",
       "      <td>...</td>\n",
       "      <td>...</td>\n",
       "      <td>...</td>\n",
       "      <td>...</td>\n",
       "      <td>...</td>\n",
       "      <td>...</td>\n",
       "      <td>...</td>\n",
       "      <td>...</td>\n",
       "      <td>...</td>\n",
       "      <td>...</td>\n",
       "      <td>...</td>\n",
       "      <td>...</td>\n",
       "      <td>...</td>\n",
       "      <td>...</td>\n",
       "      <td>...</td>\n",
       "      <td>...</td>\n",
       "      <td>...</td>\n",
       "      <td>...</td>\n",
       "      <td>...</td>\n",
       "      <td>...</td>\n",
       "    </tr>\n",
       "    <tr>\n",
       "      <th>23691</th>\n",
       "      <td>11</td>\n",
       "      <td>9470000.0</td>\n",
       "      <td>72.90</td>\n",
       "      <td>2016-10-13</td>\n",
       "      <td>2</td>\n",
       "      <td>2.75</td>\n",
       "      <td>25.0</td>\n",
       "      <td>40.3</td>\n",
       "      <td>7</td>\n",
       "      <td>False</td>\n",
       "      <td>...</td>\n",
       "      <td>Санкт-Петербург</td>\n",
       "      <td>19424.0</td>\n",
       "      <td>4489.0</td>\n",
       "      <td>0.0</td>\n",
       "      <td>NaN</td>\n",
       "      <td>1.0</td>\n",
       "      <td>806.0</td>\n",
       "      <td>519.0</td>\n",
       "      <td>129904.0</td>\n",
       "      <td>3</td>\n",
       "    </tr>\n",
       "    <tr>\n",
       "      <th>23693</th>\n",
       "      <td>9</td>\n",
       "      <td>4600000.0</td>\n",
       "      <td>62.40</td>\n",
       "      <td>2016-08-05</td>\n",
       "      <td>3</td>\n",
       "      <td>2.60</td>\n",
       "      <td>9.0</td>\n",
       "      <td>40.0</td>\n",
       "      <td>8</td>\n",
       "      <td>False</td>\n",
       "      <td>...</td>\n",
       "      <td>Петергоф</td>\n",
       "      <td>45602.0</td>\n",
       "      <td>34104.0</td>\n",
       "      <td>1.0</td>\n",
       "      <td>352.0</td>\n",
       "      <td>1.0</td>\n",
       "      <td>675.0</td>\n",
       "      <td>239.0</td>\n",
       "      <td>73718.0</td>\n",
       "      <td>4</td>\n",
       "    </tr>\n",
       "    <tr>\n",
       "      <th>23694</th>\n",
       "      <td>9</td>\n",
       "      <td>9700000.0</td>\n",
       "      <td>133.81</td>\n",
       "      <td>2017-03-21</td>\n",
       "      <td>3</td>\n",
       "      <td>3.70</td>\n",
       "      <td>5.0</td>\n",
       "      <td>73.3</td>\n",
       "      <td>3</td>\n",
       "      <td>False</td>\n",
       "      <td>...</td>\n",
       "      <td>Санкт-Петербург</td>\n",
       "      <td>24665.0</td>\n",
       "      <td>4232.0</td>\n",
       "      <td>1.0</td>\n",
       "      <td>796.0</td>\n",
       "      <td>3.0</td>\n",
       "      <td>381.0</td>\n",
       "      <td>NaN</td>\n",
       "      <td>72491.0</td>\n",
       "      <td>1</td>\n",
       "    </tr>\n",
       "    <tr>\n",
       "      <th>23697</th>\n",
       "      <td>13</td>\n",
       "      <td>11475000.0</td>\n",
       "      <td>76.75</td>\n",
       "      <td>2017-03-28</td>\n",
       "      <td>2</td>\n",
       "      <td>3.00</td>\n",
       "      <td>17.0</td>\n",
       "      <td>NaN</td>\n",
       "      <td>12</td>\n",
       "      <td>False</td>\n",
       "      <td>...</td>\n",
       "      <td>Санкт-Петербург</td>\n",
       "      <td>39140.0</td>\n",
       "      <td>10364.0</td>\n",
       "      <td>2.0</td>\n",
       "      <td>173.0</td>\n",
       "      <td>3.0</td>\n",
       "      <td>196.0</td>\n",
       "      <td>602.0</td>\n",
       "      <td>149511.0</td>\n",
       "      <td>1</td>\n",
       "    </tr>\n",
       "    <tr>\n",
       "      <th>23698</th>\n",
       "      <td>4</td>\n",
       "      <td>1350000.0</td>\n",
       "      <td>32.30</td>\n",
       "      <td>2017-07-21</td>\n",
       "      <td>1</td>\n",
       "      <td>2.50</td>\n",
       "      <td>5.0</td>\n",
       "      <td>12.3</td>\n",
       "      <td>1</td>\n",
       "      <td>False</td>\n",
       "      <td>...</td>\n",
       "      <td>Новый Учхоз</td>\n",
       "      <td>NaN</td>\n",
       "      <td>NaN</td>\n",
       "      <td>NaN</td>\n",
       "      <td>NaN</td>\n",
       "      <td>NaN</td>\n",
       "      <td>NaN</td>\n",
       "      <td>NaN</td>\n",
       "      <td>41796.0</td>\n",
       "      <td>4</td>\n",
       "    </tr>\n",
       "  </tbody>\n",
       "</table>\n",
       "<p>14467 rows × 24 columns</p>\n",
       "</div>"
      ],
      "text/plain": [
       "       total_images  last_price  total_area first_day_exposition  rooms  \\\n",
       "0                20  13000000.0      108.00           2019-03-07      3   \n",
       "4                 2  10000000.0      100.00           2018-06-19      2   \n",
       "9                18   5400000.0       61.00           2017-02-26      3   \n",
       "10                5   5050000.0       39.60           2017-11-16      1   \n",
       "13               20   3550000.0       42.80           2017-07-01      2   \n",
       "...             ...         ...         ...                  ...    ...   \n",
       "23691            11   9470000.0       72.90           2016-10-13      2   \n",
       "23693             9   4600000.0       62.40           2016-08-05      3   \n",
       "23694             9   9700000.0      133.81           2017-03-21      3   \n",
       "23697            13  11475000.0       76.75           2017-03-28      2   \n",
       "23698             4   1350000.0       32.30           2017-07-21      1   \n",
       "\n",
       "       ceiling_height  floors_total  living_area  floor  is_apartment  ...  \\\n",
       "0                2.70          16.0         51.0      8         False  ...   \n",
       "4                3.03          14.0         32.0     13         False  ...   \n",
       "9                2.50           9.0         43.6      7         False  ...   \n",
       "10               2.67          12.0         20.3      3         False  ...   \n",
       "13               2.56           5.0         27.0      5         False  ...   \n",
       "...               ...           ...          ...    ...           ...  ...   \n",
       "23691            2.75          25.0         40.3      7         False  ...   \n",
       "23693            2.60           9.0         40.0      8         False  ...   \n",
       "23694            3.70           5.0         73.3      3         False  ...   \n",
       "23697            3.00          17.0          NaN     12         False  ...   \n",
       "23698            2.50           5.0         12.3      1         False  ...   \n",
       "\n",
       "         locality_name  airports_nearest  cityCenters_nearest  \\\n",
       "0      Санкт-Петербург           18863.0              16028.0   \n",
       "4      Санкт-Петербург           31856.0               8098.0   \n",
       "9      Санкт-Петербург           50898.0              15008.0   \n",
       "10     Санкт-Петербург           38357.0              13878.0   \n",
       "13            Петергоф           37868.0              33058.0   \n",
       "...                ...               ...                  ...   \n",
       "23691  Санкт-Петербург           19424.0               4489.0   \n",
       "23693         Петергоф           45602.0              34104.0   \n",
       "23694  Санкт-Петербург           24665.0               4232.0   \n",
       "23697  Санкт-Петербург           39140.0              10364.0   \n",
       "23698      Новый Учхоз               NaN                  NaN   \n",
       "\n",
       "       parks_around3000 parks_nearest  ponds_around3000  ponds_nearest  \\\n",
       "0                   1.0         482.0               2.0          755.0   \n",
       "4                   2.0         112.0               1.0           48.0   \n",
       "9                   0.0           NaN               0.0            NaN   \n",
       "10                  1.0         310.0               2.0          553.0   \n",
       "13                  1.0         294.0               3.0          298.0   \n",
       "...                 ...           ...               ...            ...   \n",
       "23691               0.0           NaN               1.0          806.0   \n",
       "23693               1.0         352.0               1.0          675.0   \n",
       "23694               1.0         796.0               3.0          381.0   \n",
       "23697               2.0         173.0               3.0          196.0   \n",
       "23698               NaN           NaN               NaN            NaN   \n",
       "\n",
       "       days_exposition  price_area  dayofweek_exposition  \n",
       "0                  NaN    120370.0                     3  \n",
       "4                121.0    100000.0                     1  \n",
       "9                289.0     88525.0                     6  \n",
       "10               137.0    127525.0                     3  \n",
       "13               366.0     82944.0                     5  \n",
       "...                ...         ...                   ...  \n",
       "23691            519.0    129904.0                     3  \n",
       "23693            239.0     73718.0                     4  \n",
       "23694              NaN     72491.0                     1  \n",
       "23697            602.0    149511.0                     1  \n",
       "23698              NaN     41796.0                     4  \n",
       "\n",
       "[14467 rows x 24 columns]"
      ]
     },
     "execution_count": 27,
     "metadata": {},
     "output_type": "execute_result"
    }
   ],
   "source": [
    "data['dayofweek_exposition'] = data['first_day_exposition'].dt.dayofweek\n",
    "data"
   ]
  },
  {
   "cell_type": "markdown",
   "metadata": {},
   "source": [
    "**Добавим новый столбец - месяц публикации объявления:**"
   ]
  },
  {
   "cell_type": "code",
   "execution_count": 28,
   "metadata": {},
   "outputs": [
    {
     "data": {
      "text/html": [
       "<div>\n",
       "<style scoped>\n",
       "    .dataframe tbody tr th:only-of-type {\n",
       "        vertical-align: middle;\n",
       "    }\n",
       "\n",
       "    .dataframe tbody tr th {\n",
       "        vertical-align: top;\n",
       "    }\n",
       "\n",
       "    .dataframe thead th {\n",
       "        text-align: right;\n",
       "    }\n",
       "</style>\n",
       "<table border=\"1\" class=\"dataframe\">\n",
       "  <thead>\n",
       "    <tr style=\"text-align: right;\">\n",
       "      <th></th>\n",
       "      <th>total_images</th>\n",
       "      <th>last_price</th>\n",
       "      <th>total_area</th>\n",
       "      <th>first_day_exposition</th>\n",
       "      <th>rooms</th>\n",
       "      <th>ceiling_height</th>\n",
       "      <th>floors_total</th>\n",
       "      <th>living_area</th>\n",
       "      <th>floor</th>\n",
       "      <th>is_apartment</th>\n",
       "      <th>...</th>\n",
       "      <th>airports_nearest</th>\n",
       "      <th>cityCenters_nearest</th>\n",
       "      <th>parks_around3000</th>\n",
       "      <th>parks_nearest</th>\n",
       "      <th>ponds_around3000</th>\n",
       "      <th>ponds_nearest</th>\n",
       "      <th>days_exposition</th>\n",
       "      <th>price_area</th>\n",
       "      <th>dayofweek_exposition</th>\n",
       "      <th>month_exposition</th>\n",
       "    </tr>\n",
       "  </thead>\n",
       "  <tbody>\n",
       "    <tr>\n",
       "      <th>0</th>\n",
       "      <td>20</td>\n",
       "      <td>13000000.0</td>\n",
       "      <td>108.00</td>\n",
       "      <td>2019-03-07</td>\n",
       "      <td>3</td>\n",
       "      <td>2.70</td>\n",
       "      <td>16.0</td>\n",
       "      <td>51.0</td>\n",
       "      <td>8</td>\n",
       "      <td>False</td>\n",
       "      <td>...</td>\n",
       "      <td>18863.0</td>\n",
       "      <td>16028.0</td>\n",
       "      <td>1.0</td>\n",
       "      <td>482.0</td>\n",
       "      <td>2.0</td>\n",
       "      <td>755.0</td>\n",
       "      <td>NaN</td>\n",
       "      <td>120370.0</td>\n",
       "      <td>3</td>\n",
       "      <td>3</td>\n",
       "    </tr>\n",
       "    <tr>\n",
       "      <th>4</th>\n",
       "      <td>2</td>\n",
       "      <td>10000000.0</td>\n",
       "      <td>100.00</td>\n",
       "      <td>2018-06-19</td>\n",
       "      <td>2</td>\n",
       "      <td>3.03</td>\n",
       "      <td>14.0</td>\n",
       "      <td>32.0</td>\n",
       "      <td>13</td>\n",
       "      <td>False</td>\n",
       "      <td>...</td>\n",
       "      <td>31856.0</td>\n",
       "      <td>8098.0</td>\n",
       "      <td>2.0</td>\n",
       "      <td>112.0</td>\n",
       "      <td>1.0</td>\n",
       "      <td>48.0</td>\n",
       "      <td>121.0</td>\n",
       "      <td>100000.0</td>\n",
       "      <td>1</td>\n",
       "      <td>6</td>\n",
       "    </tr>\n",
       "    <tr>\n",
       "      <th>9</th>\n",
       "      <td>18</td>\n",
       "      <td>5400000.0</td>\n",
       "      <td>61.00</td>\n",
       "      <td>2017-02-26</td>\n",
       "      <td>3</td>\n",
       "      <td>2.50</td>\n",
       "      <td>9.0</td>\n",
       "      <td>43.6</td>\n",
       "      <td>7</td>\n",
       "      <td>False</td>\n",
       "      <td>...</td>\n",
       "      <td>50898.0</td>\n",
       "      <td>15008.0</td>\n",
       "      <td>0.0</td>\n",
       "      <td>NaN</td>\n",
       "      <td>0.0</td>\n",
       "      <td>NaN</td>\n",
       "      <td>289.0</td>\n",
       "      <td>88525.0</td>\n",
       "      <td>6</td>\n",
       "      <td>2</td>\n",
       "    </tr>\n",
       "    <tr>\n",
       "      <th>10</th>\n",
       "      <td>5</td>\n",
       "      <td>5050000.0</td>\n",
       "      <td>39.60</td>\n",
       "      <td>2017-11-16</td>\n",
       "      <td>1</td>\n",
       "      <td>2.67</td>\n",
       "      <td>12.0</td>\n",
       "      <td>20.3</td>\n",
       "      <td>3</td>\n",
       "      <td>False</td>\n",
       "      <td>...</td>\n",
       "      <td>38357.0</td>\n",
       "      <td>13878.0</td>\n",
       "      <td>1.0</td>\n",
       "      <td>310.0</td>\n",
       "      <td>2.0</td>\n",
       "      <td>553.0</td>\n",
       "      <td>137.0</td>\n",
       "      <td>127525.0</td>\n",
       "      <td>3</td>\n",
       "      <td>11</td>\n",
       "    </tr>\n",
       "    <tr>\n",
       "      <th>13</th>\n",
       "      <td>20</td>\n",
       "      <td>3550000.0</td>\n",
       "      <td>42.80</td>\n",
       "      <td>2017-07-01</td>\n",
       "      <td>2</td>\n",
       "      <td>2.56</td>\n",
       "      <td>5.0</td>\n",
       "      <td>27.0</td>\n",
       "      <td>5</td>\n",
       "      <td>False</td>\n",
       "      <td>...</td>\n",
       "      <td>37868.0</td>\n",
       "      <td>33058.0</td>\n",
       "      <td>1.0</td>\n",
       "      <td>294.0</td>\n",
       "      <td>3.0</td>\n",
       "      <td>298.0</td>\n",
       "      <td>366.0</td>\n",
       "      <td>82944.0</td>\n",
       "      <td>5</td>\n",
       "      <td>7</td>\n",
       "    </tr>\n",
       "    <tr>\n",
       "      <th>...</th>\n",
       "      <td>...</td>\n",
       "      <td>...</td>\n",
       "      <td>...</td>\n",
       "      <td>...</td>\n",
       "      <td>...</td>\n",
       "      <td>...</td>\n",
       "      <td>...</td>\n",
       "      <td>...</td>\n",
       "      <td>...</td>\n",
       "      <td>...</td>\n",
       "      <td>...</td>\n",
       "      <td>...</td>\n",
       "      <td>...</td>\n",
       "      <td>...</td>\n",
       "      <td>...</td>\n",
       "      <td>...</td>\n",
       "      <td>...</td>\n",
       "      <td>...</td>\n",
       "      <td>...</td>\n",
       "      <td>...</td>\n",
       "      <td>...</td>\n",
       "    </tr>\n",
       "    <tr>\n",
       "      <th>23691</th>\n",
       "      <td>11</td>\n",
       "      <td>9470000.0</td>\n",
       "      <td>72.90</td>\n",
       "      <td>2016-10-13</td>\n",
       "      <td>2</td>\n",
       "      <td>2.75</td>\n",
       "      <td>25.0</td>\n",
       "      <td>40.3</td>\n",
       "      <td>7</td>\n",
       "      <td>False</td>\n",
       "      <td>...</td>\n",
       "      <td>19424.0</td>\n",
       "      <td>4489.0</td>\n",
       "      <td>0.0</td>\n",
       "      <td>NaN</td>\n",
       "      <td>1.0</td>\n",
       "      <td>806.0</td>\n",
       "      <td>519.0</td>\n",
       "      <td>129904.0</td>\n",
       "      <td>3</td>\n",
       "      <td>10</td>\n",
       "    </tr>\n",
       "    <tr>\n",
       "      <th>23693</th>\n",
       "      <td>9</td>\n",
       "      <td>4600000.0</td>\n",
       "      <td>62.40</td>\n",
       "      <td>2016-08-05</td>\n",
       "      <td>3</td>\n",
       "      <td>2.60</td>\n",
       "      <td>9.0</td>\n",
       "      <td>40.0</td>\n",
       "      <td>8</td>\n",
       "      <td>False</td>\n",
       "      <td>...</td>\n",
       "      <td>45602.0</td>\n",
       "      <td>34104.0</td>\n",
       "      <td>1.0</td>\n",
       "      <td>352.0</td>\n",
       "      <td>1.0</td>\n",
       "      <td>675.0</td>\n",
       "      <td>239.0</td>\n",
       "      <td>73718.0</td>\n",
       "      <td>4</td>\n",
       "      <td>8</td>\n",
       "    </tr>\n",
       "    <tr>\n",
       "      <th>23694</th>\n",
       "      <td>9</td>\n",
       "      <td>9700000.0</td>\n",
       "      <td>133.81</td>\n",
       "      <td>2017-03-21</td>\n",
       "      <td>3</td>\n",
       "      <td>3.70</td>\n",
       "      <td>5.0</td>\n",
       "      <td>73.3</td>\n",
       "      <td>3</td>\n",
       "      <td>False</td>\n",
       "      <td>...</td>\n",
       "      <td>24665.0</td>\n",
       "      <td>4232.0</td>\n",
       "      <td>1.0</td>\n",
       "      <td>796.0</td>\n",
       "      <td>3.0</td>\n",
       "      <td>381.0</td>\n",
       "      <td>NaN</td>\n",
       "      <td>72491.0</td>\n",
       "      <td>1</td>\n",
       "      <td>3</td>\n",
       "    </tr>\n",
       "    <tr>\n",
       "      <th>23697</th>\n",
       "      <td>13</td>\n",
       "      <td>11475000.0</td>\n",
       "      <td>76.75</td>\n",
       "      <td>2017-03-28</td>\n",
       "      <td>2</td>\n",
       "      <td>3.00</td>\n",
       "      <td>17.0</td>\n",
       "      <td>NaN</td>\n",
       "      <td>12</td>\n",
       "      <td>False</td>\n",
       "      <td>...</td>\n",
       "      <td>39140.0</td>\n",
       "      <td>10364.0</td>\n",
       "      <td>2.0</td>\n",
       "      <td>173.0</td>\n",
       "      <td>3.0</td>\n",
       "      <td>196.0</td>\n",
       "      <td>602.0</td>\n",
       "      <td>149511.0</td>\n",
       "      <td>1</td>\n",
       "      <td>3</td>\n",
       "    </tr>\n",
       "    <tr>\n",
       "      <th>23698</th>\n",
       "      <td>4</td>\n",
       "      <td>1350000.0</td>\n",
       "      <td>32.30</td>\n",
       "      <td>2017-07-21</td>\n",
       "      <td>1</td>\n",
       "      <td>2.50</td>\n",
       "      <td>5.0</td>\n",
       "      <td>12.3</td>\n",
       "      <td>1</td>\n",
       "      <td>False</td>\n",
       "      <td>...</td>\n",
       "      <td>NaN</td>\n",
       "      <td>NaN</td>\n",
       "      <td>NaN</td>\n",
       "      <td>NaN</td>\n",
       "      <td>NaN</td>\n",
       "      <td>NaN</td>\n",
       "      <td>NaN</td>\n",
       "      <td>41796.0</td>\n",
       "      <td>4</td>\n",
       "      <td>7</td>\n",
       "    </tr>\n",
       "  </tbody>\n",
       "</table>\n",
       "<p>14467 rows × 25 columns</p>\n",
       "</div>"
      ],
      "text/plain": [
       "       total_images  last_price  total_area first_day_exposition  rooms  \\\n",
       "0                20  13000000.0      108.00           2019-03-07      3   \n",
       "4                 2  10000000.0      100.00           2018-06-19      2   \n",
       "9                18   5400000.0       61.00           2017-02-26      3   \n",
       "10                5   5050000.0       39.60           2017-11-16      1   \n",
       "13               20   3550000.0       42.80           2017-07-01      2   \n",
       "...             ...         ...         ...                  ...    ...   \n",
       "23691            11   9470000.0       72.90           2016-10-13      2   \n",
       "23693             9   4600000.0       62.40           2016-08-05      3   \n",
       "23694             9   9700000.0      133.81           2017-03-21      3   \n",
       "23697            13  11475000.0       76.75           2017-03-28      2   \n",
       "23698             4   1350000.0       32.30           2017-07-21      1   \n",
       "\n",
       "       ceiling_height  floors_total  living_area  floor  is_apartment  ...  \\\n",
       "0                2.70          16.0         51.0      8         False  ...   \n",
       "4                3.03          14.0         32.0     13         False  ...   \n",
       "9                2.50           9.0         43.6      7         False  ...   \n",
       "10               2.67          12.0         20.3      3         False  ...   \n",
       "13               2.56           5.0         27.0      5         False  ...   \n",
       "...               ...           ...          ...    ...           ...  ...   \n",
       "23691            2.75          25.0         40.3      7         False  ...   \n",
       "23693            2.60           9.0         40.0      8         False  ...   \n",
       "23694            3.70           5.0         73.3      3         False  ...   \n",
       "23697            3.00          17.0          NaN     12         False  ...   \n",
       "23698            2.50           5.0         12.3      1         False  ...   \n",
       "\n",
       "       airports_nearest  cityCenters_nearest  parks_around3000  parks_nearest  \\\n",
       "0               18863.0              16028.0               1.0          482.0   \n",
       "4               31856.0               8098.0               2.0          112.0   \n",
       "9               50898.0              15008.0               0.0            NaN   \n",
       "10              38357.0              13878.0               1.0          310.0   \n",
       "13              37868.0              33058.0               1.0          294.0   \n",
       "...                 ...                  ...               ...            ...   \n",
       "23691           19424.0               4489.0               0.0            NaN   \n",
       "23693           45602.0              34104.0               1.0          352.0   \n",
       "23694           24665.0               4232.0               1.0          796.0   \n",
       "23697           39140.0              10364.0               2.0          173.0   \n",
       "23698               NaN                  NaN               NaN            NaN   \n",
       "\n",
       "      ponds_around3000  ponds_nearest  days_exposition  price_area  \\\n",
       "0                  2.0          755.0              NaN    120370.0   \n",
       "4                  1.0           48.0            121.0    100000.0   \n",
       "9                  0.0            NaN            289.0     88525.0   \n",
       "10                 2.0          553.0            137.0    127525.0   \n",
       "13                 3.0          298.0            366.0     82944.0   \n",
       "...                ...            ...              ...         ...   \n",
       "23691              1.0          806.0            519.0    129904.0   \n",
       "23693              1.0          675.0            239.0     73718.0   \n",
       "23694              3.0          381.0              NaN     72491.0   \n",
       "23697              3.0          196.0            602.0    149511.0   \n",
       "23698              NaN            NaN              NaN     41796.0   \n",
       "\n",
       "       dayofweek_exposition  month_exposition  \n",
       "0                         3                 3  \n",
       "4                         1                 6  \n",
       "9                         6                 2  \n",
       "10                        3                11  \n",
       "13                        5                 7  \n",
       "...                     ...               ...  \n",
       "23691                     3                10  \n",
       "23693                     4                 8  \n",
       "23694                     1                 3  \n",
       "23697                     1                 3  \n",
       "23698                     4                 7  \n",
       "\n",
       "[14467 rows x 25 columns]"
      ]
     },
     "execution_count": 28,
     "metadata": {},
     "output_type": "execute_result"
    }
   ],
   "source": [
    "data['month_exposition'] = data['first_day_exposition'].dt.month\n",
    "data"
   ]
  },
  {
   "cell_type": "markdown",
   "metadata": {},
   "source": [
    "**Добавим новый столбец - год публикации объявления:**"
   ]
  },
  {
   "cell_type": "code",
   "execution_count": 29,
   "metadata": {},
   "outputs": [
    {
     "data": {
      "text/html": [
       "<div>\n",
       "<style scoped>\n",
       "    .dataframe tbody tr th:only-of-type {\n",
       "        vertical-align: middle;\n",
       "    }\n",
       "\n",
       "    .dataframe tbody tr th {\n",
       "        vertical-align: top;\n",
       "    }\n",
       "\n",
       "    .dataframe thead th {\n",
       "        text-align: right;\n",
       "    }\n",
       "</style>\n",
       "<table border=\"1\" class=\"dataframe\">\n",
       "  <thead>\n",
       "    <tr style=\"text-align: right;\">\n",
       "      <th></th>\n",
       "      <th>total_images</th>\n",
       "      <th>last_price</th>\n",
       "      <th>total_area</th>\n",
       "      <th>first_day_exposition</th>\n",
       "      <th>rooms</th>\n",
       "      <th>ceiling_height</th>\n",
       "      <th>floors_total</th>\n",
       "      <th>living_area</th>\n",
       "      <th>floor</th>\n",
       "      <th>is_apartment</th>\n",
       "      <th>...</th>\n",
       "      <th>cityCenters_nearest</th>\n",
       "      <th>parks_around3000</th>\n",
       "      <th>parks_nearest</th>\n",
       "      <th>ponds_around3000</th>\n",
       "      <th>ponds_nearest</th>\n",
       "      <th>days_exposition</th>\n",
       "      <th>price_area</th>\n",
       "      <th>dayofweek_exposition</th>\n",
       "      <th>month_exposition</th>\n",
       "      <th>year_exposition</th>\n",
       "    </tr>\n",
       "  </thead>\n",
       "  <tbody>\n",
       "    <tr>\n",
       "      <th>0</th>\n",
       "      <td>20</td>\n",
       "      <td>13000000.0</td>\n",
       "      <td>108.00</td>\n",
       "      <td>2019-03-07</td>\n",
       "      <td>3</td>\n",
       "      <td>2.70</td>\n",
       "      <td>16.0</td>\n",
       "      <td>51.0</td>\n",
       "      <td>8</td>\n",
       "      <td>False</td>\n",
       "      <td>...</td>\n",
       "      <td>16028.0</td>\n",
       "      <td>1.0</td>\n",
       "      <td>482.0</td>\n",
       "      <td>2.0</td>\n",
       "      <td>755.0</td>\n",
       "      <td>NaN</td>\n",
       "      <td>120370.0</td>\n",
       "      <td>3</td>\n",
       "      <td>3</td>\n",
       "      <td>2019</td>\n",
       "    </tr>\n",
       "    <tr>\n",
       "      <th>4</th>\n",
       "      <td>2</td>\n",
       "      <td>10000000.0</td>\n",
       "      <td>100.00</td>\n",
       "      <td>2018-06-19</td>\n",
       "      <td>2</td>\n",
       "      <td>3.03</td>\n",
       "      <td>14.0</td>\n",
       "      <td>32.0</td>\n",
       "      <td>13</td>\n",
       "      <td>False</td>\n",
       "      <td>...</td>\n",
       "      <td>8098.0</td>\n",
       "      <td>2.0</td>\n",
       "      <td>112.0</td>\n",
       "      <td>1.0</td>\n",
       "      <td>48.0</td>\n",
       "      <td>121.0</td>\n",
       "      <td>100000.0</td>\n",
       "      <td>1</td>\n",
       "      <td>6</td>\n",
       "      <td>2018</td>\n",
       "    </tr>\n",
       "    <tr>\n",
       "      <th>9</th>\n",
       "      <td>18</td>\n",
       "      <td>5400000.0</td>\n",
       "      <td>61.00</td>\n",
       "      <td>2017-02-26</td>\n",
       "      <td>3</td>\n",
       "      <td>2.50</td>\n",
       "      <td>9.0</td>\n",
       "      <td>43.6</td>\n",
       "      <td>7</td>\n",
       "      <td>False</td>\n",
       "      <td>...</td>\n",
       "      <td>15008.0</td>\n",
       "      <td>0.0</td>\n",
       "      <td>NaN</td>\n",
       "      <td>0.0</td>\n",
       "      <td>NaN</td>\n",
       "      <td>289.0</td>\n",
       "      <td>88525.0</td>\n",
       "      <td>6</td>\n",
       "      <td>2</td>\n",
       "      <td>2017</td>\n",
       "    </tr>\n",
       "    <tr>\n",
       "      <th>10</th>\n",
       "      <td>5</td>\n",
       "      <td>5050000.0</td>\n",
       "      <td>39.60</td>\n",
       "      <td>2017-11-16</td>\n",
       "      <td>1</td>\n",
       "      <td>2.67</td>\n",
       "      <td>12.0</td>\n",
       "      <td>20.3</td>\n",
       "      <td>3</td>\n",
       "      <td>False</td>\n",
       "      <td>...</td>\n",
       "      <td>13878.0</td>\n",
       "      <td>1.0</td>\n",
       "      <td>310.0</td>\n",
       "      <td>2.0</td>\n",
       "      <td>553.0</td>\n",
       "      <td>137.0</td>\n",
       "      <td>127525.0</td>\n",
       "      <td>3</td>\n",
       "      <td>11</td>\n",
       "      <td>2017</td>\n",
       "    </tr>\n",
       "    <tr>\n",
       "      <th>13</th>\n",
       "      <td>20</td>\n",
       "      <td>3550000.0</td>\n",
       "      <td>42.80</td>\n",
       "      <td>2017-07-01</td>\n",
       "      <td>2</td>\n",
       "      <td>2.56</td>\n",
       "      <td>5.0</td>\n",
       "      <td>27.0</td>\n",
       "      <td>5</td>\n",
       "      <td>False</td>\n",
       "      <td>...</td>\n",
       "      <td>33058.0</td>\n",
       "      <td>1.0</td>\n",
       "      <td>294.0</td>\n",
       "      <td>3.0</td>\n",
       "      <td>298.0</td>\n",
       "      <td>366.0</td>\n",
       "      <td>82944.0</td>\n",
       "      <td>5</td>\n",
       "      <td>7</td>\n",
       "      <td>2017</td>\n",
       "    </tr>\n",
       "    <tr>\n",
       "      <th>...</th>\n",
       "      <td>...</td>\n",
       "      <td>...</td>\n",
       "      <td>...</td>\n",
       "      <td>...</td>\n",
       "      <td>...</td>\n",
       "      <td>...</td>\n",
       "      <td>...</td>\n",
       "      <td>...</td>\n",
       "      <td>...</td>\n",
       "      <td>...</td>\n",
       "      <td>...</td>\n",
       "      <td>...</td>\n",
       "      <td>...</td>\n",
       "      <td>...</td>\n",
       "      <td>...</td>\n",
       "      <td>...</td>\n",
       "      <td>...</td>\n",
       "      <td>...</td>\n",
       "      <td>...</td>\n",
       "      <td>...</td>\n",
       "      <td>...</td>\n",
       "    </tr>\n",
       "    <tr>\n",
       "      <th>23691</th>\n",
       "      <td>11</td>\n",
       "      <td>9470000.0</td>\n",
       "      <td>72.90</td>\n",
       "      <td>2016-10-13</td>\n",
       "      <td>2</td>\n",
       "      <td>2.75</td>\n",
       "      <td>25.0</td>\n",
       "      <td>40.3</td>\n",
       "      <td>7</td>\n",
       "      <td>False</td>\n",
       "      <td>...</td>\n",
       "      <td>4489.0</td>\n",
       "      <td>0.0</td>\n",
       "      <td>NaN</td>\n",
       "      <td>1.0</td>\n",
       "      <td>806.0</td>\n",
       "      <td>519.0</td>\n",
       "      <td>129904.0</td>\n",
       "      <td>3</td>\n",
       "      <td>10</td>\n",
       "      <td>2016</td>\n",
       "    </tr>\n",
       "    <tr>\n",
       "      <th>23693</th>\n",
       "      <td>9</td>\n",
       "      <td>4600000.0</td>\n",
       "      <td>62.40</td>\n",
       "      <td>2016-08-05</td>\n",
       "      <td>3</td>\n",
       "      <td>2.60</td>\n",
       "      <td>9.0</td>\n",
       "      <td>40.0</td>\n",
       "      <td>8</td>\n",
       "      <td>False</td>\n",
       "      <td>...</td>\n",
       "      <td>34104.0</td>\n",
       "      <td>1.0</td>\n",
       "      <td>352.0</td>\n",
       "      <td>1.0</td>\n",
       "      <td>675.0</td>\n",
       "      <td>239.0</td>\n",
       "      <td>73718.0</td>\n",
       "      <td>4</td>\n",
       "      <td>8</td>\n",
       "      <td>2016</td>\n",
       "    </tr>\n",
       "    <tr>\n",
       "      <th>23694</th>\n",
       "      <td>9</td>\n",
       "      <td>9700000.0</td>\n",
       "      <td>133.81</td>\n",
       "      <td>2017-03-21</td>\n",
       "      <td>3</td>\n",
       "      <td>3.70</td>\n",
       "      <td>5.0</td>\n",
       "      <td>73.3</td>\n",
       "      <td>3</td>\n",
       "      <td>False</td>\n",
       "      <td>...</td>\n",
       "      <td>4232.0</td>\n",
       "      <td>1.0</td>\n",
       "      <td>796.0</td>\n",
       "      <td>3.0</td>\n",
       "      <td>381.0</td>\n",
       "      <td>NaN</td>\n",
       "      <td>72491.0</td>\n",
       "      <td>1</td>\n",
       "      <td>3</td>\n",
       "      <td>2017</td>\n",
       "    </tr>\n",
       "    <tr>\n",
       "      <th>23697</th>\n",
       "      <td>13</td>\n",
       "      <td>11475000.0</td>\n",
       "      <td>76.75</td>\n",
       "      <td>2017-03-28</td>\n",
       "      <td>2</td>\n",
       "      <td>3.00</td>\n",
       "      <td>17.0</td>\n",
       "      <td>NaN</td>\n",
       "      <td>12</td>\n",
       "      <td>False</td>\n",
       "      <td>...</td>\n",
       "      <td>10364.0</td>\n",
       "      <td>2.0</td>\n",
       "      <td>173.0</td>\n",
       "      <td>3.0</td>\n",
       "      <td>196.0</td>\n",
       "      <td>602.0</td>\n",
       "      <td>149511.0</td>\n",
       "      <td>1</td>\n",
       "      <td>3</td>\n",
       "      <td>2017</td>\n",
       "    </tr>\n",
       "    <tr>\n",
       "      <th>23698</th>\n",
       "      <td>4</td>\n",
       "      <td>1350000.0</td>\n",
       "      <td>32.30</td>\n",
       "      <td>2017-07-21</td>\n",
       "      <td>1</td>\n",
       "      <td>2.50</td>\n",
       "      <td>5.0</td>\n",
       "      <td>12.3</td>\n",
       "      <td>1</td>\n",
       "      <td>False</td>\n",
       "      <td>...</td>\n",
       "      <td>NaN</td>\n",
       "      <td>NaN</td>\n",
       "      <td>NaN</td>\n",
       "      <td>NaN</td>\n",
       "      <td>NaN</td>\n",
       "      <td>NaN</td>\n",
       "      <td>41796.0</td>\n",
       "      <td>4</td>\n",
       "      <td>7</td>\n",
       "      <td>2017</td>\n",
       "    </tr>\n",
       "  </tbody>\n",
       "</table>\n",
       "<p>14467 rows × 26 columns</p>\n",
       "</div>"
      ],
      "text/plain": [
       "       total_images  last_price  total_area first_day_exposition  rooms  \\\n",
       "0                20  13000000.0      108.00           2019-03-07      3   \n",
       "4                 2  10000000.0      100.00           2018-06-19      2   \n",
       "9                18   5400000.0       61.00           2017-02-26      3   \n",
       "10                5   5050000.0       39.60           2017-11-16      1   \n",
       "13               20   3550000.0       42.80           2017-07-01      2   \n",
       "...             ...         ...         ...                  ...    ...   \n",
       "23691            11   9470000.0       72.90           2016-10-13      2   \n",
       "23693             9   4600000.0       62.40           2016-08-05      3   \n",
       "23694             9   9700000.0      133.81           2017-03-21      3   \n",
       "23697            13  11475000.0       76.75           2017-03-28      2   \n",
       "23698             4   1350000.0       32.30           2017-07-21      1   \n",
       "\n",
       "       ceiling_height  floors_total  living_area  floor  is_apartment  ...  \\\n",
       "0                2.70          16.0         51.0      8         False  ...   \n",
       "4                3.03          14.0         32.0     13         False  ...   \n",
       "9                2.50           9.0         43.6      7         False  ...   \n",
       "10               2.67          12.0         20.3      3         False  ...   \n",
       "13               2.56           5.0         27.0      5         False  ...   \n",
       "...               ...           ...          ...    ...           ...  ...   \n",
       "23691            2.75          25.0         40.3      7         False  ...   \n",
       "23693            2.60           9.0         40.0      8         False  ...   \n",
       "23694            3.70           5.0         73.3      3         False  ...   \n",
       "23697            3.00          17.0          NaN     12         False  ...   \n",
       "23698            2.50           5.0         12.3      1         False  ...   \n",
       "\n",
       "       cityCenters_nearest  parks_around3000  parks_nearest  ponds_around3000  \\\n",
       "0                  16028.0               1.0          482.0               2.0   \n",
       "4                   8098.0               2.0          112.0               1.0   \n",
       "9                  15008.0               0.0            NaN               0.0   \n",
       "10                 13878.0               1.0          310.0               2.0   \n",
       "13                 33058.0               1.0          294.0               3.0   \n",
       "...                    ...               ...            ...               ...   \n",
       "23691               4489.0               0.0            NaN               1.0   \n",
       "23693              34104.0               1.0          352.0               1.0   \n",
       "23694               4232.0               1.0          796.0               3.0   \n",
       "23697              10364.0               2.0          173.0               3.0   \n",
       "23698                  NaN               NaN            NaN               NaN   \n",
       "\n",
       "      ponds_nearest  days_exposition  price_area  dayofweek_exposition  \\\n",
       "0             755.0              NaN    120370.0                     3   \n",
       "4              48.0            121.0    100000.0                     1   \n",
       "9               NaN            289.0     88525.0                     6   \n",
       "10            553.0            137.0    127525.0                     3   \n",
       "13            298.0            366.0     82944.0                     5   \n",
       "...             ...              ...         ...                   ...   \n",
       "23691         806.0            519.0    129904.0                     3   \n",
       "23693         675.0            239.0     73718.0                     4   \n",
       "23694         381.0              NaN     72491.0                     1   \n",
       "23697         196.0            602.0    149511.0                     1   \n",
       "23698           NaN              NaN     41796.0                     4   \n",
       "\n",
       "       month_exposition  year_exposition  \n",
       "0                     3             2019  \n",
       "4                     6             2018  \n",
       "9                     2             2017  \n",
       "10                   11             2017  \n",
       "13                    7             2017  \n",
       "...                 ...              ...  \n",
       "23691                10             2016  \n",
       "23693                 8             2016  \n",
       "23694                 3             2017  \n",
       "23697                 3             2017  \n",
       "23698                 7             2017  \n",
       "\n",
       "[14467 rows x 26 columns]"
      ]
     },
     "execution_count": 29,
     "metadata": {},
     "output_type": "execute_result"
    }
   ],
   "source": [
    "data['year_exposition'] = data['first_day_exposition'].dt.year\n",
    "data"
   ]
  },
  {
   "cell_type": "markdown",
   "metadata": {},
   "source": [
    "**Добавим новый столбец - тип этажа квартиры (значения — «‎первый», «последний», «другой»):**"
   ]
  },
  {
   "cell_type": "code",
   "execution_count": 30,
   "metadata": {},
   "outputs": [
    {
     "data": {
      "text/html": [
       "<div>\n",
       "<style scoped>\n",
       "    .dataframe tbody tr th:only-of-type {\n",
       "        vertical-align: middle;\n",
       "    }\n",
       "\n",
       "    .dataframe tbody tr th {\n",
       "        vertical-align: top;\n",
       "    }\n",
       "\n",
       "    .dataframe thead th {\n",
       "        text-align: right;\n",
       "    }\n",
       "</style>\n",
       "<table border=\"1\" class=\"dataframe\">\n",
       "  <thead>\n",
       "    <tr style=\"text-align: right;\">\n",
       "      <th></th>\n",
       "      <th>total_images</th>\n",
       "      <th>last_price</th>\n",
       "      <th>total_area</th>\n",
       "      <th>first_day_exposition</th>\n",
       "      <th>rooms</th>\n",
       "      <th>ceiling_height</th>\n",
       "      <th>floors_total</th>\n",
       "      <th>living_area</th>\n",
       "      <th>floor</th>\n",
       "      <th>is_apartment</th>\n",
       "      <th>...</th>\n",
       "      <th>parks_around3000</th>\n",
       "      <th>parks_nearest</th>\n",
       "      <th>ponds_around3000</th>\n",
       "      <th>ponds_nearest</th>\n",
       "      <th>days_exposition</th>\n",
       "      <th>price_area</th>\n",
       "      <th>dayofweek_exposition</th>\n",
       "      <th>month_exposition</th>\n",
       "      <th>year_exposition</th>\n",
       "      <th>floor_type</th>\n",
       "    </tr>\n",
       "  </thead>\n",
       "  <tbody>\n",
       "    <tr>\n",
       "      <th>0</th>\n",
       "      <td>20</td>\n",
       "      <td>13000000.0</td>\n",
       "      <td>108.00</td>\n",
       "      <td>2019-03-07</td>\n",
       "      <td>3</td>\n",
       "      <td>2.70</td>\n",
       "      <td>16.0</td>\n",
       "      <td>51.0</td>\n",
       "      <td>8</td>\n",
       "      <td>False</td>\n",
       "      <td>...</td>\n",
       "      <td>1.0</td>\n",
       "      <td>482.0</td>\n",
       "      <td>2.0</td>\n",
       "      <td>755.0</td>\n",
       "      <td>NaN</td>\n",
       "      <td>120370.0</td>\n",
       "      <td>3</td>\n",
       "      <td>3</td>\n",
       "      <td>2019</td>\n",
       "      <td>другой</td>\n",
       "    </tr>\n",
       "    <tr>\n",
       "      <th>4</th>\n",
       "      <td>2</td>\n",
       "      <td>10000000.0</td>\n",
       "      <td>100.00</td>\n",
       "      <td>2018-06-19</td>\n",
       "      <td>2</td>\n",
       "      <td>3.03</td>\n",
       "      <td>14.0</td>\n",
       "      <td>32.0</td>\n",
       "      <td>13</td>\n",
       "      <td>False</td>\n",
       "      <td>...</td>\n",
       "      <td>2.0</td>\n",
       "      <td>112.0</td>\n",
       "      <td>1.0</td>\n",
       "      <td>48.0</td>\n",
       "      <td>121.0</td>\n",
       "      <td>100000.0</td>\n",
       "      <td>1</td>\n",
       "      <td>6</td>\n",
       "      <td>2018</td>\n",
       "      <td>другой</td>\n",
       "    </tr>\n",
       "    <tr>\n",
       "      <th>9</th>\n",
       "      <td>18</td>\n",
       "      <td>5400000.0</td>\n",
       "      <td>61.00</td>\n",
       "      <td>2017-02-26</td>\n",
       "      <td>3</td>\n",
       "      <td>2.50</td>\n",
       "      <td>9.0</td>\n",
       "      <td>43.6</td>\n",
       "      <td>7</td>\n",
       "      <td>False</td>\n",
       "      <td>...</td>\n",
       "      <td>0.0</td>\n",
       "      <td>NaN</td>\n",
       "      <td>0.0</td>\n",
       "      <td>NaN</td>\n",
       "      <td>289.0</td>\n",
       "      <td>88525.0</td>\n",
       "      <td>6</td>\n",
       "      <td>2</td>\n",
       "      <td>2017</td>\n",
       "      <td>другой</td>\n",
       "    </tr>\n",
       "    <tr>\n",
       "      <th>10</th>\n",
       "      <td>5</td>\n",
       "      <td>5050000.0</td>\n",
       "      <td>39.60</td>\n",
       "      <td>2017-11-16</td>\n",
       "      <td>1</td>\n",
       "      <td>2.67</td>\n",
       "      <td>12.0</td>\n",
       "      <td>20.3</td>\n",
       "      <td>3</td>\n",
       "      <td>False</td>\n",
       "      <td>...</td>\n",
       "      <td>1.0</td>\n",
       "      <td>310.0</td>\n",
       "      <td>2.0</td>\n",
       "      <td>553.0</td>\n",
       "      <td>137.0</td>\n",
       "      <td>127525.0</td>\n",
       "      <td>3</td>\n",
       "      <td>11</td>\n",
       "      <td>2017</td>\n",
       "      <td>другой</td>\n",
       "    </tr>\n",
       "    <tr>\n",
       "      <th>13</th>\n",
       "      <td>20</td>\n",
       "      <td>3550000.0</td>\n",
       "      <td>42.80</td>\n",
       "      <td>2017-07-01</td>\n",
       "      <td>2</td>\n",
       "      <td>2.56</td>\n",
       "      <td>5.0</td>\n",
       "      <td>27.0</td>\n",
       "      <td>5</td>\n",
       "      <td>False</td>\n",
       "      <td>...</td>\n",
       "      <td>1.0</td>\n",
       "      <td>294.0</td>\n",
       "      <td>3.0</td>\n",
       "      <td>298.0</td>\n",
       "      <td>366.0</td>\n",
       "      <td>82944.0</td>\n",
       "      <td>5</td>\n",
       "      <td>7</td>\n",
       "      <td>2017</td>\n",
       "      <td>последний</td>\n",
       "    </tr>\n",
       "    <tr>\n",
       "      <th>...</th>\n",
       "      <td>...</td>\n",
       "      <td>...</td>\n",
       "      <td>...</td>\n",
       "      <td>...</td>\n",
       "      <td>...</td>\n",
       "      <td>...</td>\n",
       "      <td>...</td>\n",
       "      <td>...</td>\n",
       "      <td>...</td>\n",
       "      <td>...</td>\n",
       "      <td>...</td>\n",
       "      <td>...</td>\n",
       "      <td>...</td>\n",
       "      <td>...</td>\n",
       "      <td>...</td>\n",
       "      <td>...</td>\n",
       "      <td>...</td>\n",
       "      <td>...</td>\n",
       "      <td>...</td>\n",
       "      <td>...</td>\n",
       "      <td>...</td>\n",
       "    </tr>\n",
       "    <tr>\n",
       "      <th>23691</th>\n",
       "      <td>11</td>\n",
       "      <td>9470000.0</td>\n",
       "      <td>72.90</td>\n",
       "      <td>2016-10-13</td>\n",
       "      <td>2</td>\n",
       "      <td>2.75</td>\n",
       "      <td>25.0</td>\n",
       "      <td>40.3</td>\n",
       "      <td>7</td>\n",
       "      <td>False</td>\n",
       "      <td>...</td>\n",
       "      <td>0.0</td>\n",
       "      <td>NaN</td>\n",
       "      <td>1.0</td>\n",
       "      <td>806.0</td>\n",
       "      <td>519.0</td>\n",
       "      <td>129904.0</td>\n",
       "      <td>3</td>\n",
       "      <td>10</td>\n",
       "      <td>2016</td>\n",
       "      <td>другой</td>\n",
       "    </tr>\n",
       "    <tr>\n",
       "      <th>23693</th>\n",
       "      <td>9</td>\n",
       "      <td>4600000.0</td>\n",
       "      <td>62.40</td>\n",
       "      <td>2016-08-05</td>\n",
       "      <td>3</td>\n",
       "      <td>2.60</td>\n",
       "      <td>9.0</td>\n",
       "      <td>40.0</td>\n",
       "      <td>8</td>\n",
       "      <td>False</td>\n",
       "      <td>...</td>\n",
       "      <td>1.0</td>\n",
       "      <td>352.0</td>\n",
       "      <td>1.0</td>\n",
       "      <td>675.0</td>\n",
       "      <td>239.0</td>\n",
       "      <td>73718.0</td>\n",
       "      <td>4</td>\n",
       "      <td>8</td>\n",
       "      <td>2016</td>\n",
       "      <td>другой</td>\n",
       "    </tr>\n",
       "    <tr>\n",
       "      <th>23694</th>\n",
       "      <td>9</td>\n",
       "      <td>9700000.0</td>\n",
       "      <td>133.81</td>\n",
       "      <td>2017-03-21</td>\n",
       "      <td>3</td>\n",
       "      <td>3.70</td>\n",
       "      <td>5.0</td>\n",
       "      <td>73.3</td>\n",
       "      <td>3</td>\n",
       "      <td>False</td>\n",
       "      <td>...</td>\n",
       "      <td>1.0</td>\n",
       "      <td>796.0</td>\n",
       "      <td>3.0</td>\n",
       "      <td>381.0</td>\n",
       "      <td>NaN</td>\n",
       "      <td>72491.0</td>\n",
       "      <td>1</td>\n",
       "      <td>3</td>\n",
       "      <td>2017</td>\n",
       "      <td>другой</td>\n",
       "    </tr>\n",
       "    <tr>\n",
       "      <th>23697</th>\n",
       "      <td>13</td>\n",
       "      <td>11475000.0</td>\n",
       "      <td>76.75</td>\n",
       "      <td>2017-03-28</td>\n",
       "      <td>2</td>\n",
       "      <td>3.00</td>\n",
       "      <td>17.0</td>\n",
       "      <td>NaN</td>\n",
       "      <td>12</td>\n",
       "      <td>False</td>\n",
       "      <td>...</td>\n",
       "      <td>2.0</td>\n",
       "      <td>173.0</td>\n",
       "      <td>3.0</td>\n",
       "      <td>196.0</td>\n",
       "      <td>602.0</td>\n",
       "      <td>149511.0</td>\n",
       "      <td>1</td>\n",
       "      <td>3</td>\n",
       "      <td>2017</td>\n",
       "      <td>другой</td>\n",
       "    </tr>\n",
       "    <tr>\n",
       "      <th>23698</th>\n",
       "      <td>4</td>\n",
       "      <td>1350000.0</td>\n",
       "      <td>32.30</td>\n",
       "      <td>2017-07-21</td>\n",
       "      <td>1</td>\n",
       "      <td>2.50</td>\n",
       "      <td>5.0</td>\n",
       "      <td>12.3</td>\n",
       "      <td>1</td>\n",
       "      <td>False</td>\n",
       "      <td>...</td>\n",
       "      <td>NaN</td>\n",
       "      <td>NaN</td>\n",
       "      <td>NaN</td>\n",
       "      <td>NaN</td>\n",
       "      <td>NaN</td>\n",
       "      <td>41796.0</td>\n",
       "      <td>4</td>\n",
       "      <td>7</td>\n",
       "      <td>2017</td>\n",
       "      <td>первый</td>\n",
       "    </tr>\n",
       "  </tbody>\n",
       "</table>\n",
       "<p>14467 rows × 27 columns</p>\n",
       "</div>"
      ],
      "text/plain": [
       "       total_images  last_price  total_area first_day_exposition  rooms  \\\n",
       "0                20  13000000.0      108.00           2019-03-07      3   \n",
       "4                 2  10000000.0      100.00           2018-06-19      2   \n",
       "9                18   5400000.0       61.00           2017-02-26      3   \n",
       "10                5   5050000.0       39.60           2017-11-16      1   \n",
       "13               20   3550000.0       42.80           2017-07-01      2   \n",
       "...             ...         ...         ...                  ...    ...   \n",
       "23691            11   9470000.0       72.90           2016-10-13      2   \n",
       "23693             9   4600000.0       62.40           2016-08-05      3   \n",
       "23694             9   9700000.0      133.81           2017-03-21      3   \n",
       "23697            13  11475000.0       76.75           2017-03-28      2   \n",
       "23698             4   1350000.0       32.30           2017-07-21      1   \n",
       "\n",
       "       ceiling_height  floors_total  living_area  floor  is_apartment  ...  \\\n",
       "0                2.70          16.0         51.0      8         False  ...   \n",
       "4                3.03          14.0         32.0     13         False  ...   \n",
       "9                2.50           9.0         43.6      7         False  ...   \n",
       "10               2.67          12.0         20.3      3         False  ...   \n",
       "13               2.56           5.0         27.0      5         False  ...   \n",
       "...               ...           ...          ...    ...           ...  ...   \n",
       "23691            2.75          25.0         40.3      7         False  ...   \n",
       "23693            2.60           9.0         40.0      8         False  ...   \n",
       "23694            3.70           5.0         73.3      3         False  ...   \n",
       "23697            3.00          17.0          NaN     12         False  ...   \n",
       "23698            2.50           5.0         12.3      1         False  ...   \n",
       "\n",
       "       parks_around3000  parks_nearest  ponds_around3000  ponds_nearest  \\\n",
       "0                   1.0          482.0               2.0          755.0   \n",
       "4                   2.0          112.0               1.0           48.0   \n",
       "9                   0.0            NaN               0.0            NaN   \n",
       "10                  1.0          310.0               2.0          553.0   \n",
       "13                  1.0          294.0               3.0          298.0   \n",
       "...                 ...            ...               ...            ...   \n",
       "23691               0.0            NaN               1.0          806.0   \n",
       "23693               1.0          352.0               1.0          675.0   \n",
       "23694               1.0          796.0               3.0          381.0   \n",
       "23697               2.0          173.0               3.0          196.0   \n",
       "23698               NaN            NaN               NaN            NaN   \n",
       "\n",
       "      days_exposition  price_area  dayofweek_exposition  month_exposition  \\\n",
       "0                 NaN    120370.0                     3                 3   \n",
       "4               121.0    100000.0                     1                 6   \n",
       "9               289.0     88525.0                     6                 2   \n",
       "10              137.0    127525.0                     3                11   \n",
       "13              366.0     82944.0                     5                 7   \n",
       "...               ...         ...                   ...               ...   \n",
       "23691           519.0    129904.0                     3                10   \n",
       "23693           239.0     73718.0                     4                 8   \n",
       "23694             NaN     72491.0                     1                 3   \n",
       "23697           602.0    149511.0                     1                 3   \n",
       "23698             NaN     41796.0                     4                 7   \n",
       "\n",
       "       year_exposition  floor_type  \n",
       "0                 2019      другой  \n",
       "4                 2018      другой  \n",
       "9                 2017      другой  \n",
       "10                2017      другой  \n",
       "13                2017   последний  \n",
       "...                ...         ...  \n",
       "23691             2016      другой  \n",
       "23693             2016      другой  \n",
       "23694             2017      другой  \n",
       "23697             2017      другой  \n",
       "23698             2017      первый  \n",
       "\n",
       "[14467 rows x 27 columns]"
      ]
     },
     "execution_count": 30,
     "metadata": {},
     "output_type": "execute_result"
    }
   ],
   "source": [
    "def floor_group(row):\n",
    "    if row['floor'] == 1:\n",
    "        return 'первый'\n",
    "    \n",
    "    if row['floor'] == row['floors_total']:\n",
    "        return 'последний'\n",
    "    \n",
    "    return 'другой'\n",
    "\n",
    "data['floor_type'] = data.apply(floor_group, axis=1)\n",
    "data"
   ]
  },
  {
   "cell_type": "markdown",
   "metadata": {},
   "source": [
    "**Добавим новый столбец - расстояние до центра города в километрах:**"
   ]
  },
  {
   "cell_type": "code",
   "execution_count": 31,
   "metadata": {},
   "outputs": [
    {
     "data": {
      "text/html": [
       "<div>\n",
       "<style scoped>\n",
       "    .dataframe tbody tr th:only-of-type {\n",
       "        vertical-align: middle;\n",
       "    }\n",
       "\n",
       "    .dataframe tbody tr th {\n",
       "        vertical-align: top;\n",
       "    }\n",
       "\n",
       "    .dataframe thead th {\n",
       "        text-align: right;\n",
       "    }\n",
       "</style>\n",
       "<table border=\"1\" class=\"dataframe\">\n",
       "  <thead>\n",
       "    <tr style=\"text-align: right;\">\n",
       "      <th></th>\n",
       "      <th>cityCenters_nearest</th>\n",
       "      <th>cityCenters_km</th>\n",
       "    </tr>\n",
       "  </thead>\n",
       "  <tbody>\n",
       "    <tr>\n",
       "      <th>0</th>\n",
       "      <td>16028.0</td>\n",
       "      <td>16.0</td>\n",
       "    </tr>\n",
       "    <tr>\n",
       "      <th>4</th>\n",
       "      <td>8098.0</td>\n",
       "      <td>8.0</td>\n",
       "    </tr>\n",
       "    <tr>\n",
       "      <th>9</th>\n",
       "      <td>15008.0</td>\n",
       "      <td>15.0</td>\n",
       "    </tr>\n",
       "    <tr>\n",
       "      <th>10</th>\n",
       "      <td>13878.0</td>\n",
       "      <td>14.0</td>\n",
       "    </tr>\n",
       "    <tr>\n",
       "      <th>13</th>\n",
       "      <td>33058.0</td>\n",
       "      <td>33.0</td>\n",
       "    </tr>\n",
       "    <tr>\n",
       "      <th>...</th>\n",
       "      <td>...</td>\n",
       "      <td>...</td>\n",
       "    </tr>\n",
       "    <tr>\n",
       "      <th>23691</th>\n",
       "      <td>4489.0</td>\n",
       "      <td>4.0</td>\n",
       "    </tr>\n",
       "    <tr>\n",
       "      <th>23693</th>\n",
       "      <td>34104.0</td>\n",
       "      <td>34.0</td>\n",
       "    </tr>\n",
       "    <tr>\n",
       "      <th>23694</th>\n",
       "      <td>4232.0</td>\n",
       "      <td>4.0</td>\n",
       "    </tr>\n",
       "    <tr>\n",
       "      <th>23697</th>\n",
       "      <td>10364.0</td>\n",
       "      <td>10.0</td>\n",
       "    </tr>\n",
       "    <tr>\n",
       "      <th>23698</th>\n",
       "      <td>NaN</td>\n",
       "      <td>NaN</td>\n",
       "    </tr>\n",
       "  </tbody>\n",
       "</table>\n",
       "<p>14467 rows × 2 columns</p>\n",
       "</div>"
      ],
      "text/plain": [
       "       cityCenters_nearest  cityCenters_km\n",
       "0                  16028.0            16.0\n",
       "4                   8098.0             8.0\n",
       "9                  15008.0            15.0\n",
       "10                 13878.0            14.0\n",
       "13                 33058.0            33.0\n",
       "...                    ...             ...\n",
       "23691               4489.0             4.0\n",
       "23693              34104.0            34.0\n",
       "23694               4232.0             4.0\n",
       "23697              10364.0            10.0\n",
       "23698                  NaN             NaN\n",
       "\n",
       "[14467 rows x 2 columns]"
      ]
     },
     "execution_count": 31,
     "metadata": {},
     "output_type": "execute_result"
    }
   ],
   "source": [
    "data['cityCenters_km'] = round(data['cityCenters_nearest']/1000)\n",
    "data[['cityCenters_nearest', 'cityCenters_km']]"
   ]
  },
  {
   "cell_type": "markdown",
   "metadata": {},
   "source": [
    "### Проведите исследовательский анализ данных"
   ]
  },
  {
   "cell_type": "markdown",
   "metadata": {},
   "source": [
    "**Построим гистограмму для общей площади:**"
   ]
  },
  {
   "cell_type": "code",
   "execution_count": 32,
   "metadata": {},
   "outputs": [
    {
     "data": {
      "text/plain": [
       "[Text(0.5, 1.0, 'Гистограмма площадей квартир'),\n",
       " Text(0.5, 0, 'Общая площадь, м2'),\n",
       " Text(0, 0.5, 'Кол-во квартир')]"
      ]
     },
     "execution_count": 32,
     "metadata": {},
     "output_type": "execute_result"
    },
    {
     "data": {
      "image/png": "[encoded data removed]",
      "text/plain": [
       "<Figure size 1440x720 with 1 Axes>"
      ]
     },
     "metadata": {
      "needs_background": "light"
     },
     "output_type": "display_data"
    }
   ],
   "source": [
    "data['total_area'].hist(bins=100, range=(20, 125), figsize=(20,10))\\\n",
    "    .set(title = 'Гистограмма площадей квартир', xlabel = 'Общая площадь, м2', ylabel = 'Кол-во квартир')"
   ]
  },
  {
   "cell_type": "markdown",
   "metadata": {},
   "source": [
    "В основном квартиры сдаются площадью от 25 до 120 кв. метров. Имеются пики, которые предположительно соответствуют типовым площадям для одно-, двух-, трех- комнатных квартир."
   ]
  },
  {
   "cell_type": "markdown",
   "metadata": {},
   "source": [
    "**Построим гистограмму для жилой площади:**"
   ]
  },
  {
   "cell_type": "code",
   "execution_count": 33,
   "metadata": {},
   "outputs": [
    {
     "data": {
      "text/plain": [
       "[Text(0.5, 1.0, 'Гистограмма жилых площадей'),\n",
       " Text(0.5, 0, 'Жилая площадь, м2'),\n",
       " Text(0, 0.5, 'Кол-во квартир')]"
      ]
     },
     "execution_count": 33,
     "metadata": {},
     "output_type": "execute_result"
    },
    {
     "data": {
      "image/png": "[encoded data removed]",
      "text/plain": [
       "<Figure size 1440x720 with 1 Axes>"
      ]
     },
     "metadata": {
      "needs_background": "light"
     },
     "output_type": "display_data"
    }
   ],
   "source": [
    "data['living_area'].hist(bins=50, range=(10, 100), figsize=(20,10))\\\n",
    "    .set(title = 'Гистограмма жилых площадей', xlabel = 'Жилая площадь, м2', ylabel = 'Кол-во квартир')"
   ]
  },
  {
   "cell_type": "markdown",
   "metadata": {},
   "source": [
    "В основном жилая площадь квартир от 10 до 60 кв. метров. Имеются пики, которые предположительно соответствуют типовым площадям для одно-, двух-, трех- комнатных квартир."
   ]
  },
  {
   "cell_type": "markdown",
   "metadata": {},
   "source": [
    "**Построим гистограмму для площади кухни:**"
   ]
  },
  {
   "cell_type": "code",
   "execution_count": 34,
   "metadata": {},
   "outputs": [
    {
     "data": {
      "text/plain": [
       "[Text(0.5, 1.0, 'Гистограмма площадей кухнь'),\n",
       " Text(0.5, 0, 'Площадь кухнь, м2'),\n",
       " Text(0, 0.5, 'Кол-во квартир')]"
      ]
     },
     "execution_count": 34,
     "metadata": {},
     "output_type": "execute_result"
    },
    {
     "data": {
      "image/png": "[encoded data removed]",
      "text/plain": [
       "<Figure size 1440x720 with 1 Axes>"
      ]
     },
     "metadata": {
      "needs_background": "light"
     },
     "output_type": "display_data"
    }
   ],
   "source": [
    "data['kitchen_area'].hist(bins=50, range=(3, 40), figsize=(20,10))\\\n",
    "    .set(title = 'Гистограмма площадей кухнь', xlabel = 'Площадь кухнь, м2', ylabel = 'Кол-во квартир')"
   ]
  },
  {
   "cell_type": "markdown",
   "metadata": {},
   "source": [
    "В основном площадь кухонь от 4 до 20 кв. метров. Имеются пики, которые предположительно соответствуют типовым площадям для одно-, двух-, трех- комнатных квартир."
   ]
  },
  {
   "cell_type": "markdown",
   "metadata": {},
   "source": [
    "**Построим гистограмму для цены объекта:**"
   ]
  },
  {
   "cell_type": "code",
   "execution_count": 35,
   "metadata": {},
   "outputs": [
    {
     "data": {
      "text/plain": [
       "[Text(0.5, 1.0, 'Гистограмма цен объектов'),\n",
       " Text(0.5, 0, 'Цена, 10 млн руб.'),\n",
       " Text(0, 0.5, 'Кол-во квартир')]"
      ]
     },
     "execution_count": 35,
     "metadata": {},
     "output_type": "execute_result"
    },
    {
     "data": {
      "image/png": "[encoded data removed]",
      "text/plain": [
       "<Figure size 1440x720 with 1 Axes>"
      ]
     },
     "metadata": {
      "needs_background": "light"
     },
     "output_type": "display_data"
    }
   ],
   "source": [
    "data['last_price'].hist(bins=100, range=(500000, 20000000), figsize=(20,10))\\\n",
    "    .set(title = 'Гистограмма цен объектов', xlabel = 'Цена, 10 млн руб.', ylabel = 'Кол-во квартир')"
   ]
  },
  {
   "cell_type": "markdown",
   "metadata": {},
   "source": [
    "\n",
    "    \n",
    "Цены распределены от 1 млн до 15 млн. На гистограмме наблюдаем пики, которые можно объяснить \"скачковой\" разницей в цене однокомнатных от двухкомнатных и трехкомнатных. Различие цен двухкомнатных и трехкомнатных незначительно, поэтому на гистограмме эти пики почти слились. "
   ]
  },
  {
   "cell_type": "markdown",
   "metadata": {},
   "source": [
    "**Построим гистограмму для количества комнат:**"
   ]
  },
  {
   "cell_type": "code",
   "execution_count": 36,
   "metadata": {},
   "outputs": [
    {
     "data": {
      "text/plain": [
       "[Text(0.5, 1.0, 'Гистограмма количества комнат'),\n",
       " Text(0.5, 0, 'Количество комнат'),\n",
       " Text(0, 0.5, 'Кол-во квартир')]"
      ]
     },
     "execution_count": 36,
     "metadata": {},
     "output_type": "execute_result"
    },
    {
     "data": {
      "image/png": "[encoded data removed]",
      "text/plain": [
       "<Figure size 1440x720 with 1 Axes>"
      ]
     },
     "metadata": {
      "needs_background": "light"
     },
     "output_type": "display_data"
    }
   ],
   "source": [
    "data['rooms'].hist(bins=100, range=(0, 8), figsize=(20,10))\\\n",
    "    .set(title = 'Гистограмма количества комнат', xlabel = 'Количество комнат', ylabel = 'Кол-во квартир')"
   ]
  },
  {
   "cell_type": "markdown",
   "metadata": {},
   "source": [
    "Лучше всего на рынке представлены одно-, вдух- и трехкомнатные квартиры. Реже - четырехкомнатные и пяти."
   ]
  },
  {
   "cell_type": "markdown",
   "metadata": {},
   "source": [
    "**Построим гистограмму для высоты потолков:**"
   ]
  },
  {
   "cell_type": "code",
   "execution_count": 37,
   "metadata": {},
   "outputs": [
    {
     "data": {
      "text/plain": [
       "[Text(0.5, 1.0, 'Гистограмма высоты потолков'),\n",
       " Text(0.5, 0, 'Высота потолков'),\n",
       " Text(0, 0.5, 'Кол-во квартир')]"
      ]
     },
     "execution_count": 37,
     "metadata": {},
     "output_type": "execute_result"
    },
    {
     "data": {
      "image/png": "[encoded data removed]",
      "text/plain": [
       "<Figure size 1440x720 with 1 Axes>"
      ]
     },
     "metadata": {
      "needs_background": "light"
     },
     "output_type": "display_data"
    }
   ],
   "source": [
    "data['ceiling_height'].hist(bins=20, range=(2, 5), figsize=(20,10))\\\n",
    "    .set(title = 'Гистограмма высоты потолков', xlabel = 'Высота потолков', ylabel = 'Кол-во квартир')"
   ]
  },
  {
   "cell_type": "markdown",
   "metadata": {},
   "source": [
    "Больше всего на рынке представлены квартиры с высотой потолков 2.5 м, с увеличением высоты потолков характерно уменьшается количество предложений. "
   ]
  },
  {
   "cell_type": "markdown",
   "metadata": {},
   "source": [
    "**Построим гистограмму для этажей квартиры:**"
   ]
  },
  {
   "cell_type": "code",
   "execution_count": 38,
   "metadata": {},
   "outputs": [
    {
     "data": {
      "text/plain": [
       "[Text(0.5, 1.0, 'Гистограмма этажей'),\n",
       " Text(0.5, 0, 'Этаж'),\n",
       " Text(0, 0.5, 'Кол-во квартир')]"
      ]
     },
     "execution_count": 38,
     "metadata": {},
     "output_type": "execute_result"
    },
    {
     "data": {
      "image/png": "[encoded data removed]",
      "text/plain": [
       "<Figure size 1440x720 with 1 Axes>"
      ]
     },
     "metadata": {
      "needs_background": "light"
     },
     "output_type": "display_data"
    }
   ],
   "source": [
    "data['floor'].hist(bins=50, range=(0, 25), figsize=(20,10))\\\n",
    "    .set(title = 'Гистограмма этажей', xlabel = 'Этаж', ylabel = 'Кол-во квартир')"
   ]
  },
  {
   "cell_type": "markdown",
   "metadata": {},
   "source": [
    "Больше всего предложений с первого по пятный этаж, далее заметно резкое падение предложения (сказывается большое количество пятиэтажной типовой застройки). Далее наблюдаем постепенное, характерное падение предложений с увеличением этажей. "
   ]
  },
  {
   "cell_type": "markdown",
   "metadata": {},
   "source": [
    "**Построим гистограмму для типов этажей квартиры («первый», «последний», «другой»):**"
   ]
  },
  {
   "cell_type": "code",
   "execution_count": 39,
   "metadata": {},
   "outputs": [
    {
     "data": {
      "text/plain": [
       "[Text(0.5, 1.0, 'Гистограмма типа этажей'),\n",
       " Text(0.5, 0, 'Этаж'),\n",
       " Text(0, 0.5, 'Кол-во квартир')]"
      ]
     },
     "execution_count": 39,
     "metadata": {},
     "output_type": "execute_result"
    },
    {
     "data": {
      "image/png": "[encoded data removed]",
      "text/plain": [
       "<Figure size 1440x720 with 1 Axes>"
      ]
     },
     "metadata": {
      "needs_background": "light"
     },
     "output_type": "display_data"
    }
   ],
   "source": [
    "data['floor_type'].hist(bins=7, range=(0, 2), figsize=(20,10))\\\n",
    "    .set(title = 'Гистограмма типа этажей', xlabel = 'Этаж', ylabel = 'Кол-во квартир')"
   ]
  },
  {
   "cell_type": "markdown",
   "metadata": {},
   "source": [
    "Имеем примерное равное количество предложений в первой и последнем этаже. Ожидаемо больше всего предложений на средних этажах. "
   ]
  },
  {
   "cell_type": "markdown",
   "metadata": {},
   "source": [
    "**Построим гистограмму для общего количества этажей в доме:**"
   ]
  },
  {
   "cell_type": "code",
   "execution_count": 40,
   "metadata": {},
   "outputs": [
    {
     "data": {
      "text/plain": [
       "[Text(0.5, 1.0, 'Гистограмма количества этажей'),\n",
       " Text(0.5, 0, 'Этаж'),\n",
       " Text(0, 0.5, 'Кол-во квартир')]"
      ]
     },
     "execution_count": 40,
     "metadata": {},
     "output_type": "execute_result"
    },
    {
     "data": {
      "image/png": "[encoded data removed]",
      "text/plain": [
       "<Figure size 1440x720 with 1 Axes>"
      ]
     },
     "metadata": {
      "needs_background": "light"
     },
     "output_type": "display_data"
    }
   ],
   "source": [
    "data['floors_total'].hist(bins=30, range=(0, 30), figsize=(20,10))\\\n",
    "    .set(title = 'Гистограмма количества этажей', xlabel = 'Этаж', ylabel = 'Кол-во квартир')"
   ]
  },
  {
   "cell_type": "markdown",
   "metadata": {},
   "source": [
    "Данная гистограмма подтверждает большое количество предложений в типовой застройке. Больше всего в пятиэтажной застройке, поменьше - в дявитиэтажной. И наблюдаем редкие предложения в нетиповой застройке."
   ]
  },
  {
   "cell_type": "markdown",
   "metadata": {},
   "source": [
    "**Построим гистограмму для расстояния до центра города в метрах:**"
   ]
  },
  {
   "cell_type": "code",
   "execution_count": 41,
   "metadata": {},
   "outputs": [
    {
     "data": {
      "text/plain": [
       "[Text(0.5, 1.0, 'Гистограмма расстояний до центра'),\n",
       " Text(0.5, 0, 'км'),\n",
       " Text(0, 0.5, 'Кол-во квартир')]"
      ]
     },
     "execution_count": 41,
     "metadata": {},
     "output_type": "execute_result"
    },
    {
     "data": {
      "image/png": "[encoded data removed]",
      "text/plain": [
       "<Figure size 1440x720 with 1 Axes>"
      ]
     },
     "metadata": {
      "needs_background": "light"
     },
     "output_type": "display_data"
    }
   ],
   "source": [
    "data['cityCenters_km'].hist(bins=30, range=(0, 60), figsize=(20,10))\\\n",
    "    .set(title = 'Гистограмма расстояний до центра', xlabel = 'км', ylabel = 'Кол-во квартир')"
   ]
  },
  {
   "cell_type": "markdown",
   "metadata": {},
   "source": [
    "\n",
    "    \n",
    "Проверим всплески на 30 и 50 километрах:"
   ]
  },
  {
   "cell_type": "code",
   "execution_count": 42,
   "metadata": {},
   "outputs": [
    {
     "data": {
      "text/plain": [
       "Колпино         173\n",
       "Петергоф         92\n",
       "Пушкин           61\n",
       "Сестрорецк       53\n",
       "Шушары           40\n",
       "Красное Село     26\n",
       "Павловск         16\n",
       "Понтонный        12\n",
       "Name: locality_name, dtype: int64"
      ]
     },
     "execution_count": 42,
     "metadata": {},
     "output_type": "execute_result"
    }
   ],
   "source": [
    "data[(data['cityCenters_km']>30)&(data['cityCenters_km']<35)]['locality_name'].value_counts()"
   ]
  },
  {
   "cell_type": "code",
   "execution_count": 43,
   "metadata": {},
   "outputs": [
    {
     "data": {
      "text/plain": [
       "Ломоносов      66\n",
       "Кронштадт      21\n",
       "Зеленогорск    14\n",
       "Name: locality_name, dtype: int64"
      ]
     },
     "execution_count": 43,
     "metadata": {},
     "output_type": "execute_result"
    }
   ],
   "source": [
    "data[(data['cityCenters_km']>50)&(data['cityCenters_km']<55)]['locality_name'].value_counts()"
   ]
  },
  {
   "cell_type": "markdown",
   "metadata": {},
   "source": [
    "Больше всего предложений в районах от 5 до 19 километров. Имеются всплески на 30 и 50 километров, на таком расстоянии расположены крупные города региона."
   ]
  },
  {
   "cell_type": "markdown",
   "metadata": {},
   "source": [
    "**Построим гистограмму для расстояния до ближайшего аэропорта:**"
   ]
  },
  {
   "cell_type": "code",
   "execution_count": 44,
   "metadata": {},
   "outputs": [
    {
     "data": {
      "text/plain": [
       "[Text(0.5, 1.0, 'Гистограмма расстояний до аэропорта'),\n",
       " Text(0.5, 0, 'км'),\n",
       " Text(0, 0.5, 'Кол-во квартир')]"
      ]
     },
     "execution_count": 44,
     "metadata": {},
     "output_type": "execute_result"
    },
    {
     "data": {
      "image/png": "[encoded data removed]",
      "text/plain": [
       "<Figure size 1440x720 with 1 Axes>"
      ]
     },
     "metadata": {
      "needs_background": "light"
     },
     "output_type": "display_data"
    }
   ],
   "source": [
    "data['airports_nearest'].hist(bins=50, range=(5000, 85000), figsize=(20,10))\\\n",
    "    .set(title = 'Гистограмма расстояний до аэропорта', xlabel = 'км', ylabel = 'Кол-во квартир')"
   ]
  },
  {
   "cell_type": "markdown",
   "metadata": {},
   "source": [
    "Наибольшее количество предложений от 10 до 55 км. Это распределение характерно, так как аэропорт расположен в удалении от города. Кроме того, наблюдаем пики, которые показывают распределение предложений по районам."
   ]
  },
  {
   "cell_type": "markdown",
   "metadata": {},
   "source": [
    "**Построим гистограмму для расстояния до ближайшего парка:**"
   ]
  },
  {
   "cell_type": "code",
   "execution_count": 45,
   "metadata": {},
   "outputs": [
    {
     "data": {
      "text/plain": [
       "[Text(0.5, 1.0, 'Гистограмма расстояний до парка'),\n",
       " Text(0.5, 0, 'км'),\n",
       " Text(0, 0.5, 'Кол-во квартир')]"
      ]
     },
     "execution_count": 45,
     "metadata": {},
     "output_type": "execute_result"
    },
    {
     "data": {
      "image/png": "[encoded data removed]",
      "text/plain": [
       "<Figure size 1440x720 with 1 Axes>"
      ]
     },
     "metadata": {
      "needs_background": "light"
     },
     "output_type": "display_data"
    }
   ],
   "source": [
    "data['parks_nearest'].hist(bins=50, range=(0, 1500), figsize=(20,10))\\\n",
    "    .set(title = 'Гистограмма расстояний до парка', xlabel = 'км', ylabel = 'Кол-во квартир')"
   ]
  },
  {
   "cell_type": "markdown",
   "metadata": {},
   "source": [
    "\n",
    "\n",
    "Процент пропусков в колонке parks_nearest:"
   ]
  },
  {
   "cell_type": "code",
   "execution_count": 46,
   "metadata": {},
   "outputs": [
    {
     "data": {
      "text/plain": [
       "0.634893205225686"
      ]
     },
     "execution_count": 46,
     "metadata": {},
     "output_type": "execute_result"
    }
   ],
   "source": [
    "data['parks_nearest'].isna().mean()"
   ]
  },
  {
   "cell_type": "markdown",
   "metadata": {},
   "source": [
    "\n",
    "    \n",
    "У большинства предложений, где указаны данные в колонке parks_nearest парки находятся в непосредственной близости (до 800 метров), таких объявлений 37%. Предложений, где не указали расстояние до парка 63%. Это говорит о том, что наличие парка является преимуществом и при публикации объявления эту графу заполняют, если парка поблизости нет - эту графу не заполняют. "
   ]
  },
  {
   "cell_type": "markdown",
   "metadata": {},
   "source": [
    "**Построим гистограмму для дня публикации объявления:**"
   ]
  },
  {
   "cell_type": "code",
   "execution_count": 47,
   "metadata": {},
   "outputs": [
    {
     "data": {
      "text/plain": [
       "[Text(0.5, 1.0, 'Гистограмма дней недели'),\n",
       " Text(0.5, 0, 'День недели'),\n",
       " Text(0, 0.5, 'Кол-во квартир')]"
      ]
     },
     "execution_count": 47,
     "metadata": {},
     "output_type": "execute_result"
    },
    {
     "data": {
      "image/png": "[encoded data removed]",
      "text/plain": [
       "<Figure size 1440x720 with 1 Axes>"
      ]
     },
     "metadata": {
      "needs_background": "light"
     },
     "output_type": "display_data"
    }
   ],
   "source": [
    "data['dayofweek_exposition'].hist(bins=30, range=(0, 6), figsize=(20,10))\\\n",
    "    .set(title = 'Гистограмма дней недели', xlabel = 'День недели', ylabel = 'Кол-во квартир')"
   ]
  },
  {
   "cell_type": "markdown",
   "metadata": {},
   "source": [
    "В основном обявления размещают в будние дни, в субботу и воскресенье заметен спад."
   ]
  },
  {
   "cell_type": "markdown",
   "metadata": {},
   "source": [
    "**Построим гистограмму для месяца публикации объявления:**"
   ]
  },
  {
   "cell_type": "code",
   "execution_count": 48,
   "metadata": {},
   "outputs": [
    {
     "data": {
      "text/plain": [
       "[Text(0.5, 1.0, 'Гистограмма мецецов публикации'),\n",
       " Text(0.5, 0, 'Месяц'),\n",
       " Text(0, 0.5, 'Кол-во квартир')]"
      ]
     },
     "execution_count": 48,
     "metadata": {},
     "output_type": "execute_result"
    },
    {
     "data": {
      "image/png": "[encoded data removed]",
      "text/plain": [
       "<Figure size 1440x720 with 1 Axes>"
      ]
     },
     "metadata": {
      "needs_background": "light"
     },
     "output_type": "display_data"
    }
   ],
   "source": [
    "data['month_exposition'].hist(bins=24, range=(1, 12), figsize=(20,10))\\\n",
    "    .set(title = 'Гистограмма мецецов публикации', xlabel = 'Месяц', ylabel = 'Кол-во квартир')"
   ]
  },
  {
   "cell_type": "markdown",
   "metadata": {},
   "source": [
    "Высоким сезоном можно считать февраль, март, апрель. Затем идет резкий спад и постепенный рост до декабря. Рождественский период (декабрь, январь) можно считать низким сезоном."
   ]
  },
  {
   "cell_type": "markdown",
   "metadata": {},
   "source": [
    "**Изучим, как быстро продавались квартиры:**"
   ]
  },
  {
   "cell_type": "markdown",
   "metadata": {},
   "source": [
    "Построим гистограмму:"
   ]
  },
  {
   "cell_type": "code",
   "execution_count": 49,
   "metadata": {},
   "outputs": [
    {
     "data": {
      "text/plain": [
       "[Text(0.5, 1.0, 'Гистограмма дней экспозиции'),\n",
       " Text(0.5, 0, 'Дни'),\n",
       " Text(0, 0.5, 'Кол-во квартир')]"
      ]
     },
     "execution_count": 49,
     "metadata": {},
     "output_type": "execute_result"
    },
    {
     "data": {
      "image/png": "[encoded data removed]",
      "text/plain": [
       "<Figure size 1440x720 with 1 Axes>"
      ]
     },
     "metadata": {
      "needs_background": "light"
     },
     "output_type": "display_data"
    }
   ],
   "source": [
    "data['days_exposition'].hist(bins=20, range=(0, 1000), figsize=(20,10))\\\n",
    "    .set(title = 'Гистограмма дней экспозиции', xlabel = 'Дни', ylabel = 'Кол-во квартир')"
   ]
  },
  {
   "cell_type": "markdown",
   "metadata": {},
   "source": [
    "Посмотрим числовой описание колонки days_exposition и построим диаграмму размаха:"
   ]
  },
  {
   "cell_type": "code",
   "execution_count": 50,
   "metadata": {},
   "outputs": [
    {
     "data": {
      "text/plain": [
       "count    12020.000000\n",
       "mean       190.320466\n",
       "std        228.575626\n",
       "min          1.000000\n",
       "25%         45.000000\n",
       "50%        103.000000\n",
       "75%        247.000000\n",
       "max       1580.000000\n",
       "Name: days_exposition, dtype: float64"
      ]
     },
     "execution_count": 50,
     "metadata": {},
     "output_type": "execute_result"
    }
   ],
   "source": [
    "data['days_exposition'].describe()"
   ]
  },
  {
   "cell_type": "code",
   "execution_count": 51,
   "metadata": {},
   "outputs": [
    {
     "data": {
      "text/plain": [
       "(0.0, 600.0)"
      ]
     },
     "execution_count": 51,
     "metadata": {},
     "output_type": "execute_result"
    },
    {
     "data": {
      "image/png": "[encoded data removed]",
      "text/plain": [
       "<Figure size 432x288 with 1 Axes>"
      ]
     },
     "metadata": {
      "needs_background": "light"
     },
     "output_type": "display_data"
    }
   ],
   "source": [
    "data.boxplot(column='days_exposition')\n",
    "plt.ylim(0, 600)"
   ]
  },
  {
   "cell_type": "markdown",
   "metadata": {},
   "source": [
    "Медианное значение количества дней объявления на сайте - 103 дня, среднее значение - 191 день. Стандартное отклонение - 229 дней. Минимальное значение - 1 день. Максимальное - 1580 дней.\n",
    "\n",
    "Выбросами можно считать объявления, которые \"провисели\" на сайте больше 550 дней.\n",
    "\n",
    "Таким образом продажа квартиры обычно занимает 103 дня. 25% квартир продаются от 0 до 45 дней, будем считать эти продажи быстрыми. 75% квартир продаются до 248 дней. Объявления которые \"висят\" от 248 до 550 дней, будем считать медленными продажами."
   ]
  },
  {
   "cell_type": "markdown",
   "metadata": {},
   "source": [
    "**Изучим, зависит ли цена от общей площади:**"
   ]
  },
  {
   "cell_type": "code",
   "execution_count": 52,
   "metadata": {},
   "outputs": [
    {
     "data": {
      "text/plain": [
       "<AxesSubplot:xlabel='total_area', ylabel='last_price'>"
      ]
     },
     "execution_count": 52,
     "metadata": {},
     "output_type": "execute_result"
    },
    {
     "data": {
      "image/png": "[encoded data removed]",
      "text/plain": [
       "<Figure size 432x288 with 1 Axes>"
      ]
     },
     "metadata": {
      "needs_background": "light"
     },
     "output_type": "display_data"
    }
   ],
   "source": [
    "data.plot(x='total_area', y='last_price', kind='scatter', alpha=0.2)"
   ]
  },
  {
   "cell_type": "code",
   "execution_count": 53,
   "metadata": {},
   "outputs": [
    {
     "data": {
      "text/plain": [
       "0.7128344996480354"
      ]
     },
     "execution_count": 53,
     "metadata": {},
     "output_type": "execute_result"
    }
   ],
   "source": [
    "data['total_area'].corr(data['last_price'])"
   ]
  },
  {
   "cell_type": "markdown",
   "metadata": {},
   "source": [
    "Имеем корреляцию общей площади и цены объекта: чем больше общая площадь, тем больше цена."
   ]
  },
  {
   "cell_type": "markdown",
   "metadata": {},
   "source": [
    "**Изучим, зависит ли цена от жилой площади:**"
   ]
  },
  {
   "cell_type": "code",
   "execution_count": 54,
   "metadata": {},
   "outputs": [
    {
     "data": {
      "text/plain": [
       "<AxesSubplot:xlabel='living_area', ylabel='last_price'>"
      ]
     },
     "execution_count": 54,
     "metadata": {},
     "output_type": "execute_result"
    },
    {
     "data": {
      "image/png": "[encoded data removed]",
      "text/plain": [
       "<Figure size 432x288 with 1 Axes>"
      ]
     },
     "metadata": {
      "needs_background": "light"
     },
     "output_type": "display_data"
    }
   ],
   "source": [
    "data.plot(x='living_area', y='last_price', kind='scatter', alpha=0.2)"
   ]
  },
  {
   "cell_type": "code",
   "execution_count": 55,
   "metadata": {},
   "outputs": [
    {
     "data": {
      "text/plain": [
       "0.6153240546892089"
      ]
     },
     "execution_count": 55,
     "metadata": {},
     "output_type": "execute_result"
    }
   ],
   "source": [
    "data['living_area'].corr(data['last_price'])"
   ]
  },
  {
   "cell_type": "markdown",
   "metadata": {},
   "source": [
    "Имеем корреляцию жилой площади и цены объекта: чем больше жилая площадь, тем больше цена."
   ]
  },
  {
   "cell_type": "markdown",
   "metadata": {},
   "source": [
    "**Изучим, зависит ли цена от площади кухни:**"
   ]
  },
  {
   "cell_type": "code",
   "execution_count": 56,
   "metadata": {},
   "outputs": [
    {
     "data": {
      "text/plain": [
       "<AxesSubplot:xlabel='kitchen_area', ylabel='last_price'>"
      ]
     },
     "execution_count": 56,
     "metadata": {},
     "output_type": "execute_result"
    },
    {
     "data": {
      "image/png": "[encoded data removed]",
      "text/plain": [
       "<Figure size 432x288 with 1 Axes>"
      ]
     },
     "metadata": {
      "needs_background": "light"
     },
     "output_type": "display_data"
    }
   ],
   "source": [
    "data.plot(x='kitchen_area', y='last_price', kind='scatter', alpha=0.2)"
   ]
  },
  {
   "cell_type": "code",
   "execution_count": 57,
   "metadata": {},
   "outputs": [
    {
     "data": {
      "text/plain": [
       "0.5360760733268474"
      ]
     },
     "execution_count": 57,
     "metadata": {},
     "output_type": "execute_result"
    }
   ],
   "source": [
    "data['kitchen_area'].corr(data['last_price'])"
   ]
  },
  {
   "cell_type": "markdown",
   "metadata": {},
   "source": [
    "Имеем корреляцию площади кухни и цены объекта: чем больше площадь кухни, тем больше цена объекта. \n",
    "Однако корреляция уже не такая явная. Увеличение площади кухни увеличивает цену объекта не так сильно."
   ]
  },
  {
   "cell_type": "markdown",
   "metadata": {},
   "source": [
    "**Изучим, зависит ли цена от количества комнат:**"
   ]
  },
  {
   "cell_type": "code",
   "execution_count": 58,
   "metadata": {},
   "outputs": [
    {
     "data": {
      "text/plain": [
       "<AxesSubplot:xlabel='rooms', ylabel='last_price'>"
      ]
     },
     "execution_count": 58,
     "metadata": {},
     "output_type": "execute_result"
    },
    {
     "data": {
      "image/png": "[encoded data removed]",
      "text/plain": [
       "<Figure size 432x288 with 1 Axes>"
      ]
     },
     "metadata": {
      "needs_background": "light"
     },
     "output_type": "display_data"
    }
   ],
   "source": [
    "data.plot(x='rooms', y='last_price', kind='scatter', alpha=0.2)"
   ]
  },
  {
   "cell_type": "code",
   "execution_count": 59,
   "metadata": {},
   "outputs": [
    {
     "data": {
      "text/plain": [
       "0.4013492806667695"
      ]
     },
     "execution_count": 59,
     "metadata": {},
     "output_type": "execute_result"
    }
   ],
   "source": [
    "data['rooms'].corr(data['last_price'])"
   ]
  },
  {
   "cell_type": "markdown",
   "metadata": {},
   "source": [
    "Имеем корреляцию количества комнат и цены объекта: чем больше количества комнат, тем больше цена объекта. \n",
    "Кроме того, наблюдаем, что корреляция проявляется сильнее до пяти комнат, дальнейшее увеличение комнат не влияет на цену. \n",
    "Предположительно объекты с количеством комнат восемь и более являются загородными, на цену которых влияет удаление от города."
   ]
  },
  {
   "cell_type": "markdown",
   "metadata": {},
   "source": [
    "**Изучим, зависит ли цена от этажа, на котором расположена квартира (первый, последний, другой):**"
   ]
  },
  {
   "cell_type": "code",
   "execution_count": 60,
   "metadata": {},
   "outputs": [
    {
     "data": {
      "text/html": [
       "<div>\n",
       "<style scoped>\n",
       "    .dataframe tbody tr th:only-of-type {\n",
       "        vertical-align: middle;\n",
       "    }\n",
       "\n",
       "    .dataframe tbody tr th {\n",
       "        vertical-align: top;\n",
       "    }\n",
       "\n",
       "    .dataframe thead th {\n",
       "        text-align: right;\n",
       "    }\n",
       "</style>\n",
       "<table border=\"1\" class=\"dataframe\">\n",
       "  <thead>\n",
       "    <tr style=\"text-align: right;\">\n",
       "      <th></th>\n",
       "      <th>last_price</th>\n",
       "    </tr>\n",
       "    <tr>\n",
       "      <th>floor_type</th>\n",
       "      <th></th>\n",
       "    </tr>\n",
       "  </thead>\n",
       "  <tbody>\n",
       "    <tr>\n",
       "      <th>первый</th>\n",
       "      <td>4060000.0</td>\n",
       "    </tr>\n",
       "    <tr>\n",
       "      <th>последний</th>\n",
       "      <td>4500000.0</td>\n",
       "    </tr>\n",
       "    <tr>\n",
       "      <th>другой</th>\n",
       "      <td>5000000.0</td>\n",
       "    </tr>\n",
       "  </tbody>\n",
       "</table>\n",
       "</div>"
      ],
      "text/plain": [
       "            last_price\n",
       "floor_type            \n",
       "первый       4060000.0\n",
       "последний    4500000.0\n",
       "другой       5000000.0"
      ]
     },
     "execution_count": 60,
     "metadata": {},
     "output_type": "execute_result"
    }
   ],
   "source": [
    "data.pivot_table(index='floor_type', values='last_price', aggfunc='median').sort_values(by='last_price')"
   ]
  },
  {
   "cell_type": "code",
   "execution_count": 61,
   "metadata": {},
   "outputs": [
    {
     "data": {
      "text/plain": [
       "<AxesSubplot:xlabel='floor_type', ylabel='last_price'>"
      ]
     },
     "execution_count": 61,
     "metadata": {},
     "output_type": "execute_result"
    },
    {
     "data": {
      "image/png": "[encoded data removed]",
      "text/plain": [
       "<Figure size 432x288 with 1 Axes>"
      ]
     },
     "metadata": {
      "needs_background": "light"
     },
     "output_type": "display_data"
    }
   ],
   "source": [
    "data.plot(x='floor_type', y='last_price', kind='scatter', alpha=0.2)"
   ]
  },
  {
   "cell_type": "markdown",
   "metadata": {},
   "source": [
    "Имеем небольшую корреляцию: цены на средние этажи выше всех, дешевле в последних этажах и самые дешевые на первых."
   ]
  },
  {
   "cell_type": "markdown",
   "metadata": {},
   "source": [
    "**Изучим, зависит ли цена от деня недели:**"
   ]
  },
  {
   "cell_type": "code",
   "execution_count": 62,
   "metadata": {},
   "outputs": [
    {
     "data": {
      "text/html": [
       "<div>\n",
       "<style scoped>\n",
       "    .dataframe tbody tr th:only-of-type {\n",
       "        vertical-align: middle;\n",
       "    }\n",
       "\n",
       "    .dataframe tbody tr th {\n",
       "        vertical-align: top;\n",
       "    }\n",
       "\n",
       "    .dataframe thead th {\n",
       "        text-align: right;\n",
       "    }\n",
       "</style>\n",
       "<table border=\"1\" class=\"dataframe\">\n",
       "  <thead>\n",
       "    <tr style=\"text-align: right;\">\n",
       "      <th></th>\n",
       "      <th>dayofweek_exposition</th>\n",
       "      <th>last_price</th>\n",
       "    </tr>\n",
       "  </thead>\n",
       "  <tbody>\n",
       "    <tr>\n",
       "      <th>0</th>\n",
       "      <td>0</td>\n",
       "      <td>4900000.0</td>\n",
       "    </tr>\n",
       "    <tr>\n",
       "      <th>1</th>\n",
       "      <td>1</td>\n",
       "      <td>5000000.0</td>\n",
       "    </tr>\n",
       "    <tr>\n",
       "      <th>2</th>\n",
       "      <td>2</td>\n",
       "      <td>4859000.0</td>\n",
       "    </tr>\n",
       "    <tr>\n",
       "      <th>3</th>\n",
       "      <td>3</td>\n",
       "      <td>4887500.0</td>\n",
       "    </tr>\n",
       "    <tr>\n",
       "      <th>4</th>\n",
       "      <td>4</td>\n",
       "      <td>4750000.0</td>\n",
       "    </tr>\n",
       "    <tr>\n",
       "      <th>5</th>\n",
       "      <td>5</td>\n",
       "      <td>4695000.0</td>\n",
       "    </tr>\n",
       "    <tr>\n",
       "      <th>6</th>\n",
       "      <td>6</td>\n",
       "      <td>4700000.0</td>\n",
       "    </tr>\n",
       "  </tbody>\n",
       "</table>\n",
       "</div>"
      ],
      "text/plain": [
       "   dayofweek_exposition  last_price\n",
       "0                     0   4900000.0\n",
       "1                     1   5000000.0\n",
       "2                     2   4859000.0\n",
       "3                     3   4887500.0\n",
       "4                     4   4750000.0\n",
       "5                     5   4695000.0\n",
       "6                     6   4700000.0"
      ]
     },
     "execution_count": 62,
     "metadata": {},
     "output_type": "execute_result"
    }
   ],
   "source": [
    "day_price = data.pivot_table(index='dayofweek_exposition', values='last_price', aggfunc='median').reset_index()\n",
    "day_price"
   ]
  },
  {
   "cell_type": "code",
   "execution_count": 63,
   "metadata": {},
   "outputs": [
    {
     "data": {
      "text/plain": [
       "<AxesSubplot:xlabel='dayofweek_exposition'>"
      ]
     },
     "execution_count": 63,
     "metadata": {},
     "output_type": "execute_result"
    },
    {
     "data": {
      "image/png": "[encoded data removed]",
      "text/plain": [
       "<Figure size 432x288 with 1 Axes>"
      ]
     },
     "metadata": {
      "needs_background": "light"
     },
     "output_type": "display_data"
    }
   ],
   "source": [
    "day_price.plot(x='dayofweek_exposition', y='last_price')"
   ]
  },
  {
   "cell_type": "markdown",
   "metadata": {},
   "source": [
    "Наблюдаем, что объявления выставленные в пятницу, субботу и в воскресенье имеют ниже сцену, чем объявления выставленные посреди недели."
   ]
  },
  {
   "cell_type": "markdown",
   "metadata": {},
   "source": [
    "**Изучим, зависит ли цена от месяца:**"
   ]
  },
  {
   "cell_type": "code",
   "execution_count": 64,
   "metadata": {},
   "outputs": [
    {
     "data": {
      "text/html": [
       "<div>\n",
       "<style scoped>\n",
       "    .dataframe tbody tr th:only-of-type {\n",
       "        vertical-align: middle;\n",
       "    }\n",
       "\n",
       "    .dataframe tbody tr th {\n",
       "        vertical-align: top;\n",
       "    }\n",
       "\n",
       "    .dataframe thead th {\n",
       "        text-align: right;\n",
       "    }\n",
       "</style>\n",
       "<table border=\"1\" class=\"dataframe\">\n",
       "  <thead>\n",
       "    <tr style=\"text-align: right;\">\n",
       "      <th></th>\n",
       "      <th>month_exposition</th>\n",
       "      <th>last_price</th>\n",
       "    </tr>\n",
       "  </thead>\n",
       "  <tbody>\n",
       "    <tr>\n",
       "      <th>0</th>\n",
       "      <td>1</td>\n",
       "      <td>4900000.0</td>\n",
       "    </tr>\n",
       "    <tr>\n",
       "      <th>1</th>\n",
       "      <td>2</td>\n",
       "      <td>4900000.0</td>\n",
       "    </tr>\n",
       "    <tr>\n",
       "      <th>2</th>\n",
       "      <td>3</td>\n",
       "      <td>4700000.0</td>\n",
       "    </tr>\n",
       "    <tr>\n",
       "      <th>3</th>\n",
       "      <td>4</td>\n",
       "      <td>5000000.0</td>\n",
       "    </tr>\n",
       "    <tr>\n",
       "      <th>4</th>\n",
       "      <td>5</td>\n",
       "      <td>4800000.0</td>\n",
       "    </tr>\n",
       "    <tr>\n",
       "      <th>5</th>\n",
       "      <td>6</td>\n",
       "      <td>4600000.0</td>\n",
       "    </tr>\n",
       "    <tr>\n",
       "      <th>6</th>\n",
       "      <td>7</td>\n",
       "      <td>4950000.0</td>\n",
       "    </tr>\n",
       "    <tr>\n",
       "      <th>7</th>\n",
       "      <td>8</td>\n",
       "      <td>4900000.0</td>\n",
       "    </tr>\n",
       "    <tr>\n",
       "      <th>8</th>\n",
       "      <td>9</td>\n",
       "      <td>4855000.0</td>\n",
       "    </tr>\n",
       "    <tr>\n",
       "      <th>9</th>\n",
       "      <td>10</td>\n",
       "      <td>4763000.0</td>\n",
       "    </tr>\n",
       "    <tr>\n",
       "      <th>10</th>\n",
       "      <td>11</td>\n",
       "      <td>4880000.0</td>\n",
       "    </tr>\n",
       "    <tr>\n",
       "      <th>11</th>\n",
       "      <td>12</td>\n",
       "      <td>4950000.0</td>\n",
       "    </tr>\n",
       "  </tbody>\n",
       "</table>\n",
       "</div>"
      ],
      "text/plain": [
       "    month_exposition  last_price\n",
       "0                  1   4900000.0\n",
       "1                  2   4900000.0\n",
       "2                  3   4700000.0\n",
       "3                  4   5000000.0\n",
       "4                  5   4800000.0\n",
       "5                  6   4600000.0\n",
       "6                  7   4950000.0\n",
       "7                  8   4900000.0\n",
       "8                  9   4855000.0\n",
       "9                 10   4763000.0\n",
       "10                11   4880000.0\n",
       "11                12   4950000.0"
      ]
     },
     "execution_count": 64,
     "metadata": {},
     "output_type": "execute_result"
    }
   ],
   "source": [
    "month_price = data.pivot_table(index='month_exposition', values='last_price', aggfunc='median').reset_index()\n",
    "month_price"
   ]
  },
  {
   "cell_type": "code",
   "execution_count": 65,
   "metadata": {},
   "outputs": [
    {
     "data": {
      "text/plain": [
       "(4000000.0, 6000000.0)"
      ]
     },
     "execution_count": 65,
     "metadata": {},
     "output_type": "execute_result"
    },
    {
     "data": {
      "image/png": "[encoded data removed]",
      "text/plain": [
       "<Figure size 432x288 with 1 Axes>"
      ]
     },
     "metadata": {
      "needs_background": "light"
     },
     "output_type": "display_data"
    }
   ],
   "source": [
    "month_price.plot(x='month_exposition', y='last_price')\n",
    "plt.ylim(4000000, 6000000)"
   ]
  },
  {
   "cell_type": "markdown",
   "metadata": {},
   "source": [
    "Какой либо очевидной корреляции между месяцем и ценой не наблюдаем."
   ]
  },
  {
   "cell_type": "markdown",
   "metadata": {},
   "source": [
    "**Изучим, зависит ли цена от года:**"
   ]
  },
  {
   "cell_type": "code",
   "execution_count": 66,
   "metadata": {},
   "outputs": [
    {
     "data": {
      "text/html": [
       "<div>\n",
       "<style scoped>\n",
       "    .dataframe tbody tr th:only-of-type {\n",
       "        vertical-align: middle;\n",
       "    }\n",
       "\n",
       "    .dataframe tbody tr th {\n",
       "        vertical-align: top;\n",
       "    }\n",
       "\n",
       "    .dataframe thead th {\n",
       "        text-align: right;\n",
       "    }\n",
       "</style>\n",
       "<table border=\"1\" class=\"dataframe\">\n",
       "  <thead>\n",
       "    <tr style=\"text-align: right;\">\n",
       "      <th></th>\n",
       "      <th>year_exposition</th>\n",
       "      <th>last_price</th>\n",
       "    </tr>\n",
       "  </thead>\n",
       "  <tbody>\n",
       "    <tr>\n",
       "      <th>0</th>\n",
       "      <td>2014</td>\n",
       "      <td>7700000.0</td>\n",
       "    </tr>\n",
       "    <tr>\n",
       "      <th>1</th>\n",
       "      <td>2015</td>\n",
       "      <td>5600000.0</td>\n",
       "    </tr>\n",
       "    <tr>\n",
       "      <th>2</th>\n",
       "      <td>2016</td>\n",
       "      <td>4850000.0</td>\n",
       "    </tr>\n",
       "    <tr>\n",
       "      <th>3</th>\n",
       "      <td>2017</td>\n",
       "      <td>4700000.0</td>\n",
       "    </tr>\n",
       "    <tr>\n",
       "      <th>4</th>\n",
       "      <td>2018</td>\n",
       "      <td>4700000.0</td>\n",
       "    </tr>\n",
       "    <tr>\n",
       "      <th>5</th>\n",
       "      <td>2019</td>\n",
       "      <td>5200000.0</td>\n",
       "    </tr>\n",
       "  </tbody>\n",
       "</table>\n",
       "</div>"
      ],
      "text/plain": [
       "   year_exposition  last_price\n",
       "0             2014   7700000.0\n",
       "1             2015   5600000.0\n",
       "2             2016   4850000.0\n",
       "3             2017   4700000.0\n",
       "4             2018   4700000.0\n",
       "5             2019   5200000.0"
      ]
     },
     "execution_count": 66,
     "metadata": {},
     "output_type": "execute_result"
    }
   ],
   "source": [
    "year_price = data.pivot_table(index='year_exposition', values='last_price', aggfunc='median').reset_index()\n",
    "year_price"
   ]
  },
  {
   "cell_type": "code",
   "execution_count": 67,
   "metadata": {},
   "outputs": [
    {
     "data": {
      "text/plain": [
       "<AxesSubplot:xlabel='year_exposition'>"
      ]
     },
     "execution_count": 67,
     "metadata": {},
     "output_type": "execute_result"
    },
    {
     "data": {
      "image/png": "[encoded data removed]",
      "text/plain": [
       "<Figure size 432x288 with 1 Axes>"
      ]
     },
     "metadata": {
      "needs_background": "light"
     },
     "output_type": "display_data"
    }
   ],
   "source": [
    "year_price.plot(x='year_exposition', y='last_price')"
   ]
  },
  {
   "cell_type": "code",
   "execution_count": 68,
   "metadata": {},
   "outputs": [
    {
     "data": {
      "text/plain": [
       "-0.7124171612304219"
      ]
     },
     "execution_count": 68,
     "metadata": {},
     "output_type": "execute_result"
    }
   ],
   "source": [
    "year_price['year_exposition'].corr(year_price['last_price'])"
   ]
  },
  {
   "cell_type": "markdown",
   "metadata": {},
   "source": [
    "Отмечаем отрицательную корреляцию. Однако на графике видим, что цена снижалась от 2014 года до 2018 года. \n",
    "В 2019 году наблюдаем рост медианной цены посравнению с 2018 годом."
   ]
  },
  {
   "cell_type": "markdown",
   "metadata": {},
   "source": [
    "**Посчитаем среднюю цену одного квадратного метра в 10 населённых пунктах с наибольшим числом объявлений:**"
   ]
  },
  {
   "cell_type": "code",
   "execution_count": 69,
   "metadata": {},
   "outputs": [
    {
     "data": {
      "text/html": [
       "<div>\n",
       "<style scoped>\n",
       "    .dataframe tbody tr th:only-of-type {\n",
       "        vertical-align: middle;\n",
       "    }\n",
       "\n",
       "    .dataframe tbody tr th {\n",
       "        vertical-align: top;\n",
       "    }\n",
       "\n",
       "    .dataframe thead th {\n",
       "        text-align: right;\n",
       "    }\n",
       "</style>\n",
       "<table border=\"1\" class=\"dataframe\">\n",
       "  <thead>\n",
       "    <tr style=\"text-align: right;\">\n",
       "      <th></th>\n",
       "      <th>locality_name</th>\n",
       "      <th>mean_price</th>\n",
       "    </tr>\n",
       "  </thead>\n",
       "  <tbody>\n",
       "    <tr>\n",
       "      <th>0</th>\n",
       "      <td>Санкт-Петербург</td>\n",
       "      <td>115709.483948</td>\n",
       "    </tr>\n",
       "    <tr>\n",
       "      <th>1</th>\n",
       "      <td>Пушкин</td>\n",
       "      <td>103920.474359</td>\n",
       "    </tr>\n",
       "    <tr>\n",
       "      <th>2</th>\n",
       "      <td>Кудрово</td>\n",
       "      <td>96105.432990</td>\n",
       "    </tr>\n",
       "    <tr>\n",
       "      <th>3</th>\n",
       "      <td>Парголово</td>\n",
       "      <td>90901.321168</td>\n",
       "    </tr>\n",
       "    <tr>\n",
       "      <th>4</th>\n",
       "      <td>Мурино</td>\n",
       "      <td>87816.903509</td>\n",
       "    </tr>\n",
       "    <tr>\n",
       "      <th>5</th>\n",
       "      <td>Петергоф</td>\n",
       "      <td>85554.131034</td>\n",
       "    </tr>\n",
       "    <tr>\n",
       "      <th>6</th>\n",
       "      <td>Шушары</td>\n",
       "      <td>79286.476852</td>\n",
       "    </tr>\n",
       "    <tr>\n",
       "      <th>7</th>\n",
       "      <td>Колпино</td>\n",
       "      <td>75938.527094</td>\n",
       "    </tr>\n",
       "    <tr>\n",
       "      <th>8</th>\n",
       "      <td>Гатчина</td>\n",
       "      <td>69992.644295</td>\n",
       "    </tr>\n",
       "    <tr>\n",
       "      <th>9</th>\n",
       "      <td>Всеволожск</td>\n",
       "      <td>67434.612546</td>\n",
       "    </tr>\n",
       "  </tbody>\n",
       "</table>\n",
       "</div>"
      ],
      "text/plain": [
       "     locality_name     mean_price\n",
       "0  Санкт-Петербург  115709.483948\n",
       "1           Пушкин  103920.474359\n",
       "2          Кудрово   96105.432990\n",
       "3        Парголово   90901.321168\n",
       "4           Мурино   87816.903509\n",
       "5         Петергоф   85554.131034\n",
       "6           Шушары   79286.476852\n",
       "7          Колпино   75938.527094\n",
       "8          Гатчина   69992.644295\n",
       "9       Всеволожск   67434.612546"
      ]
     },
     "execution_count": 69,
     "metadata": {},
     "output_type": "execute_result"
    }
   ],
   "source": [
    "data_price = data.pivot_table(index='locality_name', values='price_area', aggfunc=['count', 'mean']).reset_index() \n",
    "# составили сводную таблицу\n",
    "data_price.columns = ['locality_name', 'count', 'mean_price'] \n",
    "# переименовали колонки в сводной таблице\n",
    "data_price10 = data_price.sort_values(by='count', ascending=False).head(10) \n",
    "# отсортировали по количеству объявлений, оставили первые 10\n",
    "data_price10 = data_price10.sort_values(by='mean_price', ascending=False).reset_index().loc[:, ['locality_name', 'mean_price']] \n",
    "# отсортировали по средней цене, сбросили индексы, оставили только названия и медианную цену за кв. метр\n",
    "data_price10"
   ]
  },
  {
   "cell_type": "markdown",
   "metadata": {},
   "source": [
    "На основании полученной таблицы видим, что самая большая стоимость за квадратный метр в г. Санк-Петербург, самая дешевая - г. Всеволожск."
   ]
  },
  {
   "cell_type": "markdown",
   "metadata": {},
   "source": [
    "**Вычислим среднюю цену каждого километра до центра в г. Санкт-Петербург:**"
   ]
  },
  {
   "cell_type": "code",
   "execution_count": 70,
   "metadata": {},
   "outputs": [
    {
     "data": {
      "text/html": [
       "<div>\n",
       "<style scoped>\n",
       "    .dataframe tbody tr th:only-of-type {\n",
       "        vertical-align: middle;\n",
       "    }\n",
       "\n",
       "    .dataframe tbody tr th {\n",
       "        vertical-align: top;\n",
       "    }\n",
       "\n",
       "    .dataframe thead th {\n",
       "        text-align: right;\n",
       "    }\n",
       "</style>\n",
       "<table border=\"1\" class=\"dataframe\">\n",
       "  <thead>\n",
       "    <tr style=\"text-align: right;\">\n",
       "      <th></th>\n",
       "      <th>cityCenters_km</th>\n",
       "      <th>last_price</th>\n",
       "    </tr>\n",
       "  </thead>\n",
       "  <tbody>\n",
       "    <tr>\n",
       "      <th>0</th>\n",
       "      <td>0.0</td>\n",
       "      <td>2.282661e+07</td>\n",
       "    </tr>\n",
       "    <tr>\n",
       "      <th>1</th>\n",
       "      <td>1.0</td>\n",
       "      <td>2.197475e+07</td>\n",
       "    </tr>\n",
       "    <tr>\n",
       "      <th>2</th>\n",
       "      <td>2.0</td>\n",
       "      <td>1.751369e+07</td>\n",
       "    </tr>\n",
       "    <tr>\n",
       "      <th>3</th>\n",
       "      <td>3.0</td>\n",
       "      <td>1.123424e+07</td>\n",
       "    </tr>\n",
       "    <tr>\n",
       "      <th>4</th>\n",
       "      <td>4.0</td>\n",
       "      <td>1.281705e+07</td>\n",
       "    </tr>\n",
       "    <tr>\n",
       "      <th>5</th>\n",
       "      <td>5.0</td>\n",
       "      <td>1.453073e+07</td>\n",
       "    </tr>\n",
       "    <tr>\n",
       "      <th>6</th>\n",
       "      <td>6.0</td>\n",
       "      <td>1.596060e+07</td>\n",
       "    </tr>\n",
       "    <tr>\n",
       "      <th>7</th>\n",
       "      <td>7.0</td>\n",
       "      <td>1.494863e+07</td>\n",
       "    </tr>\n",
       "    <tr>\n",
       "      <th>8</th>\n",
       "      <td>8.0</td>\n",
       "      <td>1.070387e+07</td>\n",
       "    </tr>\n",
       "    <tr>\n",
       "      <th>9</th>\n",
       "      <td>9.0</td>\n",
       "      <td>7.406132e+06</td>\n",
       "    </tr>\n",
       "    <tr>\n",
       "      <th>10</th>\n",
       "      <td>10.0</td>\n",
       "      <td>6.879417e+06</td>\n",
       "    </tr>\n",
       "    <tr>\n",
       "      <th>11</th>\n",
       "      <td>11.0</td>\n",
       "      <td>6.364428e+06</td>\n",
       "    </tr>\n",
       "    <tr>\n",
       "      <th>12</th>\n",
       "      <td>12.0</td>\n",
       "      <td>5.990048e+06</td>\n",
       "    </tr>\n",
       "    <tr>\n",
       "      <th>13</th>\n",
       "      <td>13.0</td>\n",
       "      <td>6.195801e+06</td>\n",
       "    </tr>\n",
       "    <tr>\n",
       "      <th>14</th>\n",
       "      <td>14.0</td>\n",
       "      <td>5.632615e+06</td>\n",
       "    </tr>\n",
       "    <tr>\n",
       "      <th>15</th>\n",
       "      <td>15.0</td>\n",
       "      <td>5.960063e+06</td>\n",
       "    </tr>\n",
       "    <tr>\n",
       "      <th>16</th>\n",
       "      <td>16.0</td>\n",
       "      <td>5.426578e+06</td>\n",
       "    </tr>\n",
       "    <tr>\n",
       "      <th>17</th>\n",
       "      <td>17.0</td>\n",
       "      <td>5.382512e+06</td>\n",
       "    </tr>\n",
       "    <tr>\n",
       "      <th>18</th>\n",
       "      <td>18.0</td>\n",
       "      <td>4.894926e+06</td>\n",
       "    </tr>\n",
       "    <tr>\n",
       "      <th>19</th>\n",
       "      <td>19.0</td>\n",
       "      <td>4.987383e+06</td>\n",
       "    </tr>\n",
       "    <tr>\n",
       "      <th>20</th>\n",
       "      <td>20.0</td>\n",
       "      <td>5.456400e+06</td>\n",
       "    </tr>\n",
       "    <tr>\n",
       "      <th>21</th>\n",
       "      <td>21.0</td>\n",
       "      <td>5.809508e+06</td>\n",
       "    </tr>\n",
       "    <tr>\n",
       "      <th>22</th>\n",
       "      <td>22.0</td>\n",
       "      <td>5.464979e+06</td>\n",
       "    </tr>\n",
       "    <tr>\n",
       "      <th>23</th>\n",
       "      <td>23.0</td>\n",
       "      <td>5.138915e+06</td>\n",
       "    </tr>\n",
       "    <tr>\n",
       "      <th>24</th>\n",
       "      <td>24.0</td>\n",
       "      <td>4.648000e+06</td>\n",
       "    </tr>\n",
       "    <tr>\n",
       "      <th>25</th>\n",
       "      <td>25.0</td>\n",
       "      <td>4.267500e+06</td>\n",
       "    </tr>\n",
       "    <tr>\n",
       "      <th>26</th>\n",
       "      <td>26.0</td>\n",
       "      <td>4.162600e+06</td>\n",
       "    </tr>\n",
       "    <tr>\n",
       "      <th>27</th>\n",
       "      <td>27.0</td>\n",
       "      <td>1.435000e+07</td>\n",
       "    </tr>\n",
       "    <tr>\n",
       "      <th>28</th>\n",
       "      <td>28.0</td>\n",
       "      <td>7.600000e+06</td>\n",
       "    </tr>\n",
       "    <tr>\n",
       "      <th>29</th>\n",
       "      <td>29.0</td>\n",
       "      <td>4.114000e+06</td>\n",
       "    </tr>\n",
       "  </tbody>\n",
       "</table>\n",
       "</div>"
      ],
      "text/plain": [
       "    cityCenters_km    last_price\n",
       "0              0.0  2.282661e+07\n",
       "1              1.0  2.197475e+07\n",
       "2              2.0  1.751369e+07\n",
       "3              3.0  1.123424e+07\n",
       "4              4.0  1.281705e+07\n",
       "5              5.0  1.453073e+07\n",
       "6              6.0  1.596060e+07\n",
       "7              7.0  1.494863e+07\n",
       "8              8.0  1.070387e+07\n",
       "9              9.0  7.406132e+06\n",
       "10            10.0  6.879417e+06\n",
       "11            11.0  6.364428e+06\n",
       "12            12.0  5.990048e+06\n",
       "13            13.0  6.195801e+06\n",
       "14            14.0  5.632615e+06\n",
       "15            15.0  5.960063e+06\n",
       "16            16.0  5.426578e+06\n",
       "17            17.0  5.382512e+06\n",
       "18            18.0  4.894926e+06\n",
       "19            19.0  4.987383e+06\n",
       "20            20.0  5.456400e+06\n",
       "21            21.0  5.809508e+06\n",
       "22            22.0  5.464979e+06\n",
       "23            23.0  5.138915e+06\n",
       "24            24.0  4.648000e+06\n",
       "25            25.0  4.267500e+06\n",
       "26            26.0  4.162600e+06\n",
       "27            27.0  1.435000e+07\n",
       "28            28.0  7.600000e+06\n",
       "29            29.0  4.114000e+06"
      ]
     },
     "execution_count": 70,
     "metadata": {},
     "output_type": "execute_result"
    }
   ],
   "source": [
    "data_SP = data[data['locality_name'] == 'Санкт-Петербург'].pivot_table(\n",
    "    index='cityCenters_km', values='last_price', aggfunc='mean'\n",
    ").reset_index()\n",
    "data_SP"
   ]
  },
  {
   "cell_type": "code",
   "execution_count": 71,
   "metadata": {},
   "outputs": [
    {
     "data": {
      "text/plain": [
       "-0.7181735400925782"
      ]
     },
     "execution_count": 71,
     "metadata": {},
     "output_type": "execute_result"
    }
   ],
   "source": [
    "data_SP['cityCenters_km'].corr(data_SP['last_price'])"
   ]
  },
  {
   "cell_type": "code",
   "execution_count": 72,
   "metadata": {},
   "outputs": [
    {
     "data": {
      "text/plain": [
       "<AxesSubplot:xlabel='cityCenters_km'>"
      ]
     },
     "execution_count": 72,
     "metadata": {},
     "output_type": "execute_result"
    },
    {
     "data": {
      "image/png": "[encoded data removed]",
      "text/plain": [
       "<Figure size 432x288 with 1 Axes>"
      ]
     },
     "metadata": {
      "needs_background": "light"
     },
     "output_type": "display_data"
    }
   ],
   "source": [
    "data_SP.plot(x='cityCenters_km', y='last_price')"
   ]
  },
  {
   "cell_type": "markdown",
   "metadata": {},
   "source": [
    "Наблюдаем отрицательную корреляцию между ценой и удалением от центра: чем дальше от центра, тем дешевле недвижимость.\n",
    "На графике видим всплески, которые можно связать с элитными районами, находящимися в отдалении от центра."
   ]
  },
  {
   "cell_type": "markdown",
   "metadata": {},
   "source": [
    "### Общий вывод"
   ]
  },
  {
   "cell_type": "markdown",
   "metadata": {},
   "source": [
    "\n",
    "    \n",
    "Выполнив проект мы выяснили, что наибольшее предложение объектов с общей площадью от 25 до 120 кв. метров, жилой площадью от 10 до 60 кв. метров. площадью кухонь от 4 до 20  кв. метров, с количеством комнат от одной до трех, с высотой потолков от 2,5 метров до 3, в пятиэтажках на среднем этаже, ценой от миллиона до пятнадцати, с расстоянием от центра от 5 до 19 км и расстоянием до аэропорта от 10 до 55 км, у 37% объектов в непосредственной близости (до 800 м) имеется парк. Больше всего размещают объявления в будние дни и в феврале, марте апреле. Половина объектов находились на продаже до 103 дней.\n",
    "\n",
    "Цена прямо зависит от площади полной, жилой и площади кухни, от количества комнат (если их количество до пяти). На средних этажах самые дорогие объекты. Дешевле всего объекты, которые публиковались в выходные дни. С 2014 год по 2018 год недвижимость дешевела, далее заметен рост. Кроме того, чем дальше объект от центра, тем дешевле недвижимость (несчитая элитных районов)."
   ]
  }
 ],
 "metadata": {
  "ExecuteTimeLog": [
   {
    "duration": 484,
    "start_time": "2022-10-13T12:12:08.676Z"
   },
   {
    "duration": 74,
    "start_time": "2022-10-13T12:12:11.837Z"
   },
   {
    "duration": 14,
    "start_time": "2022-10-13T12:12:12.352Z"
   },
   {
    "duration": 8,
    "start_time": "2022-10-13T12:12:36.734Z"
   },
   {
    "duration": 58,
    "start_time": "2022-10-13T12:15:27.332Z"
   },
   {
    "duration": 78,
    "start_time": "2022-10-13T12:16:38.836Z"
   },
   {
    "duration": 51,
    "start_time": "2022-10-13T12:16:40.033Z"
   },
   {
    "duration": 49,
    "start_time": "2022-10-13T12:20:36.072Z"
   },
   {
    "duration": 21,
    "start_time": "2022-10-13T12:21:38.017Z"
   },
   {
    "duration": 2393,
    "start_time": "2022-10-13T12:23:29.088Z"
   },
   {
    "duration": 29,
    "start_time": "2022-10-13T12:32:11.538Z"
   },
   {
    "duration": 9,
    "start_time": "2022-10-13T12:32:19.259Z"
   },
   {
    "duration": 6,
    "start_time": "2022-10-13T12:36:30.938Z"
   },
   {
    "duration": 73,
    "start_time": "2022-10-13T12:36:42.224Z"
   },
   {
    "duration": 27,
    "start_time": "2022-10-13T12:38:00.347Z"
   },
   {
    "duration": 23,
    "start_time": "2022-10-13T12:38:07.061Z"
   },
   {
    "duration": 22,
    "start_time": "2022-10-13T12:38:53.833Z"
   },
   {
    "duration": 12,
    "start_time": "2022-10-13T12:39:16.101Z"
   },
   {
    "duration": 10,
    "start_time": "2022-10-13T12:39:20.042Z"
   },
   {
    "duration": 10,
    "start_time": "2022-10-13T12:39:27.218Z"
   },
   {
    "duration": 9,
    "start_time": "2022-10-13T12:39:34.353Z"
   },
   {
    "duration": 11,
    "start_time": "2022-10-13T12:39:44.046Z"
   },
   {
    "duration": 7,
    "start_time": "2022-10-13T12:40:41.701Z"
   },
   {
    "duration": 6,
    "start_time": "2022-10-13T12:41:32.429Z"
   },
   {
    "duration": 7,
    "start_time": "2022-10-13T12:41:47.461Z"
   },
   {
    "duration": 12,
    "start_time": "2022-10-13T12:42:21.327Z"
   },
   {
    "duration": 5,
    "start_time": "2022-10-13T12:42:41.391Z"
   },
   {
    "duration": 7,
    "start_time": "2022-10-13T12:43:24.574Z"
   },
   {
    "duration": 5,
    "start_time": "2022-10-13T12:44:16.974Z"
   },
   {
    "duration": 6,
    "start_time": "2022-10-13T12:44:35.646Z"
   },
   {
    "duration": 16,
    "start_time": "2022-10-13T12:44:48.361Z"
   },
   {
    "duration": 6,
    "start_time": "2022-10-13T12:45:05.320Z"
   },
   {
    "duration": 9,
    "start_time": "2022-10-13T13:37:19.441Z"
   },
   {
    "duration": 13,
    "start_time": "2022-10-13T13:37:44.827Z"
   },
   {
    "duration": 14,
    "start_time": "2022-10-13T13:41:34.105Z"
   },
   {
    "duration": 850,
    "start_time": "2022-10-13T13:50:22.203Z"
   },
   {
    "duration": 831,
    "start_time": "2022-10-13T13:50:45.702Z"
   },
   {
    "duration": 10,
    "start_time": "2022-10-13T13:51:04.178Z"
   },
   {
    "duration": 8,
    "start_time": "2022-10-13T13:51:08.642Z"
   },
   {
    "duration": 44,
    "start_time": "2022-10-14T07:45:43.983Z"
   },
   {
    "duration": 7,
    "start_time": "2022-10-14T07:46:11.857Z"
   },
   {
    "duration": 6,
    "start_time": "2022-10-14T07:47:23.525Z"
   },
   {
    "duration": 6,
    "start_time": "2022-10-14T07:47:57.231Z"
   },
   {
    "duration": 6,
    "start_time": "2022-10-14T07:48:11.025Z"
   },
   {
    "duration": 5,
    "start_time": "2022-10-14T07:48:26.830Z"
   },
   {
    "duration": 480,
    "start_time": "2022-10-14T07:48:41.160Z"
   },
   {
    "duration": 47,
    "start_time": "2022-10-14T07:48:41.643Z"
   },
   {
    "duration": 14,
    "start_time": "2022-10-14T07:48:41.691Z"
   },
   {
    "duration": 2222,
    "start_time": "2022-10-14T07:48:41.707Z"
   },
   {
    "duration": 24,
    "start_time": "2022-10-14T07:48:43.931Z"
   },
   {
    "duration": 8,
    "start_time": "2022-10-14T07:48:43.956Z"
   },
   {
    "duration": 9,
    "start_time": "2022-10-14T07:48:43.965Z"
   },
   {
    "duration": 8,
    "start_time": "2022-10-14T07:48:43.976Z"
   },
   {
    "duration": 6,
    "start_time": "2022-10-14T07:49:21.330Z"
   },
   {
    "duration": 5,
    "start_time": "2022-10-14T07:49:36.641Z"
   },
   {
    "duration": 73,
    "start_time": "2022-10-14T07:50:01.834Z"
   },
   {
    "duration": 8,
    "start_time": "2022-10-14T07:50:16.293Z"
   },
   {
    "duration": 8,
    "start_time": "2022-10-14T07:50:35.885Z"
   },
   {
    "duration": 6,
    "start_time": "2022-10-14T07:50:46.681Z"
   },
   {
    "duration": 31,
    "start_time": "2022-10-14T07:56:08.247Z"
   },
   {
    "duration": 38,
    "start_time": "2022-10-14T07:56:47.633Z"
   },
   {
    "duration": 42,
    "start_time": "2022-10-14T07:58:12.810Z"
   },
   {
    "duration": 8,
    "start_time": "2022-10-14T07:59:36.494Z"
   },
   {
    "duration": 4,
    "start_time": "2022-10-14T08:00:12.273Z"
   },
   {
    "duration": 10,
    "start_time": "2022-10-14T08:01:09.075Z"
   },
   {
    "duration": 9,
    "start_time": "2022-10-14T08:01:09.887Z"
   },
   {
    "duration": 10,
    "start_time": "2022-10-14T08:01:22.005Z"
   },
   {
    "duration": 30,
    "start_time": "2022-10-14T08:02:42.262Z"
   },
   {
    "duration": 21,
    "start_time": "2022-10-14T08:05:39.009Z"
   },
   {
    "duration": 39,
    "start_time": "2022-10-14T08:07:31.243Z"
   },
   {
    "duration": 14,
    "start_time": "2022-10-14T08:07:53.328Z"
   },
   {
    "duration": 21,
    "start_time": "2022-10-14T08:08:01.025Z"
   },
   {
    "duration": 15,
    "start_time": "2022-10-14T08:08:12.051Z"
   },
   {
    "duration": 5,
    "start_time": "2022-10-14T08:13:51.628Z"
   },
   {
    "duration": 5,
    "start_time": "2022-10-14T08:14:46.408Z"
   },
   {
    "duration": 4,
    "start_time": "2022-10-14T08:18:25.737Z"
   },
   {
    "duration": 4,
    "start_time": "2022-10-14T08:18:26.757Z"
   },
   {
    "duration": 16,
    "start_time": "2022-10-14T08:18:34.822Z"
   },
   {
    "duration": 19,
    "start_time": "2022-10-14T08:18:35.773Z"
   },
   {
    "duration": 4,
    "start_time": "2022-10-14T08:24:29.176Z"
   },
   {
    "duration": 7,
    "start_time": "2022-10-14T08:24:41.750Z"
   },
   {
    "duration": 15,
    "start_time": "2022-10-14T09:07:03.444Z"
   },
   {
    "duration": 7,
    "start_time": "2022-10-14T09:11:20.324Z"
   },
   {
    "duration": 6,
    "start_time": "2022-10-14T09:12:40.498Z"
   },
   {
    "duration": 15,
    "start_time": "2022-10-14T09:13:14.048Z"
   },
   {
    "duration": 1998,
    "start_time": "2022-10-14T09:13:14.630Z"
   },
   {
    "duration": 7,
    "start_time": "2022-10-14T09:20:47.112Z"
   },
   {
    "duration": 6,
    "start_time": "2022-10-14T09:21:05.092Z"
   },
   {
    "duration": 71,
    "start_time": "2022-10-14T09:23:40.327Z"
   },
   {
    "duration": 62,
    "start_time": "2022-10-14T09:26:13.199Z"
   },
   {
    "duration": 18,
    "start_time": "2022-10-14T09:35:06.751Z"
   },
   {
    "duration": 34,
    "start_time": "2022-10-14T09:35:17.433Z"
   },
   {
    "duration": 31,
    "start_time": "2022-10-14T09:36:58.810Z"
   },
   {
    "duration": 5,
    "start_time": "2022-10-14T09:37:42.374Z"
   },
   {
    "duration": 5,
    "start_time": "2022-10-14T09:52:58.712Z"
   },
   {
    "duration": 19,
    "start_time": "2022-10-14T09:55:48.985Z"
   },
   {
    "duration": 37,
    "start_time": "2022-10-14T10:08:10.920Z"
   },
   {
    "duration": 130,
    "start_time": "2022-10-14T10:10:49.684Z"
   },
   {
    "duration": 58,
    "start_time": "2022-10-14T10:10:56.854Z"
   },
   {
    "duration": 50,
    "start_time": "2022-10-14T10:11:32.871Z"
   },
   {
    "duration": 35,
    "start_time": "2022-10-14T10:20:05.899Z"
   },
   {
    "duration": 19,
    "start_time": "2022-10-14T10:20:27.780Z"
   },
   {
    "duration": 18,
    "start_time": "2022-10-14T10:20:50.705Z"
   },
   {
    "duration": 264,
    "start_time": "2022-10-14T10:21:20.684Z"
   },
   {
    "duration": 551,
    "start_time": "2022-10-14T10:22:27.685Z"
   },
   {
    "duration": 225,
    "start_time": "2022-10-14T10:22:33.448Z"
   },
   {
    "duration": 19,
    "start_time": "2022-10-14T10:22:42.952Z"
   },
   {
    "duration": 11674,
    "start_time": "2022-10-14T10:25:09.796Z"
   },
   {
    "duration": 17,
    "start_time": "2022-10-14T10:26:52.942Z"
   },
   {
    "duration": 89,
    "start_time": "2022-10-14T10:30:08.793Z"
   },
   {
    "duration": 18,
    "start_time": "2022-10-14T10:30:35.896Z"
   },
   {
    "duration": 201,
    "start_time": "2022-10-14T10:30:47.556Z"
   },
   {
    "duration": 16,
    "start_time": "2022-10-14T10:31:34.308Z"
   },
   {
    "duration": 43,
    "start_time": "2022-10-14T10:31:50.029Z"
   },
   {
    "duration": 18,
    "start_time": "2022-10-14T10:32:01.566Z"
   },
   {
    "duration": 16,
    "start_time": "2022-10-14T10:33:50.654Z"
   },
   {
    "duration": 73,
    "start_time": "2022-10-14T10:34:07.067Z"
   },
   {
    "duration": 18,
    "start_time": "2022-10-14T10:34:18.000Z"
   },
   {
    "duration": 61,
    "start_time": "2022-10-14T10:41:32.052Z"
   },
   {
    "duration": 230,
    "start_time": "2022-10-14T10:41:41.047Z"
   },
   {
    "duration": 269,
    "start_time": "2022-10-14T10:42:05.041Z"
   },
   {
    "duration": 17,
    "start_time": "2022-10-14T10:42:43.909Z"
   },
   {
    "duration": 71,
    "start_time": "2022-10-14T10:44:55.402Z"
   },
   {
    "duration": 72,
    "start_time": "2022-10-14T10:45:06.633Z"
   },
   {
    "duration": 38,
    "start_time": "2022-10-14T10:45:06.707Z"
   },
   {
    "duration": 14,
    "start_time": "2022-10-14T10:45:06.746Z"
   },
   {
    "duration": 1768,
    "start_time": "2022-10-14T10:45:06.762Z"
   },
   {
    "duration": 19,
    "start_time": "2022-10-14T10:45:08.532Z"
   },
   {
    "duration": 8,
    "start_time": "2022-10-14T10:45:08.553Z"
   },
   {
    "duration": 16,
    "start_time": "2022-10-14T10:45:08.563Z"
   },
   {
    "duration": 20,
    "start_time": "2022-10-14T10:45:08.581Z"
   },
   {
    "duration": 23,
    "start_time": "2022-10-14T10:45:08.603Z"
   },
   {
    "duration": 20,
    "start_time": "2022-10-14T10:45:08.628Z"
   },
   {
    "duration": 14,
    "start_time": "2022-10-14T10:45:08.650Z"
   },
   {
    "duration": 28,
    "start_time": "2022-10-14T10:45:08.666Z"
   },
   {
    "duration": 20,
    "start_time": "2022-10-14T10:45:08.722Z"
   },
   {
    "duration": 89,
    "start_time": "2022-10-14T10:45:47.101Z"
   },
   {
    "duration": 101,
    "start_time": "2022-10-14T10:46:55.594Z"
   },
   {
    "duration": 95,
    "start_time": "2022-10-14T10:47:00.947Z"
   },
   {
    "duration": 92,
    "start_time": "2022-10-14T10:47:06.597Z"
   },
   {
    "duration": 96,
    "start_time": "2022-10-14T10:47:12.037Z"
   },
   {
    "duration": 92,
    "start_time": "2022-10-14T10:47:15.884Z"
   },
   {
    "duration": 19,
    "start_time": "2022-10-14T10:47:38.237Z"
   },
   {
    "duration": 1451,
    "start_time": "2022-10-14T10:48:41.526Z"
   },
   {
    "duration": 1307,
    "start_time": "2022-10-14T10:48:52.466Z"
   },
   {
    "duration": 13,
    "start_time": "2022-10-14T10:49:05.335Z"
   },
   {
    "duration": 12,
    "start_time": "2022-10-14T10:49:07.961Z"
   },
   {
    "duration": 13,
    "start_time": "2022-10-14T10:49:10.111Z"
   },
   {
    "duration": 12,
    "start_time": "2022-10-14T10:49:32.791Z"
   },
   {
    "duration": 655,
    "start_time": "2022-10-14T10:49:41.071Z"
   },
   {
    "duration": 44,
    "start_time": "2022-10-14T10:49:41.728Z"
   },
   {
    "duration": 13,
    "start_time": "2022-10-14T10:49:41.773Z"
   },
   {
    "duration": 1801,
    "start_time": "2022-10-14T10:49:41.788Z"
   },
   {
    "duration": 23,
    "start_time": "2022-10-14T10:49:43.590Z"
   },
   {
    "duration": 9,
    "start_time": "2022-10-14T10:49:43.614Z"
   },
   {
    "duration": 10,
    "start_time": "2022-10-14T10:49:43.624Z"
   },
   {
    "duration": 4,
    "start_time": "2022-10-14T10:49:43.635Z"
   },
   {
    "duration": 5,
    "start_time": "2022-10-14T10:49:43.641Z"
   },
   {
    "duration": 18,
    "start_time": "2022-10-14T10:49:43.647Z"
   },
   {
    "duration": 15,
    "start_time": "2022-10-14T10:49:43.666Z"
   },
   {
    "duration": 61,
    "start_time": "2022-10-14T10:49:43.682Z"
   },
   {
    "duration": 12,
    "start_time": "2022-10-14T10:49:43.745Z"
   },
   {
    "duration": 12,
    "start_time": "2022-10-14T10:49:52.031Z"
   },
   {
    "duration": 76,
    "start_time": "2022-10-14T10:50:03.257Z"
   },
   {
    "duration": 45,
    "start_time": "2022-10-14T10:50:03.336Z"
   },
   {
    "duration": 15,
    "start_time": "2022-10-14T10:50:03.383Z"
   },
   {
    "duration": 1849,
    "start_time": "2022-10-14T10:50:03.400Z"
   },
   {
    "duration": 20,
    "start_time": "2022-10-14T10:50:05.251Z"
   },
   {
    "duration": 9,
    "start_time": "2022-10-14T10:50:05.272Z"
   },
   {
    "duration": 11,
    "start_time": "2022-10-14T10:50:05.282Z"
   },
   {
    "duration": 31,
    "start_time": "2022-10-14T10:50:05.294Z"
   },
   {
    "duration": 10,
    "start_time": "2022-10-14T10:50:05.326Z"
   },
   {
    "duration": 16,
    "start_time": "2022-10-14T10:50:05.338Z"
   },
   {
    "duration": 14,
    "start_time": "2022-10-14T10:50:05.356Z"
   },
   {
    "duration": 57,
    "start_time": "2022-10-14T10:50:05.371Z"
   },
   {
    "duration": 33,
    "start_time": "2022-10-14T10:50:07.192Z"
   },
   {
    "duration": 14,
    "start_time": "2022-10-14T10:50:08.152Z"
   },
   {
    "duration": 18,
    "start_time": "2022-10-14T10:50:15.875Z"
   },
   {
    "duration": 14,
    "start_time": "2022-10-14T10:51:32.866Z"
   },
   {
    "duration": 23,
    "start_time": "2022-10-14T10:51:43.298Z"
   },
   {
    "duration": 24,
    "start_time": "2022-10-14T10:52:00.556Z"
   },
   {
    "duration": 16,
    "start_time": "2022-10-14T10:57:15.871Z"
   },
   {
    "duration": 31,
    "start_time": "2022-10-14T11:01:24.338Z"
   },
   {
    "duration": 12,
    "start_time": "2022-10-14T11:13:50.434Z"
   },
   {
    "duration": 68,
    "start_time": "2022-10-14T11:15:20.987Z"
   },
   {
    "duration": 7,
    "start_time": "2022-10-14T11:15:26.882Z"
   },
   {
    "duration": 8,
    "start_time": "2022-10-14T11:15:31.555Z"
   },
   {
    "duration": 24,
    "start_time": "2022-10-14T11:20:16.413Z"
   },
   {
    "duration": 21,
    "start_time": "2022-10-14T11:25:29.174Z"
   },
   {
    "duration": 6,
    "start_time": "2022-10-14T11:27:14.362Z"
   },
   {
    "duration": 6,
    "start_time": "2022-10-14T11:49:40.204Z"
   },
   {
    "duration": 9,
    "start_time": "2022-10-14T11:49:59.999Z"
   },
   {
    "duration": 4,
    "start_time": "2022-10-14T11:50:09.992Z"
   },
   {
    "duration": 7,
    "start_time": "2022-10-14T11:50:11.650Z"
   },
   {
    "duration": 5,
    "start_time": "2022-10-14T11:50:23.002Z"
   },
   {
    "duration": 6,
    "start_time": "2022-10-14T11:50:24.829Z"
   },
   {
    "duration": 4,
    "start_time": "2022-10-14T11:50:44.657Z"
   },
   {
    "duration": 8,
    "start_time": "2022-10-14T11:50:45.953Z"
   },
   {
    "duration": 5,
    "start_time": "2022-10-14T11:52:57.824Z"
   },
   {
    "duration": 8,
    "start_time": "2022-10-14T11:52:58.619Z"
   },
   {
    "duration": 6,
    "start_time": "2022-10-14T11:54:51.569Z"
   },
   {
    "duration": 6,
    "start_time": "2022-10-14T11:54:52.425Z"
   },
   {
    "duration": 6,
    "start_time": "2022-10-14T12:15:11.936Z"
   },
   {
    "duration": 5,
    "start_time": "2022-10-14T12:15:13.584Z"
   },
   {
    "duration": 5,
    "start_time": "2022-10-14T12:15:15.130Z"
   },
   {
    "duration": 6,
    "start_time": "2022-10-14T12:15:15.756Z"
   },
   {
    "duration": 4,
    "start_time": "2022-10-14T12:15:33.473Z"
   },
   {
    "duration": 7,
    "start_time": "2022-10-14T12:15:34.402Z"
   },
   {
    "duration": 8,
    "start_time": "2022-10-14T12:18:21.855Z"
   },
   {
    "duration": 12788,
    "start_time": "2022-10-14T12:18:43.797Z"
   },
   {
    "duration": 75,
    "start_time": "2022-10-14T12:20:23.877Z"
   },
   {
    "duration": 9,
    "start_time": "2022-10-14T12:20:36.237Z"
   },
   {
    "duration": 7,
    "start_time": "2022-10-14T12:20:43.625Z"
   },
   {
    "duration": 6,
    "start_time": "2022-10-14T12:21:01.190Z"
   },
   {
    "duration": 7,
    "start_time": "2022-10-14T12:21:02.361Z"
   },
   {
    "duration": 9,
    "start_time": "2022-10-14T12:21:39.230Z"
   },
   {
    "duration": 6,
    "start_time": "2022-10-14T12:21:41.936Z"
   },
   {
    "duration": 11,
    "start_time": "2022-10-14T12:21:42.545Z"
   },
   {
    "duration": 20,
    "start_time": "2022-10-14T12:23:06.137Z"
   },
   {
    "duration": 11,
    "start_time": "2022-10-14T12:23:11.976Z"
   },
   {
    "duration": 7,
    "start_time": "2022-10-14T12:23:13.896Z"
   },
   {
    "duration": 7,
    "start_time": "2022-10-14T12:24:57.040Z"
   },
   {
    "duration": 5,
    "start_time": "2022-10-14T12:25:27.781Z"
   },
   {
    "duration": 6,
    "start_time": "2022-10-14T12:25:29.885Z"
   },
   {
    "duration": 6,
    "start_time": "2022-10-14T12:31:53.475Z"
   },
   {
    "duration": 6,
    "start_time": "2022-10-14T12:31:54.347Z"
   },
   {
    "duration": 8,
    "start_time": "2022-10-14T12:36:03.881Z"
   },
   {
    "duration": 7,
    "start_time": "2022-10-14T12:36:50.653Z"
   },
   {
    "duration": 46,
    "start_time": "2022-10-14T12:36:59.792Z"
   },
   {
    "duration": 7,
    "start_time": "2022-10-14T12:37:05.120Z"
   },
   {
    "duration": 6,
    "start_time": "2022-10-14T12:37:33.514Z"
   },
   {
    "duration": 6,
    "start_time": "2022-10-14T12:37:35.358Z"
   },
   {
    "duration": 10,
    "start_time": "2022-10-14T12:42:56.143Z"
   },
   {
    "duration": 6,
    "start_time": "2022-10-14T12:43:01.030Z"
   },
   {
    "duration": 7,
    "start_time": "2022-10-14T12:43:01.226Z"
   },
   {
    "duration": 18,
    "start_time": "2022-10-14T12:43:02.877Z"
   },
   {
    "duration": 97,
    "start_time": "2022-10-14T12:43:18.972Z"
   },
   {
    "duration": 53,
    "start_time": "2022-10-14T12:43:19.071Z"
   },
   {
    "duration": 30,
    "start_time": "2022-10-14T12:43:19.126Z"
   },
   {
    "duration": 1970,
    "start_time": "2022-10-14T12:43:19.157Z"
   },
   {
    "duration": 28,
    "start_time": "2022-10-14T12:43:21.131Z"
   },
   {
    "duration": 10,
    "start_time": "2022-10-14T12:43:21.161Z"
   },
   {
    "duration": 15,
    "start_time": "2022-10-14T12:43:21.172Z"
   },
   {
    "duration": 42,
    "start_time": "2022-10-14T12:43:21.189Z"
   },
   {
    "duration": 11,
    "start_time": "2022-10-14T12:43:21.233Z"
   },
   {
    "duration": 19,
    "start_time": "2022-10-14T12:43:21.246Z"
   },
   {
    "duration": 29,
    "start_time": "2022-10-14T12:43:21.266Z"
   },
   {
    "duration": 16,
    "start_time": "2022-10-14T12:43:21.296Z"
   },
   {
    "duration": 22,
    "start_time": "2022-10-14T12:43:21.314Z"
   },
   {
    "duration": 8,
    "start_time": "2022-10-14T12:43:21.338Z"
   },
   {
    "duration": 17,
    "start_time": "2022-10-14T12:43:21.348Z"
   },
   {
    "duration": 14,
    "start_time": "2022-10-14T12:45:33.493Z"
   },
   {
    "duration": 13,
    "start_time": "2022-10-14T12:45:49.854Z"
   },
   {
    "duration": 17,
    "start_time": "2022-10-14T12:45:59.993Z"
   },
   {
    "duration": 7,
    "start_time": "2022-10-14T12:46:00.655Z"
   },
   {
    "duration": 31,
    "start_time": "2022-10-14T12:46:39.630Z"
   },
   {
    "duration": 9,
    "start_time": "2022-10-14T12:46:42.229Z"
   },
   {
    "duration": 23,
    "start_time": "2022-10-14T12:46:52.785Z"
   },
   {
    "duration": 23,
    "start_time": "2022-10-14T12:47:03.744Z"
   },
   {
    "duration": 39,
    "start_time": "2022-10-14T12:47:14.407Z"
   },
   {
    "duration": 10,
    "start_time": "2022-10-14T12:47:15.032Z"
   },
   {
    "duration": 77,
    "start_time": "2022-10-14T12:47:32.360Z"
   },
   {
    "duration": 41,
    "start_time": "2022-10-14T12:47:32.439Z"
   },
   {
    "duration": 13,
    "start_time": "2022-10-14T12:47:32.481Z"
   },
   {
    "duration": 1972,
    "start_time": "2022-10-14T12:47:32.528Z"
   },
   {
    "duration": 38,
    "start_time": "2022-10-14T12:47:34.502Z"
   },
   {
    "duration": 10,
    "start_time": "2022-10-14T12:47:34.543Z"
   },
   {
    "duration": 11,
    "start_time": "2022-10-14T12:47:34.554Z"
   },
   {
    "duration": 11,
    "start_time": "2022-10-14T12:47:34.566Z"
   },
   {
    "duration": 4,
    "start_time": "2022-10-14T12:47:34.578Z"
   },
   {
    "duration": 6,
    "start_time": "2022-10-14T12:47:34.623Z"
   },
   {
    "duration": 32,
    "start_time": "2022-10-14T12:47:34.631Z"
   },
   {
    "duration": 14,
    "start_time": "2022-10-14T12:47:34.665Z"
   },
   {
    "duration": 16,
    "start_time": "2022-10-14T12:47:34.680Z"
   },
   {
    "duration": 34,
    "start_time": "2022-10-14T12:47:34.697Z"
   },
   {
    "duration": 24,
    "start_time": "2022-10-14T12:47:34.732Z"
   },
   {
    "duration": 21,
    "start_time": "2022-10-14T12:47:37.598Z"
   },
   {
    "duration": 6,
    "start_time": "2022-10-14T12:47:45.186Z"
   },
   {
    "duration": 23,
    "start_time": "2022-10-14T12:47:46.303Z"
   },
   {
    "duration": 7,
    "start_time": "2022-10-14T12:47:47.551Z"
   },
   {
    "duration": 33,
    "start_time": "2022-10-14T12:48:23.675Z"
   },
   {
    "duration": 8,
    "start_time": "2022-10-14T12:48:24.367Z"
   },
   {
    "duration": 48,
    "start_time": "2022-10-14T12:49:19.222Z"
   },
   {
    "duration": 6,
    "start_time": "2022-10-14T12:49:19.735Z"
   },
   {
    "duration": 46,
    "start_time": "2022-10-14T12:59:02.568Z"
   },
   {
    "duration": 6,
    "start_time": "2022-10-14T12:59:03.349Z"
   },
   {
    "duration": 41,
    "start_time": "2022-10-14T13:04:50.922Z"
   },
   {
    "duration": 6,
    "start_time": "2022-10-14T13:04:51.528Z"
   },
   {
    "duration": 74,
    "start_time": "2022-10-14T13:05:14.288Z"
   },
   {
    "duration": 39,
    "start_time": "2022-10-14T13:05:14.364Z"
   },
   {
    "duration": 27,
    "start_time": "2022-10-14T13:05:14.404Z"
   },
   {
    "duration": 1951,
    "start_time": "2022-10-14T13:05:14.433Z"
   },
   {
    "duration": 19,
    "start_time": "2022-10-14T13:05:16.387Z"
   },
   {
    "duration": 20,
    "start_time": "2022-10-14T13:05:16.408Z"
   },
   {
    "duration": 9,
    "start_time": "2022-10-14T13:05:16.430Z"
   },
   {
    "duration": 36,
    "start_time": "2022-10-14T13:05:16.440Z"
   },
   {
    "duration": 16,
    "start_time": "2022-10-14T13:05:16.478Z"
   },
   {
    "duration": 27,
    "start_time": "2022-10-14T13:05:16.495Z"
   },
   {
    "duration": 45,
    "start_time": "2022-10-14T13:05:16.524Z"
   },
   {
    "duration": 31,
    "start_time": "2022-10-14T13:05:16.571Z"
   },
   {
    "duration": 25,
    "start_time": "2022-10-14T13:05:16.604Z"
   },
   {
    "duration": 17,
    "start_time": "2022-10-14T13:05:16.647Z"
   },
   {
    "duration": 45,
    "start_time": "2022-10-14T13:05:18.637Z"
   },
   {
    "duration": 6,
    "start_time": "2022-10-14T13:05:19.676Z"
   },
   {
    "duration": 73,
    "start_time": "2022-10-14T13:06:14.937Z"
   },
   {
    "duration": 45,
    "start_time": "2022-10-14T13:06:15.012Z"
   },
   {
    "duration": 14,
    "start_time": "2022-10-14T13:06:15.058Z"
   },
   {
    "duration": 1856,
    "start_time": "2022-10-14T13:06:15.075Z"
   },
   {
    "duration": 21,
    "start_time": "2022-10-14T13:06:16.933Z"
   },
   {
    "duration": 10,
    "start_time": "2022-10-14T13:06:16.956Z"
   },
   {
    "duration": 11,
    "start_time": "2022-10-14T13:06:16.967Z"
   },
   {
    "duration": 46,
    "start_time": "2022-10-14T13:06:16.979Z"
   },
   {
    "duration": 5,
    "start_time": "2022-10-14T13:06:17.027Z"
   },
   {
    "duration": 6,
    "start_time": "2022-10-14T13:06:17.034Z"
   },
   {
    "duration": 21,
    "start_time": "2022-10-14T13:06:17.041Z"
   },
   {
    "duration": 18,
    "start_time": "2022-10-14T13:06:17.064Z"
   },
   {
    "duration": 53,
    "start_time": "2022-10-14T13:06:17.084Z"
   },
   {
    "duration": 7,
    "start_time": "2022-10-14T13:06:17.138Z"
   },
   {
    "duration": 64,
    "start_time": "2022-10-14T13:06:17.221Z"
   },
   {
    "duration": 7,
    "start_time": "2022-10-14T13:06:17.288Z"
   },
   {
    "duration": 63,
    "start_time": "2022-10-14T13:07:24.732Z"
   },
   {
    "duration": 9,
    "start_time": "2022-10-14T13:07:25.761Z"
   },
   {
    "duration": 81,
    "start_time": "2022-10-14T13:09:35.077Z"
   },
   {
    "duration": 6,
    "start_time": "2022-10-14T13:09:35.598Z"
   },
   {
    "duration": 82,
    "start_time": "2022-10-14T13:16:44.927Z"
   },
   {
    "duration": 6,
    "start_time": "2022-10-14T13:16:45.353Z"
   },
   {
    "duration": 97,
    "start_time": "2022-10-14T13:17:36.061Z"
   },
   {
    "duration": 6,
    "start_time": "2022-10-14T13:17:36.589Z"
   },
   {
    "duration": 21,
    "start_time": "2022-10-14T13:21:31.916Z"
   },
   {
    "duration": 20,
    "start_time": "2022-10-14T13:22:01.488Z"
   },
   {
    "duration": 7,
    "start_time": "2022-10-14T13:22:02.842Z"
   },
   {
    "duration": 73,
    "start_time": "2022-10-14T13:22:14.491Z"
   },
   {
    "duration": 38,
    "start_time": "2022-10-14T13:22:14.566Z"
   },
   {
    "duration": 27,
    "start_time": "2022-10-14T13:22:14.606Z"
   },
   {
    "duration": 1912,
    "start_time": "2022-10-14T13:22:14.635Z"
   },
   {
    "duration": 21,
    "start_time": "2022-10-14T13:22:16.549Z"
   },
   {
    "duration": 10,
    "start_time": "2022-10-14T13:22:16.571Z"
   },
   {
    "duration": 41,
    "start_time": "2022-10-14T13:22:16.582Z"
   },
   {
    "duration": 12,
    "start_time": "2022-10-14T13:22:16.624Z"
   },
   {
    "duration": 9,
    "start_time": "2022-10-14T13:22:16.637Z"
   },
   {
    "duration": 5,
    "start_time": "2022-10-14T13:22:16.648Z"
   },
   {
    "duration": 20,
    "start_time": "2022-10-14T13:22:16.655Z"
   },
   {
    "duration": 51,
    "start_time": "2022-10-14T13:22:16.676Z"
   },
   {
    "duration": 15,
    "start_time": "2022-10-14T13:22:16.730Z"
   },
   {
    "duration": 6,
    "start_time": "2022-10-14T13:22:16.747Z"
   },
   {
    "duration": 22,
    "start_time": "2022-10-14T13:22:16.755Z"
   },
   {
    "duration": 0,
    "start_time": "2022-10-14T13:22:16.778Z"
   },
   {
    "duration": 6,
    "start_time": "2022-10-14T13:22:20.371Z"
   },
   {
    "duration": 94,
    "start_time": "2022-10-14T13:25:43.361Z"
   },
   {
    "duration": 6,
    "start_time": "2022-10-14T13:25:44.281Z"
   },
   {
    "duration": 112,
    "start_time": "2022-10-14T13:33:31.208Z"
   },
   {
    "duration": 7,
    "start_time": "2022-10-14T13:33:31.908Z"
   },
   {
    "duration": 82,
    "start_time": "2022-10-14T13:34:01.704Z"
   },
   {
    "duration": 58,
    "start_time": "2022-10-14T13:34:01.789Z"
   },
   {
    "duration": 13,
    "start_time": "2022-10-14T13:34:01.848Z"
   },
   {
    "duration": 4848,
    "start_time": "2022-10-14T13:34:01.863Z"
   },
   {
    "duration": 22,
    "start_time": "2022-10-14T13:34:06.712Z"
   },
   {
    "duration": 10,
    "start_time": "2022-10-14T13:34:06.736Z"
   },
   {
    "duration": 12,
    "start_time": "2022-10-14T13:34:06.748Z"
   },
   {
    "duration": 11,
    "start_time": "2022-10-14T13:34:06.761Z"
   },
   {
    "duration": 51,
    "start_time": "2022-10-14T13:34:06.774Z"
   },
   {
    "duration": 6,
    "start_time": "2022-10-14T13:34:06.827Z"
   },
   {
    "duration": 20,
    "start_time": "2022-10-14T13:34:06.834Z"
   },
   {
    "duration": 16,
    "start_time": "2022-10-14T13:34:06.855Z"
   },
   {
    "duration": 17,
    "start_time": "2022-10-14T13:34:06.872Z"
   },
   {
    "duration": 6,
    "start_time": "2022-10-14T13:34:06.922Z"
   },
   {
    "duration": 100,
    "start_time": "2022-10-14T13:34:06.930Z"
   },
   {
    "duration": 9,
    "start_time": "2022-10-14T13:34:07.039Z"
   },
   {
    "duration": 105,
    "start_time": "2022-10-14T13:35:07.708Z"
   },
   {
    "duration": 6,
    "start_time": "2022-10-14T13:35:08.827Z"
   },
   {
    "duration": 74,
    "start_time": "2022-10-14T13:35:22.533Z"
   },
   {
    "duration": 40,
    "start_time": "2022-10-14T13:35:22.608Z"
   },
   {
    "duration": 13,
    "start_time": "2022-10-14T13:35:22.649Z"
   },
   {
    "duration": 2022,
    "start_time": "2022-10-14T13:35:22.664Z"
   },
   {
    "duration": 38,
    "start_time": "2022-10-14T13:35:24.688Z"
   },
   {
    "duration": 10,
    "start_time": "2022-10-14T13:35:24.728Z"
   },
   {
    "duration": 14,
    "start_time": "2022-10-14T13:35:24.739Z"
   },
   {
    "duration": 20,
    "start_time": "2022-10-14T13:35:24.755Z"
   },
   {
    "duration": 8,
    "start_time": "2022-10-14T13:35:24.776Z"
   },
   {
    "duration": 37,
    "start_time": "2022-10-14T13:35:24.788Z"
   },
   {
    "duration": 20,
    "start_time": "2022-10-14T13:35:24.827Z"
   },
   {
    "duration": 17,
    "start_time": "2022-10-14T13:35:24.849Z"
   },
   {
    "duration": 20,
    "start_time": "2022-10-14T13:35:24.867Z"
   },
   {
    "duration": 7,
    "start_time": "2022-10-14T13:35:24.921Z"
   },
   {
    "duration": 108,
    "start_time": "2022-10-14T13:35:25.097Z"
   },
   {
    "duration": 8,
    "start_time": "2022-10-14T13:35:25.841Z"
   },
   {
    "duration": 92,
    "start_time": "2022-10-14T13:36:43.884Z"
   },
   {
    "duration": 6,
    "start_time": "2022-10-14T13:36:44.733Z"
   },
   {
    "duration": 681,
    "start_time": "2022-10-14T13:36:54.689Z"
   },
   {
    "duration": 52,
    "start_time": "2022-10-14T13:36:55.373Z"
   },
   {
    "duration": 15,
    "start_time": "2022-10-14T13:36:55.427Z"
   },
   {
    "duration": 1906,
    "start_time": "2022-10-14T13:36:55.443Z"
   },
   {
    "duration": 24,
    "start_time": "2022-10-14T13:36:57.351Z"
   },
   {
    "duration": 10,
    "start_time": "2022-10-14T13:36:57.377Z"
   },
   {
    "duration": 13,
    "start_time": "2022-10-14T13:36:57.389Z"
   },
   {
    "duration": 20,
    "start_time": "2022-10-14T13:36:57.404Z"
   },
   {
    "duration": 4,
    "start_time": "2022-10-14T13:36:57.426Z"
   },
   {
    "duration": 5,
    "start_time": "2022-10-14T13:36:57.432Z"
   },
   {
    "duration": 21,
    "start_time": "2022-10-14T13:36:57.438Z"
   },
   {
    "duration": 16,
    "start_time": "2022-10-14T13:36:57.460Z"
   },
   {
    "duration": 58,
    "start_time": "2022-10-14T13:36:57.477Z"
   },
   {
    "duration": 7,
    "start_time": "2022-10-14T13:36:57.538Z"
   },
   {
    "duration": 113,
    "start_time": "2022-10-14T13:36:57.548Z"
   },
   {
    "duration": 6,
    "start_time": "2022-10-14T13:36:57.662Z"
   },
   {
    "duration": 69,
    "start_time": "2022-10-14T13:37:43.960Z"
   },
   {
    "duration": 11,
    "start_time": "2022-10-14T13:37:52.847Z"
   },
   {
    "duration": 10,
    "start_time": "2022-10-14T13:38:07.949Z"
   },
   {
    "duration": 94,
    "start_time": "2022-10-14T13:38:13.169Z"
   },
   {
    "duration": 64,
    "start_time": "2022-10-14T13:38:13.265Z"
   },
   {
    "duration": 18,
    "start_time": "2022-10-14T13:38:13.331Z"
   },
   {
    "duration": 1891,
    "start_time": "2022-10-14T13:38:13.352Z"
   },
   {
    "duration": 23,
    "start_time": "2022-10-14T13:38:15.245Z"
   },
   {
    "duration": 10,
    "start_time": "2022-10-14T13:38:15.270Z"
   },
   {
    "duration": 41,
    "start_time": "2022-10-14T13:38:15.282Z"
   },
   {
    "duration": 12,
    "start_time": "2022-10-14T13:38:15.325Z"
   },
   {
    "duration": 5,
    "start_time": "2022-10-14T13:38:15.338Z"
   },
   {
    "duration": 8,
    "start_time": "2022-10-14T13:38:15.345Z"
   },
   {
    "duration": 25,
    "start_time": "2022-10-14T13:38:15.355Z"
   },
   {
    "duration": 51,
    "start_time": "2022-10-14T13:38:15.383Z"
   },
   {
    "duration": 17,
    "start_time": "2022-10-14T13:38:15.436Z"
   },
   {
    "duration": 10,
    "start_time": "2022-10-14T13:38:15.455Z"
   },
   {
    "duration": 0,
    "start_time": "2022-10-14T13:38:15.467Z"
   },
   {
    "duration": 0,
    "start_time": "2022-10-14T13:38:15.469Z"
   },
   {
    "duration": 10,
    "start_time": "2022-10-14T13:38:51.283Z"
   },
   {
    "duration": 10,
    "start_time": "2022-10-14T13:39:20.741Z"
   },
   {
    "duration": 9,
    "start_time": "2022-10-14T13:39:28.707Z"
   },
   {
    "duration": 104,
    "start_time": "2022-10-14T13:39:34.091Z"
   },
   {
    "duration": 12,
    "start_time": "2022-10-14T13:39:55.133Z"
   },
   {
    "duration": 11,
    "start_time": "2022-10-14T13:40:05.717Z"
   },
   {
    "duration": 10,
    "start_time": "2022-10-14T13:40:30.638Z"
   },
   {
    "duration": 9,
    "start_time": "2022-10-14T13:40:32.827Z"
   },
   {
    "duration": 8,
    "start_time": "2022-10-14T13:40:38.257Z"
   },
   {
    "duration": 132,
    "start_time": "2022-10-14T13:40:39.048Z"
   },
   {
    "duration": 8,
    "start_time": "2022-10-14T13:40:43.210Z"
   },
   {
    "duration": 722,
    "start_time": "2022-10-14T13:41:08.164Z"
   },
   {
    "duration": 71,
    "start_time": "2022-10-14T13:41:08.888Z"
   },
   {
    "duration": 27,
    "start_time": "2022-10-14T13:41:08.961Z"
   },
   {
    "duration": 2047,
    "start_time": "2022-10-14T13:41:08.990Z"
   },
   {
    "duration": 29,
    "start_time": "2022-10-14T13:41:11.040Z"
   },
   {
    "duration": 27,
    "start_time": "2022-10-14T13:41:11.071Z"
   },
   {
    "duration": 40,
    "start_time": "2022-10-14T13:41:11.101Z"
   },
   {
    "duration": 15,
    "start_time": "2022-10-14T13:41:11.143Z"
   },
   {
    "duration": 70,
    "start_time": "2022-10-14T13:41:11.159Z"
   },
   {
    "duration": 32,
    "start_time": "2022-10-14T13:41:11.231Z"
   },
   {
    "duration": 71,
    "start_time": "2022-10-14T13:41:11.265Z"
   },
   {
    "duration": 18,
    "start_time": "2022-10-14T13:41:11.339Z"
   },
   {
    "duration": 45,
    "start_time": "2022-10-14T13:41:11.359Z"
   },
   {
    "duration": 23,
    "start_time": "2022-10-14T13:41:11.406Z"
   },
   {
    "duration": 53,
    "start_time": "2022-10-14T13:41:11.432Z"
   },
   {
    "duration": 157,
    "start_time": "2022-10-14T13:41:11.487Z"
   },
   {
    "duration": 10,
    "start_time": "2022-10-14T13:41:11.645Z"
   },
   {
    "duration": 41,
    "start_time": "2022-10-16T08:00:54.167Z"
   },
   {
    "duration": 960,
    "start_time": "2022-10-16T08:01:06.767Z"
   },
   {
    "duration": 41,
    "start_time": "2022-10-16T08:01:07.730Z"
   },
   {
    "duration": 13,
    "start_time": "2022-10-16T08:01:07.772Z"
   },
   {
    "duration": 1672,
    "start_time": "2022-10-16T08:01:07.788Z"
   },
   {
    "duration": 22,
    "start_time": "2022-10-16T08:01:09.462Z"
   },
   {
    "duration": 9,
    "start_time": "2022-10-16T08:01:09.486Z"
   },
   {
    "duration": 9,
    "start_time": "2022-10-16T08:01:09.497Z"
   },
   {
    "duration": 17,
    "start_time": "2022-10-16T08:01:09.507Z"
   },
   {
    "duration": 5,
    "start_time": "2022-10-16T08:01:09.525Z"
   },
   {
    "duration": 5,
    "start_time": "2022-10-16T08:01:09.533Z"
   },
   {
    "duration": 18,
    "start_time": "2022-10-16T08:01:09.539Z"
   },
   {
    "duration": 14,
    "start_time": "2022-10-16T08:01:09.559Z"
   },
   {
    "duration": 48,
    "start_time": "2022-10-16T08:01:09.575Z"
   },
   {
    "duration": 6,
    "start_time": "2022-10-16T08:01:09.625Z"
   },
   {
    "duration": 8,
    "start_time": "2022-10-16T08:01:09.633Z"
   },
   {
    "duration": 103,
    "start_time": "2022-10-16T08:01:09.642Z"
   },
   {
    "duration": 7,
    "start_time": "2022-10-16T08:01:09.746Z"
   },
   {
    "duration": 33,
    "start_time": "2022-10-16T08:01:09.755Z"
   },
   {
    "duration": 5,
    "start_time": "2022-10-16T08:02:09.485Z"
   },
   {
    "duration": 5,
    "start_time": "2022-10-16T08:02:25.289Z"
   },
   {
    "duration": 4,
    "start_time": "2022-10-16T08:02:53.583Z"
   },
   {
    "duration": 4,
    "start_time": "2022-10-16T08:03:35.806Z"
   },
   {
    "duration": 64,
    "start_time": "2022-10-16T08:03:46.473Z"
   },
   {
    "duration": 1305,
    "start_time": "2022-10-16T08:03:55.566Z"
   },
   {
    "duration": 19,
    "start_time": "2022-10-16T08:04:32.988Z"
   },
   {
    "duration": 4,
    "start_time": "2022-10-16T08:05:32.011Z"
   },
   {
    "duration": 6,
    "start_time": "2022-10-16T08:05:46.102Z"
   },
   {
    "duration": 4,
    "start_time": "2022-10-16T08:06:08.334Z"
   },
   {
    "duration": 4,
    "start_time": "2022-10-16T08:06:13.146Z"
   },
   {
    "duration": 7,
    "start_time": "2022-10-16T08:06:24.708Z"
   },
   {
    "duration": 24,
    "start_time": "2022-10-16T08:16:43.375Z"
   },
   {
    "duration": 4,
    "start_time": "2022-10-16T08:17:28.623Z"
   },
   {
    "duration": 5,
    "start_time": "2022-10-16T08:17:45.588Z"
   },
   {
    "duration": 11,
    "start_time": "2022-10-16T08:38:16.063Z"
   },
   {
    "duration": 7,
    "start_time": "2022-10-16T08:38:38.948Z"
   },
   {
    "duration": 657,
    "start_time": "2022-10-16T08:39:08.811Z"
   },
   {
    "duration": 42,
    "start_time": "2022-10-16T08:39:09.469Z"
   },
   {
    "duration": 19,
    "start_time": "2022-10-16T08:39:09.512Z"
   },
   {
    "duration": 1778,
    "start_time": "2022-10-16T08:39:09.534Z"
   },
   {
    "duration": 22,
    "start_time": "2022-10-16T08:39:11.314Z"
   },
   {
    "duration": 8,
    "start_time": "2022-10-16T08:39:11.338Z"
   },
   {
    "duration": 8,
    "start_time": "2022-10-16T08:39:11.348Z"
   },
   {
    "duration": 10,
    "start_time": "2022-10-16T08:39:11.358Z"
   },
   {
    "duration": 4,
    "start_time": "2022-10-16T08:39:11.370Z"
   },
   {
    "duration": 8,
    "start_time": "2022-10-16T08:39:11.377Z"
   },
   {
    "duration": 49,
    "start_time": "2022-10-16T08:39:11.387Z"
   },
   {
    "duration": 18,
    "start_time": "2022-10-16T08:39:11.437Z"
   },
   {
    "duration": 16,
    "start_time": "2022-10-16T08:39:11.456Z"
   },
   {
    "duration": 6,
    "start_time": "2022-10-16T08:39:11.474Z"
   },
   {
    "duration": 12,
    "start_time": "2022-10-16T08:39:11.482Z"
   },
   {
    "duration": 131,
    "start_time": "2022-10-16T08:39:11.496Z"
   },
   {
    "duration": 7,
    "start_time": "2022-10-16T08:39:11.629Z"
   },
   {
    "duration": 46,
    "start_time": "2022-10-16T08:39:11.637Z"
   },
   {
    "duration": 6,
    "start_time": "2022-10-16T08:39:11.685Z"
   },
   {
    "duration": 31,
    "start_time": "2022-10-16T08:39:11.693Z"
   },
   {
    "duration": 8,
    "start_time": "2022-10-16T08:39:11.726Z"
   },
   {
    "duration": 10,
    "start_time": "2022-10-16T09:08:28.496Z"
   },
   {
    "duration": 616,
    "start_time": "2022-10-16T09:08:36.868Z"
   },
   {
    "duration": 42,
    "start_time": "2022-10-16T09:08:37.486Z"
   },
   {
    "duration": 12,
    "start_time": "2022-10-16T09:08:37.529Z"
   },
   {
    "duration": 1730,
    "start_time": "2022-10-16T09:08:37.542Z"
   },
   {
    "duration": 20,
    "start_time": "2022-10-16T09:08:39.273Z"
   },
   {
    "duration": 8,
    "start_time": "2022-10-16T09:08:39.295Z"
   },
   {
    "duration": 10,
    "start_time": "2022-10-16T09:08:39.304Z"
   },
   {
    "duration": 8,
    "start_time": "2022-10-16T09:08:39.315Z"
   },
   {
    "duration": 5,
    "start_time": "2022-10-16T09:08:39.325Z"
   },
   {
    "duration": 4,
    "start_time": "2022-10-16T09:08:39.332Z"
   },
   {
    "duration": 20,
    "start_time": "2022-10-16T09:08:39.337Z"
   },
   {
    "duration": 15,
    "start_time": "2022-10-16T09:08:39.359Z"
   },
   {
    "duration": 17,
    "start_time": "2022-10-16T09:08:39.376Z"
   },
   {
    "duration": 29,
    "start_time": "2022-10-16T09:08:39.394Z"
   },
   {
    "duration": 8,
    "start_time": "2022-10-16T09:08:39.424Z"
   },
   {
    "duration": 97,
    "start_time": "2022-10-16T09:08:39.434Z"
   },
   {
    "duration": 6,
    "start_time": "2022-10-16T09:08:39.532Z"
   },
   {
    "duration": 34,
    "start_time": "2022-10-16T09:08:39.540Z"
   },
   {
    "duration": 5,
    "start_time": "2022-10-16T09:08:39.575Z"
   },
   {
    "duration": 7,
    "start_time": "2022-10-16T09:08:39.581Z"
   },
   {
    "duration": 6,
    "start_time": "2022-10-16T09:08:39.589Z"
   },
   {
    "duration": 4,
    "start_time": "2022-10-16T09:10:30.375Z"
   },
   {
    "duration": 4,
    "start_time": "2022-10-16T09:11:57.953Z"
   },
   {
    "duration": 4,
    "start_time": "2022-10-16T09:13:34.576Z"
   },
   {
    "duration": 4,
    "start_time": "2022-10-16T09:13:49.332Z"
   },
   {
    "duration": 4,
    "start_time": "2022-10-16T09:13:55.265Z"
   },
   {
    "duration": 59,
    "start_time": "2022-10-16T09:16:24.518Z"
   },
   {
    "duration": 688,
    "start_time": "2022-10-16T09:17:45.205Z"
   },
   {
    "duration": 41,
    "start_time": "2022-10-16T09:17:45.895Z"
   },
   {
    "duration": 12,
    "start_time": "2022-10-16T09:17:45.937Z"
   },
   {
    "duration": 1768,
    "start_time": "2022-10-16T09:17:45.950Z"
   },
   {
    "duration": 20,
    "start_time": "2022-10-16T09:17:47.720Z"
   },
   {
    "duration": 8,
    "start_time": "2022-10-16T09:17:47.742Z"
   },
   {
    "duration": 9,
    "start_time": "2022-10-16T09:17:47.751Z"
   },
   {
    "duration": 9,
    "start_time": "2022-10-16T09:17:47.761Z"
   },
   {
    "duration": 4,
    "start_time": "2022-10-16T09:17:47.771Z"
   },
   {
    "duration": 8,
    "start_time": "2022-10-16T09:17:47.777Z"
   },
   {
    "duration": 43,
    "start_time": "2022-10-16T09:17:47.787Z"
   },
   {
    "duration": 15,
    "start_time": "2022-10-16T09:17:47.832Z"
   },
   {
    "duration": 16,
    "start_time": "2022-10-16T09:17:47.848Z"
   },
   {
    "duration": 6,
    "start_time": "2022-10-16T09:17:47.866Z"
   },
   {
    "duration": 8,
    "start_time": "2022-10-16T09:17:47.874Z"
   },
   {
    "duration": 115,
    "start_time": "2022-10-16T09:17:47.883Z"
   },
   {
    "duration": 7,
    "start_time": "2022-10-16T09:17:47.999Z"
   },
   {
    "duration": 70,
    "start_time": "2022-10-16T09:17:48.007Z"
   },
   {
    "duration": 5,
    "start_time": "2022-10-16T09:17:48.078Z"
   },
   {
    "duration": 12,
    "start_time": "2022-10-16T09:17:48.084Z"
   },
   {
    "duration": 7,
    "start_time": "2022-10-16T09:17:48.097Z"
   },
   {
    "duration": 4,
    "start_time": "2022-10-16T09:18:40.861Z"
   },
   {
    "duration": 4,
    "start_time": "2022-10-16T09:29:28.191Z"
   },
   {
    "duration": 660,
    "start_time": "2022-10-16T09:29:39.627Z"
   },
   {
    "duration": 42,
    "start_time": "2022-10-16T09:29:40.289Z"
   },
   {
    "duration": 13,
    "start_time": "2022-10-16T09:29:40.332Z"
   },
   {
    "duration": 1765,
    "start_time": "2022-10-16T09:29:40.347Z"
   },
   {
    "duration": 22,
    "start_time": "2022-10-16T09:29:42.113Z"
   },
   {
    "duration": 8,
    "start_time": "2022-10-16T09:29:42.137Z"
   },
   {
    "duration": 8,
    "start_time": "2022-10-16T09:29:42.147Z"
   },
   {
    "duration": 8,
    "start_time": "2022-10-16T09:29:42.157Z"
   },
   {
    "duration": 3,
    "start_time": "2022-10-16T09:29:42.167Z"
   },
   {
    "duration": 6,
    "start_time": "2022-10-16T09:29:42.172Z"
   },
   {
    "duration": 18,
    "start_time": "2022-10-16T09:29:42.179Z"
   },
   {
    "duration": 14,
    "start_time": "2022-10-16T09:29:42.221Z"
   },
   {
    "duration": 15,
    "start_time": "2022-10-16T09:29:42.236Z"
   },
   {
    "duration": 5,
    "start_time": "2022-10-16T09:29:42.252Z"
   },
   {
    "duration": 8,
    "start_time": "2022-10-16T09:29:42.258Z"
   },
   {
    "duration": 110,
    "start_time": "2022-10-16T09:29:42.267Z"
   },
   {
    "duration": 6,
    "start_time": "2022-10-16T09:29:42.379Z"
   },
   {
    "duration": 73,
    "start_time": "2022-10-16T09:29:42.386Z"
   },
   {
    "duration": 6,
    "start_time": "2022-10-16T09:29:42.461Z"
   },
   {
    "duration": 10,
    "start_time": "2022-10-16T09:29:42.468Z"
   },
   {
    "duration": 6,
    "start_time": "2022-10-16T09:29:42.480Z"
   },
   {
    "duration": 3,
    "start_time": "2022-10-16T09:29:42.488Z"
   },
   {
    "duration": 35,
    "start_time": "2022-10-16T09:31:47.521Z"
   },
   {
    "duration": 6,
    "start_time": "2022-10-16T09:32:28.354Z"
   },
   {
    "duration": 63,
    "start_time": "2022-10-16T09:33:19.292Z"
   },
   {
    "duration": 4,
    "start_time": "2022-10-16T09:33:32.631Z"
   },
   {
    "duration": 9,
    "start_time": "2022-10-16T09:58:30.697Z"
   },
   {
    "duration": 41,
    "start_time": "2022-10-16T10:01:05.324Z"
   },
   {
    "duration": 903,
    "start_time": "2022-10-16T12:24:08.149Z"
   },
   {
    "duration": 68,
    "start_time": "2022-10-16T12:24:09.054Z"
   },
   {
    "duration": 15,
    "start_time": "2022-10-16T12:24:09.123Z"
   },
   {
    "duration": 1801,
    "start_time": "2022-10-16T12:24:09.140Z"
   },
   {
    "duration": 25,
    "start_time": "2022-10-16T12:24:10.943Z"
   },
   {
    "duration": 8,
    "start_time": "2022-10-16T12:24:10.970Z"
   },
   {
    "duration": 9,
    "start_time": "2022-10-16T12:24:10.980Z"
   },
   {
    "duration": 12,
    "start_time": "2022-10-16T12:24:10.991Z"
   },
   {
    "duration": 4,
    "start_time": "2022-10-16T12:24:11.023Z"
   },
   {
    "duration": 6,
    "start_time": "2022-10-16T12:24:11.029Z"
   },
   {
    "duration": 22,
    "start_time": "2022-10-16T12:24:11.037Z"
   },
   {
    "duration": 16,
    "start_time": "2022-10-16T12:24:11.061Z"
   },
   {
    "duration": 15,
    "start_time": "2022-10-16T12:24:11.079Z"
   },
   {
    "duration": 27,
    "start_time": "2022-10-16T12:24:11.096Z"
   },
   {
    "duration": 9,
    "start_time": "2022-10-16T12:24:11.124Z"
   },
   {
    "duration": 116,
    "start_time": "2022-10-16T12:24:11.135Z"
   },
   {
    "duration": 9,
    "start_time": "2022-10-16T12:24:11.253Z"
   },
   {
    "duration": 91,
    "start_time": "2022-10-16T12:24:11.263Z"
   },
   {
    "duration": 9,
    "start_time": "2022-10-16T12:24:11.356Z"
   },
   {
    "duration": 16,
    "start_time": "2022-10-16T12:24:11.366Z"
   },
   {
    "duration": 11,
    "start_time": "2022-10-16T12:24:11.384Z"
   },
   {
    "duration": 5,
    "start_time": "2022-10-16T12:24:11.425Z"
   },
   {
    "duration": 57,
    "start_time": "2022-10-16T12:24:11.433Z"
   },
   {
    "duration": 81,
    "start_time": "2022-10-16T12:26:27.386Z"
   },
   {
    "duration": 787,
    "start_time": "2022-10-16T12:26:45.135Z"
   },
   {
    "duration": 5,
    "start_time": "2022-10-16T12:26:56.904Z"
   },
   {
    "duration": 39,
    "start_time": "2022-10-16T12:27:10.322Z"
   },
   {
    "duration": 5,
    "start_time": "2022-10-16T12:34:02.503Z"
   },
   {
    "duration": 39,
    "start_time": "2022-10-16T12:34:05.365Z"
   },
   {
    "duration": 5,
    "start_time": "2022-10-16T12:35:17.478Z"
   },
   {
    "duration": 38,
    "start_time": "2022-10-16T12:35:19.220Z"
   },
   {
    "duration": 9,
    "start_time": "2022-10-16T12:36:26.958Z"
   },
   {
    "duration": 40,
    "start_time": "2022-10-16T12:37:02.624Z"
   },
   {
    "duration": 5,
    "start_time": "2022-10-16T12:37:14.480Z"
   },
   {
    "duration": 62,
    "start_time": "2022-10-16T12:37:15.901Z"
   },
   {
    "duration": 1123,
    "start_time": "2022-10-16T14:39:40.509Z"
   },
   {
    "duration": 57,
    "start_time": "2022-10-16T14:39:41.634Z"
   },
   {
    "duration": 18,
    "start_time": "2022-10-16T14:39:41.693Z"
   },
   {
    "duration": 1984,
    "start_time": "2022-10-16T14:39:41.714Z"
   },
   {
    "duration": 22,
    "start_time": "2022-10-16T14:39:43.700Z"
   },
   {
    "duration": 9,
    "start_time": "2022-10-16T14:39:43.724Z"
   },
   {
    "duration": 9,
    "start_time": "2022-10-16T14:39:43.734Z"
   },
   {
    "duration": 10,
    "start_time": "2022-10-16T14:39:43.745Z"
   },
   {
    "duration": 4,
    "start_time": "2022-10-16T14:39:43.756Z"
   },
   {
    "duration": 33,
    "start_time": "2022-10-16T14:39:43.762Z"
   },
   {
    "duration": 19,
    "start_time": "2022-10-16T14:39:43.797Z"
   },
   {
    "duration": 16,
    "start_time": "2022-10-16T14:39:43.818Z"
   },
   {
    "duration": 18,
    "start_time": "2022-10-16T14:39:43.835Z"
   },
   {
    "duration": 6,
    "start_time": "2022-10-16T14:39:43.855Z"
   },
   {
    "duration": 34,
    "start_time": "2022-10-16T14:39:43.862Z"
   },
   {
    "duration": 105,
    "start_time": "2022-10-16T14:39:43.898Z"
   },
   {
    "duration": 9,
    "start_time": "2022-10-16T14:39:44.005Z"
   },
   {
    "duration": 85,
    "start_time": "2022-10-16T14:39:44.015Z"
   },
   {
    "duration": 6,
    "start_time": "2022-10-16T14:39:44.102Z"
   },
   {
    "duration": 19,
    "start_time": "2022-10-16T14:39:44.110Z"
   },
   {
    "duration": 11,
    "start_time": "2022-10-16T14:39:44.131Z"
   },
   {
    "duration": 5,
    "start_time": "2022-10-16T14:39:44.143Z"
   },
   {
    "duration": 75,
    "start_time": "2022-10-16T14:39:44.149Z"
   },
   {
    "duration": 71,
    "start_time": "2022-10-16T14:45:08.233Z"
   },
   {
    "duration": 8,
    "start_time": "2022-10-16T14:45:41.706Z"
   },
   {
    "duration": 10,
    "start_time": "2022-10-16T14:45:59.107Z"
   },
   {
    "duration": 39,
    "start_time": "2022-10-16T14:46:28.996Z"
   },
   {
    "duration": 9,
    "start_time": "2022-10-16T14:46:59.885Z"
   },
   {
    "duration": 10,
    "start_time": "2022-10-16T14:47:31.860Z"
   },
   {
    "duration": 9,
    "start_time": "2022-10-16T14:47:36.379Z"
   },
   {
    "duration": 5,
    "start_time": "2022-10-16T14:48:24.835Z"
   },
   {
    "duration": 15,
    "start_time": "2022-10-16T14:48:59.106Z"
   },
   {
    "duration": 18,
    "start_time": "2022-10-16T14:49:17.542Z"
   },
   {
    "duration": 735,
    "start_time": "2022-10-16T14:49:27.896Z"
   },
   {
    "duration": 49,
    "start_time": "2022-10-16T14:49:28.633Z"
   },
   {
    "duration": 25,
    "start_time": "2022-10-16T14:49:28.683Z"
   },
   {
    "duration": 1961,
    "start_time": "2022-10-16T14:49:28.709Z"
   },
   {
    "duration": 23,
    "start_time": "2022-10-16T14:49:30.672Z"
   },
   {
    "duration": 11,
    "start_time": "2022-10-16T14:49:30.696Z"
   },
   {
    "duration": 16,
    "start_time": "2022-10-16T14:49:30.709Z"
   },
   {
    "duration": 13,
    "start_time": "2022-10-16T14:49:30.726Z"
   },
   {
    "duration": 4,
    "start_time": "2022-10-16T14:49:30.741Z"
   },
   {
    "duration": 9,
    "start_time": "2022-10-16T14:49:30.746Z"
   },
   {
    "duration": 43,
    "start_time": "2022-10-16T14:49:30.756Z"
   },
   {
    "duration": 18,
    "start_time": "2022-10-16T14:49:30.801Z"
   },
   {
    "duration": 19,
    "start_time": "2022-10-16T14:49:30.820Z"
   },
   {
    "duration": 9,
    "start_time": "2022-10-16T14:49:30.841Z"
   },
   {
    "duration": 12,
    "start_time": "2022-10-16T14:49:30.851Z"
   },
   {
    "duration": 136,
    "start_time": "2022-10-16T14:49:30.865Z"
   },
   {
    "duration": 9,
    "start_time": "2022-10-16T14:49:31.002Z"
   },
   {
    "duration": 83,
    "start_time": "2022-10-16T14:49:31.013Z"
   },
   {
    "duration": 6,
    "start_time": "2022-10-16T14:49:31.098Z"
   },
   {
    "duration": 15,
    "start_time": "2022-10-16T14:49:31.106Z"
   },
   {
    "duration": 8,
    "start_time": "2022-10-16T14:49:31.123Z"
   },
   {
    "duration": 5,
    "start_time": "2022-10-16T14:49:31.133Z"
   },
   {
    "duration": 10,
    "start_time": "2022-10-16T14:49:31.139Z"
   },
   {
    "duration": 14,
    "start_time": "2022-10-16T14:50:17.111Z"
   },
   {
    "duration": 79,
    "start_time": "2022-10-16T14:50:30.125Z"
   },
   {
    "duration": 11,
    "start_time": "2022-10-16T14:50:35.725Z"
   },
   {
    "duration": 7,
    "start_time": "2022-10-16T16:50:13.020Z"
   },
   {
    "duration": 57,
    "start_time": "2022-10-16T16:50:56.822Z"
   },
   {
    "duration": 7,
    "start_time": "2022-10-16T16:55:43.501Z"
   },
   {
    "duration": 42,
    "start_time": "2022-10-16T16:55:49.702Z"
   },
   {
    "duration": 42,
    "start_time": "2022-10-16T16:57:14.767Z"
   },
   {
    "duration": 40,
    "start_time": "2022-10-16T16:58:44.922Z"
   },
   {
    "duration": 39,
    "start_time": "2022-10-16T16:59:06.272Z"
   },
   {
    "duration": 43,
    "start_time": "2022-10-16T16:59:20.244Z"
   },
   {
    "duration": 41,
    "start_time": "2022-10-16T16:59:22.897Z"
   },
   {
    "duration": 46,
    "start_time": "2022-10-16T17:04:27.069Z"
   },
   {
    "duration": 40,
    "start_time": "2022-10-16T17:05:12.704Z"
   },
   {
    "duration": 44,
    "start_time": "2022-10-16T17:05:38.695Z"
   },
   {
    "duration": 97,
    "start_time": "2022-10-16T17:05:57.975Z"
   },
   {
    "duration": 50,
    "start_time": "2022-10-16T17:05:58.074Z"
   },
   {
    "duration": 15,
    "start_time": "2022-10-16T17:05:58.126Z"
   },
   {
    "duration": 2147,
    "start_time": "2022-10-16T17:05:58.144Z"
   },
   {
    "duration": 32,
    "start_time": "2022-10-16T17:06:00.292Z"
   },
   {
    "duration": 11,
    "start_time": "2022-10-16T17:06:00.326Z"
   },
   {
    "duration": 21,
    "start_time": "2022-10-16T17:06:00.339Z"
   },
   {
    "duration": 35,
    "start_time": "2022-10-16T17:06:00.362Z"
   },
   {
    "duration": 12,
    "start_time": "2022-10-16T17:06:00.399Z"
   },
   {
    "duration": 22,
    "start_time": "2022-10-16T17:06:00.414Z"
   },
   {
    "duration": 36,
    "start_time": "2022-10-16T17:06:00.438Z"
   },
   {
    "duration": 24,
    "start_time": "2022-10-16T17:06:00.477Z"
   },
   {
    "duration": 31,
    "start_time": "2022-10-16T17:06:00.504Z"
   },
   {
    "duration": 17,
    "start_time": "2022-10-16T17:06:00.537Z"
   },
   {
    "duration": 41,
    "start_time": "2022-10-16T17:06:00.556Z"
   },
   {
    "duration": 143,
    "start_time": "2022-10-16T17:06:00.601Z"
   },
   {
    "duration": 7,
    "start_time": "2022-10-16T17:06:00.746Z"
   },
   {
    "duration": 82,
    "start_time": "2022-10-16T17:06:00.754Z"
   },
   {
    "duration": 5,
    "start_time": "2022-10-16T17:06:00.837Z"
   },
   {
    "duration": 14,
    "start_time": "2022-10-16T17:06:00.844Z"
   },
   {
    "duration": 21,
    "start_time": "2022-10-16T17:06:00.859Z"
   },
   {
    "duration": 5,
    "start_time": "2022-10-16T17:06:00.882Z"
   },
   {
    "duration": 57,
    "start_time": "2022-10-16T17:06:00.895Z"
   },
   {
    "duration": 39,
    "start_time": "2022-10-16T17:06:00.954Z"
   },
   {
    "duration": 35,
    "start_time": "2022-10-16T17:06:01.038Z"
   },
   {
    "duration": 46,
    "start_time": "2022-10-16T17:06:40.598Z"
   },
   {
    "duration": 19,
    "start_time": "2022-10-16T17:23:56.871Z"
   },
   {
    "duration": 1116,
    "start_time": "2022-10-16T17:29:42.870Z"
   },
   {
    "duration": 1149,
    "start_time": "2022-10-16T17:30:05.072Z"
   },
   {
    "duration": 385,
    "start_time": "2022-10-16T17:31:39.400Z"
   },
   {
    "duration": 330,
    "start_time": "2022-10-16T17:33:17.341Z"
   },
   {
    "duration": 366,
    "start_time": "2022-10-16T17:33:25.564Z"
   },
   {
    "duration": 300,
    "start_time": "2022-10-16T17:34:31.489Z"
   },
   {
    "duration": 470,
    "start_time": "2022-10-16T17:36:29.949Z"
   },
   {
    "duration": 1022,
    "start_time": "2022-10-16T17:37:25.975Z"
   },
   {
    "duration": 419,
    "start_time": "2022-10-16T17:38:16.217Z"
   },
   {
    "duration": 369,
    "start_time": "2022-10-16T17:39:25.875Z"
   },
   {
    "duration": 779,
    "start_time": "2022-10-16T17:40:09.558Z"
   },
   {
    "duration": 48,
    "start_time": "2022-10-16T17:40:10.339Z"
   },
   {
    "duration": 31,
    "start_time": "2022-10-16T17:40:10.388Z"
   },
   {
    "duration": 2195,
    "start_time": "2022-10-16T17:40:10.424Z"
   },
   {
    "duration": 23,
    "start_time": "2022-10-16T17:40:12.621Z"
   },
   {
    "duration": 10,
    "start_time": "2022-10-16T17:40:12.646Z"
   },
   {
    "duration": 9,
    "start_time": "2022-10-16T17:40:12.657Z"
   },
   {
    "duration": 10,
    "start_time": "2022-10-16T17:40:12.667Z"
   },
   {
    "duration": 4,
    "start_time": "2022-10-16T17:40:12.678Z"
   },
   {
    "duration": 5,
    "start_time": "2022-10-16T17:40:12.694Z"
   },
   {
    "duration": 41,
    "start_time": "2022-10-16T17:40:12.701Z"
   },
   {
    "duration": 15,
    "start_time": "2022-10-16T17:40:12.744Z"
   },
   {
    "duration": 17,
    "start_time": "2022-10-16T17:40:12.761Z"
   },
   {
    "duration": 6,
    "start_time": "2022-10-16T17:40:12.780Z"
   },
   {
    "duration": 10,
    "start_time": "2022-10-16T17:40:12.803Z"
   },
   {
    "duration": 121,
    "start_time": "2022-10-16T17:40:12.815Z"
   },
   {
    "duration": 7,
    "start_time": "2022-10-16T17:40:12.938Z"
   },
   {
    "duration": 91,
    "start_time": "2022-10-16T17:40:12.946Z"
   },
   {
    "duration": 5,
    "start_time": "2022-10-16T17:40:13.039Z"
   },
   {
    "duration": 12,
    "start_time": "2022-10-16T17:40:13.045Z"
   },
   {
    "duration": 8,
    "start_time": "2022-10-16T17:40:13.059Z"
   },
   {
    "duration": 5,
    "start_time": "2022-10-16T17:40:13.068Z"
   },
   {
    "duration": 48,
    "start_time": "2022-10-16T17:40:13.099Z"
   },
   {
    "duration": 55,
    "start_time": "2022-10-16T17:40:13.149Z"
   },
   {
    "duration": 45,
    "start_time": "2022-10-16T17:40:13.206Z"
   },
   {
    "duration": 92,
    "start_time": "2022-10-16T17:40:13.253Z"
   },
   {
    "duration": 270,
    "start_time": "2022-10-16T17:40:33.046Z"
   },
   {
    "duration": 268,
    "start_time": "2022-10-16T17:41:48.870Z"
   },
   {
    "duration": 70,
    "start_time": "2022-10-16T17:54:14.047Z"
   },
   {
    "duration": 39,
    "start_time": "2022-10-16T17:55:20.620Z"
   },
   {
    "duration": 1261,
    "start_time": "2022-10-16T17:56:06.374Z"
   },
   {
    "duration": 14,
    "start_time": "2022-10-16T17:56:36.823Z"
   },
   {
    "duration": 83,
    "start_time": "2022-10-16T17:57:34.143Z"
   },
   {
    "duration": 43,
    "start_time": "2022-10-16T17:57:34.227Z"
   },
   {
    "duration": 29,
    "start_time": "2022-10-16T17:57:34.271Z"
   },
   {
    "duration": 2036,
    "start_time": "2022-10-16T17:57:34.302Z"
   },
   {
    "duration": 20,
    "start_time": "2022-10-16T17:57:36.340Z"
   },
   {
    "duration": 8,
    "start_time": "2022-10-16T17:57:36.362Z"
   },
   {
    "duration": 33,
    "start_time": "2022-10-16T17:57:36.372Z"
   },
   {
    "duration": 11,
    "start_time": "2022-10-16T17:57:36.406Z"
   },
   {
    "duration": 4,
    "start_time": "2022-10-16T17:57:36.419Z"
   },
   {
    "duration": 5,
    "start_time": "2022-10-16T17:57:36.427Z"
   },
   {
    "duration": 20,
    "start_time": "2022-10-16T17:57:36.433Z"
   },
   {
    "duration": 50,
    "start_time": "2022-10-16T17:57:36.455Z"
   },
   {
    "duration": 20,
    "start_time": "2022-10-16T17:57:36.507Z"
   },
   {
    "duration": 6,
    "start_time": "2022-10-16T17:57:36.529Z"
   },
   {
    "duration": 16,
    "start_time": "2022-10-16T17:57:36.537Z"
   },
   {
    "duration": 150,
    "start_time": "2022-10-16T17:57:36.554Z"
   },
   {
    "duration": 10,
    "start_time": "2022-10-16T17:57:36.707Z"
   },
   {
    "duration": 113,
    "start_time": "2022-10-16T17:57:36.719Z"
   },
   {
    "duration": 7,
    "start_time": "2022-10-16T17:57:36.834Z"
   },
   {
    "duration": 15,
    "start_time": "2022-10-16T17:57:36.843Z"
   },
   {
    "duration": 12,
    "start_time": "2022-10-16T17:57:36.860Z"
   },
   {
    "duration": 37,
    "start_time": "2022-10-16T17:57:36.874Z"
   },
   {
    "duration": 63,
    "start_time": "2022-10-16T17:57:36.913Z"
   },
   {
    "duration": 39,
    "start_time": "2022-10-16T17:57:36.978Z"
   },
   {
    "duration": 41,
    "start_time": "2022-10-16T17:57:37.018Z"
   },
   {
    "duration": 264,
    "start_time": "2022-10-16T17:57:37.061Z"
   },
   {
    "duration": 13,
    "start_time": "2022-10-16T17:57:37.327Z"
   },
   {
    "duration": 80,
    "start_time": "2022-10-16T18:12:32.864Z"
   },
   {
    "duration": 123,
    "start_time": "2022-10-16T18:12:43.506Z"
   },
   {
    "duration": 649,
    "start_time": "2022-10-16T18:13:08.658Z"
   },
   {
    "duration": 242,
    "start_time": "2022-10-16T18:13:20.532Z"
   },
   {
    "duration": 873,
    "start_time": "2022-10-16T18:13:33.211Z"
   },
   {
    "duration": 178,
    "start_time": "2022-10-16T18:13:42.377Z"
   },
   {
    "duration": 68,
    "start_time": "2022-10-16T18:14:16.132Z"
   },
   {
    "duration": 243,
    "start_time": "2022-10-16T18:18:23.730Z"
   },
   {
    "duration": 257,
    "start_time": "2022-10-16T18:18:41.162Z"
   },
   {
    "duration": 209,
    "start_time": "2022-10-16T18:18:52.094Z"
   },
   {
    "duration": 393,
    "start_time": "2022-10-16T18:19:00.985Z"
   },
   {
    "duration": 395,
    "start_time": "2022-10-16T18:19:10.902Z"
   },
   {
    "duration": 333,
    "start_time": "2022-10-16T18:19:27.938Z"
   },
   {
    "duration": 266,
    "start_time": "2022-10-16T18:23:44.814Z"
   },
   {
    "duration": 276,
    "start_time": "2022-10-16T18:23:56.357Z"
   },
   {
    "duration": 734,
    "start_time": "2022-10-16T18:24:10.583Z"
   },
   {
    "duration": 392,
    "start_time": "2022-10-16T18:24:17.665Z"
   },
   {
    "duration": 186,
    "start_time": "2022-10-16T18:24:35.652Z"
   },
   {
    "duration": 241,
    "start_time": "2022-10-16T18:25:59.274Z"
   },
   {
    "duration": 366,
    "start_time": "2022-10-16T18:26:06.553Z"
   },
   {
    "duration": 800,
    "start_time": "2022-10-16T18:26:17.684Z"
   },
   {
    "duration": 199,
    "start_time": "2022-10-16T18:26:23.998Z"
   },
   {
    "duration": 198,
    "start_time": "2022-10-16T18:26:37.429Z"
   },
   {
    "duration": 182,
    "start_time": "2022-10-16T18:40:17.131Z"
   },
   {
    "duration": 134,
    "start_time": "2022-10-16T18:41:32.464Z"
   },
   {
    "duration": 134,
    "start_time": "2022-10-16T18:41:50.550Z"
   },
   {
    "duration": 944,
    "start_time": "2022-10-16T18:42:03.387Z"
   },
   {
    "duration": 234,
    "start_time": "2022-10-16T18:42:12.214Z"
   },
   {
    "duration": 744,
    "start_time": "2022-10-16T18:42:25.943Z"
   },
   {
    "duration": 1138,
    "start_time": "2022-10-16T18:42:45.947Z"
   },
   {
    "duration": 758,
    "start_time": "2022-10-16T18:42:53.070Z"
   },
   {
    "duration": 744,
    "start_time": "2022-10-16T18:43:05.493Z"
   },
   {
    "duration": 1003,
    "start_time": "2022-10-16T18:43:12.845Z"
   },
   {
    "duration": 809,
    "start_time": "2022-10-16T18:43:25.975Z"
   },
   {
    "duration": 744,
    "start_time": "2022-10-16T18:43:32.249Z"
   },
   {
    "duration": 823,
    "start_time": "2022-10-16T18:43:36.287Z"
   },
   {
    "duration": 1183,
    "start_time": "2022-10-16T18:43:40.148Z"
   },
   {
    "duration": 950,
    "start_time": "2022-10-16T18:43:46.595Z"
   },
   {
    "duration": 771,
    "start_time": "2022-10-16T18:43:52.020Z"
   },
   {
    "duration": 733,
    "start_time": "2022-10-16T18:44:08.431Z"
   },
   {
    "duration": 765,
    "start_time": "2022-10-16T18:44:28.259Z"
   },
   {
    "duration": 1255,
    "start_time": "2022-10-16T18:44:43.605Z"
   },
   {
    "duration": 821,
    "start_time": "2022-10-16T18:45:00.243Z"
   },
   {
    "duration": 140,
    "start_time": "2022-10-16T18:46:08.428Z"
   },
   {
    "duration": 771,
    "start_time": "2022-10-16T18:46:34.068Z"
   },
   {
    "duration": 200,
    "start_time": "2022-10-16T18:46:40.136Z"
   },
   {
    "duration": 131,
    "start_time": "2022-10-16T18:46:45.873Z"
   },
   {
    "duration": 177,
    "start_time": "2022-10-16T18:46:53.267Z"
   },
   {
    "duration": 189,
    "start_time": "2022-10-16T18:47:04.442Z"
   },
   {
    "duration": 187,
    "start_time": "2022-10-16T18:47:20.180Z"
   },
   {
    "duration": 149,
    "start_time": "2022-10-16T18:48:39.671Z"
   },
   {
    "duration": 768,
    "start_time": "2022-10-16T18:48:59.998Z"
   },
   {
    "duration": 248,
    "start_time": "2022-10-16T18:49:13.816Z"
   },
   {
    "duration": 261,
    "start_time": "2022-10-16T18:49:33.349Z"
   },
   {
    "duration": 796,
    "start_time": "2022-10-16T18:49:40.515Z"
   },
   {
    "duration": 264,
    "start_time": "2022-10-16T18:49:46.294Z"
   },
   {
    "duration": 279,
    "start_time": "2022-10-16T18:51:07.518Z"
   },
   {
    "duration": 236,
    "start_time": "2022-10-16T18:51:15.923Z"
   },
   {
    "duration": 700,
    "start_time": "2022-10-16T18:51:35.529Z"
   },
   {
    "duration": 206,
    "start_time": "2022-10-16T18:51:39.685Z"
   },
   {
    "duration": 191,
    "start_time": "2022-10-16T18:51:57.667Z"
   },
   {
    "duration": 111,
    "start_time": "2022-10-16T18:53:11.613Z"
   },
   {
    "duration": 467,
    "start_time": "2022-10-16T18:53:24.391Z"
   },
   {
    "duration": 138,
    "start_time": "2022-10-16T18:53:29.415Z"
   },
   {
    "duration": 109,
    "start_time": "2022-10-16T18:53:33.950Z"
   },
   {
    "duration": 120,
    "start_time": "2022-10-16T18:53:40.547Z"
   },
   {
    "duration": 128,
    "start_time": "2022-10-16T18:53:43.767Z"
   },
   {
    "duration": 122,
    "start_time": "2022-10-16T18:53:51.116Z"
   },
   {
    "duration": 139,
    "start_time": "2022-10-16T18:53:54.692Z"
   },
   {
    "duration": 115,
    "start_time": "2022-10-16T18:54:11.923Z"
   },
   {
    "duration": 175,
    "start_time": "2022-10-16T18:54:18.533Z"
   },
   {
    "duration": 114,
    "start_time": "2022-10-16T18:54:22.488Z"
   },
   {
    "duration": 241,
    "start_time": "2022-10-16T18:55:34.483Z"
   },
   {
    "duration": 197,
    "start_time": "2022-10-16T18:55:43.715Z"
   },
   {
    "duration": 186,
    "start_time": "2022-10-16T18:55:51.667Z"
   },
   {
    "duration": 212,
    "start_time": "2022-10-16T18:55:55.556Z"
   },
   {
    "duration": 116,
    "start_time": "2022-10-16T18:56:24.313Z"
   },
   {
    "duration": 197,
    "start_time": "2022-10-16T18:56:44.342Z"
   },
   {
    "duration": 114,
    "start_time": "2022-10-16T18:56:48.386Z"
   },
   {
    "duration": 142,
    "start_time": "2022-10-16T18:56:56.638Z"
   },
   {
    "duration": 109,
    "start_time": "2022-10-16T18:57:04.761Z"
   },
   {
    "duration": 109,
    "start_time": "2022-10-16T18:57:15.632Z"
   },
   {
    "duration": 116,
    "start_time": "2022-10-16T18:57:22.441Z"
   },
   {
    "duration": 201,
    "start_time": "2022-10-16T18:57:59.981Z"
   },
   {
    "duration": 233,
    "start_time": "2022-10-16T18:59:19.864Z"
   },
   {
    "duration": 235,
    "start_time": "2022-10-16T18:59:35.729Z"
   },
   {
    "duration": 229,
    "start_time": "2022-10-16T19:01:30.669Z"
   },
   {
    "duration": 727,
    "start_time": "2022-10-16T19:01:47.920Z"
   },
   {
    "duration": 1049,
    "start_time": "2022-10-16T19:01:53.086Z"
   },
   {
    "duration": 385,
    "start_time": "2022-10-16T19:02:24.557Z"
   },
   {
    "duration": 385,
    "start_time": "2022-10-16T19:02:54.959Z"
   },
   {
    "duration": 79,
    "start_time": "2022-10-16T19:03:08.967Z"
   },
   {
    "duration": 407,
    "start_time": "2022-10-16T19:03:16.834Z"
   },
   {
    "duration": 280,
    "start_time": "2022-10-16T19:03:20.411Z"
   },
   {
    "duration": 260,
    "start_time": "2022-10-16T19:03:34.248Z"
   },
   {
    "duration": 267,
    "start_time": "2022-10-16T19:04:00.952Z"
   },
   {
    "duration": 138,
    "start_time": "2022-10-16T19:04:54.945Z"
   },
   {
    "duration": 260,
    "start_time": "2022-10-16T19:05:16.354Z"
   },
   {
    "duration": 177,
    "start_time": "2022-10-16T19:05:22.496Z"
   },
   {
    "duration": 702,
    "start_time": "2022-10-16T19:05:30.214Z"
   },
   {
    "duration": 220,
    "start_time": "2022-10-16T19:05:35.724Z"
   },
   {
    "duration": 240,
    "start_time": "2022-10-16T19:05:44.044Z"
   },
   {
    "duration": 177,
    "start_time": "2022-10-16T19:06:09.013Z"
   },
   {
    "duration": 305,
    "start_time": "2022-10-16T19:06:16.660Z"
   },
   {
    "duration": 256,
    "start_time": "2022-10-16T19:06:24.120Z"
   },
   {
    "duration": 285,
    "start_time": "2022-10-16T19:06:59.291Z"
   },
   {
    "duration": 244,
    "start_time": "2022-10-16T19:08:06.017Z"
   },
   {
    "duration": 178,
    "start_time": "2022-10-16T19:08:12.735Z"
   },
   {
    "duration": 182,
    "start_time": "2022-10-16T19:08:26.365Z"
   },
   {
    "duration": 227,
    "start_time": "2022-10-16T19:08:33.254Z"
   },
   {
    "duration": 124,
    "start_time": "2022-10-16T19:08:38.163Z"
   },
   {
    "duration": 137,
    "start_time": "2022-10-16T19:08:44.863Z"
   },
   {
    "duration": 126,
    "start_time": "2022-10-16T19:08:49.133Z"
   },
   {
    "duration": 155,
    "start_time": "2022-10-16T19:08:52.489Z"
   },
   {
    "duration": 147,
    "start_time": "2022-10-16T19:08:55.883Z"
   },
   {
    "duration": 154,
    "start_time": "2022-10-16T19:09:04.592Z"
   },
   {
    "duration": 140,
    "start_time": "2022-10-16T19:09:10.028Z"
   },
   {
    "duration": 155,
    "start_time": "2022-10-16T19:09:32.610Z"
   },
   {
    "duration": 135,
    "start_time": "2022-10-16T19:09:38.949Z"
   },
   {
    "duration": 141,
    "start_time": "2022-10-16T19:09:45.320Z"
   },
   {
    "duration": 132,
    "start_time": "2022-10-16T19:10:39.166Z"
   },
   {
    "duration": 193,
    "start_time": "2022-10-16T19:10:55.035Z"
   },
   {
    "duration": 150,
    "start_time": "2022-10-16T19:11:01.611Z"
   },
   {
    "duration": 158,
    "start_time": "2022-10-16T19:11:12.314Z"
   },
   {
    "duration": 258,
    "start_time": "2022-10-16T19:19:50.825Z"
   },
   {
    "duration": 271,
    "start_time": "2022-10-16T19:20:01.047Z"
   },
   {
    "duration": 256,
    "start_time": "2022-10-16T19:20:09.916Z"
   },
   {
    "duration": 247,
    "start_time": "2022-10-16T19:22:43.264Z"
   },
   {
    "duration": 181,
    "start_time": "2022-10-16T19:25:45.149Z"
   },
   {
    "duration": 179,
    "start_time": "2022-10-16T19:27:35.753Z"
   },
   {
    "duration": 192,
    "start_time": "2022-10-16T19:28:11.928Z"
   },
   {
    "duration": 193,
    "start_time": "2022-10-16T19:28:47.183Z"
   },
   {
    "duration": 240,
    "start_time": "2022-10-16T19:29:58.678Z"
   },
   {
    "duration": 307,
    "start_time": "2022-10-16T19:30:16.386Z"
   },
   {
    "duration": 264,
    "start_time": "2022-10-16T19:30:47.371Z"
   },
   {
    "duration": 264,
    "start_time": "2022-10-16T19:30:58.333Z"
   },
   {
    "duration": 205,
    "start_time": "2022-10-16T19:33:33.289Z"
   },
   {
    "duration": 5,
    "start_time": "2022-10-16T19:34:22.949Z"
   },
   {
    "duration": 16,
    "start_time": "2022-10-16T19:35:02.408Z"
   },
   {
    "duration": 7,
    "start_time": "2022-10-16T19:35:26.900Z"
   },
   {
    "duration": 197,
    "start_time": "2022-10-16T19:37:55.417Z"
   },
   {
    "duration": 155,
    "start_time": "2022-10-16T19:38:05.356Z"
   },
   {
    "duration": 172,
    "start_time": "2022-10-16T19:47:36.428Z"
   },
   {
    "duration": 206,
    "start_time": "2022-10-16T19:51:00.670Z"
   },
   {
    "duration": 894,
    "start_time": "2022-10-17T06:48:29.434Z"
   },
   {
    "duration": 46,
    "start_time": "2022-10-17T06:48:30.330Z"
   },
   {
    "duration": 14,
    "start_time": "2022-10-17T06:48:30.377Z"
   },
   {
    "duration": 1901,
    "start_time": "2022-10-17T06:48:30.392Z"
   },
   {
    "duration": 26,
    "start_time": "2022-10-17T06:48:32.295Z"
   },
   {
    "duration": 8,
    "start_time": "2022-10-17T06:48:32.323Z"
   },
   {
    "duration": 9,
    "start_time": "2022-10-17T06:48:32.333Z"
   },
   {
    "duration": 10,
    "start_time": "2022-10-17T06:48:32.344Z"
   },
   {
    "duration": 5,
    "start_time": "2022-10-17T06:48:32.355Z"
   },
   {
    "duration": 4,
    "start_time": "2022-10-17T06:48:32.363Z"
   },
   {
    "duration": 47,
    "start_time": "2022-10-17T06:48:32.368Z"
   },
   {
    "duration": 15,
    "start_time": "2022-10-17T06:48:32.416Z"
   },
   {
    "duration": 19,
    "start_time": "2022-10-17T06:48:32.432Z"
   },
   {
    "duration": 5,
    "start_time": "2022-10-17T06:48:32.452Z"
   },
   {
    "duration": 7,
    "start_time": "2022-10-17T06:48:32.459Z"
   },
   {
    "duration": 149,
    "start_time": "2022-10-17T06:48:32.467Z"
   },
   {
    "duration": 8,
    "start_time": "2022-10-17T06:48:32.618Z"
   },
   {
    "duration": 80,
    "start_time": "2022-10-17T06:48:32.628Z"
   },
   {
    "duration": 6,
    "start_time": "2022-10-17T06:48:32.710Z"
   },
   {
    "duration": 10,
    "start_time": "2022-10-17T06:48:32.718Z"
   },
   {
    "duration": 8,
    "start_time": "2022-10-17T06:48:32.729Z"
   },
   {
    "duration": 4,
    "start_time": "2022-10-17T06:48:32.738Z"
   },
   {
    "duration": 37,
    "start_time": "2022-10-17T06:48:32.743Z"
   },
   {
    "duration": 62,
    "start_time": "2022-10-17T06:48:32.781Z"
   },
   {
    "duration": 33,
    "start_time": "2022-10-17T06:48:32.844Z"
   },
   {
    "duration": 265,
    "start_time": "2022-10-17T06:48:32.879Z"
   },
   {
    "duration": 13,
    "start_time": "2022-10-17T06:48:33.145Z"
   },
   {
    "duration": 239,
    "start_time": "2022-10-17T06:48:33.161Z"
   },
   {
    "duration": 183,
    "start_time": "2022-10-17T06:48:33.401Z"
   },
   {
    "duration": 264,
    "start_time": "2022-10-17T06:48:33.585Z"
   },
   {
    "duration": 276,
    "start_time": "2022-10-17T06:48:33.851Z"
   },
   {
    "duration": 186,
    "start_time": "2022-10-17T06:48:34.128Z"
   },
   {
    "duration": 153,
    "start_time": "2022-10-17T06:48:34.315Z"
   },
   {
    "duration": 170,
    "start_time": "2022-10-17T06:48:34.470Z"
   },
   {
    "duration": 112,
    "start_time": "2022-10-17T06:48:34.641Z"
   },
   {
    "duration": 168,
    "start_time": "2022-10-17T06:48:34.754Z"
   },
   {
    "duration": 186,
    "start_time": "2022-10-17T06:48:34.924Z"
   },
   {
    "duration": 231,
    "start_time": "2022-10-17T06:48:35.111Z"
   },
   {
    "duration": 306,
    "start_time": "2022-10-17T06:48:35.343Z"
   },
   {
    "duration": 141,
    "start_time": "2022-10-17T06:48:35.651Z"
   },
   {
    "duration": 143,
    "start_time": "2022-10-17T06:48:35.793Z"
   },
   {
    "duration": 160,
    "start_time": "2022-10-17T06:57:21.502Z"
   },
   {
    "duration": 165,
    "start_time": "2022-10-17T07:09:10.248Z"
   },
   {
    "duration": 156,
    "start_time": "2022-10-17T07:09:39.573Z"
   },
   {
    "duration": 147,
    "start_time": "2022-10-17T07:09:42.822Z"
   },
   {
    "duration": 168,
    "start_time": "2022-10-17T07:09:50.318Z"
   },
   {
    "duration": 226,
    "start_time": "2022-10-17T07:09:55.317Z"
   },
   {
    "duration": 736,
    "start_time": "2022-10-17T07:10:11.026Z"
   },
   {
    "duration": 168,
    "start_time": "2022-10-17T07:10:16.454Z"
   },
   {
    "duration": 728,
    "start_time": "2022-10-17T07:15:28.565Z"
   },
   {
    "duration": 192,
    "start_time": "2022-10-17T07:15:33.712Z"
   },
   {
    "duration": 132,
    "start_time": "2022-10-17T07:38:08.540Z"
   },
   {
    "duration": 138,
    "start_time": "2022-10-17T07:38:34.412Z"
   },
   {
    "duration": 140,
    "start_time": "2022-10-17T07:38:53.150Z"
   },
   {
    "duration": 164,
    "start_time": "2022-10-17T07:38:57.874Z"
   },
   {
    "duration": 150,
    "start_time": "2022-10-17T07:39:08.808Z"
   },
   {
    "duration": 129,
    "start_time": "2022-10-17T07:39:33.580Z"
   },
   {
    "duration": 8,
    "start_time": "2022-10-17T07:42:50.023Z"
   },
   {
    "duration": 110,
    "start_time": "2022-10-17T07:50:37.949Z"
   },
   {
    "duration": 117,
    "start_time": "2022-10-17T07:51:36.506Z"
   },
   {
    "duration": 99,
    "start_time": "2022-10-17T07:52:29.919Z"
   },
   {
    "duration": 716,
    "start_time": "2022-10-17T09:17:38.496Z"
   },
   {
    "duration": 45,
    "start_time": "2022-10-17T09:17:39.214Z"
   },
   {
    "duration": 13,
    "start_time": "2022-10-17T09:17:39.260Z"
   },
   {
    "duration": 1830,
    "start_time": "2022-10-17T09:17:39.275Z"
   },
   {
    "duration": 25,
    "start_time": "2022-10-17T09:17:41.108Z"
   },
   {
    "duration": 9,
    "start_time": "2022-10-17T09:17:41.134Z"
   },
   {
    "duration": 15,
    "start_time": "2022-10-17T09:17:41.144Z"
   },
   {
    "duration": 22,
    "start_time": "2022-10-17T09:17:41.161Z"
   },
   {
    "duration": 26,
    "start_time": "2022-10-17T09:17:41.184Z"
   },
   {
    "duration": 5,
    "start_time": "2022-10-17T09:17:41.211Z"
   },
   {
    "duration": 33,
    "start_time": "2022-10-17T09:17:41.217Z"
   },
   {
    "duration": 19,
    "start_time": "2022-10-17T09:17:41.251Z"
   },
   {
    "duration": 27,
    "start_time": "2022-10-17T09:17:41.272Z"
   },
   {
    "duration": 17,
    "start_time": "2022-10-17T09:17:41.310Z"
   },
   {
    "duration": 22,
    "start_time": "2022-10-17T09:17:41.329Z"
   },
   {
    "duration": 116,
    "start_time": "2022-10-17T09:17:41.353Z"
   },
   {
    "duration": 7,
    "start_time": "2022-10-17T09:17:41.471Z"
   },
   {
    "duration": 93,
    "start_time": "2022-10-17T09:17:41.480Z"
   },
   {
    "duration": 7,
    "start_time": "2022-10-17T09:17:41.575Z"
   },
   {
    "duration": 34,
    "start_time": "2022-10-17T09:17:41.583Z"
   },
   {
    "duration": 28,
    "start_time": "2022-10-17T09:17:41.618Z"
   },
   {
    "duration": 27,
    "start_time": "2022-10-17T09:17:41.648Z"
   },
   {
    "duration": 67,
    "start_time": "2022-10-17T09:17:41.677Z"
   },
   {
    "duration": 36,
    "start_time": "2022-10-17T09:17:41.746Z"
   },
   {
    "duration": 54,
    "start_time": "2022-10-17T09:17:41.784Z"
   },
   {
    "duration": 260,
    "start_time": "2022-10-17T09:17:41.840Z"
   },
   {
    "duration": 13,
    "start_time": "2022-10-17T09:17:42.109Z"
   },
   {
    "duration": 221,
    "start_time": "2022-10-17T09:17:42.123Z"
   },
   {
    "duration": 183,
    "start_time": "2022-10-17T09:17:42.346Z"
   },
   {
    "duration": 228,
    "start_time": "2022-10-17T09:17:42.531Z"
   },
   {
    "duration": 303,
    "start_time": "2022-10-17T09:17:42.760Z"
   },
   {
    "duration": 172,
    "start_time": "2022-10-17T09:17:43.066Z"
   },
   {
    "duration": 137,
    "start_time": "2022-10-17T09:17:43.239Z"
   },
   {
    "duration": 167,
    "start_time": "2022-10-17T09:17:43.378Z"
   },
   {
    "duration": 110,
    "start_time": "2022-10-17T09:17:43.547Z"
   },
   {
    "duration": 157,
    "start_time": "2022-10-17T09:17:43.659Z"
   },
   {
    "duration": 174,
    "start_time": "2022-10-17T09:17:43.817Z"
   },
   {
    "duration": 194,
    "start_time": "2022-10-17T09:17:43.992Z"
   },
   {
    "duration": 189,
    "start_time": "2022-10-17T09:17:44.188Z"
   },
   {
    "duration": 154,
    "start_time": "2022-10-17T09:17:44.378Z"
   },
   {
    "duration": 231,
    "start_time": "2022-10-17T09:17:44.536Z"
   },
   {
    "duration": 162,
    "start_time": "2022-10-17T09:17:44.769Z"
   },
   {
    "duration": 8,
    "start_time": "2022-10-17T09:17:44.933Z"
   },
   {
    "duration": 121,
    "start_time": "2022-10-17T09:17:44.942Z"
   },
   {
    "duration": 167,
    "start_time": "2022-10-17T09:45:36.727Z"
   },
   {
    "duration": 158,
    "start_time": "2022-10-17T09:46:44.297Z"
   },
   {
    "duration": 156,
    "start_time": "2022-10-17T09:46:51.688Z"
   },
   {
    "duration": 153,
    "start_time": "2022-10-17T09:46:58.515Z"
   },
   {
    "duration": 5,
    "start_time": "2022-10-17T09:48:45.903Z"
   },
   {
    "duration": 10,
    "start_time": "2022-10-17T09:51:24.280Z"
   },
   {
    "duration": 122,
    "start_time": "2022-10-17T09:53:32.237Z"
   },
   {
    "duration": 113,
    "start_time": "2022-10-17T09:55:43.926Z"
   },
   {
    "duration": 125,
    "start_time": "2022-10-17T09:56:03.905Z"
   },
   {
    "duration": 111,
    "start_time": "2022-10-17T09:56:09.339Z"
   },
   {
    "duration": 111,
    "start_time": "2022-10-17T09:56:23.496Z"
   },
   {
    "duration": 191,
    "start_time": "2022-10-17T10:07:22.712Z"
   },
   {
    "duration": 5,
    "start_time": "2022-10-17T10:07:32.822Z"
   },
   {
    "duration": 149,
    "start_time": "2022-10-17T10:07:50.754Z"
   },
   {
    "duration": 7,
    "start_time": "2022-10-17T10:07:56.825Z"
   },
   {
    "duration": 147,
    "start_time": "2022-10-17T10:10:25.106Z"
   },
   {
    "duration": 6,
    "start_time": "2022-10-17T10:10:29.691Z"
   },
   {
    "duration": 46,
    "start_time": "2022-10-17T10:14:39.806Z"
   },
   {
    "duration": 163,
    "start_time": "2022-10-17T10:15:54.721Z"
   },
   {
    "duration": 5,
    "start_time": "2022-10-17T10:16:21.462Z"
   },
   {
    "duration": 69,
    "start_time": "2022-10-17T10:21:48.528Z"
   },
   {
    "duration": 140,
    "start_time": "2022-10-17T10:23:34.878Z"
   },
   {
    "duration": 280,
    "start_time": "2022-10-17T10:24:00.468Z"
   },
   {
    "duration": 13,
    "start_time": "2022-10-17T10:27:25.378Z"
   },
   {
    "duration": 18,
    "start_time": "2022-10-17T10:28:04.707Z"
   },
   {
    "duration": 13,
    "start_time": "2022-10-17T10:28:17.461Z"
   },
   {
    "duration": 14,
    "start_time": "2022-10-17T10:30:08.220Z"
   },
   {
    "duration": 14,
    "start_time": "2022-10-17T10:37:26.958Z"
   },
   {
    "duration": 13,
    "start_time": "2022-10-17T10:39:13.518Z"
   },
   {
    "duration": 147,
    "start_time": "2022-10-17T10:39:30.886Z"
   },
   {
    "duration": 13,
    "start_time": "2022-10-17T10:41:21.069Z"
   },
   {
    "duration": 14,
    "start_time": "2022-10-17T10:41:46.408Z"
   },
   {
    "duration": 130,
    "start_time": "2022-10-17T10:41:52.446Z"
   },
   {
    "duration": 166,
    "start_time": "2022-10-17T10:42:12.472Z"
   },
   {
    "duration": 55,
    "start_time": "2022-10-17T11:05:10.361Z"
   },
   {
    "duration": 18,
    "start_time": "2022-10-17T11:05:52.688Z"
   },
   {
    "duration": 14,
    "start_time": "2022-10-17T11:06:05.092Z"
   },
   {
    "duration": 139,
    "start_time": "2022-10-17T11:06:33.471Z"
   },
   {
    "duration": 254,
    "start_time": "2022-10-17T11:07:13.718Z"
   },
   {
    "duration": 136,
    "start_time": "2022-10-17T11:10:48.651Z"
   },
   {
    "duration": 144,
    "start_time": "2022-10-17T11:13:29.494Z"
   },
   {
    "duration": 5,
    "start_time": "2022-10-17T11:13:40.237Z"
   },
   {
    "duration": 12,
    "start_time": "2022-10-17T11:14:45.227Z"
   },
   {
    "duration": 4,
    "start_time": "2022-10-17T11:15:08.417Z"
   },
   {
    "duration": 7,
    "start_time": "2022-10-17T11:15:46.176Z"
   },
   {
    "duration": 132,
    "start_time": "2022-10-17T11:16:00.194Z"
   },
   {
    "duration": 62,
    "start_time": "2022-10-17T11:21:31.569Z"
   },
   {
    "duration": 35,
    "start_time": "2022-10-17T11:27:55.290Z"
   },
   {
    "duration": 13,
    "start_time": "2022-10-17T11:28:12.403Z"
   },
   {
    "duration": 13,
    "start_time": "2022-10-17T11:29:03.493Z"
   },
   {
    "duration": 12,
    "start_time": "2022-10-17T11:29:17.178Z"
   },
   {
    "duration": 8,
    "start_time": "2022-10-17T11:30:49.972Z"
   },
   {
    "duration": 13,
    "start_time": "2022-10-17T11:33:25.136Z"
   },
   {
    "duration": 7,
    "start_time": "2022-10-17T11:34:16.743Z"
   },
   {
    "duration": 6,
    "start_time": "2022-10-17T11:43:03.658Z"
   },
   {
    "duration": 7,
    "start_time": "2022-10-17T11:44:55.474Z"
   },
   {
    "duration": 7,
    "start_time": "2022-10-17T11:47:15.793Z"
   },
   {
    "duration": 6,
    "start_time": "2022-10-17T11:47:35.410Z"
   },
   {
    "duration": 6,
    "start_time": "2022-10-17T11:47:56.956Z"
   },
   {
    "duration": 8,
    "start_time": "2022-10-17T11:48:14.077Z"
   },
   {
    "duration": 8,
    "start_time": "2022-10-17T11:48:30.036Z"
   },
   {
    "duration": 16,
    "start_time": "2022-10-17T11:48:40.797Z"
   },
   {
    "duration": 36,
    "start_time": "2022-10-17T11:55:01.438Z"
   },
   {
    "duration": 7,
    "start_time": "2022-10-17T11:58:00.028Z"
   },
   {
    "duration": 17,
    "start_time": "2022-10-17T11:58:13.510Z"
   },
   {
    "duration": 23,
    "start_time": "2022-10-17T12:00:56.934Z"
   },
   {
    "duration": 28,
    "start_time": "2022-10-17T12:01:23.130Z"
   },
   {
    "duration": 48,
    "start_time": "2022-10-17T12:01:31.692Z"
   },
   {
    "duration": 22,
    "start_time": "2022-10-17T12:01:34.026Z"
   },
   {
    "duration": 24,
    "start_time": "2022-10-17T12:01:58.418Z"
   },
   {
    "duration": 17,
    "start_time": "2022-10-17T12:02:27.800Z"
   },
   {
    "duration": 23,
    "start_time": "2022-10-17T12:03:07.125Z"
   },
   {
    "duration": 21,
    "start_time": "2022-10-17T12:03:53.845Z"
   },
   {
    "duration": 21,
    "start_time": "2022-10-17T12:04:41.158Z"
   },
   {
    "duration": 24,
    "start_time": "2022-10-17T12:04:53.155Z"
   },
   {
    "duration": 22,
    "start_time": "2022-10-17T12:05:05.139Z"
   },
   {
    "duration": 23,
    "start_time": "2022-10-17T12:05:45.510Z"
   },
   {
    "duration": 20,
    "start_time": "2022-10-17T12:07:37.426Z"
   },
   {
    "duration": 20,
    "start_time": "2022-10-17T12:08:40.278Z"
   },
   {
    "duration": 20,
    "start_time": "2022-10-17T12:11:30.612Z"
   },
   {
    "duration": 26,
    "start_time": "2022-10-17T12:11:44.000Z"
   },
   {
    "duration": 22,
    "start_time": "2022-10-17T12:12:21.645Z"
   },
   {
    "duration": 19,
    "start_time": "2022-10-17T12:12:25.914Z"
   },
   {
    "duration": 21,
    "start_time": "2022-10-17T12:12:34.678Z"
   },
   {
    "duration": 20,
    "start_time": "2022-10-17T12:13:59.388Z"
   },
   {
    "duration": 4,
    "start_time": "2022-10-17T12:15:14.958Z"
   },
   {
    "duration": 787,
    "start_time": "2022-10-17T12:15:39.629Z"
   },
   {
    "duration": 908,
    "start_time": "2022-10-17T12:15:45.771Z"
   },
   {
    "duration": 24,
    "start_time": "2022-10-17T12:16:18.174Z"
   },
   {
    "duration": 35,
    "start_time": "2022-10-17T12:16:43.067Z"
   },
   {
    "duration": 24,
    "start_time": "2022-10-17T12:17:09.046Z"
   },
   {
    "duration": 23,
    "start_time": "2022-10-17T12:17:16.351Z"
   },
   {
    "duration": 779,
    "start_time": "2022-10-17T12:17:57.425Z"
   },
   {
    "duration": 789,
    "start_time": "2022-10-17T12:18:16.674Z"
   },
   {
    "duration": 23,
    "start_time": "2022-10-17T12:18:26.420Z"
   },
   {
    "duration": 589,
    "start_time": "2022-10-17T12:19:05.288Z"
   },
   {
    "duration": 7,
    "start_time": "2022-10-17T12:20:04.059Z"
   },
   {
    "duration": 1210,
    "start_time": "2022-10-17T12:22:24.477Z"
   },
   {
    "duration": 791,
    "start_time": "2022-10-17T13:03:15.936Z"
   },
   {
    "duration": 49,
    "start_time": "2022-10-17T13:03:16.729Z"
   },
   {
    "duration": 33,
    "start_time": "2022-10-17T13:03:16.781Z"
   },
   {
    "duration": 1876,
    "start_time": "2022-10-17T13:03:16.817Z"
   },
   {
    "duration": 26,
    "start_time": "2022-10-17T13:03:18.695Z"
   },
   {
    "duration": 9,
    "start_time": "2022-10-17T13:03:18.722Z"
   },
   {
    "duration": 17,
    "start_time": "2022-10-17T13:03:18.732Z"
   },
   {
    "duration": 11,
    "start_time": "2022-10-17T13:03:18.750Z"
   },
   {
    "duration": 4,
    "start_time": "2022-10-17T13:03:18.762Z"
   },
   {
    "duration": 5,
    "start_time": "2022-10-17T13:03:18.769Z"
   },
   {
    "duration": 52,
    "start_time": "2022-10-17T13:03:18.775Z"
   },
   {
    "duration": 18,
    "start_time": "2022-10-17T13:03:18.829Z"
   },
   {
    "duration": 31,
    "start_time": "2022-10-17T13:03:18.849Z"
   },
   {
    "duration": 28,
    "start_time": "2022-10-17T13:03:18.882Z"
   },
   {
    "duration": 22,
    "start_time": "2022-10-17T13:03:18.912Z"
   },
   {
    "duration": 129,
    "start_time": "2022-10-17T13:03:18.936Z"
   },
   {
    "duration": 9,
    "start_time": "2022-10-17T13:03:19.067Z"
   },
   {
    "duration": 87,
    "start_time": "2022-10-17T13:03:19.077Z"
   },
   {
    "duration": 6,
    "start_time": "2022-10-17T13:03:19.165Z"
   },
   {
    "duration": 16,
    "start_time": "2022-10-17T13:03:19.173Z"
   },
   {
    "duration": 27,
    "start_time": "2022-10-17T13:03:19.191Z"
   },
   {
    "duration": 11,
    "start_time": "2022-10-17T13:03:19.220Z"
   },
   {
    "duration": 47,
    "start_time": "2022-10-17T13:03:19.233Z"
   },
   {
    "duration": 65,
    "start_time": "2022-10-17T13:03:19.281Z"
   },
   {
    "duration": 35,
    "start_time": "2022-10-17T13:03:19.348Z"
   },
   {
    "duration": 252,
    "start_time": "2022-10-17T13:03:19.385Z"
   },
   {
    "duration": 14,
    "start_time": "2022-10-17T13:03:19.639Z"
   },
   {
    "duration": 235,
    "start_time": "2022-10-17T13:03:19.659Z"
   },
   {
    "duration": 177,
    "start_time": "2022-10-17T13:03:19.896Z"
   },
   {
    "duration": 191,
    "start_time": "2022-10-17T13:03:20.074Z"
   },
   {
    "duration": 298,
    "start_time": "2022-10-17T13:03:20.266Z"
   },
   {
    "duration": 178,
    "start_time": "2022-10-17T13:03:20.566Z"
   },
   {
    "duration": 152,
    "start_time": "2022-10-17T13:03:20.746Z"
   },
   {
    "duration": 186,
    "start_time": "2022-10-17T13:03:20.900Z"
   },
   {
    "duration": 114,
    "start_time": "2022-10-17T13:03:21.087Z"
   },
   {
    "duration": 163,
    "start_time": "2022-10-17T13:03:21.209Z"
   },
   {
    "duration": 168,
    "start_time": "2022-10-17T13:03:21.374Z"
   },
   {
    "duration": 195,
    "start_time": "2022-10-17T13:03:21.543Z"
   },
   {
    "duration": 194,
    "start_time": "2022-10-17T13:03:21.739Z"
   },
   {
    "duration": 155,
    "start_time": "2022-10-17T13:03:21.935Z"
   },
   {
    "duration": 280,
    "start_time": "2022-10-17T13:03:22.093Z"
   },
   {
    "duration": 151,
    "start_time": "2022-10-17T13:03:22.375Z"
   },
   {
    "duration": 9,
    "start_time": "2022-10-17T13:03:22.528Z"
   },
   {
    "duration": 115,
    "start_time": "2022-10-17T13:03:22.538Z"
   },
   {
    "duration": 156,
    "start_time": "2022-10-17T13:03:22.655Z"
   },
   {
    "duration": 5,
    "start_time": "2022-10-17T13:03:22.813Z"
   },
   {
    "duration": 209,
    "start_time": "2022-10-17T13:03:22.820Z"
   },
   {
    "duration": 5,
    "start_time": "2022-10-17T13:03:23.031Z"
   },
   {
    "duration": 176,
    "start_time": "2022-10-17T13:03:23.038Z"
   },
   {
    "duration": 7,
    "start_time": "2022-10-17T13:03:23.217Z"
   },
   {
    "duration": 197,
    "start_time": "2022-10-17T13:03:23.226Z"
   },
   {
    "duration": 7,
    "start_time": "2022-10-17T13:03:23.427Z"
   },
   {
    "duration": 23,
    "start_time": "2022-10-17T13:03:23.436Z"
   },
   {
    "duration": 190,
    "start_time": "2022-10-17T13:03:23.461Z"
   },
   {
    "duration": 18,
    "start_time": "2022-10-17T13:03:23.653Z"
   },
   {
    "duration": 153,
    "start_time": "2022-10-17T13:03:23.673Z"
   },
   {
    "duration": 18,
    "start_time": "2022-10-17T13:03:23.829Z"
   },
   {
    "duration": 164,
    "start_time": "2022-10-17T13:03:23.850Z"
   },
   {
    "duration": 14,
    "start_time": "2022-10-17T13:03:24.016Z"
   },
   {
    "duration": 176,
    "start_time": "2022-10-17T13:03:24.031Z"
   },
   {
    "duration": 6,
    "start_time": "2022-10-17T13:03:24.209Z"
   },
   {
    "duration": 44,
    "start_time": "2022-10-17T13:03:24.216Z"
   },
   {
    "duration": 80,
    "start_time": "2022-10-17T13:05:32.968Z"
   },
   {
    "duration": 820,
    "start_time": "2022-10-17T13:05:41.884Z"
   },
   {
    "duration": 7,
    "start_time": "2022-10-17T13:06:35.846Z"
   },
   {
    "duration": 8,
    "start_time": "2022-10-17T13:06:57.237Z"
   },
   {
    "duration": 23,
    "start_time": "2022-10-17T13:09:19.950Z"
   },
   {
    "duration": 24,
    "start_time": "2022-10-17T13:09:40.377Z"
   },
   {
    "duration": 24,
    "start_time": "2022-10-17T13:09:54.007Z"
   },
   {
    "duration": 25,
    "start_time": "2022-10-17T13:11:28.337Z"
   },
   {
    "duration": 826,
    "start_time": "2022-10-17T13:14:38.007Z"
   },
   {
    "duration": 23,
    "start_time": "2022-10-17T13:15:18.706Z"
   },
   {
    "duration": 8,
    "start_time": "2022-10-17T13:27:47.150Z"
   },
   {
    "duration": 10,
    "start_time": "2022-10-17T13:28:50.918Z"
   },
   {
    "duration": 3,
    "start_time": "2022-10-17T13:31:19.221Z"
   },
   {
    "duration": 6,
    "start_time": "2022-10-17T13:31:26.091Z"
   },
   {
    "duration": 50,
    "start_time": "2022-10-17T13:31:36.110Z"
   },
   {
    "duration": 11,
    "start_time": "2022-10-17T13:32:14.953Z"
   },
   {
    "duration": 807,
    "start_time": "2022-10-17T13:32:24.827Z"
   },
   {
    "duration": 9,
    "start_time": "2022-10-17T13:32:33.918Z"
   },
   {
    "duration": 37,
    "start_time": "2022-10-17T13:32:39.514Z"
   },
   {
    "duration": 10,
    "start_time": "2022-10-17T13:34:32.323Z"
   },
   {
    "duration": 10,
    "start_time": "2022-10-17T13:34:40.350Z"
   },
   {
    "duration": 10,
    "start_time": "2022-10-17T13:35:09.608Z"
   },
   {
    "duration": 13,
    "start_time": "2022-10-17T13:35:17.381Z"
   },
   {
    "duration": 12,
    "start_time": "2022-10-17T13:35:41.850Z"
   },
   {
    "duration": 12,
    "start_time": "2022-10-17T13:35:55.233Z"
   },
   {
    "duration": 18,
    "start_time": "2022-10-17T13:36:36.543Z"
   },
   {
    "duration": 20,
    "start_time": "2022-10-17T13:37:11.561Z"
   },
   {
    "duration": 11,
    "start_time": "2022-10-17T13:37:23.129Z"
   },
   {
    "duration": 22,
    "start_time": "2022-10-17T13:37:33.472Z"
   },
   {
    "duration": 22,
    "start_time": "2022-10-17T13:38:46.612Z"
   },
   {
    "duration": 758,
    "start_time": "2022-10-17T14:13:05.501Z"
   },
   {
    "duration": 49,
    "start_time": "2022-10-17T14:13:06.260Z"
   },
   {
    "duration": 14,
    "start_time": "2022-10-17T14:13:06.310Z"
   },
   {
    "duration": 1812,
    "start_time": "2022-10-17T14:13:06.325Z"
   },
   {
    "duration": 27,
    "start_time": "2022-10-17T14:13:08.139Z"
   },
   {
    "duration": 9,
    "start_time": "2022-10-17T14:13:08.168Z"
   },
   {
    "duration": 15,
    "start_time": "2022-10-17T14:13:08.178Z"
   },
   {
    "duration": 30,
    "start_time": "2022-10-17T14:13:08.194Z"
   },
   {
    "duration": 20,
    "start_time": "2022-10-17T14:13:08.226Z"
   },
   {
    "duration": 16,
    "start_time": "2022-10-17T14:13:08.248Z"
   },
   {
    "duration": 36,
    "start_time": "2022-10-17T14:13:08.266Z"
   },
   {
    "duration": 23,
    "start_time": "2022-10-17T14:13:08.304Z"
   },
   {
    "duration": 21,
    "start_time": "2022-10-17T14:13:08.328Z"
   },
   {
    "duration": 17,
    "start_time": "2022-10-17T14:13:08.350Z"
   },
   {
    "duration": 36,
    "start_time": "2022-10-17T14:13:08.368Z"
   },
   {
    "duration": 118,
    "start_time": "2022-10-17T14:13:08.405Z"
   },
   {
    "duration": 6,
    "start_time": "2022-10-17T14:13:08.525Z"
   },
   {
    "duration": 84,
    "start_time": "2022-10-17T14:13:08.533Z"
   },
   {
    "duration": 6,
    "start_time": "2022-10-17T14:13:08.618Z"
   },
   {
    "duration": 34,
    "start_time": "2022-10-17T14:13:08.625Z"
   },
   {
    "duration": 30,
    "start_time": "2022-10-17T14:13:08.661Z"
   },
   {
    "duration": 17,
    "start_time": "2022-10-17T14:13:08.693Z"
   },
   {
    "duration": 61,
    "start_time": "2022-10-17T14:13:08.712Z"
   },
   {
    "duration": 41,
    "start_time": "2022-10-17T14:13:08.774Z"
   },
   {
    "duration": 35,
    "start_time": "2022-10-17T14:13:08.817Z"
   },
   {
    "duration": 280,
    "start_time": "2022-10-17T14:13:08.853Z"
   },
   {
    "duration": 12,
    "start_time": "2022-10-17T14:13:09.135Z"
   },
   {
    "duration": 224,
    "start_time": "2022-10-17T14:13:09.151Z"
   },
   {
    "duration": 170,
    "start_time": "2022-10-17T14:13:09.377Z"
   },
   {
    "duration": 206,
    "start_time": "2022-10-17T14:13:09.550Z"
   },
   {
    "duration": 319,
    "start_time": "2022-10-17T14:13:09.758Z"
   },
   {
    "duration": 210,
    "start_time": "2022-10-17T14:13:10.078Z"
   },
   {
    "duration": 144,
    "start_time": "2022-10-17T14:13:10.290Z"
   },
   {
    "duration": 178,
    "start_time": "2022-10-17T14:13:10.435Z"
   },
   {
    "duration": 115,
    "start_time": "2022-10-17T14:13:10.614Z"
   },
   {
    "duration": 161,
    "start_time": "2022-10-17T14:13:10.731Z"
   },
   {
    "duration": 166,
    "start_time": "2022-10-17T14:13:10.894Z"
   },
   {
    "duration": 186,
    "start_time": "2022-10-17T14:13:11.061Z"
   },
   {
    "duration": 180,
    "start_time": "2022-10-17T14:13:11.249Z"
   },
   {
    "duration": 166,
    "start_time": "2022-10-17T14:13:11.431Z"
   },
   {
    "duration": 247,
    "start_time": "2022-10-17T14:13:11.598Z"
   },
   {
    "duration": 143,
    "start_time": "2022-10-17T14:13:11.847Z"
   },
   {
    "duration": 18,
    "start_time": "2022-10-17T14:13:11.992Z"
   },
   {
    "duration": 113,
    "start_time": "2022-10-17T14:13:12.011Z"
   },
   {
    "duration": 158,
    "start_time": "2022-10-17T14:13:12.125Z"
   },
   {
    "duration": 6,
    "start_time": "2022-10-17T14:13:12.284Z"
   },
   {
    "duration": 177,
    "start_time": "2022-10-17T14:13:12.292Z"
   },
   {
    "duration": 7,
    "start_time": "2022-10-17T14:13:12.471Z"
   },
   {
    "duration": 178,
    "start_time": "2022-10-17T14:13:12.480Z"
   },
   {
    "duration": 7,
    "start_time": "2022-10-17T14:13:12.659Z"
   },
   {
    "duration": 208,
    "start_time": "2022-10-17T14:13:12.668Z"
   },
   {
    "duration": 6,
    "start_time": "2022-10-17T14:13:12.878Z"
   },
   {
    "duration": 34,
    "start_time": "2022-10-17T14:13:12.886Z"
   },
   {
    "duration": 154,
    "start_time": "2022-10-17T14:13:12.922Z"
   },
   {
    "duration": 13,
    "start_time": "2022-10-17T14:13:13.077Z"
   },
   {
    "duration": 165,
    "start_time": "2022-10-17T14:13:13.092Z"
   },
   {
    "duration": 15,
    "start_time": "2022-10-17T14:13:13.259Z"
   },
   {
    "duration": 193,
    "start_time": "2022-10-17T14:13:13.276Z"
   },
   {
    "duration": 16,
    "start_time": "2022-10-17T14:13:13.471Z"
   },
   {
    "duration": 278,
    "start_time": "2022-10-17T14:13:13.489Z"
   },
   {
    "duration": 5,
    "start_time": "2022-10-17T14:13:13.769Z"
   },
   {
    "duration": 45,
    "start_time": "2022-10-17T14:13:13.776Z"
   },
   {
    "duration": 21,
    "start_time": "2022-10-17T14:13:13.822Z"
   },
   {
    "duration": 144,
    "start_time": "2022-10-17T14:14:30.211Z"
   },
   {
    "duration": 5,
    "start_time": "2022-10-17T14:15:49.789Z"
   },
   {
    "duration": 49,
    "start_time": "2022-10-18T08:08:37.849Z"
   },
   {
    "duration": 1039,
    "start_time": "2022-10-18T08:08:49.724Z"
   },
   {
    "duration": 55,
    "start_time": "2022-10-18T08:08:50.766Z"
   },
   {
    "duration": 17,
    "start_time": "2022-10-18T08:08:50.823Z"
   },
   {
    "duration": 2245,
    "start_time": "2022-10-18T08:08:50.856Z"
   },
   {
    "duration": 32,
    "start_time": "2022-10-18T08:08:53.103Z"
   },
   {
    "duration": 11,
    "start_time": "2022-10-18T08:08:53.137Z"
   },
   {
    "duration": 15,
    "start_time": "2022-10-18T08:08:53.150Z"
   },
   {
    "duration": 16,
    "start_time": "2022-10-18T08:08:53.167Z"
   },
   {
    "duration": 5,
    "start_time": "2022-10-18T08:08:53.185Z"
   },
   {
    "duration": 10,
    "start_time": "2022-10-18T08:08:53.193Z"
   },
   {
    "duration": 53,
    "start_time": "2022-10-18T08:08:53.204Z"
   },
   {
    "duration": 17,
    "start_time": "2022-10-18T08:08:53.259Z"
   },
   {
    "duration": 18,
    "start_time": "2022-10-18T08:08:53.278Z"
   },
   {
    "duration": 6,
    "start_time": "2022-10-18T08:08:53.299Z"
   },
   {
    "duration": 14,
    "start_time": "2022-10-18T08:08:53.307Z"
   },
   {
    "duration": 136,
    "start_time": "2022-10-18T08:08:53.323Z"
   },
   {
    "duration": 8,
    "start_time": "2022-10-18T08:08:53.461Z"
   },
   {
    "duration": 92,
    "start_time": "2022-10-18T08:08:53.470Z"
   },
   {
    "duration": 9,
    "start_time": "2022-10-18T08:08:53.564Z"
   },
   {
    "duration": 15,
    "start_time": "2022-10-18T08:08:53.575Z"
   },
   {
    "duration": 9,
    "start_time": "2022-10-18T08:08:53.592Z"
   },
   {
    "duration": 16,
    "start_time": "2022-10-18T08:08:53.603Z"
   },
   {
    "duration": 37,
    "start_time": "2022-10-18T08:08:53.621Z"
   },
   {
    "duration": 52,
    "start_time": "2022-10-18T08:08:53.660Z"
   },
   {
    "duration": 59,
    "start_time": "2022-10-18T08:08:53.714Z"
   },
   {
    "duration": 41,
    "start_time": "2022-10-18T08:08:53.775Z"
   },
   {
    "duration": 277,
    "start_time": "2022-10-18T08:08:53.818Z"
   },
   {
    "duration": 15,
    "start_time": "2022-10-18T08:08:54.099Z"
   },
   {
    "duration": 280,
    "start_time": "2022-10-18T08:08:54.117Z"
   },
   {
    "duration": 201,
    "start_time": "2022-10-18T08:08:54.399Z"
   },
   {
    "duration": 240,
    "start_time": "2022-10-18T08:08:54.601Z"
   },
   {
    "duration": 365,
    "start_time": "2022-10-18T08:08:54.843Z"
   },
   {
    "duration": 225,
    "start_time": "2022-10-18T08:08:55.210Z"
   },
   {
    "duration": 211,
    "start_time": "2022-10-18T08:08:55.437Z"
   },
   {
    "duration": 241,
    "start_time": "2022-10-18T08:08:55.653Z"
   },
   {
    "duration": 126,
    "start_time": "2022-10-18T08:08:55.896Z"
   },
   {
    "duration": 212,
    "start_time": "2022-10-18T08:08:56.024Z"
   },
   {
    "duration": 198,
    "start_time": "2022-10-18T08:08:56.238Z"
   },
   {
    "duration": 220,
    "start_time": "2022-10-18T08:08:56.439Z"
   },
   {
    "duration": 219,
    "start_time": "2022-10-18T08:08:56.661Z"
   },
   {
    "duration": 173,
    "start_time": "2022-10-18T08:08:56.882Z"
   },
   {
    "duration": 288,
    "start_time": "2022-10-18T08:08:57.057Z"
   },
   {
    "duration": 162,
    "start_time": "2022-10-18T08:08:57.347Z"
   },
   {
    "duration": 12,
    "start_time": "2022-10-18T08:08:57.510Z"
   },
   {
    "duration": 133,
    "start_time": "2022-10-18T08:08:57.524Z"
   },
   {
    "duration": 170,
    "start_time": "2022-10-18T08:08:57.659Z"
   },
   {
    "duration": 7,
    "start_time": "2022-10-18T08:08:57.831Z"
   },
   {
    "duration": 184,
    "start_time": "2022-10-18T08:08:57.840Z"
   },
   {
    "duration": 6,
    "start_time": "2022-10-18T08:08:58.026Z"
   },
   {
    "duration": 167,
    "start_time": "2022-10-18T08:08:58.034Z"
   },
   {
    "duration": 6,
    "start_time": "2022-10-18T08:08:58.203Z"
   },
   {
    "duration": 193,
    "start_time": "2022-10-18T08:08:58.211Z"
   },
   {
    "duration": 5,
    "start_time": "2022-10-18T08:08:58.406Z"
   },
   {
    "duration": 22,
    "start_time": "2022-10-18T08:08:58.413Z"
   },
   {
    "duration": 150,
    "start_time": "2022-10-18T08:08:58.455Z"
   },
   {
    "duration": 14,
    "start_time": "2022-10-18T08:08:58.607Z"
   },
   {
    "duration": 194,
    "start_time": "2022-10-18T08:08:58.624Z"
   },
   {
    "duration": 17,
    "start_time": "2022-10-18T08:08:58.820Z"
   },
   {
    "duration": 180,
    "start_time": "2022-10-18T08:08:58.839Z"
   },
   {
    "duration": 15,
    "start_time": "2022-10-18T08:08:59.021Z"
   },
   {
    "duration": 164,
    "start_time": "2022-10-18T08:08:59.037Z"
   },
   {
    "duration": 7,
    "start_time": "2022-10-18T08:08:59.203Z"
   },
   {
    "duration": 56,
    "start_time": "2022-10-18T08:08:59.211Z"
   },
   {
    "duration": 22,
    "start_time": "2022-10-18T08:08:59.269Z"
   },
   {
    "duration": 8,
    "start_time": "2022-10-18T08:08:59.293Z"
   },
   {
    "duration": 189,
    "start_time": "2022-10-18T08:08:59.302Z"
   },
   {
    "duration": 3,
    "start_time": "2022-10-18T08:13:02.599Z"
   },
   {
    "duration": 3,
    "start_time": "2022-10-18T08:13:04.110Z"
   },
   {
    "duration": 3,
    "start_time": "2022-10-18T08:13:08.371Z"
   },
   {
    "duration": 5,
    "start_time": "2022-10-18T08:13:09.125Z"
   },
   {
    "duration": 810,
    "start_time": "2022-10-18T08:13:23.444Z"
   },
   {
    "duration": 50,
    "start_time": "2022-10-18T08:13:24.256Z"
   },
   {
    "duration": 16,
    "start_time": "2022-10-18T08:13:24.308Z"
   },
   {
    "duration": 2082,
    "start_time": "2022-10-18T08:13:24.327Z"
   },
   {
    "duration": 27,
    "start_time": "2022-10-18T08:13:26.411Z"
   },
   {
    "duration": 11,
    "start_time": "2022-10-18T08:13:26.440Z"
   },
   {
    "duration": 11,
    "start_time": "2022-10-18T08:13:26.453Z"
   },
   {
    "duration": 12,
    "start_time": "2022-10-18T08:13:26.465Z"
   },
   {
    "duration": 5,
    "start_time": "2022-10-18T08:13:26.478Z"
   },
   {
    "duration": 8,
    "start_time": "2022-10-18T08:13:26.486Z"
   },
   {
    "duration": 22,
    "start_time": "2022-10-18T08:13:26.496Z"
   },
   {
    "duration": 48,
    "start_time": "2022-10-18T08:13:26.520Z"
   },
   {
    "duration": 22,
    "start_time": "2022-10-18T08:13:26.570Z"
   },
   {
    "duration": 7,
    "start_time": "2022-10-18T08:13:26.594Z"
   },
   {
    "duration": 12,
    "start_time": "2022-10-18T08:13:26.603Z"
   },
   {
    "duration": 142,
    "start_time": "2022-10-18T08:13:26.616Z"
   },
   {
    "duration": 8,
    "start_time": "2022-10-18T08:13:26.760Z"
   },
   {
    "duration": 97,
    "start_time": "2022-10-18T08:13:26.770Z"
   },
   {
    "duration": 6,
    "start_time": "2022-10-18T08:13:26.869Z"
   },
   {
    "duration": 11,
    "start_time": "2022-10-18T08:13:26.876Z"
   },
   {
    "duration": 11,
    "start_time": "2022-10-18T08:13:26.888Z"
   },
   {
    "duration": 11,
    "start_time": "2022-10-18T08:13:26.901Z"
   },
   {
    "duration": 63,
    "start_time": "2022-10-18T08:13:26.914Z"
   },
   {
    "duration": 39,
    "start_time": "2022-10-18T08:13:26.979Z"
   },
   {
    "duration": 57,
    "start_time": "2022-10-18T08:13:27.020Z"
   },
   {
    "duration": 254,
    "start_time": "2022-10-18T08:13:27.079Z"
   },
   {
    "duration": 25,
    "start_time": "2022-10-18T08:13:27.335Z"
   },
   {
    "duration": 250,
    "start_time": "2022-10-18T08:13:27.366Z"
   },
   {
    "duration": 201,
    "start_time": "2022-10-18T08:13:27.618Z"
   },
   {
    "duration": 217,
    "start_time": "2022-10-18T08:13:27.821Z"
   },
   {
    "duration": 365,
    "start_time": "2022-10-18T08:13:28.039Z"
   },
   {
    "duration": 208,
    "start_time": "2022-10-18T08:13:28.406Z"
   },
   {
    "duration": 176,
    "start_time": "2022-10-18T08:13:28.616Z"
   },
   {
    "duration": 221,
    "start_time": "2022-10-18T08:13:28.794Z"
   },
   {
    "duration": 128,
    "start_time": "2022-10-18T08:13:29.017Z"
   },
   {
    "duration": 189,
    "start_time": "2022-10-18T08:13:29.147Z"
   },
   {
    "duration": 191,
    "start_time": "2022-10-18T08:13:29.337Z"
   },
   {
    "duration": 220,
    "start_time": "2022-10-18T08:13:29.530Z"
   },
   {
    "duration": 211,
    "start_time": "2022-10-18T08:13:29.752Z"
   },
   {
    "duration": 178,
    "start_time": "2022-10-18T08:13:29.965Z"
   },
   {
    "duration": 278,
    "start_time": "2022-10-18T08:13:30.146Z"
   },
   {
    "duration": 166,
    "start_time": "2022-10-18T08:13:30.427Z"
   },
   {
    "duration": 11,
    "start_time": "2022-10-18T08:13:30.595Z"
   },
   {
    "duration": 147,
    "start_time": "2022-10-18T08:13:30.608Z"
   },
   {
    "duration": 173,
    "start_time": "2022-10-18T08:13:30.757Z"
   },
   {
    "duration": 5,
    "start_time": "2022-10-18T08:13:30.932Z"
   },
   {
    "duration": 190,
    "start_time": "2022-10-18T08:13:30.939Z"
   },
   {
    "duration": 6,
    "start_time": "2022-10-18T08:13:31.131Z"
   },
   {
    "duration": 216,
    "start_time": "2022-10-18T08:13:31.138Z"
   },
   {
    "duration": 7,
    "start_time": "2022-10-18T08:13:31.356Z"
   },
   {
    "duration": 225,
    "start_time": "2022-10-18T08:13:31.365Z"
   },
   {
    "duration": 7,
    "start_time": "2022-10-18T08:13:31.593Z"
   },
   {
    "duration": 30,
    "start_time": "2022-10-18T08:13:31.603Z"
   },
   {
    "duration": 204,
    "start_time": "2022-10-18T08:13:31.635Z"
   },
   {
    "duration": 18,
    "start_time": "2022-10-18T08:13:31.842Z"
   },
   {
    "duration": 170,
    "start_time": "2022-10-18T08:13:31.861Z"
   },
   {
    "duration": 27,
    "start_time": "2022-10-18T08:13:32.033Z"
   },
   {
    "duration": 161,
    "start_time": "2022-10-18T08:13:32.062Z"
   },
   {
    "duration": 14,
    "start_time": "2022-10-18T08:13:32.225Z"
   },
   {
    "duration": 183,
    "start_time": "2022-10-18T08:13:32.241Z"
   },
   {
    "duration": 6,
    "start_time": "2022-10-18T08:13:32.426Z"
   },
   {
    "duration": 41,
    "start_time": "2022-10-18T08:13:32.433Z"
   },
   {
    "duration": 21,
    "start_time": "2022-10-18T08:13:32.475Z"
   },
   {
    "duration": 6,
    "start_time": "2022-10-18T08:13:32.497Z"
   },
   {
    "duration": 202,
    "start_time": "2022-10-18T08:13:32.505Z"
   },
   {
    "duration": 349,
    "start_time": "2022-10-18T08:17:58.033Z"
   },
   {
    "duration": 244,
    "start_time": "2022-10-18T08:18:18.843Z"
   },
   {
    "duration": 384,
    "start_time": "2022-10-18T08:18:27.314Z"
   },
   {
    "duration": 322,
    "start_time": "2022-10-18T08:18:42.780Z"
   },
   {
    "duration": 309,
    "start_time": "2022-10-18T08:19:30.945Z"
   },
   {
    "duration": 322,
    "start_time": "2022-10-18T08:20:42.235Z"
   },
   {
    "duration": 313,
    "start_time": "2022-10-18T08:22:37.990Z"
   },
   {
    "duration": 335,
    "start_time": "2022-10-18T08:22:55.579Z"
   },
   {
    "duration": 831,
    "start_time": "2022-10-18T09:14:02.866Z"
   },
   {
    "duration": 3,
    "start_time": "2022-10-18T09:14:05.682Z"
   },
   {
    "duration": 124,
    "start_time": "2022-10-18T09:14:06.388Z"
   },
   {
    "duration": 47,
    "start_time": "2022-10-18T09:31:55.996Z"
   },
   {
    "duration": 14,
    "start_time": "2022-10-18T09:31:57.533Z"
   },
   {
    "duration": 1794,
    "start_time": "2022-10-18T09:31:59.098Z"
   },
   {
    "duration": 9,
    "start_time": "2022-10-18T09:46:57.080Z"
   },
   {
    "duration": 78,
    "start_time": "2022-10-18T09:47:58.133Z"
   },
   {
    "duration": 34,
    "start_time": "2022-10-18T09:48:03.721Z"
   },
   {
    "duration": 16,
    "start_time": "2022-10-18T09:49:15.309Z"
   },
   {
    "duration": 6,
    "start_time": "2022-10-18T09:51:07.085Z"
   },
   {
    "duration": 6,
    "start_time": "2022-10-18T09:51:19.640Z"
   },
   {
    "duration": 10,
    "start_time": "2022-10-18T09:51:38.688Z"
   },
   {
    "duration": 8,
    "start_time": "2022-10-18T09:52:00.790Z"
   },
   {
    "duration": 34,
    "start_time": "2022-10-18T09:52:09.871Z"
   },
   {
    "duration": 7,
    "start_time": "2022-10-18T09:52:34.697Z"
   },
   {
    "duration": 9,
    "start_time": "2022-10-18T09:52:46.211Z"
   },
   {
    "duration": 7,
    "start_time": "2022-10-18T09:53:03.217Z"
   },
   {
    "duration": 9,
    "start_time": "2022-10-18T09:55:43.278Z"
   },
   {
    "duration": 6,
    "start_time": "2022-10-18T09:56:43.914Z"
   },
   {
    "duration": 60,
    "start_time": "2022-10-18T10:00:09.463Z"
   },
   {
    "duration": 9,
    "start_time": "2022-10-18T10:01:16.687Z"
   },
   {
    "duration": 8,
    "start_time": "2022-10-18T10:01:32.973Z"
   },
   {
    "duration": 19,
    "start_time": "2022-10-18T10:02:46.763Z"
   },
   {
    "duration": 838,
    "start_time": "2022-10-18T12:42:00.350Z"
   },
   {
    "duration": 142,
    "start_time": "2022-10-18T12:42:01.192Z"
   },
   {
    "duration": 59,
    "start_time": "2022-10-18T12:42:01.337Z"
   },
   {
    "duration": 28,
    "start_time": "2022-10-18T12:42:01.398Z"
   },
   {
    "duration": 2503,
    "start_time": "2022-10-18T12:42:01.428Z"
   },
   {
    "duration": 27,
    "start_time": "2022-10-18T12:42:03.933Z"
   },
   {
    "duration": 10,
    "start_time": "2022-10-18T12:42:03.962Z"
   },
   {
    "duration": 18,
    "start_time": "2022-10-18T12:42:03.974Z"
   },
   {
    "duration": 36,
    "start_time": "2022-10-18T12:42:03.994Z"
   },
   {
    "duration": 6,
    "start_time": "2022-10-18T12:42:04.032Z"
   },
   {
    "duration": 30,
    "start_time": "2022-10-18T12:42:04.040Z"
   },
   {
    "duration": 32,
    "start_time": "2022-10-18T12:42:04.072Z"
   },
   {
    "duration": 23,
    "start_time": "2022-10-18T12:42:04.106Z"
   },
   {
    "duration": 42,
    "start_time": "2022-10-18T12:42:04.133Z"
   },
   {
    "duration": 31,
    "start_time": "2022-10-18T12:42:04.177Z"
   },
   {
    "duration": 15,
    "start_time": "2022-10-18T12:42:04.210Z"
   },
   {
    "duration": 48,
    "start_time": "2022-10-18T12:42:04.228Z"
   },
   {
    "duration": 121,
    "start_time": "2022-10-18T12:42:04.277Z"
   },
   {
    "duration": 9,
    "start_time": "2022-10-18T12:42:04.400Z"
   },
   {
    "duration": 87,
    "start_time": "2022-10-18T12:42:04.411Z"
   },
   {
    "duration": 20,
    "start_time": "2022-10-18T12:42:04.500Z"
   },
   {
    "duration": 12,
    "start_time": "2022-10-18T12:42:04.522Z"
   },
   {
    "duration": 13,
    "start_time": "2022-10-18T12:42:04.536Z"
   },
   {
    "duration": 8,
    "start_time": "2022-10-18T12:42:04.551Z"
   },
   {
    "duration": 68,
    "start_time": "2022-10-18T12:42:04.560Z"
   },
   {
    "duration": 60,
    "start_time": "2022-10-18T12:42:04.631Z"
   },
   {
    "duration": 89,
    "start_time": "2022-10-18T12:42:04.693Z"
   },
   {
    "duration": 287,
    "start_time": "2022-10-18T12:42:04.784Z"
   },
   {
    "duration": 21,
    "start_time": "2022-10-18T12:42:05.073Z"
   },
   {
    "duration": 303,
    "start_time": "2022-10-18T12:42:05.096Z"
   },
   {
    "duration": 223,
    "start_time": "2022-10-18T12:42:05.401Z"
   },
   {
    "duration": 228,
    "start_time": "2022-10-18T12:42:05.627Z"
   },
   {
    "duration": 380,
    "start_time": "2022-10-18T12:42:05.857Z"
   },
   {
    "duration": 227,
    "start_time": "2022-10-18T12:42:06.239Z"
   },
   {
    "duration": 192,
    "start_time": "2022-10-18T12:42:06.468Z"
   },
   {
    "duration": 211,
    "start_time": "2022-10-18T12:42:06.662Z"
   },
   {
    "duration": 129,
    "start_time": "2022-10-18T12:42:06.875Z"
   },
   {
    "duration": 184,
    "start_time": "2022-10-18T12:42:07.005Z"
   },
   {
    "duration": 193,
    "start_time": "2022-10-18T12:42:07.191Z"
   },
   {
    "duration": 206,
    "start_time": "2022-10-18T12:42:07.386Z"
   },
   {
    "duration": 209,
    "start_time": "2022-10-18T12:42:07.598Z"
   },
   {
    "duration": 192,
    "start_time": "2022-10-18T12:42:07.809Z"
   },
   {
    "duration": 285,
    "start_time": "2022-10-18T12:42:08.003Z"
   },
   {
    "duration": 180,
    "start_time": "2022-10-18T12:42:08.291Z"
   },
   {
    "duration": 11,
    "start_time": "2022-10-18T12:42:08.473Z"
   },
   {
    "duration": 136,
    "start_time": "2022-10-18T12:42:08.486Z"
   },
   {
    "duration": 210,
    "start_time": "2022-10-18T12:42:08.624Z"
   },
   {
    "duration": 7,
    "start_time": "2022-10-18T12:42:08.838Z"
   },
   {
    "duration": 294,
    "start_time": "2022-10-18T12:42:08.847Z"
   },
   {
    "duration": 8,
    "start_time": "2022-10-18T12:42:09.143Z"
   },
   {
    "duration": 219,
    "start_time": "2022-10-18T12:42:09.153Z"
   },
   {
    "duration": 6,
    "start_time": "2022-10-18T12:42:09.375Z"
   },
   {
    "duration": 192,
    "start_time": "2022-10-18T12:42:09.383Z"
   },
   {
    "duration": 6,
    "start_time": "2022-10-18T12:42:09.577Z"
   },
   {
    "duration": 19,
    "start_time": "2022-10-18T12:42:09.584Z"
   },
   {
    "duration": 148,
    "start_time": "2022-10-18T12:42:09.620Z"
   },
   {
    "duration": 21,
    "start_time": "2022-10-18T12:42:09.769Z"
   },
   {
    "duration": 185,
    "start_time": "2022-10-18T12:42:09.792Z"
   },
   {
    "duration": 16,
    "start_time": "2022-10-18T12:42:09.979Z"
   },
   {
    "duration": 176,
    "start_time": "2022-10-18T12:42:09.996Z"
   },
   {
    "duration": 14,
    "start_time": "2022-10-18T12:42:10.174Z"
   },
   {
    "duration": 174,
    "start_time": "2022-10-18T12:42:10.190Z"
   },
   {
    "duration": 5,
    "start_time": "2022-10-18T12:42:10.366Z"
   },
   {
    "duration": 53,
    "start_time": "2022-10-18T12:42:10.373Z"
   },
   {
    "duration": 20,
    "start_time": "2022-10-18T12:42:10.428Z"
   },
   {
    "duration": 6,
    "start_time": "2022-10-18T12:42:10.450Z"
   },
   {
    "duration": 181,
    "start_time": "2022-10-18T12:42:10.458Z"
   },
   {
    "duration": 10,
    "start_time": "2022-10-18T12:44:11.615Z"
   },
   {
    "duration": 8,
    "start_time": "2022-10-18T12:46:14.692Z"
   },
   {
    "duration": 8,
    "start_time": "2022-10-18T12:52:41.123Z"
   },
   {
    "duration": 15,
    "start_time": "2022-10-18T12:52:46.907Z"
   },
   {
    "duration": 9,
    "start_time": "2022-10-18T12:53:48.368Z"
   },
   {
    "duration": 15,
    "start_time": "2022-10-18T12:53:57.411Z"
   },
   {
    "duration": 13,
    "start_time": "2022-10-18T12:55:36.586Z"
   },
   {
    "duration": 9,
    "start_time": "2022-10-18T12:55:40.002Z"
   },
   {
    "duration": 14,
    "start_time": "2022-10-18T12:55:41.046Z"
   },
   {
    "duration": 3,
    "start_time": "2022-10-18T12:55:54.812Z"
   },
   {
    "duration": 83,
    "start_time": "2022-10-18T12:55:54.820Z"
   },
   {
    "duration": 47,
    "start_time": "2022-10-18T12:55:54.904Z"
   },
   {
    "duration": 15,
    "start_time": "2022-10-18T12:55:54.953Z"
   },
   {
    "duration": 2210,
    "start_time": "2022-10-18T12:55:54.970Z"
   },
   {
    "duration": 20,
    "start_time": "2022-10-18T12:55:57.182Z"
   },
   {
    "duration": 23,
    "start_time": "2022-10-18T12:55:57.204Z"
   },
   {
    "duration": 10,
    "start_time": "2022-10-18T12:55:57.228Z"
   },
   {
    "duration": 28,
    "start_time": "2022-10-18T12:55:57.240Z"
   },
   {
    "duration": 10,
    "start_time": "2022-10-18T12:55:57.269Z"
   },
   {
    "duration": 17,
    "start_time": "2022-10-18T12:55:57.282Z"
   },
   {
    "duration": 38,
    "start_time": "2022-10-18T12:55:57.301Z"
   },
   {
    "duration": 47,
    "start_time": "2022-10-18T12:55:57.341Z"
   },
   {
    "duration": 30,
    "start_time": "2022-10-18T12:55:57.389Z"
   },
   {
    "duration": 15,
    "start_time": "2022-10-18T12:55:57.421Z"
   },
   {
    "duration": 34,
    "start_time": "2022-10-18T12:55:57.438Z"
   },
   {
    "duration": 645,
    "start_time": "2022-10-18T13:07:05.876Z"
   },
   {
    "duration": 4,
    "start_time": "2022-10-18T13:07:06.523Z"
   },
   {
    "duration": 85,
    "start_time": "2022-10-18T13:07:06.529Z"
   },
   {
    "duration": 49,
    "start_time": "2022-10-18T13:07:06.616Z"
   },
   {
    "duration": 15,
    "start_time": "2022-10-18T13:07:06.667Z"
   },
   {
    "duration": 2052,
    "start_time": "2022-10-18T13:07:06.683Z"
   },
   {
    "duration": 26,
    "start_time": "2022-10-18T13:07:08.736Z"
   },
   {
    "duration": 9,
    "start_time": "2022-10-18T13:07:08.764Z"
   },
   {
    "duration": 20,
    "start_time": "2022-10-18T13:07:08.775Z"
   },
   {
    "duration": 15,
    "start_time": "2022-10-18T13:07:08.798Z"
   },
   {
    "duration": 10,
    "start_time": "2022-10-18T13:07:08.815Z"
   },
   {
    "duration": 19,
    "start_time": "2022-10-18T13:07:08.826Z"
   },
   {
    "duration": 33,
    "start_time": "2022-10-18T13:07:08.847Z"
   },
   {
    "duration": 22,
    "start_time": "2022-10-18T13:07:08.882Z"
   },
   {
    "duration": 30,
    "start_time": "2022-10-18T13:07:08.907Z"
   },
   {
    "duration": 35,
    "start_time": "2022-10-18T13:07:08.939Z"
   },
   {
    "duration": 29,
    "start_time": "2022-10-18T13:07:08.977Z"
   },
   {
    "duration": 37,
    "start_time": "2022-10-18T13:07:09.009Z"
   },
   {
    "duration": 16,
    "start_time": "2022-10-18T13:07:09.048Z"
   },
   {
    "duration": 129,
    "start_time": "2022-10-18T13:07:09.067Z"
   },
   {
    "duration": 7,
    "start_time": "2022-10-18T13:07:09.198Z"
   },
   {
    "duration": 82,
    "start_time": "2022-10-18T13:07:09.206Z"
   },
   {
    "duration": 5,
    "start_time": "2022-10-18T13:07:09.290Z"
   },
   {
    "duration": 16,
    "start_time": "2022-10-18T13:07:09.297Z"
   },
   {
    "duration": 8,
    "start_time": "2022-10-18T13:07:09.321Z"
   },
   {
    "duration": 6,
    "start_time": "2022-10-18T13:07:09.330Z"
   },
   {
    "duration": 64,
    "start_time": "2022-10-18T13:07:09.338Z"
   },
   {
    "duration": 39,
    "start_time": "2022-10-18T13:07:09.406Z"
   },
   {
    "duration": 39,
    "start_time": "2022-10-18T13:07:09.447Z"
   },
   {
    "duration": 250,
    "start_time": "2022-10-18T13:07:09.488Z"
   },
   {
    "duration": 14,
    "start_time": "2022-10-18T13:07:09.740Z"
   },
   {
    "duration": 273,
    "start_time": "2022-10-18T13:07:09.756Z"
   },
   {
    "duration": 196,
    "start_time": "2022-10-18T13:07:10.031Z"
   },
   {
    "duration": 214,
    "start_time": "2022-10-18T13:07:10.229Z"
   },
   {
    "duration": 343,
    "start_time": "2022-10-18T13:07:10.444Z"
   },
   {
    "duration": 195,
    "start_time": "2022-10-18T13:07:10.789Z"
   },
   {
    "duration": 162,
    "start_time": "2022-10-18T13:07:10.985Z"
   },
   {
    "duration": 197,
    "start_time": "2022-10-18T13:07:11.149Z"
   },
   {
    "duration": 124,
    "start_time": "2022-10-18T13:07:11.348Z"
   },
   {
    "duration": 183,
    "start_time": "2022-10-18T13:07:11.474Z"
   },
   {
    "duration": 196,
    "start_time": "2022-10-18T13:07:11.659Z"
   },
   {
    "duration": 199,
    "start_time": "2022-10-18T13:07:11.858Z"
   },
   {
    "duration": 209,
    "start_time": "2022-10-18T13:07:12.058Z"
   },
   {
    "duration": 168,
    "start_time": "2022-10-18T13:07:12.269Z"
   },
   {
    "duration": 279,
    "start_time": "2022-10-18T13:07:12.438Z"
   },
   {
    "duration": 169,
    "start_time": "2022-10-18T13:07:12.722Z"
   },
   {
    "duration": 11,
    "start_time": "2022-10-18T13:07:12.893Z"
   },
   {
    "duration": 121,
    "start_time": "2022-10-18T13:07:12.920Z"
   },
   {
    "duration": 164,
    "start_time": "2022-10-18T13:07:13.043Z"
   },
   {
    "duration": 14,
    "start_time": "2022-10-18T13:07:13.209Z"
   },
   {
    "duration": 175,
    "start_time": "2022-10-18T13:07:13.225Z"
   },
   {
    "duration": 18,
    "start_time": "2022-10-18T13:07:13.402Z"
   },
   {
    "duration": 155,
    "start_time": "2022-10-18T13:07:13.422Z"
   },
   {
    "duration": 5,
    "start_time": "2022-10-18T13:07:13.579Z"
   },
   {
    "duration": 179,
    "start_time": "2022-10-18T13:07:13.585Z"
   },
   {
    "duration": 6,
    "start_time": "2022-10-18T13:07:13.766Z"
   },
   {
    "duration": 23,
    "start_time": "2022-10-18T13:07:13.773Z"
   },
   {
    "duration": 155,
    "start_time": "2022-10-18T13:07:13.797Z"
   },
   {
    "duration": 14,
    "start_time": "2022-10-18T13:07:13.954Z"
   },
   {
    "duration": 167,
    "start_time": "2022-10-18T13:07:13.970Z"
   },
   {
    "duration": 14,
    "start_time": "2022-10-18T13:07:14.139Z"
   },
   {
    "duration": 176,
    "start_time": "2022-10-18T13:07:14.155Z"
   },
   {
    "duration": 14,
    "start_time": "2022-10-18T13:07:14.333Z"
   },
   {
    "duration": 157,
    "start_time": "2022-10-18T13:07:14.349Z"
   },
   {
    "duration": 6,
    "start_time": "2022-10-18T13:07:14.507Z"
   },
   {
    "duration": 29,
    "start_time": "2022-10-18T13:07:14.520Z"
   },
   {
    "duration": 19,
    "start_time": "2022-10-18T13:07:14.551Z"
   },
   {
    "duration": 5,
    "start_time": "2022-10-18T13:07:14.572Z"
   },
   {
    "duration": 190,
    "start_time": "2022-10-18T13:07:14.578Z"
   },
   {
    "duration": 313,
    "start_time": "2022-10-18T13:10:01.654Z"
   },
   {
    "duration": 336,
    "start_time": "2022-10-18T13:12:28.474Z"
   },
   {
    "duration": 396,
    "start_time": "2022-10-18T13:12:34.187Z"
   },
   {
    "duration": 311,
    "start_time": "2022-10-18T13:12:48.284Z"
   },
   {
    "duration": 265,
    "start_time": "2022-10-18T13:14:47.573Z"
   },
   {
    "duration": 325,
    "start_time": "2022-10-18T13:16:16.637Z"
   },
   {
    "duration": 362,
    "start_time": "2022-10-18T13:17:11.379Z"
   },
   {
    "duration": 338,
    "start_time": "2022-10-18T13:18:48.120Z"
   },
   {
    "duration": 342,
    "start_time": "2022-10-18T13:18:57.597Z"
   },
   {
    "duration": 496,
    "start_time": "2022-10-18T13:19:31.307Z"
   },
   {
    "duration": 372,
    "start_time": "2022-10-18T13:20:56.787Z"
   },
   {
    "duration": 401,
    "start_time": "2022-10-18T13:33:04.869Z"
   },
   {
    "duration": 351,
    "start_time": "2022-10-18T13:33:15.057Z"
   },
   {
    "duration": 272,
    "start_time": "2022-10-18T13:33:20.361Z"
   },
   {
    "duration": 318,
    "start_time": "2022-10-18T13:33:27.429Z"
   },
   {
    "duration": 305,
    "start_time": "2022-10-18T13:33:33.586Z"
   },
   {
    "duration": 538,
    "start_time": "2022-10-18T13:33:52.548Z"
   },
   {
    "duration": 343,
    "start_time": "2022-10-18T13:34:02.688Z"
   },
   {
    "duration": 328,
    "start_time": "2022-10-18T13:34:16.633Z"
   },
   {
    "duration": 329,
    "start_time": "2022-10-18T13:34:23.649Z"
   },
   {
    "duration": 674,
    "start_time": "2022-10-18T14:54:36.339Z"
   },
   {
    "duration": 5,
    "start_time": "2022-10-18T14:54:37.015Z"
   },
   {
    "duration": 100,
    "start_time": "2022-10-18T14:54:37.021Z"
   },
   {
    "duration": 51,
    "start_time": "2022-10-18T14:54:37.123Z"
   },
   {
    "duration": 16,
    "start_time": "2022-10-18T14:54:37.177Z"
   },
   {
    "duration": 2259,
    "start_time": "2022-10-18T14:54:37.196Z"
   },
   {
    "duration": 27,
    "start_time": "2022-10-18T14:54:39.457Z"
   },
   {
    "duration": 11,
    "start_time": "2022-10-18T14:54:39.486Z"
   },
   {
    "duration": 37,
    "start_time": "2022-10-18T14:54:39.499Z"
   },
   {
    "duration": 21,
    "start_time": "2022-10-18T14:54:39.538Z"
   },
   {
    "duration": 32,
    "start_time": "2022-10-18T14:54:39.561Z"
   },
   {
    "duration": 51,
    "start_time": "2022-10-18T14:54:39.595Z"
   },
   {
    "duration": 36,
    "start_time": "2022-10-18T14:54:39.648Z"
   },
   {
    "duration": 17,
    "start_time": "2022-10-18T14:54:39.687Z"
   },
   {
    "duration": 26,
    "start_time": "2022-10-18T14:54:39.705Z"
   },
   {
    "duration": 52,
    "start_time": "2022-10-18T14:54:39.732Z"
   },
   {
    "duration": 52,
    "start_time": "2022-10-18T14:54:39.786Z"
   },
   {
    "duration": 25,
    "start_time": "2022-10-18T14:54:39.840Z"
   },
   {
    "duration": 26,
    "start_time": "2022-10-18T14:54:39.867Z"
   },
   {
    "duration": 140,
    "start_time": "2022-10-18T14:54:39.895Z"
   },
   {
    "duration": 9,
    "start_time": "2022-10-18T14:54:40.037Z"
   },
   {
    "duration": 108,
    "start_time": "2022-10-18T14:54:40.048Z"
   },
   {
    "duration": 6,
    "start_time": "2022-10-18T14:54:40.158Z"
   },
   {
    "duration": 13,
    "start_time": "2022-10-18T14:54:40.166Z"
   },
   {
    "duration": 15,
    "start_time": "2022-10-18T14:54:40.181Z"
   },
   {
    "duration": 23,
    "start_time": "2022-10-18T14:54:40.198Z"
   },
   {
    "duration": 56,
    "start_time": "2022-10-18T14:54:40.222Z"
   },
   {
    "duration": 57,
    "start_time": "2022-10-18T14:54:40.280Z"
   },
   {
    "duration": 41,
    "start_time": "2022-10-18T14:54:40.339Z"
   },
   {
    "duration": 251,
    "start_time": "2022-10-18T14:54:40.382Z"
   },
   {
    "duration": 13,
    "start_time": "2022-10-18T14:54:40.636Z"
   },
   {
    "duration": 323,
    "start_time": "2022-10-18T14:54:40.651Z"
   },
   {
    "duration": 287,
    "start_time": "2022-10-18T14:54:40.976Z"
   },
   {
    "duration": 318,
    "start_time": "2022-10-18T14:54:41.265Z"
   },
   {
    "duration": 496,
    "start_time": "2022-10-18T14:54:41.585Z"
   },
   {
    "duration": 216,
    "start_time": "2022-10-18T14:54:42.083Z"
   },
   {
    "duration": 170,
    "start_time": "2022-10-18T14:54:42.301Z"
   },
   {
    "duration": 214,
    "start_time": "2022-10-18T14:54:42.473Z"
   },
   {
    "duration": 123,
    "start_time": "2022-10-18T14:54:42.689Z"
   },
   {
    "duration": 195,
    "start_time": "2022-10-18T14:54:42.814Z"
   },
   {
    "duration": 199,
    "start_time": "2022-10-18T14:54:43.014Z"
   },
   {
    "duration": 200,
    "start_time": "2022-10-18T14:54:43.220Z"
   },
   {
    "duration": 205,
    "start_time": "2022-10-18T14:54:43.422Z"
   },
   {
    "duration": 168,
    "start_time": "2022-10-18T14:54:43.629Z"
   },
   {
    "duration": 268,
    "start_time": "2022-10-18T14:54:43.798Z"
   },
   {
    "duration": 174,
    "start_time": "2022-10-18T14:54:44.068Z"
   },
   {
    "duration": 11,
    "start_time": "2022-10-18T14:54:44.243Z"
   },
   {
    "duration": 120,
    "start_time": "2022-10-18T14:54:44.255Z"
   },
   {
    "duration": 172,
    "start_time": "2022-10-18T14:54:44.377Z"
   },
   {
    "duration": 5,
    "start_time": "2022-10-18T14:54:44.551Z"
   },
   {
    "duration": 198,
    "start_time": "2022-10-18T14:54:44.558Z"
   },
   {
    "duration": 6,
    "start_time": "2022-10-18T14:54:44.758Z"
   },
   {
    "duration": 173,
    "start_time": "2022-10-18T14:54:44.766Z"
   },
   {
    "duration": 7,
    "start_time": "2022-10-18T14:54:44.941Z"
   },
   {
    "duration": 202,
    "start_time": "2022-10-18T14:54:44.950Z"
   },
   {
    "duration": 7,
    "start_time": "2022-10-18T14:54:45.154Z"
   },
   {
    "duration": 33,
    "start_time": "2022-10-18T14:54:45.164Z"
   },
   {
    "duration": 194,
    "start_time": "2022-10-18T14:54:45.199Z"
   },
   {
    "duration": 32,
    "start_time": "2022-10-18T14:54:45.396Z"
   },
   {
    "duration": 172,
    "start_time": "2022-10-18T14:54:45.430Z"
   },
   {
    "duration": 22,
    "start_time": "2022-10-18T14:54:45.604Z"
   },
   {
    "duration": 174,
    "start_time": "2022-10-18T14:54:45.628Z"
   },
   {
    "duration": 22,
    "start_time": "2022-10-18T14:54:45.804Z"
   },
   {
    "duration": 171,
    "start_time": "2022-10-18T14:54:45.829Z"
   },
   {
    "duration": 5,
    "start_time": "2022-10-18T14:54:46.002Z"
   },
   {
    "duration": 38,
    "start_time": "2022-10-18T14:54:46.009Z"
   },
   {
    "duration": 20,
    "start_time": "2022-10-18T14:54:46.048Z"
   },
   {
    "duration": 8,
    "start_time": "2022-10-18T14:54:46.070Z"
   },
   {
    "duration": 198,
    "start_time": "2022-10-18T14:54:46.080Z"
   },
   {
    "duration": 129,
    "start_time": "2022-10-18T14:58:28.041Z"
   },
   {
    "duration": 14,
    "start_time": "2022-10-18T14:58:50.962Z"
   },
   {
    "duration": 12,
    "start_time": "2022-10-18T14:59:09.129Z"
   },
   {
    "duration": 10,
    "start_time": "2022-10-18T14:59:43.616Z"
   },
   {
    "duration": 11,
    "start_time": "2022-10-18T15:00:22.233Z"
   },
   {
    "duration": 9,
    "start_time": "2022-10-18T15:01:53.338Z"
   },
   {
    "duration": 336,
    "start_time": "2022-10-18T15:08:52.534Z"
   },
   {
    "duration": 232,
    "start_time": "2022-10-18T15:10:19.103Z"
   },
   {
    "duration": 263,
    "start_time": "2022-10-18T15:11:42.302Z"
   },
   {
    "duration": 324,
    "start_time": "2022-10-18T15:12:57.907Z"
   },
   {
    "duration": 190,
    "start_time": "2022-10-18T15:13:23.347Z"
   },
   {
    "duration": 10,
    "start_time": "2022-10-18T15:17:44.049Z"
   },
   {
    "duration": 15,
    "start_time": "2022-10-18T15:18:36.904Z"
   },
   {
    "duration": 181,
    "start_time": "2022-10-18T15:19:10.785Z"
   },
   {
    "duration": 235,
    "start_time": "2022-10-18T15:20:32.636Z"
   },
   {
    "duration": 264,
    "start_time": "2022-10-18T15:21:50.610Z"
   },
   {
    "duration": 284,
    "start_time": "2022-10-18T15:23:11.894Z"
   },
   {
    "duration": 282,
    "start_time": "2022-10-18T15:24:02.868Z"
   },
   {
    "duration": 6,
    "start_time": "2022-10-18T15:25:48.465Z"
   },
   {
    "duration": 6,
    "start_time": "2022-10-18T15:26:12.463Z"
   },
   {
    "duration": 77,
    "start_time": "2022-10-18T15:34:49.300Z"
   },
   {
    "duration": 663,
    "start_time": "2022-10-18T16:08:33.758Z"
   },
   {
    "duration": 3,
    "start_time": "2022-10-18T16:08:34.424Z"
   },
   {
    "duration": 107,
    "start_time": "2022-10-18T16:08:34.429Z"
   },
   {
    "duration": 52,
    "start_time": "2022-10-18T16:08:34.538Z"
   },
   {
    "duration": 31,
    "start_time": "2022-10-18T16:08:34.592Z"
   },
   {
    "duration": 2099,
    "start_time": "2022-10-18T16:08:34.624Z"
   },
   {
    "duration": 27,
    "start_time": "2022-10-18T16:08:36.726Z"
   },
   {
    "duration": 11,
    "start_time": "2022-10-18T16:08:36.755Z"
   },
   {
    "duration": 24,
    "start_time": "2022-10-18T16:08:36.768Z"
   },
   {
    "duration": 28,
    "start_time": "2022-10-18T16:08:36.795Z"
   },
   {
    "duration": 6,
    "start_time": "2022-10-18T16:08:36.825Z"
   },
   {
    "duration": 11,
    "start_time": "2022-10-18T16:08:36.833Z"
   },
   {
    "duration": 23,
    "start_time": "2022-10-18T16:08:36.846Z"
   },
   {
    "duration": 19,
    "start_time": "2022-10-18T16:08:36.871Z"
   },
   {
    "duration": 37,
    "start_time": "2022-10-18T16:08:36.891Z"
   },
   {
    "duration": 19,
    "start_time": "2022-10-18T16:08:36.929Z"
   },
   {
    "duration": 19,
    "start_time": "2022-10-18T16:08:36.950Z"
   },
   {
    "duration": 7,
    "start_time": "2022-10-18T16:08:36.971Z"
   },
   {
    "duration": 42,
    "start_time": "2022-10-18T16:08:36.980Z"
   },
   {
    "duration": 111,
    "start_time": "2022-10-18T16:08:37.024Z"
   },
   {
    "duration": 8,
    "start_time": "2022-10-18T16:08:37.137Z"
   },
   {
    "duration": 91,
    "start_time": "2022-10-18T16:08:37.147Z"
   },
   {
    "duration": 8,
    "start_time": "2022-10-18T16:08:37.240Z"
   },
   {
    "duration": 11,
    "start_time": "2022-10-18T16:08:37.250Z"
   },
   {
    "duration": 9,
    "start_time": "2022-10-18T16:08:37.262Z"
   },
   {
    "duration": 24,
    "start_time": "2022-10-18T16:08:37.272Z"
   },
   {
    "duration": 56,
    "start_time": "2022-10-18T16:08:37.297Z"
   },
   {
    "duration": 43,
    "start_time": "2022-10-18T16:08:37.358Z"
   },
   {
    "duration": 65,
    "start_time": "2022-10-18T16:08:37.403Z"
   },
   {
    "duration": 257,
    "start_time": "2022-10-18T16:08:37.470Z"
   },
   {
    "duration": 14,
    "start_time": "2022-10-18T16:08:37.729Z"
   },
   {
    "duration": 348,
    "start_time": "2022-10-18T16:08:37.744Z"
   },
   {
    "duration": 281,
    "start_time": "2022-10-18T16:08:38.094Z"
   },
   {
    "duration": 311,
    "start_time": "2022-10-18T16:08:38.377Z"
   },
   {
    "duration": 516,
    "start_time": "2022-10-18T16:08:38.691Z"
   },
   {
    "duration": 350,
    "start_time": "2022-10-18T16:08:39.209Z"
   },
   {
    "duration": 227,
    "start_time": "2022-10-18T16:08:39.561Z"
   },
   {
    "duration": 281,
    "start_time": "2022-10-18T16:08:39.791Z"
   },
   {
    "duration": 189,
    "start_time": "2022-10-18T16:08:40.074Z"
   },
   {
    "duration": 260,
    "start_time": "2022-10-18T16:08:40.265Z"
   },
   {
    "duration": 257,
    "start_time": "2022-10-18T16:08:40.527Z"
   },
   {
    "duration": 9,
    "start_time": "2022-10-18T16:08:40.786Z"
   },
   {
    "duration": 25,
    "start_time": "2022-10-18T16:08:40.797Z"
   },
   {
    "duration": 276,
    "start_time": "2022-10-18T16:08:40.824Z"
   },
   {
    "duration": 274,
    "start_time": "2022-10-18T16:08:41.102Z"
   },
   {
    "duration": 6,
    "start_time": "2022-10-18T16:08:41.378Z"
   },
   {
    "duration": 307,
    "start_time": "2022-10-18T16:08:41.386Z"
   },
   {
    "duration": 193,
    "start_time": "2022-10-18T16:08:41.696Z"
   },
   {
    "duration": 196,
    "start_time": "2022-10-18T16:08:41.891Z"
   },
   {
    "duration": 9,
    "start_time": "2022-10-18T16:08:42.089Z"
   },
   {
    "duration": 128,
    "start_time": "2022-10-18T16:08:42.100Z"
   },
   {
    "duration": 170,
    "start_time": "2022-10-18T16:08:42.230Z"
   },
   {
    "duration": 6,
    "start_time": "2022-10-18T16:08:42.402Z"
   },
   {
    "duration": 176,
    "start_time": "2022-10-18T16:08:42.410Z"
   },
   {
    "duration": 5,
    "start_time": "2022-10-18T16:08:42.588Z"
   },
   {
    "duration": 180,
    "start_time": "2022-10-18T16:08:42.595Z"
   },
   {
    "duration": 7,
    "start_time": "2022-10-18T16:08:42.777Z"
   },
   {
    "duration": 198,
    "start_time": "2022-10-18T16:08:42.787Z"
   },
   {
    "duration": 8,
    "start_time": "2022-10-18T16:08:42.987Z"
   },
   {
    "duration": 32,
    "start_time": "2022-10-18T16:08:42.997Z"
   },
   {
    "duration": 150,
    "start_time": "2022-10-18T16:08:43.031Z"
   },
   {
    "duration": 14,
    "start_time": "2022-10-18T16:08:43.184Z"
   },
   {
    "duration": 182,
    "start_time": "2022-10-18T16:08:43.200Z"
   },
   {
    "duration": 15,
    "start_time": "2022-10-18T16:08:43.384Z"
   },
   {
    "duration": 172,
    "start_time": "2022-10-18T16:08:43.402Z"
   },
   {
    "duration": 13,
    "start_time": "2022-10-18T16:08:43.576Z"
   },
   {
    "duration": 182,
    "start_time": "2022-10-18T16:08:43.591Z"
   },
   {
    "duration": 5,
    "start_time": "2022-10-18T16:08:43.775Z"
   },
   {
    "duration": 37,
    "start_time": "2022-10-18T16:08:43.781Z"
   },
   {
    "duration": 19,
    "start_time": "2022-10-18T16:08:43.820Z"
   },
   {
    "duration": 6,
    "start_time": "2022-10-18T16:08:43.841Z"
   },
   {
    "duration": 184,
    "start_time": "2022-10-18T16:08:43.849Z"
   },
   {
    "duration": 221,
    "start_time": "2022-10-18T16:10:02.373Z"
   },
   {
    "duration": 262,
    "start_time": "2022-10-18T16:10:58.702Z"
   },
   {
    "duration": 221,
    "start_time": "2022-10-18T16:13:23.975Z"
   },
   {
    "duration": 690,
    "start_time": "2022-10-18T16:14:27.070Z"
   },
   {
    "duration": 4,
    "start_time": "2022-10-18T16:14:27.763Z"
   },
   {
    "duration": 113,
    "start_time": "2022-10-18T16:14:27.769Z"
   },
   {
    "duration": 60,
    "start_time": "2022-10-18T16:14:27.884Z"
   },
   {
    "duration": 17,
    "start_time": "2022-10-18T16:14:27.946Z"
   },
   {
    "duration": 2383,
    "start_time": "2022-10-18T16:14:27.964Z"
   },
   {
    "duration": 26,
    "start_time": "2022-10-18T16:14:30.349Z"
   },
   {
    "duration": 42,
    "start_time": "2022-10-18T16:14:30.377Z"
   },
   {
    "duration": 63,
    "start_time": "2022-10-18T16:14:30.420Z"
   },
   {
    "duration": 26,
    "start_time": "2022-10-18T16:14:30.485Z"
   },
   {
    "duration": 57,
    "start_time": "2022-10-18T16:14:30.512Z"
   },
   {
    "duration": 40,
    "start_time": "2022-10-18T16:14:30.571Z"
   },
   {
    "duration": 77,
    "start_time": "2022-10-18T16:14:30.613Z"
   },
   {
    "duration": 60,
    "start_time": "2022-10-18T16:14:30.692Z"
   },
   {
    "duration": 38,
    "start_time": "2022-10-18T16:14:30.754Z"
   },
   {
    "duration": 30,
    "start_time": "2022-10-18T16:14:30.793Z"
   },
   {
    "duration": 41,
    "start_time": "2022-10-18T16:14:30.825Z"
   },
   {
    "duration": 38,
    "start_time": "2022-10-18T16:14:30.868Z"
   },
   {
    "duration": 30,
    "start_time": "2022-10-18T16:14:30.908Z"
   },
   {
    "duration": 118,
    "start_time": "2022-10-18T16:14:30.939Z"
   },
   {
    "duration": 8,
    "start_time": "2022-10-18T16:14:31.059Z"
   },
   {
    "duration": 114,
    "start_time": "2022-10-18T16:14:31.068Z"
   },
   {
    "duration": 6,
    "start_time": "2022-10-18T16:14:31.184Z"
   },
   {
    "duration": 37,
    "start_time": "2022-10-18T16:14:31.192Z"
   },
   {
    "duration": 44,
    "start_time": "2022-10-18T16:14:31.231Z"
   },
   {
    "duration": 15,
    "start_time": "2022-10-18T16:14:31.276Z"
   },
   {
    "duration": 80,
    "start_time": "2022-10-18T16:14:31.292Z"
   },
   {
    "duration": 48,
    "start_time": "2022-10-18T16:14:31.376Z"
   },
   {
    "duration": 40,
    "start_time": "2022-10-18T16:14:31.425Z"
   },
   {
    "duration": 279,
    "start_time": "2022-10-18T16:14:31.466Z"
   },
   {
    "duration": 18,
    "start_time": "2022-10-18T16:14:31.747Z"
   },
   {
    "duration": 345,
    "start_time": "2022-10-18T16:14:31.767Z"
   },
   {
    "duration": 275,
    "start_time": "2022-10-18T16:14:32.120Z"
   },
   {
    "duration": 279,
    "start_time": "2022-10-18T16:14:32.396Z"
   },
   {
    "duration": 443,
    "start_time": "2022-10-18T16:14:32.677Z"
   },
   {
    "duration": 353,
    "start_time": "2022-10-18T16:14:33.122Z"
   },
   {
    "duration": 239,
    "start_time": "2022-10-18T16:14:33.477Z"
   },
   {
    "duration": 306,
    "start_time": "2022-10-18T16:14:33.717Z"
   },
   {
    "duration": 191,
    "start_time": "2022-10-18T16:14:34.025Z"
   },
   {
    "duration": 254,
    "start_time": "2022-10-18T16:14:34.221Z"
   },
   {
    "duration": 303,
    "start_time": "2022-10-18T16:14:34.476Z"
   },
   {
    "duration": 8,
    "start_time": "2022-10-18T16:14:34.781Z"
   },
   {
    "duration": 16,
    "start_time": "2022-10-18T16:14:34.792Z"
   },
   {
    "duration": 295,
    "start_time": "2022-10-18T16:14:34.810Z"
   },
   {
    "duration": 289,
    "start_time": "2022-10-18T16:14:35.107Z"
   },
   {
    "duration": 7,
    "start_time": "2022-10-18T16:14:35.397Z"
   },
   {
    "duration": 357,
    "start_time": "2022-10-18T16:14:35.406Z"
   },
   {
    "duration": 245,
    "start_time": "2022-10-18T16:14:35.764Z"
   },
   {
    "duration": 245,
    "start_time": "2022-10-18T16:14:36.011Z"
   },
   {
    "duration": 11,
    "start_time": "2022-10-18T16:14:36.258Z"
   },
   {
    "duration": 126,
    "start_time": "2022-10-18T16:14:36.270Z"
   },
   {
    "duration": 161,
    "start_time": "2022-10-18T16:14:36.398Z"
   },
   {
    "duration": 6,
    "start_time": "2022-10-18T16:14:36.561Z"
   },
   {
    "duration": 186,
    "start_time": "2022-10-18T16:14:36.568Z"
   },
   {
    "duration": 6,
    "start_time": "2022-10-18T16:14:36.756Z"
   },
   {
    "duration": 169,
    "start_time": "2022-10-18T16:14:36.763Z"
   },
   {
    "duration": 5,
    "start_time": "2022-10-18T16:14:36.934Z"
   },
   {
    "duration": 174,
    "start_time": "2022-10-18T16:14:36.941Z"
   },
   {
    "duration": 8,
    "start_time": "2022-10-18T16:14:37.117Z"
   },
   {
    "duration": 19,
    "start_time": "2022-10-18T16:14:37.127Z"
   },
   {
    "duration": 151,
    "start_time": "2022-10-18T16:14:37.148Z"
   },
   {
    "duration": 21,
    "start_time": "2022-10-18T16:14:37.301Z"
   },
   {
    "duration": 167,
    "start_time": "2022-10-18T16:14:37.324Z"
   },
   {
    "duration": 14,
    "start_time": "2022-10-18T16:14:37.493Z"
   },
   {
    "duration": 166,
    "start_time": "2022-10-18T16:14:37.521Z"
   },
   {
    "duration": 14,
    "start_time": "2022-10-18T16:14:37.689Z"
   },
   {
    "duration": 174,
    "start_time": "2022-10-18T16:14:37.704Z"
   },
   {
    "duration": 6,
    "start_time": "2022-10-18T16:14:37.881Z"
   },
   {
    "duration": 43,
    "start_time": "2022-10-18T16:14:37.888Z"
   },
   {
    "duration": 30,
    "start_time": "2022-10-18T16:14:37.933Z"
   },
   {
    "duration": 8,
    "start_time": "2022-10-18T16:14:37.965Z"
   },
   {
    "duration": 180,
    "start_time": "2022-10-18T16:14:37.975Z"
   },
   {
    "duration": 695,
    "start_time": "2022-10-18T16:19:31.232Z"
   },
   {
    "duration": 3,
    "start_time": "2022-10-18T16:19:31.929Z"
   },
   {
    "duration": 141,
    "start_time": "2022-10-18T16:19:31.934Z"
   },
   {
    "duration": 50,
    "start_time": "2022-10-18T16:19:32.077Z"
   },
   {
    "duration": 16,
    "start_time": "2022-10-18T16:19:32.129Z"
   },
   {
    "duration": 2168,
    "start_time": "2022-10-18T16:19:32.147Z"
   },
   {
    "duration": 28,
    "start_time": "2022-10-18T16:19:34.317Z"
   },
   {
    "duration": 18,
    "start_time": "2022-10-18T16:19:34.347Z"
   },
   {
    "duration": 34,
    "start_time": "2022-10-18T16:19:34.367Z"
   },
   {
    "duration": 30,
    "start_time": "2022-10-18T16:19:34.405Z"
   },
   {
    "duration": 35,
    "start_time": "2022-10-18T16:19:34.438Z"
   },
   {
    "duration": 44,
    "start_time": "2022-10-18T16:19:34.475Z"
   },
   {
    "duration": 52,
    "start_time": "2022-10-18T16:19:34.521Z"
   },
   {
    "duration": 38,
    "start_time": "2022-10-18T16:19:34.575Z"
   },
   {
    "duration": 31,
    "start_time": "2022-10-18T16:19:34.614Z"
   },
   {
    "duration": 49,
    "start_time": "2022-10-18T16:19:34.647Z"
   },
   {
    "duration": 48,
    "start_time": "2022-10-18T16:19:34.698Z"
   },
   {
    "duration": 23,
    "start_time": "2022-10-18T16:19:34.748Z"
   },
   {
    "duration": 41,
    "start_time": "2022-10-18T16:19:34.773Z"
   },
   {
    "duration": 158,
    "start_time": "2022-10-18T16:19:34.816Z"
   },
   {
    "duration": 8,
    "start_time": "2022-10-18T16:19:34.976Z"
   },
   {
    "duration": 100,
    "start_time": "2022-10-18T16:19:34.986Z"
   },
   {
    "duration": 8,
    "start_time": "2022-10-18T16:19:35.088Z"
   },
   {
    "duration": 45,
    "start_time": "2022-10-18T16:19:35.098Z"
   },
   {
    "duration": 49,
    "start_time": "2022-10-18T16:19:35.145Z"
   },
   {
    "duration": 36,
    "start_time": "2022-10-18T16:19:35.196Z"
   },
   {
    "duration": 92,
    "start_time": "2022-10-18T16:19:35.233Z"
   },
   {
    "duration": 46,
    "start_time": "2022-10-18T16:19:35.330Z"
   },
   {
    "duration": 45,
    "start_time": "2022-10-18T16:19:35.378Z"
   },
   {
    "duration": 279,
    "start_time": "2022-10-18T16:19:35.424Z"
   },
   {
    "duration": 21,
    "start_time": "2022-10-18T16:19:35.705Z"
   },
   {
    "duration": 321,
    "start_time": "2022-10-18T16:19:35.728Z"
   },
   {
    "duration": 282,
    "start_time": "2022-10-18T16:19:36.051Z"
   },
   {
    "duration": 302,
    "start_time": "2022-10-18T16:19:36.335Z"
   },
   {
    "duration": 447,
    "start_time": "2022-10-18T16:19:36.639Z"
   },
   {
    "duration": 355,
    "start_time": "2022-10-18T16:19:37.089Z"
   },
   {
    "duration": 258,
    "start_time": "2022-10-18T16:19:37.447Z"
   },
   {
    "duration": 311,
    "start_time": "2022-10-18T16:19:37.707Z"
   },
   {
    "duration": 238,
    "start_time": "2022-10-18T16:19:38.021Z"
   },
   {
    "duration": 269,
    "start_time": "2022-10-18T16:19:38.261Z"
   },
   {
    "duration": 281,
    "start_time": "2022-10-18T16:19:38.532Z"
   },
   {
    "duration": 11,
    "start_time": "2022-10-18T16:19:38.815Z"
   },
   {
    "duration": 11,
    "start_time": "2022-10-18T16:19:38.828Z"
   },
   {
    "duration": 382,
    "start_time": "2022-10-18T16:19:38.841Z"
   },
   {
    "duration": 295,
    "start_time": "2022-10-18T16:19:39.225Z"
   },
   {
    "duration": 7,
    "start_time": "2022-10-18T16:19:39.522Z"
   },
   {
    "duration": 403,
    "start_time": "2022-10-18T16:19:39.530Z"
   },
   {
    "duration": 238,
    "start_time": "2022-10-18T16:19:39.935Z"
   },
   {
    "duration": 245,
    "start_time": "2022-10-18T16:19:40.175Z"
   },
   {
    "duration": 9,
    "start_time": "2022-10-18T16:19:40.422Z"
   },
   {
    "duration": 149,
    "start_time": "2022-10-18T16:19:40.432Z"
   },
   {
    "duration": 163,
    "start_time": "2022-10-18T16:19:40.583Z"
   },
   {
    "duration": 6,
    "start_time": "2022-10-18T16:19:40.748Z"
   },
   {
    "duration": 209,
    "start_time": "2022-10-18T16:19:40.756Z"
   },
   {
    "duration": 6,
    "start_time": "2022-10-18T16:19:40.967Z"
   },
   {
    "duration": 185,
    "start_time": "2022-10-18T16:19:40.975Z"
   },
   {
    "duration": 6,
    "start_time": "2022-10-18T16:19:41.162Z"
   },
   {
    "duration": 195,
    "start_time": "2022-10-18T16:19:41.169Z"
   },
   {
    "duration": 6,
    "start_time": "2022-10-18T16:19:41.366Z"
   },
   {
    "duration": 34,
    "start_time": "2022-10-18T16:19:41.374Z"
   },
   {
    "duration": 173,
    "start_time": "2022-10-18T16:19:41.410Z"
   },
   {
    "duration": 21,
    "start_time": "2022-10-18T16:19:41.584Z"
   },
   {
    "duration": 172,
    "start_time": "2022-10-18T16:19:41.621Z"
   },
   {
    "duration": 26,
    "start_time": "2022-10-18T16:19:41.794Z"
   },
   {
    "duration": 181,
    "start_time": "2022-10-18T16:19:41.823Z"
   },
   {
    "duration": 22,
    "start_time": "2022-10-18T16:19:42.005Z"
   },
   {
    "duration": 164,
    "start_time": "2022-10-18T16:19:42.029Z"
   },
   {
    "duration": 5,
    "start_time": "2022-10-18T16:19:42.195Z"
   },
   {
    "duration": 43,
    "start_time": "2022-10-18T16:19:42.202Z"
   },
   {
    "duration": 20,
    "start_time": "2022-10-18T16:19:42.247Z"
   },
   {
    "duration": 6,
    "start_time": "2022-10-18T16:19:42.269Z"
   },
   {
    "duration": 178,
    "start_time": "2022-10-18T16:19:42.277Z"
   },
   {
    "duration": 792,
    "start_time": "2022-10-18T16:25:17.663Z"
   },
   {
    "duration": 4,
    "start_time": "2022-10-18T16:25:18.457Z"
   },
   {
    "duration": 111,
    "start_time": "2022-10-18T16:25:18.463Z"
   },
   {
    "duration": 54,
    "start_time": "2022-10-18T16:25:18.577Z"
   },
   {
    "duration": 17,
    "start_time": "2022-10-18T16:25:18.633Z"
   },
   {
    "duration": 2231,
    "start_time": "2022-10-18T16:25:18.652Z"
   },
   {
    "duration": 26,
    "start_time": "2022-10-18T16:25:20.884Z"
   },
   {
    "duration": 14,
    "start_time": "2022-10-18T16:25:20.912Z"
   },
   {
    "duration": 21,
    "start_time": "2022-10-18T16:25:20.929Z"
   },
   {
    "duration": 13,
    "start_time": "2022-10-18T16:25:20.953Z"
   },
   {
    "duration": 7,
    "start_time": "2022-10-18T16:25:20.967Z"
   },
   {
    "duration": 17,
    "start_time": "2022-10-18T16:25:20.976Z"
   },
   {
    "duration": 56,
    "start_time": "2022-10-18T16:25:20.995Z"
   },
   {
    "duration": 29,
    "start_time": "2022-10-18T16:25:21.053Z"
   },
   {
    "duration": 20,
    "start_time": "2022-10-18T16:25:21.084Z"
   },
   {
    "duration": 20,
    "start_time": "2022-10-18T16:25:21.106Z"
   },
   {
    "duration": 20,
    "start_time": "2022-10-18T16:25:21.128Z"
   },
   {
    "duration": 8,
    "start_time": "2022-10-18T16:25:21.149Z"
   },
   {
    "duration": 12,
    "start_time": "2022-10-18T16:25:21.159Z"
   },
   {
    "duration": 164,
    "start_time": "2022-10-18T16:25:21.173Z"
   },
   {
    "duration": 7,
    "start_time": "2022-10-18T16:25:21.339Z"
   },
   {
    "duration": 83,
    "start_time": "2022-10-18T16:25:21.348Z"
   },
   {
    "duration": 6,
    "start_time": "2022-10-18T16:25:21.433Z"
   },
   {
    "duration": 120,
    "start_time": "2022-10-18T16:25:21.440Z"
   },
   {
    "duration": 12,
    "start_time": "2022-10-18T16:25:21.562Z"
   },
   {
    "duration": 7,
    "start_time": "2022-10-18T16:25:21.576Z"
   },
   {
    "duration": 50,
    "start_time": "2022-10-18T16:25:21.584Z"
   },
   {
    "duration": 41,
    "start_time": "2022-10-18T16:25:21.638Z"
   },
   {
    "duration": 54,
    "start_time": "2022-10-18T16:25:21.681Z"
   },
   {
    "duration": 278,
    "start_time": "2022-10-18T16:25:21.737Z"
   },
   {
    "duration": 19,
    "start_time": "2022-10-18T16:25:22.020Z"
   },
   {
    "duration": 322,
    "start_time": "2022-10-18T16:25:22.041Z"
   },
   {
    "duration": 280,
    "start_time": "2022-10-18T16:25:22.366Z"
   },
   {
    "duration": 307,
    "start_time": "2022-10-18T16:25:22.648Z"
   },
   {
    "duration": 507,
    "start_time": "2022-10-18T16:25:22.957Z"
   },
   {
    "duration": 358,
    "start_time": "2022-10-18T16:25:23.466Z"
   },
   {
    "duration": 248,
    "start_time": "2022-10-18T16:25:23.826Z"
   },
   {
    "duration": 299,
    "start_time": "2022-10-18T16:25:24.076Z"
   },
   {
    "duration": 198,
    "start_time": "2022-10-18T16:25:24.376Z"
   },
   {
    "duration": 285,
    "start_time": "2022-10-18T16:25:24.576Z"
   },
   {
    "duration": 265,
    "start_time": "2022-10-18T16:25:24.863Z"
   },
   {
    "duration": 8,
    "start_time": "2022-10-18T16:25:25.130Z"
   },
   {
    "duration": 27,
    "start_time": "2022-10-18T16:25:25.140Z"
   },
   {
    "duration": 297,
    "start_time": "2022-10-18T16:25:25.169Z"
   },
   {
    "duration": 280,
    "start_time": "2022-10-18T16:25:25.468Z"
   },
   {
    "duration": 6,
    "start_time": "2022-10-18T16:25:25.750Z"
   },
   {
    "duration": 376,
    "start_time": "2022-10-18T16:25:25.758Z"
   },
   {
    "duration": 245,
    "start_time": "2022-10-18T16:25:26.137Z"
   },
   {
    "duration": 267,
    "start_time": "2022-10-18T16:25:26.384Z"
   },
   {
    "duration": 9,
    "start_time": "2022-10-18T16:25:26.653Z"
   },
   {
    "duration": 158,
    "start_time": "2022-10-18T16:25:26.664Z"
   },
   {
    "duration": 187,
    "start_time": "2022-10-18T16:25:26.824Z"
   },
   {
    "duration": 11,
    "start_time": "2022-10-18T16:25:27.013Z"
   },
   {
    "duration": 219,
    "start_time": "2022-10-18T16:25:27.026Z"
   },
   {
    "duration": 5,
    "start_time": "2022-10-18T16:25:27.247Z"
   },
   {
    "duration": 178,
    "start_time": "2022-10-18T16:25:27.254Z"
   },
   {
    "duration": 7,
    "start_time": "2022-10-18T16:25:27.433Z"
   },
   {
    "duration": 195,
    "start_time": "2022-10-18T16:25:27.443Z"
   },
   {
    "duration": 6,
    "start_time": "2022-10-18T16:25:27.641Z"
   },
   {
    "duration": 34,
    "start_time": "2022-10-18T16:25:27.649Z"
   },
   {
    "duration": 185,
    "start_time": "2022-10-18T16:25:27.686Z"
   },
   {
    "duration": 19,
    "start_time": "2022-10-18T16:25:27.873Z"
   },
   {
    "duration": 189,
    "start_time": "2022-10-18T16:25:27.894Z"
   },
   {
    "duration": 15,
    "start_time": "2022-10-18T16:25:28.086Z"
   },
   {
    "duration": 185,
    "start_time": "2022-10-18T16:25:28.102Z"
   },
   {
    "duration": 19,
    "start_time": "2022-10-18T16:25:28.320Z"
   },
   {
    "duration": 194,
    "start_time": "2022-10-18T16:25:28.342Z"
   },
   {
    "duration": 6,
    "start_time": "2022-10-18T16:25:28.538Z"
   },
   {
    "duration": 47,
    "start_time": "2022-10-18T16:25:28.546Z"
   },
   {
    "duration": 22,
    "start_time": "2022-10-18T16:25:28.595Z"
   },
   {
    "duration": 5,
    "start_time": "2022-10-18T16:25:28.619Z"
   },
   {
    "duration": 162,
    "start_time": "2022-10-18T16:25:28.626Z"
   },
   {
    "duration": 13,
    "start_time": "2022-10-18T16:32:55.347Z"
   },
   {
    "duration": 10,
    "start_time": "2022-10-18T16:33:47.962Z"
   },
   {
    "duration": 7,
    "start_time": "2022-10-18T16:34:05.022Z"
   },
   {
    "duration": 6,
    "start_time": "2022-10-18T16:34:53.043Z"
   },
   {
    "duration": 8,
    "start_time": "2022-10-18T16:34:59.494Z"
   },
   {
    "duration": 39,
    "start_time": "2022-10-18T16:36:50.754Z"
   },
   {
    "duration": 74,
    "start_time": "2022-10-18T16:36:57.501Z"
   },
   {
    "duration": 57,
    "start_time": "2022-10-18T16:37:08.839Z"
   },
   {
    "duration": 652,
    "start_time": "2022-10-18T16:38:52.821Z"
   },
   {
    "duration": 4,
    "start_time": "2022-10-18T16:38:53.475Z"
   },
   {
    "duration": 86,
    "start_time": "2022-10-18T16:38:53.481Z"
   },
   {
    "duration": 51,
    "start_time": "2022-10-18T16:38:53.570Z"
   },
   {
    "duration": 15,
    "start_time": "2022-10-18T16:38:53.623Z"
   },
   {
    "duration": 2227,
    "start_time": "2022-10-18T16:38:53.640Z"
   },
   {
    "duration": 26,
    "start_time": "2022-10-18T16:38:55.869Z"
   },
   {
    "duration": 11,
    "start_time": "2022-10-18T16:38:55.897Z"
   },
   {
    "duration": 14,
    "start_time": "2022-10-18T16:38:55.910Z"
   },
   {
    "duration": 12,
    "start_time": "2022-10-18T16:38:55.926Z"
   },
   {
    "duration": 8,
    "start_time": "2022-10-18T16:38:55.939Z"
   },
   {
    "duration": 8,
    "start_time": "2022-10-18T16:38:55.949Z"
   },
   {
    "duration": 21,
    "start_time": "2022-10-18T16:38:55.959Z"
   },
   {
    "duration": 40,
    "start_time": "2022-10-18T16:38:55.982Z"
   },
   {
    "duration": 11,
    "start_time": "2022-10-18T16:38:56.024Z"
   },
   {
    "duration": 16,
    "start_time": "2022-10-18T16:38:56.037Z"
   },
   {
    "duration": 23,
    "start_time": "2022-10-18T16:38:56.055Z"
   },
   {
    "duration": 7,
    "start_time": "2022-10-18T16:38:56.080Z"
   },
   {
    "duration": 8,
    "start_time": "2022-10-18T16:38:56.121Z"
   },
   {
    "duration": 134,
    "start_time": "2022-10-18T16:38:56.131Z"
   },
   {
    "duration": 7,
    "start_time": "2022-10-18T16:38:56.267Z"
   },
   {
    "duration": 88,
    "start_time": "2022-10-18T16:38:56.275Z"
   },
   {
    "duration": 7,
    "start_time": "2022-10-18T16:38:56.365Z"
   },
   {
    "duration": 15,
    "start_time": "2022-10-18T16:38:56.373Z"
   },
   {
    "duration": 23,
    "start_time": "2022-10-18T16:38:56.390Z"
   },
   {
    "duration": 5,
    "start_time": "2022-10-18T16:38:56.421Z"
   },
   {
    "duration": 48,
    "start_time": "2022-10-18T16:38:56.428Z"
   },
   {
    "duration": 57,
    "start_time": "2022-10-18T16:38:56.482Z"
   },
   {
    "duration": 40,
    "start_time": "2022-10-18T16:38:56.541Z"
   },
   {
    "duration": 261,
    "start_time": "2022-10-18T16:38:56.583Z"
   },
   {
    "duration": 15,
    "start_time": "2022-10-18T16:38:56.846Z"
   },
   {
    "duration": 334,
    "start_time": "2022-10-18T16:38:56.862Z"
   },
   {
    "duration": 282,
    "start_time": "2022-10-18T16:38:57.198Z"
   },
   {
    "duration": 302,
    "start_time": "2022-10-18T16:38:57.481Z"
   },
   {
    "duration": 455,
    "start_time": "2022-10-18T16:38:57.785Z"
   },
   {
    "duration": 348,
    "start_time": "2022-10-18T16:38:58.242Z"
   },
   {
    "duration": 236,
    "start_time": "2022-10-18T16:38:58.592Z"
   },
   {
    "duration": 332,
    "start_time": "2022-10-18T16:38:58.830Z"
   },
   {
    "duration": 193,
    "start_time": "2022-10-18T16:38:59.163Z"
   },
   {
    "duration": 254,
    "start_time": "2022-10-18T16:38:59.357Z"
   },
   {
    "duration": 267,
    "start_time": "2022-10-18T16:38:59.613Z"
   },
   {
    "duration": 8,
    "start_time": "2022-10-18T16:38:59.882Z"
   },
   {
    "duration": 19,
    "start_time": "2022-10-18T16:38:59.892Z"
   },
   {
    "duration": 286,
    "start_time": "2022-10-18T16:38:59.913Z"
   },
   {
    "duration": 284,
    "start_time": "2022-10-18T16:39:00.201Z"
   },
   {
    "duration": 7,
    "start_time": "2022-10-18T16:39:00.486Z"
   },
   {
    "duration": 116,
    "start_time": "2022-10-18T16:39:00.494Z"
   },
   {
    "duration": 379,
    "start_time": "2022-10-18T16:39:00.612Z"
   },
   {
    "duration": 243,
    "start_time": "2022-10-18T16:39:00.992Z"
   },
   {
    "duration": 237,
    "start_time": "2022-10-18T16:39:01.236Z"
   },
   {
    "duration": 10,
    "start_time": "2022-10-18T16:39:01.474Z"
   },
   {
    "duration": 124,
    "start_time": "2022-10-18T16:39:01.485Z"
   },
   {
    "duration": 170,
    "start_time": "2022-10-18T16:39:01.610Z"
   },
   {
    "duration": 5,
    "start_time": "2022-10-18T16:39:01.782Z"
   },
   {
    "duration": 202,
    "start_time": "2022-10-18T16:39:01.789Z"
   },
   {
    "duration": 7,
    "start_time": "2022-10-18T16:39:01.993Z"
   },
   {
    "duration": 167,
    "start_time": "2022-10-18T16:39:02.002Z"
   },
   {
    "duration": 6,
    "start_time": "2022-10-18T16:39:02.171Z"
   },
   {
    "duration": 188,
    "start_time": "2022-10-18T16:39:02.179Z"
   },
   {
    "duration": 6,
    "start_time": "2022-10-18T16:39:02.368Z"
   },
   {
    "duration": 63,
    "start_time": "2022-10-18T16:39:02.375Z"
   },
   {
    "duration": 137,
    "start_time": "2022-10-18T16:39:02.439Z"
   },
   {
    "duration": 14,
    "start_time": "2022-10-18T16:39:02.578Z"
   },
   {
    "duration": 183,
    "start_time": "2022-10-18T16:39:02.594Z"
   },
   {
    "duration": 15,
    "start_time": "2022-10-18T16:39:02.779Z"
   },
   {
    "duration": 171,
    "start_time": "2022-10-18T16:39:02.795Z"
   },
   {
    "duration": 14,
    "start_time": "2022-10-18T16:39:02.968Z"
   },
   {
    "duration": 167,
    "start_time": "2022-10-18T16:39:02.984Z"
   },
   {
    "duration": 5,
    "start_time": "2022-10-18T16:39:03.152Z"
   },
   {
    "duration": 32,
    "start_time": "2022-10-18T16:39:03.159Z"
   },
   {
    "duration": 34,
    "start_time": "2022-10-18T16:39:03.193Z"
   },
   {
    "duration": 5,
    "start_time": "2022-10-18T16:39:03.229Z"
   },
   {
    "duration": 170,
    "start_time": "2022-10-18T16:39:03.236Z"
   },
   {
    "duration": 14,
    "start_time": "2022-10-18T16:39:43.028Z"
   },
   {
    "duration": 626,
    "start_time": "2022-10-18T16:40:00.873Z"
   },
   {
    "duration": 4,
    "start_time": "2022-10-18T16:40:01.501Z"
   },
   {
    "duration": 120,
    "start_time": "2022-10-18T16:40:01.507Z"
   },
   {
    "duration": 53,
    "start_time": "2022-10-18T16:40:01.630Z"
   },
   {
    "duration": 16,
    "start_time": "2022-10-18T16:40:01.685Z"
   },
   {
    "duration": 2065,
    "start_time": "2022-10-18T16:40:01.722Z"
   },
   {
    "duration": 26,
    "start_time": "2022-10-18T16:40:03.789Z"
   },
   {
    "duration": 14,
    "start_time": "2022-10-18T16:40:03.817Z"
   },
   {
    "duration": 20,
    "start_time": "2022-10-18T16:40:03.833Z"
   },
   {
    "duration": 11,
    "start_time": "2022-10-18T16:40:03.856Z"
   },
   {
    "duration": 21,
    "start_time": "2022-10-18T16:40:03.869Z"
   },
   {
    "duration": 16,
    "start_time": "2022-10-18T16:40:03.892Z"
   },
   {
    "duration": 55,
    "start_time": "2022-10-18T16:40:03.910Z"
   },
   {
    "duration": 32,
    "start_time": "2022-10-18T16:40:03.966Z"
   },
   {
    "duration": 13,
    "start_time": "2022-10-18T16:40:04.001Z"
   },
   {
    "duration": 23,
    "start_time": "2022-10-18T16:40:04.016Z"
   },
   {
    "duration": 19,
    "start_time": "2022-10-18T16:40:04.040Z"
   },
   {
    "duration": 7,
    "start_time": "2022-10-18T16:40:04.061Z"
   },
   {
    "duration": 8,
    "start_time": "2022-10-18T16:40:04.070Z"
   },
   {
    "duration": 124,
    "start_time": "2022-10-18T16:40:04.079Z"
   },
   {
    "duration": 15,
    "start_time": "2022-10-18T16:40:04.205Z"
   },
   {
    "duration": 91,
    "start_time": "2022-10-18T16:40:04.222Z"
   },
   {
    "duration": 7,
    "start_time": "2022-10-18T16:40:04.315Z"
   },
   {
    "duration": 29,
    "start_time": "2022-10-18T16:40:04.323Z"
   },
   {
    "duration": 10,
    "start_time": "2022-10-18T16:40:04.354Z"
   },
   {
    "duration": 8,
    "start_time": "2022-10-18T16:40:04.366Z"
   },
   {
    "duration": 48,
    "start_time": "2022-10-18T16:40:04.375Z"
   },
   {
    "duration": 44,
    "start_time": "2022-10-18T16:40:04.427Z"
   },
   {
    "duration": 54,
    "start_time": "2022-10-18T16:40:04.473Z"
   },
   {
    "duration": 245,
    "start_time": "2022-10-18T16:40:04.529Z"
   },
   {
    "duration": 14,
    "start_time": "2022-10-18T16:40:04.776Z"
   },
   {
    "duration": 332,
    "start_time": "2022-10-18T16:40:04.792Z"
   },
   {
    "duration": 276,
    "start_time": "2022-10-18T16:40:05.126Z"
   },
   {
    "duration": 288,
    "start_time": "2022-10-18T16:40:05.404Z"
   },
   {
    "duration": 446,
    "start_time": "2022-10-18T16:40:05.694Z"
   },
   {
    "duration": 357,
    "start_time": "2022-10-18T16:40:06.142Z"
   },
   {
    "duration": 231,
    "start_time": "2022-10-18T16:40:06.501Z"
   },
   {
    "duration": 275,
    "start_time": "2022-10-18T16:40:06.734Z"
   },
   {
    "duration": 191,
    "start_time": "2022-10-18T16:40:07.011Z"
   },
   {
    "duration": 253,
    "start_time": "2022-10-18T16:40:07.204Z"
   },
   {
    "duration": 257,
    "start_time": "2022-10-18T16:40:07.459Z"
   },
   {
    "duration": 8,
    "start_time": "2022-10-18T16:40:07.721Z"
   },
   {
    "duration": 33,
    "start_time": "2022-10-18T16:40:07.731Z"
   },
   {
    "duration": 277,
    "start_time": "2022-10-18T16:40:07.766Z"
   },
   {
    "duration": 318,
    "start_time": "2022-10-18T16:40:08.045Z"
   },
   {
    "duration": 6,
    "start_time": "2022-10-18T16:40:08.365Z"
   },
   {
    "duration": 22,
    "start_time": "2022-10-18T16:40:08.373Z"
   },
   {
    "duration": 370,
    "start_time": "2022-10-18T16:40:08.397Z"
   },
   {
    "duration": 284,
    "start_time": "2022-10-18T16:40:08.769Z"
   },
   {
    "duration": 254,
    "start_time": "2022-10-18T16:40:09.055Z"
   },
   {
    "duration": 9,
    "start_time": "2022-10-18T16:40:09.321Z"
   },
   {
    "duration": 122,
    "start_time": "2022-10-18T16:40:09.332Z"
   },
   {
    "duration": 165,
    "start_time": "2022-10-18T16:40:09.455Z"
   },
   {
    "duration": 6,
    "start_time": "2022-10-18T16:40:09.622Z"
   },
   {
    "duration": 182,
    "start_time": "2022-10-18T16:40:09.629Z"
   },
   {
    "duration": 11,
    "start_time": "2022-10-18T16:40:09.813Z"
   },
   {
    "duration": 163,
    "start_time": "2022-10-18T16:40:09.826Z"
   },
   {
    "duration": 5,
    "start_time": "2022-10-18T16:40:09.990Z"
   },
   {
    "duration": 176,
    "start_time": "2022-10-18T16:40:09.997Z"
   },
   {
    "duration": 6,
    "start_time": "2022-10-18T16:40:10.175Z"
   },
   {
    "duration": 17,
    "start_time": "2022-10-18T16:40:10.183Z"
   },
   {
    "duration": 171,
    "start_time": "2022-10-18T16:40:10.202Z"
   },
   {
    "duration": 15,
    "start_time": "2022-10-18T16:40:10.375Z"
   },
   {
    "duration": 173,
    "start_time": "2022-10-18T16:40:10.392Z"
   },
   {
    "duration": 16,
    "start_time": "2022-10-18T16:40:10.567Z"
   },
   {
    "duration": 164,
    "start_time": "2022-10-18T16:40:10.585Z"
   },
   {
    "duration": 14,
    "start_time": "2022-10-18T16:40:10.751Z"
   },
   {
    "duration": 159,
    "start_time": "2022-10-18T16:40:10.767Z"
   },
   {
    "duration": 5,
    "start_time": "2022-10-18T16:40:10.928Z"
   },
   {
    "duration": 36,
    "start_time": "2022-10-18T16:40:10.934Z"
   },
   {
    "duration": 22,
    "start_time": "2022-10-18T16:40:10.972Z"
   },
   {
    "duration": 23,
    "start_time": "2022-10-18T16:40:10.996Z"
   },
   {
    "duration": 206,
    "start_time": "2022-10-18T16:40:11.021Z"
   },
   {
    "duration": 2,
    "start_time": "2022-10-18T16:42:46.348Z"
   },
   {
    "duration": 10,
    "start_time": "2022-10-18T16:42:46.352Z"
   },
   {
    "duration": 86,
    "start_time": "2022-10-18T16:42:46.364Z"
   },
   {
    "duration": 42,
    "start_time": "2022-10-18T16:42:46.452Z"
   },
   {
    "duration": 33,
    "start_time": "2022-10-18T16:42:46.495Z"
   },
   {
    "duration": 2098,
    "start_time": "2022-10-18T16:42:46.531Z"
   },
   {
    "duration": 23,
    "start_time": "2022-10-18T16:42:48.631Z"
   },
   {
    "duration": 11,
    "start_time": "2022-10-18T16:42:48.656Z"
   },
   {
    "duration": 27,
    "start_time": "2022-10-18T16:42:48.669Z"
   },
   {
    "duration": 28,
    "start_time": "2022-10-18T16:42:48.697Z"
   },
   {
    "duration": 5,
    "start_time": "2022-10-18T16:42:48.727Z"
   },
   {
    "duration": 9,
    "start_time": "2022-10-18T16:42:48.735Z"
   },
   {
    "duration": 23,
    "start_time": "2022-10-18T16:42:48.746Z"
   },
   {
    "duration": 20,
    "start_time": "2022-10-18T16:42:48.771Z"
   },
   {
    "duration": 31,
    "start_time": "2022-10-18T16:42:48.793Z"
   },
   {
    "duration": 14,
    "start_time": "2022-10-18T16:42:48.826Z"
   },
   {
    "duration": 27,
    "start_time": "2022-10-18T16:42:48.843Z"
   },
   {
    "duration": 27,
    "start_time": "2022-10-18T16:42:48.872Z"
   },
   {
    "duration": 22,
    "start_time": "2022-10-18T16:42:48.901Z"
   },
   {
    "duration": 149,
    "start_time": "2022-10-18T16:42:48.925Z"
   },
   {
    "duration": 9,
    "start_time": "2022-10-18T16:42:49.076Z"
   },
   {
    "duration": 8,
    "start_time": "2022-10-18T16:42:51.824Z"
   },
   {
    "duration": 14,
    "start_time": "2022-10-18T16:42:52.492Z"
   },
   {
    "duration": 3,
    "start_time": "2022-10-18T16:43:53.509Z"
   },
   {
    "duration": 13,
    "start_time": "2022-10-18T16:43:53.516Z"
   },
   {
    "duration": 89,
    "start_time": "2022-10-18T16:43:53.531Z"
   },
   {
    "duration": 52,
    "start_time": "2022-10-18T16:43:53.622Z"
   },
   {
    "duration": 17,
    "start_time": "2022-10-18T16:43:53.677Z"
   },
   {
    "duration": 2183,
    "start_time": "2022-10-18T16:43:53.696Z"
   },
   {
    "duration": 25,
    "start_time": "2022-10-18T16:43:55.881Z"
   },
   {
    "duration": 10,
    "start_time": "2022-10-18T16:43:55.920Z"
   },
   {
    "duration": 44,
    "start_time": "2022-10-18T16:43:55.932Z"
   },
   {
    "duration": 14,
    "start_time": "2022-10-18T16:43:55.978Z"
   },
   {
    "duration": 8,
    "start_time": "2022-10-18T16:43:55.996Z"
   },
   {
    "duration": 17,
    "start_time": "2022-10-18T16:43:56.006Z"
   },
   {
    "duration": 21,
    "start_time": "2022-10-18T16:43:56.025Z"
   },
   {
    "duration": 22,
    "start_time": "2022-10-18T16:43:56.049Z"
   },
   {
    "duration": 10,
    "start_time": "2022-10-18T16:43:56.074Z"
   },
   {
    "duration": 43,
    "start_time": "2022-10-18T16:43:56.087Z"
   },
   {
    "duration": 25,
    "start_time": "2022-10-18T16:43:56.132Z"
   },
   {
    "duration": 8,
    "start_time": "2022-10-18T16:43:56.159Z"
   },
   {
    "duration": 12,
    "start_time": "2022-10-18T16:43:56.168Z"
   },
   {
    "duration": 137,
    "start_time": "2022-10-18T16:43:56.183Z"
   },
   {
    "duration": 8,
    "start_time": "2022-10-18T16:43:56.322Z"
   },
   {
    "duration": 91,
    "start_time": "2022-10-18T16:43:56.332Z"
   },
   {
    "duration": 7,
    "start_time": "2022-10-18T16:43:56.425Z"
   },
   {
    "duration": 15,
    "start_time": "2022-10-18T16:43:56.434Z"
   },
   {
    "duration": 12,
    "start_time": "2022-10-18T16:43:56.451Z"
   },
   {
    "duration": 9,
    "start_time": "2022-10-18T16:43:58.450Z"
   },
   {
    "duration": 19,
    "start_time": "2022-10-18T16:43:59.084Z"
   },
   {
    "duration": 5,
    "start_time": "2022-10-18T16:45:33.754Z"
   },
   {
    "duration": 5,
    "start_time": "2022-10-18T16:46:51.231Z"
   },
   {
    "duration": 658,
    "start_time": "2022-10-18T16:54:45.666Z"
   },
   {
    "duration": 3,
    "start_time": "2022-10-18T16:54:46.326Z"
   },
   {
    "duration": 95,
    "start_time": "2022-10-18T16:54:46.330Z"
   },
   {
    "duration": 47,
    "start_time": "2022-10-18T16:54:46.427Z"
   },
   {
    "duration": 15,
    "start_time": "2022-10-18T16:54:46.476Z"
   },
   {
    "duration": 2127,
    "start_time": "2022-10-18T16:54:46.492Z"
   },
   {
    "duration": 25,
    "start_time": "2022-10-18T16:54:48.621Z"
   },
   {
    "duration": 9,
    "start_time": "2022-10-18T16:54:48.647Z"
   },
   {
    "duration": 28,
    "start_time": "2022-10-18T16:54:48.657Z"
   },
   {
    "duration": 11,
    "start_time": "2022-10-18T16:54:48.688Z"
   },
   {
    "duration": 20,
    "start_time": "2022-10-18T16:54:48.701Z"
   },
   {
    "duration": 5,
    "start_time": "2022-10-18T16:54:48.722Z"
   },
   {
    "duration": 25,
    "start_time": "2022-10-18T16:54:48.728Z"
   },
   {
    "duration": 17,
    "start_time": "2022-10-18T16:54:48.754Z"
   },
   {
    "duration": 18,
    "start_time": "2022-10-18T16:54:48.773Z"
   },
   {
    "duration": 30,
    "start_time": "2022-10-18T16:54:48.793Z"
   },
   {
    "duration": 20,
    "start_time": "2022-10-18T16:54:48.824Z"
   },
   {
    "duration": 11,
    "start_time": "2022-10-18T16:54:48.846Z"
   },
   {
    "duration": 10,
    "start_time": "2022-10-18T16:54:48.859Z"
   },
   {
    "duration": 167,
    "start_time": "2022-10-18T16:54:48.871Z"
   },
   {
    "duration": 8,
    "start_time": "2022-10-18T16:54:49.040Z"
   },
   {
    "duration": 107,
    "start_time": "2022-10-18T16:54:49.050Z"
   },
   {
    "duration": 6,
    "start_time": "2022-10-18T16:54:49.159Z"
   },
   {
    "duration": 24,
    "start_time": "2022-10-18T16:54:49.167Z"
   },
   {
    "duration": 8,
    "start_time": "2022-10-18T16:54:49.193Z"
   },
   {
    "duration": 20,
    "start_time": "2022-10-18T16:54:49.202Z"
   },
   {
    "duration": 57,
    "start_time": "2022-10-18T16:54:49.224Z"
   },
   {
    "duration": 39,
    "start_time": "2022-10-18T16:54:49.286Z"
   },
   {
    "duration": 38,
    "start_time": "2022-10-18T16:54:49.326Z"
   },
   {
    "duration": 255,
    "start_time": "2022-10-18T16:54:49.366Z"
   },
   {
    "duration": 15,
    "start_time": "2022-10-18T16:54:49.623Z"
   },
   {
    "duration": 345,
    "start_time": "2022-10-18T16:54:49.639Z"
   },
   {
    "duration": 261,
    "start_time": "2022-10-18T16:54:49.987Z"
   },
   {
    "duration": 287,
    "start_time": "2022-10-18T16:54:50.250Z"
   },
   {
    "duration": 449,
    "start_time": "2022-10-18T16:54:50.539Z"
   },
   {
    "duration": 344,
    "start_time": "2022-10-18T16:54:50.989Z"
   },
   {
    "duration": 228,
    "start_time": "2022-10-18T16:54:51.335Z"
   },
   {
    "duration": 277,
    "start_time": "2022-10-18T16:54:51.565Z"
   },
   {
    "duration": 195,
    "start_time": "2022-10-18T16:54:51.843Z"
   },
   {
    "duration": 257,
    "start_time": "2022-10-18T16:54:52.040Z"
   },
   {
    "duration": 258,
    "start_time": "2022-10-18T16:54:52.298Z"
   },
   {
    "duration": 8,
    "start_time": "2022-10-18T16:54:52.557Z"
   },
   {
    "duration": 29,
    "start_time": "2022-10-18T16:54:52.567Z"
   },
   {
    "duration": 306,
    "start_time": "2022-10-18T16:54:52.598Z"
   },
   {
    "duration": 288,
    "start_time": "2022-10-18T16:54:52.906Z"
   },
   {
    "duration": 6,
    "start_time": "2022-10-18T16:54:53.196Z"
   },
   {
    "duration": 367,
    "start_time": "2022-10-18T16:54:53.203Z"
   },
   {
    "duration": 234,
    "start_time": "2022-10-18T16:54:53.571Z"
   },
   {
    "duration": 233,
    "start_time": "2022-10-18T16:54:53.806Z"
   },
   {
    "duration": 9,
    "start_time": "2022-10-18T16:54:54.041Z"
   },
   {
    "duration": 125,
    "start_time": "2022-10-18T16:54:54.051Z"
   },
   {
    "duration": 172,
    "start_time": "2022-10-18T16:54:54.178Z"
   },
   {
    "duration": 6,
    "start_time": "2022-10-18T16:54:54.352Z"
   },
   {
    "duration": 189,
    "start_time": "2022-10-18T16:54:54.360Z"
   },
   {
    "duration": 5,
    "start_time": "2022-10-18T16:54:54.551Z"
   },
   {
    "duration": 202,
    "start_time": "2022-10-18T16:54:54.558Z"
   },
   {
    "duration": 6,
    "start_time": "2022-10-18T16:54:54.762Z"
   },
   {
    "duration": 210,
    "start_time": "2022-10-18T16:54:54.769Z"
   },
   {
    "duration": 6,
    "start_time": "2022-10-18T16:54:54.981Z"
   },
   {
    "duration": 36,
    "start_time": "2022-10-18T16:54:54.988Z"
   },
   {
    "duration": 166,
    "start_time": "2022-10-18T16:54:55.025Z"
   },
   {
    "duration": 14,
    "start_time": "2022-10-18T16:54:55.192Z"
   },
   {
    "duration": 191,
    "start_time": "2022-10-18T16:54:55.208Z"
   },
   {
    "duration": 22,
    "start_time": "2022-10-18T16:54:55.402Z"
   },
   {
    "duration": 162,
    "start_time": "2022-10-18T16:54:55.426Z"
   },
   {
    "duration": 15,
    "start_time": "2022-10-18T16:54:55.591Z"
   },
   {
    "duration": 152,
    "start_time": "2022-10-18T16:54:55.620Z"
   },
   {
    "duration": 6,
    "start_time": "2022-10-18T16:54:55.774Z"
   },
   {
    "duration": 42,
    "start_time": "2022-10-18T16:54:55.782Z"
   },
   {
    "duration": 19,
    "start_time": "2022-10-18T16:54:55.827Z"
   },
   {
    "duration": 5,
    "start_time": "2022-10-18T16:54:55.847Z"
   },
   {
    "duration": 181,
    "start_time": "2022-10-18T16:54:55.854Z"
   }
  ],
  "kernelspec": {
   "display_name": "Python 3 (ipykernel)",
   "language": "python",
   "name": "python3"
  },
  "language_info": {
   "codemirror_mode": {
    "name": "ipython",
    "version": 3
   },
   "file_extension": ".py",
   "mimetype": "text/x-python",
   "name": "python",
   "nbconvert_exporter": "python",
   "pygments_lexer": "ipython3",
   "version": "3.9.12"
  },
  "toc": {
   "base_numbering": 1,
   "nav_menu": {
    "height": "331px",
    "width": "331px"
   },
   "number_sections": true,
   "sideBar": true,
   "skip_h1_title": true,
   "title_cell": "Table of Contents",
   "title_sidebar": "Contents",
   "toc_cell": false,
   "toc_position": {},
   "toc_section_display": true,
   "toc_window_display": false
  }
 },
 "nbformat": 4,
 "nbformat_minor": 2
}
